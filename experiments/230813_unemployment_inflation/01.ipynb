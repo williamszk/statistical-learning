{
 "cells": [
  {
   "cell_type": "code",
   "execution_count": null,
   "metadata": {},
   "outputs": [],
   "source": [
    "# get data about unemployment\n",
    "# I want a table with a time series of unemployment\n",
    "# there is also the IMF data with the unemployment rate\n",
    "\n",
    "# https://pypi.org/project/ipeadatapy/"
   ]
  },
  {
   "cell_type": "code",
   "execution_count": null,
   "metadata": {},
   "outputs": [],
   "source": [
    "# http://www.ipeadata.gov.br/Default.aspx\n",
    "# https://github.com/luanborelli/ipeadatapy\n",
    "# let's try to follow the example notebook\n",
    "# https://github.com/luanborelli/ipeadatapy/blob/master/notebooks/Ipeadatapy%20Usage%20Demonstration.ipynb"
   ]
  },
  {
   "cell_type": "code",
   "execution_count": 1,
   "metadata": {},
   "outputs": [
    {
     "data": {
      "text/html": [
       "<div>\n",
       "<style scoped>\n",
       "    .dataframe tbody tr th:only-of-type {\n",
       "        vertical-align: middle;\n",
       "    }\n",
       "\n",
       "    .dataframe tbody tr th {\n",
       "        vertical-align: top;\n",
       "    }\n",
       "\n",
       "    .dataframe thead th {\n",
       "        text-align: right;\n",
       "    }\n",
       "</style>\n",
       "<table border=\"1\" class=\"dataframe\">\n",
       "  <thead>\n",
       "    <tr style=\"text-align: right;\">\n",
       "      <th></th>\n",
       "      <th>CODE</th>\n",
       "      <th>NAME</th>\n",
       "    </tr>\n",
       "  </thead>\n",
       "  <tbody>\n",
       "    <tr>\n",
       "      <th>0</th>\n",
       "      <td>ABATE_ABPEAV</td>\n",
       "      <td>Abate - aves - peso das carcaças</td>\n",
       "    </tr>\n",
       "    <tr>\n",
       "      <th>1</th>\n",
       "      <td>ABATE_ABPEBV</td>\n",
       "      <td>Abate - bovinos - peso das carcaças</td>\n",
       "    </tr>\n",
       "    <tr>\n",
       "      <th>2</th>\n",
       "      <td>ABATE_ABPESU</td>\n",
       "      <td>Abate - suínos - peso das carcaças</td>\n",
       "    </tr>\n",
       "    <tr>\n",
       "      <th>3</th>\n",
       "      <td>ABATE_ABQUAV</td>\n",
       "      <td>Abate - aves - quantidade</td>\n",
       "    </tr>\n",
       "    <tr>\n",
       "      <th>4</th>\n",
       "      <td>ABATE_ABQUBV</td>\n",
       "      <td>Abate - bovinos - quantidade</td>\n",
       "    </tr>\n",
       "    <tr>\n",
       "      <th>...</th>\n",
       "      <td>...</td>\n",
       "      <td>...</td>\n",
       "    </tr>\n",
       "    <tr>\n",
       "      <th>9597</th>\n",
       "      <td>PIBSCE</td>\n",
       "      <td>PIB Estadual (valor adicionado a preços básico...</td>\n",
       "    </tr>\n",
       "    <tr>\n",
       "      <th>9598</th>\n",
       "      <td>PIBSE</td>\n",
       "      <td>PIB Municipal (valor adicionado a preços básic...</td>\n",
       "    </tr>\n",
       "    <tr>\n",
       "      <th>9599</th>\n",
       "      <td>PIBSEE</td>\n",
       "      <td>PIB Estadual (valor adicionado a preços básico...</td>\n",
       "    </tr>\n",
       "    <tr>\n",
       "      <th>9600</th>\n",
       "      <td>PIBTAE</td>\n",
       "      <td>PIB Estadual (valor adicionado a preços básico...</td>\n",
       "    </tr>\n",
       "    <tr>\n",
       "      <th>9601</th>\n",
       "      <td>PIBVRAE</td>\n",
       "      <td>PIB Estadual - preços de mercado -  variação a...</td>\n",
       "    </tr>\n",
       "  </tbody>\n",
       "</table>\n",
       "<p>9602 rows × 2 columns</p>\n",
       "</div>"
      ],
      "text/plain": [
       "              CODE                                               NAME\n",
       "0     ABATE_ABPEAV                   Abate - aves - peso das carcaças\n",
       "1     ABATE_ABPEBV                Abate - bovinos - peso das carcaças\n",
       "2     ABATE_ABPESU                 Abate - suínos - peso das carcaças\n",
       "3     ABATE_ABQUAV                          Abate - aves - quantidade\n",
       "4     ABATE_ABQUBV                       Abate - bovinos - quantidade\n",
       "...            ...                                                ...\n",
       "9597        PIBSCE  PIB Estadual (valor adicionado a preços básico...\n",
       "9598         PIBSE  PIB Municipal (valor adicionado a preços básic...\n",
       "9599        PIBSEE  PIB Estadual (valor adicionado a preços básico...\n",
       "9600        PIBTAE  PIB Estadual (valor adicionado a preços básico...\n",
       "9601       PIBVRAE  PIB Estadual - preços de mercado -  variação a...\n",
       "\n",
       "[9602 rows x 2 columns]"
      ]
     },
     "execution_count": 1,
     "metadata": {},
     "output_type": "execute_result"
    }
   ],
   "source": [
    "import ipeadatapy\n",
    "ipeadatapy.list_series()"
   ]
  },
  {
   "cell_type": "code",
   "execution_count": 2,
   "metadata": {},
   "outputs": [],
   "source": [
    "df01 = ipeadatapy.list_series(\"desemprego\")"
   ]
  },
  {
   "cell_type": "code",
   "execution_count": 3,
   "metadata": {},
   "outputs": [
    {
     "data": {
      "text/html": [
       "<div>\n",
       "<style scoped>\n",
       "    .dataframe tbody tr th:only-of-type {\n",
       "        vertical-align: middle;\n",
       "    }\n",
       "\n",
       "    .dataframe tbody tr th {\n",
       "        vertical-align: top;\n",
       "    }\n",
       "\n",
       "    .dataframe thead th {\n",
       "        text-align: right;\n",
       "    }\n",
       "</style>\n",
       "<table border=\"1\" class=\"dataframe\">\n",
       "  <thead>\n",
       "    <tr style=\"text-align: right;\">\n",
       "      <th></th>\n",
       "      <th>CODE</th>\n",
       "      <th>NAME</th>\n",
       "    </tr>\n",
       "  </thead>\n",
       "  <tbody>\n",
       "    <tr>\n",
       "      <th>5820</th>\n",
       "      <td>ECONMI12_ALU12</td>\n",
       "      <td>taxa de desemprego - força de trabalho</td>\n",
       "    </tr>\n",
       "    <tr>\n",
       "      <th>5826</th>\n",
       "      <td>ECONMI12_CAU12</td>\n",
       "      <td>taxa de desemprego - força de trabalho</td>\n",
       "    </tr>\n",
       "    <tr>\n",
       "      <th>5837</th>\n",
       "      <td>ECONMI12_FRU12</td>\n",
       "      <td>taxa de desemprego - força de trabalho</td>\n",
       "    </tr>\n",
       "    <tr>\n",
       "      <th>5842</th>\n",
       "      <td>ECONMI12_ITU12</td>\n",
       "      <td>taxa de desemprego - força de trabalho</td>\n",
       "    </tr>\n",
       "    <tr>\n",
       "      <th>5849</th>\n",
       "      <td>ECONMI12_JPU12</td>\n",
       "      <td>taxa de desemprego - força de trabalho</td>\n",
       "    </tr>\n",
       "  </tbody>\n",
       "</table>\n",
       "</div>"
      ],
      "text/plain": [
       "                CODE                                    NAME\n",
       "5820  ECONMI12_ALU12  taxa de desemprego - força de trabalho\n",
       "5826  ECONMI12_CAU12  taxa de desemprego - força de trabalho\n",
       "5837  ECONMI12_FRU12  taxa de desemprego - força de trabalho\n",
       "5842  ECONMI12_ITU12  taxa de desemprego - força de trabalho\n",
       "5849  ECONMI12_JPU12  taxa de desemprego - força de trabalho"
      ]
     },
     "execution_count": 3,
     "metadata": {},
     "output_type": "execute_result"
    }
   ],
   "source": [
    "df01.head()"
   ]
  },
  {
   "cell_type": "code",
   "execution_count": 5,
   "metadata": {},
   "outputs": [
    {
     "data": {
      "text/plain": [
       "(54, 2)"
      ]
     },
     "execution_count": 5,
     "metadata": {},
     "output_type": "execute_result"
    }
   ],
   "source": [
    "df01.shape"
   ]
  },
  {
   "cell_type": "code",
   "execution_count": null,
   "metadata": {},
   "outputs": [],
   "source": [
    "\n",
    "#             CODE                                               NAME\n",
    "#   ECONMI12_ALU12             taxa de desemprego - força de trabalho\n",
    "#   ECONMI12_CAU12             taxa de desemprego - força de trabalho\n",
    "#   ECONMI12_FRU12             taxa de desemprego - força de trabalho\n",
    "#   ECONMI12_ITU12             taxa de desemprego - força de trabalho\n",
    "#   ECONMI12_JPU12             taxa de desemprego - força de trabalho\n",
    "#   ECONMI12_UKU12             taxa de desemprego - força de trabalho\n",
    "#   ECONMI12_USU12             taxa de desemprego - força de trabalho\n",
    "#  WEO_DESEMWEOARG                                 taxa de desemprego\n",
    "#  WEO_DESEMWEOBRA                        Brasil - taxa de desemprego\n",
    "#  WEO_DESEMWEOCAN                                 taxa de desemprego\n",
    "#  WEO_DESEMWEOCHL                                 taxa de desemprego\n",
    "#  WEO_DESEMWEOCHN                                 taxa de desemprego\n",
    "#  WEO_DESEMWEOCOL                                 taxa de desemprego\n",
    "#  WEO_DESEMWEODEU                                 taxa de desemprego\n",
    "#  WEO_DESEMWEOEGY                                 taxa de desemprego\n",
    "#  WEO_DESEMWEOESP                                 taxa de desemprego\n",
    "#  WEO_DESEMWEOFRA                                 taxa de desemprego\n",
    "#  WEO_DESEMWEOGBR                                 taxa de desemprego\n",
    "#  WEO_DESEMWEOIDN                                 taxa de desemprego\n",
    "#  WEO_DESEMWEOITA                                 taxa de desemprego\n",
    "#  WEO_DESEMWEOJPN                                 taxa de desemprego\n",
    "#  WEO_DESEMWEOKOR                                 taxa de desemprego\n",
    "#  WEO_DESEMWEOMEX                                 taxa de desemprego\n",
    "#  WEO_DESEMWEOMYS                                 taxa de desemprego\n",
    "#  WEO_DESEMWEOPHL                                 taxa de desemprego\n",
    "#  WEO_DESEMWEOPRT                                 taxa de desemprego\n",
    "#  WEO_DESEMWEOPRY                                 taxa de desemprego\n",
    "# WEO_DESEMWEOREER                                 taxa de desemprego\n",
    "#  WEO_DESEMWEOSAU                                 taxa de desemprego\n",
    "#  WEO_DESEMWEOTHA                                 taxa de desemprego\n",
    "#  WEO_DESEMWEOTWN                                 taxa de desemprego\n",
    "#  WEO_DESEMWEOURY                                 taxa de desemprego\n",
    "#  WEO_DESEMWEOUSA                                 taxa de desemprego\n",
    "#  WEO_DESEMWEOZAF                                 taxa de desemprego\n",
    "#       DISOC_DESE                                 Taxa de desemprego\n",
    "#   DISOC_DESEMETR          Taxa de desemprego - áreas metropolitanas\n",
    "#   DISOC_DESENAOM      Taxa de desemprego - áreas não-metropolitanas\n",
    "#   DISOC_DESERURA                  Taxa de desemprego - áreas rurais\n",
    "#   DISOC_DESEURBA  Taxa de desemprego - áreas urbanas não-metropo...\n",
    "#      PME12_TDA12  Taxa de desemprego - aberto - referência: 30 d...\n",
    "#    PME12_TDESA12  Taxa de desemprego - aberto - referência: sema...\n",
    "#      PMEN12_TD12     Taxa de desemprego - referência: 30 dias - RMs\n",
    "#         PMETXDES     Taxa de desemprego - referência: 30 dias - RMs\n",
    "# SEADE12_TDAGSP12                 Taxa de desemprego - aberto - RMSP\n",
    "# SEADE12_TDODSP12     Taxa de desemprego - oculto - desalento - RMSP\n",
    "# SEADE12_TDOPSP12      Taxa de desemprego - oculto - precário - RMSP\n",
    "# SEADE12_TDOTSP12                 Taxa de desemprego - oculto - RMSP\n",
    "# SEADE12_TDTGSP12                          Taxa de desemprego - RMSP\n",
    "#           PAN_TD                                 Taxa de desemprego\n",
    "#       PAN12_TD12                                 Taxa de desemprego\n",
    "#         PAN4_TD4                                 Taxa de desemprego\n",
    "# CNI12_INECDESP12  Expectativa do consumidor (INEC) - expectativa...\n",
    "#   CNI4_INECDESP4  Expectativa do consumidor (INEC) - expectativa...\n",
    "# CNI4_INECDESPDF4  Expectativa do consumidor (INEC) - expectativa...\n"
   ]
  },
  {
   "cell_type": "code",
   "execution_count": 4,
   "metadata": {},
   "outputs": [
    {
     "data": {
      "text/html": [
       "<div>\n",
       "<style scoped>\n",
       "    .dataframe tbody tr th:only-of-type {\n",
       "        vertical-align: middle;\n",
       "    }\n",
       "\n",
       "    .dataframe tbody tr th {\n",
       "        vertical-align: top;\n",
       "    }\n",
       "\n",
       "    .dataframe thead th {\n",
       "        text-align: right;\n",
       "    }\n",
       "</style>\n",
       "<table border=\"1\" class=\"dataframe\">\n",
       "  <thead>\n",
       "    <tr style=\"text-align: right;\">\n",
       "      <th></th>\n",
       "      <th>Brasil - taxa de desemprego</th>\n",
       "    </tr>\n",
       "  </thead>\n",
       "  <tbody>\n",
       "    <tr>\n",
       "      <th>Name</th>\n",
       "      <td>Brasil - taxa de desemprego</td>\n",
       "    </tr>\n",
       "    <tr>\n",
       "      <th>Code</th>\n",
       "      <td>WEO_DESEMWEOBRA</td>\n",
       "    </tr>\n",
       "    <tr>\n",
       "      <th>Big Theme</th>\n",
       "      <td>Macroeconômico</td>\n",
       "    </tr>\n",
       "    <tr>\n",
       "      <th>Theme code</th>\n",
       "      <td>11</td>\n",
       "    </tr>\n",
       "    <tr>\n",
       "      <th>Source</th>\n",
       "      <td>Fundo Monetário Internacional, World Economic ...</td>\n",
       "    </tr>\n",
       "    <tr>\n",
       "      <th>Source acronym</th>\n",
       "      <td>FMI/WEO</td>\n",
       "    </tr>\n",
       "    <tr>\n",
       "      <th>Comment</th>\n",
       "      <td>Taxa de desemprego é o percentual de pessoas d...</td>\n",
       "    </tr>\n",
       "    <tr>\n",
       "      <th>Last update</th>\n",
       "      <td>2023-05-31T13:06:00.043-03:00</td>\n",
       "    </tr>\n",
       "    <tr>\n",
       "      <th>Frequency</th>\n",
       "      <td>Anual</td>\n",
       "    </tr>\n",
       "    <tr>\n",
       "      <th>Measure</th>\n",
       "      <td>(%)</td>\n",
       "    </tr>\n",
       "    <tr>\n",
       "      <th>Unit</th>\n",
       "      <td>None</td>\n",
       "    </tr>\n",
       "    <tr>\n",
       "      <th>Status</th>\n",
       "      <td>A</td>\n",
       "    </tr>\n",
       "  </tbody>\n",
       "</table>\n",
       "</div>"
      ],
      "text/plain": [
       "                                      Brasil - taxa de desemprego\n",
       "Name                                  Brasil - taxa de desemprego\n",
       "Code                                              WEO_DESEMWEOBRA\n",
       "Big Theme                                          Macroeconômico\n",
       "Theme code                                                     11\n",
       "Source          Fundo Monetário Internacional, World Economic ...\n",
       "Source acronym                                            FMI/WEO\n",
       "Comment         Taxa de desemprego é o percentual de pessoas d...\n",
       "Last update                         2023-05-31T13:06:00.043-03:00\n",
       "Frequency                                                   Anual\n",
       "Measure                                                       (%)\n",
       "Unit                                                         None\n",
       "Status                                                          A"
      ]
     },
     "execution_count": 4,
     "metadata": {},
     "output_type": "execute_result"
    }
   ],
   "source": [
    "ipeadatapy.describe(\"WEO_DESEMWEOBRA\")"
   ]
  },
  {
   "cell_type": "code",
   "execution_count": 5,
   "metadata": {},
   "outputs": [],
   "source": [
    "df_raw_00 = ipeadatapy.timeseries(\"WEO_DESEMWEOBRA\")"
   ]
  },
  {
   "cell_type": "code",
   "execution_count": 6,
   "metadata": {},
   "outputs": [],
   "source": [
    "import polars"
   ]
  },
  {
   "cell_type": "code",
   "execution_count": 7,
   "metadata": {},
   "outputs": [],
   "source": [
    "df00 = polars.from_pandas(df_raw_00) "
   ]
  },
  {
   "cell_type": "code",
   "execution_count": 10,
   "metadata": {},
   "outputs": [
    {
     "data": {
      "text/plain": [
       "polars.dataframe.frame.DataFrame"
      ]
     },
     "execution_count": 10,
     "metadata": {},
     "output_type": "execute_result"
    }
   ],
   "source": [
    "type(df00)"
   ]
  },
  {
   "cell_type": "code",
   "execution_count": 11,
   "metadata": {},
   "outputs": [
    {
     "data": {
      "text/html": [
       "<div><style>\n",
       ".dataframe > thead > tr > th,\n",
       ".dataframe > tbody > tr > td {\n",
       "  text-align: right;\n",
       "}\n",
       "</style>\n",
       "<small>shape: (5, 6)</small><table border=\"1\" class=\"dataframe\"><thead><tr><th>CODE</th><th>RAW DATE</th><th>DAY</th><th>MONTH</th><th>YEAR</th><th>VALUE ((%))</th></tr><tr><td>str</td><td>str</td><td>i32</td><td>i32</td><td>i32</td><td>f64</td></tr></thead><tbody><tr><td>&quot;WEO_DESEMWEOBR…</td><td>&quot;1991-01-01T00:…</td><td>1</td><td>1</td><td>1991</td><td>10.1</td></tr><tr><td>&quot;WEO_DESEMWEOBR…</td><td>&quot;1992-01-01T00:…</td><td>1</td><td>1</td><td>1992</td><td>11.6</td></tr><tr><td>&quot;WEO_DESEMWEOBR…</td><td>&quot;1993-01-01T00:…</td><td>1</td><td>1</td><td>1993</td><td>11.0</td></tr><tr><td>&quot;WEO_DESEMWEOBR…</td><td>&quot;1994-01-01T00:…</td><td>1</td><td>1</td><td>1994</td><td>10.5</td></tr><tr><td>&quot;WEO_DESEMWEOBR…</td><td>&quot;1995-01-01T00:…</td><td>1</td><td>1</td><td>1995</td><td>9.9</td></tr></tbody></table></div>"
      ],
      "text/plain": [
       "shape: (5, 6)\n",
       "┌─────────────────┬───────────────────────────┬─────┬───────┬──────┬─────────────┐\n",
       "│ CODE            ┆ RAW DATE                  ┆ DAY ┆ MONTH ┆ YEAR ┆ VALUE ((%)) │\n",
       "│ ---             ┆ ---                       ┆ --- ┆ ---   ┆ ---  ┆ ---         │\n",
       "│ str             ┆ str                       ┆ i32 ┆ i32   ┆ i32  ┆ f64         │\n",
       "╞═════════════════╪═══════════════════════════╪═════╪═══════╪══════╪═════════════╡\n",
       "│ WEO_DESEMWEOBRA ┆ 1991-01-01T00:00:00-02:00 ┆ 1   ┆ 1     ┆ 1991 ┆ 10.1        │\n",
       "│ WEO_DESEMWEOBRA ┆ 1992-01-01T00:00:00-02:00 ┆ 1   ┆ 1     ┆ 1992 ┆ 11.6        │\n",
       "│ WEO_DESEMWEOBRA ┆ 1993-01-01T00:00:00-02:00 ┆ 1   ┆ 1     ┆ 1993 ┆ 11.0        │\n",
       "│ WEO_DESEMWEOBRA ┆ 1994-01-01T00:00:00-02:00 ┆ 1   ┆ 1     ┆ 1994 ┆ 10.5        │\n",
       "│ WEO_DESEMWEOBRA ┆ 1995-01-01T00:00:00-02:00 ┆ 1   ┆ 1     ┆ 1995 ┆ 9.9         │\n",
       "└─────────────────┴───────────────────────────┴─────┴───────┴──────┴─────────────┘"
      ]
     },
     "execution_count": 11,
     "metadata": {},
     "output_type": "execute_result"
    }
   ],
   "source": [
    "df00.head()"
   ]
  },
  {
   "cell_type": "code",
   "execution_count": null,
   "metadata": {},
   "outputs": [],
   "source": [
    "# - Treat the data to include only the year and the unemployment rate\n",
    "# - We can try to apply a simple linear regression with this data\n",
    "# - We could use first scikit-learn and then statsmodel"
   ]
  },
  {
   "cell_type": "code",
   "execution_count": 12,
   "metadata": {},
   "outputs": [
    {
     "data": {
      "text/plain": [
       "['CODE', 'RAW DATE', 'DAY', 'MONTH', 'YEAR', 'VALUE ((%))']"
      ]
     },
     "execution_count": 12,
     "metadata": {},
     "output_type": "execute_result"
    }
   ],
   "source": [
    "df00.columns\n",
    "# ([\"YEAR\", \"VALUE((%))\"])"
   ]
  },
  {
   "cell_type": "code",
   "execution_count": 13,
   "metadata": {},
   "outputs": [],
   "source": [
    "df01 = df00[[\"YEAR\", \"VALUE ((%))\"]]"
   ]
  },
  {
   "cell_type": "code",
   "execution_count": 14,
   "metadata": {},
   "outputs": [
    {
     "data": {
      "text/html": [
       "<div><style>\n",
       ".dataframe > thead > tr > th,\n",
       ".dataframe > tbody > tr > td {\n",
       "  text-align: right;\n",
       "}\n",
       "</style>\n",
       "<small>shape: (32, 2)</small><table border=\"1\" class=\"dataframe\"><thead><tr><th>YEAR</th><th>VALUE ((%))</th></tr><tr><td>i32</td><td>f64</td></tr></thead><tbody><tr><td>1991</td><td>10.1</td></tr><tr><td>1992</td><td>11.6</td></tr><tr><td>1993</td><td>11.0</td></tr><tr><td>1994</td><td>10.5</td></tr><tr><td>1995</td><td>9.9</td></tr><tr><td>1996</td><td>11.2</td></tr><tr><td>1997</td><td>11.6</td></tr><tr><td>1998</td><td>14.7</td></tr><tr><td>1999</td><td>14.7</td></tr><tr><td>2000</td><td>13.9</td></tr><tr><td>2001</td><td>12.5</td></tr><tr><td>2002</td><td>13.0</td></tr><tr><td>&hellip;</td><td>&hellip;</td></tr><tr><td>2011</td><td>7.8</td></tr><tr><td>2012</td><td>6.9</td></tr><tr><td>2013</td><td>6.3</td></tr><tr><td>2014</td><td>6.6</td></tr><tr><td>2015</td><td>9.1</td></tr><tr><td>2016</td><td>12.2</td></tr><tr><td>2017</td><td>11.9</td></tr><tr><td>2018</td><td>11.7</td></tr><tr><td>2019</td><td>11.1</td></tr><tr><td>2020</td><td>14.2</td></tr><tr><td>2021</td><td>11.1</td></tr><tr><td>2022</td><td>7.9</td></tr></tbody></table></div>"
      ],
      "text/plain": [
       "shape: (32, 2)\n",
       "┌──────┬─────────────┐\n",
       "│ YEAR ┆ VALUE ((%)) │\n",
       "│ ---  ┆ ---         │\n",
       "│ i32  ┆ f64         │\n",
       "╞══════╪═════════════╡\n",
       "│ 1991 ┆ 10.1        │\n",
       "│ 1992 ┆ 11.6        │\n",
       "│ 1993 ┆ 11.0        │\n",
       "│ 1994 ┆ 10.5        │\n",
       "│ …    ┆ …           │\n",
       "│ 2019 ┆ 11.1        │\n",
       "│ 2020 ┆ 14.2        │\n",
       "│ 2021 ┆ 11.1        │\n",
       "│ 2022 ┆ 7.9         │\n",
       "└──────┴─────────────┘"
      ]
     },
     "execution_count": 14,
     "metadata": {},
     "output_type": "execute_result"
    }
   ],
   "source": [
    "df01"
   ]
  },
  {
   "cell_type": "code",
   "execution_count": null,
   "metadata": {},
   "outputs": [],
   "source": [
    "# first we can try to run models on top of this single time series\n",
    "# later we can:\n",
    "# one alternative is to interpolate the annual data to get more fine grained data points\n",
    "# another thing that we can do is try to find the unemployment rate more fine grained for example by quarter measure\n",
    "# and later we can include other time series for example inflation"
   ]
  },
  {
   "cell_type": "code",
   "execution_count": null,
   "metadata": {},
   "outputs": [],
   "source": []
  },
  {
   "cell_type": "code",
   "execution_count": null,
   "metadata": {},
   "outputs": [],
   "source": []
  },
  {
   "cell_type": "code",
   "execution_count": null,
   "metadata": {},
   "outputs": [],
   "source": []
  },
  {
   "cell_type": "code",
   "execution_count": null,
   "metadata": {},
   "outputs": [],
   "source": []
  },
  {
   "cell_type": "code",
   "execution_count": null,
   "metadata": {},
   "outputs": [],
   "source": []
  },
  {
   "cell_type": "code",
   "execution_count": null,
   "metadata": {},
   "outputs": [],
   "source": []
  },
  {
   "cell_type": "code",
   "execution_count": null,
   "metadata": {},
   "outputs": [],
   "source": []
  },
  {
   "cell_type": "code",
   "execution_count": null,
   "metadata": {},
   "outputs": [],
   "source": []
  },
  {
   "cell_type": "code",
   "execution_count": null,
   "metadata": {},
   "outputs": [],
   "source": []
  },
  {
   "cell_type": "code",
   "execution_count": null,
   "metadata": {},
   "outputs": [],
   "source": []
  },
  {
   "cell_type": "code",
   "execution_count": null,
   "metadata": {},
   "outputs": [],
   "source": []
  },
  {
   "cell_type": "code",
   "execution_count": null,
   "metadata": {},
   "outputs": [],
   "source": []
  },
  {
   "cell_type": "code",
   "execution_count": null,
   "metadata": {},
   "outputs": [],
   "source": []
  },
  {
   "cell_type": "code",
   "execution_count": null,
   "metadata": {},
   "outputs": [],
   "source": []
  }
 ],
 "metadata": {
  "kernelspec": {
   "display_name": ".venv",
   "language": "python",
   "name": "python3"
  },
  "language_info": {
   "codemirror_mode": {
    "name": "ipython",
    "version": 3
   },
   "file_extension": ".py",
   "mimetype": "text/x-python",
   "name": "python",
   "nbconvert_exporter": "python",
   "pygments_lexer": "ipython3",
   "version": "3.10.12"
  },
  "orig_nbformat": 4
 },
 "nbformat": 4,
 "nbformat_minor": 2
}
