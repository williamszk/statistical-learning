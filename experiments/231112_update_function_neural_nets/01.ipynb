{
 "cells": [
  {
   "cell_type": "code",
   "execution_count": null,
   "metadata": {},
   "outputs": [],
   "source": []
  },
  {
   "cell_type": "code",
   "execution_count": null,
   "metadata": {},
   "outputs": [],
   "source": []
  },
  {
   "cell_type": "code",
   "execution_count": null,
   "metadata": {},
   "outputs": [],
   "source": [
    "# Objectives\n",
    "\n",
    "# [ ] Make an update function with a single case of the AND logic operator.\n"
   ]
  },
  {
   "cell_type": "code",
   "execution_count": null,
   "metadata": {},
   "outputs": [],
   "source": [
    "# We can initially build everything using Python lists and dicts.\n",
    "# And then we can implement everything using numpy and see the difference."
   ]
  },
  {
   "cell_type": "code",
   "execution_count": null,
   "metadata": {},
   "outputs": [],
   "source": [
    "# After we make the update function for AND and OR operators we can \n",
    "# create a data generating function that can generate data for a linear model\n",
    "# and see how well the updating function works."
   ]
  },
  {
   "attachments": {},
   "cell_type": "markdown",
   "metadata": {},
   "source": [
    "Sigmoid function:\n",
    "$$ y = \\frac{1}{1+e^{-x}} $$\n",
    "An alternative to the step function."
   ]
  },
  {
   "attachments": {},
   "cell_type": "markdown",
   "metadata": {},
   "source": [
    "Hyperbolic Tangent Function\n",
    "\n",
    "$$y = \\frac{e^{x}-e^{-x}}{e^{x}+e^{-x}}$$\n",
    "\n",
    "This function can return negative values. \n",
    "\n",
    "Which could be good if you want something that can return negative values, \n",
    "the sigmoid function cannot."
   ]
  },
  {
   "cell_type": "code",
   "execution_count": null,
   "metadata": {},
   "outputs": [],
   "source": [
    "# The XOR is not able to be trained in a single layer model.\n",
    "# It would need one hidden layer to be able to work.\n",
    "# The AND and OR can be trained using a single layer."
   ]
  },
  {
   "cell_type": "code",
   "execution_count": 4,
   "metadata": {},
   "outputs": [
    {
     "data": {
      "text/plain": [
       "[0, 0, 0, 1]"
      ]
     },
     "execution_count": 4,
     "metadata": {},
     "output_type": "execute_result"
    }
   ],
   "source": [
    "import helper\n",
    "import importlib\n",
    "importlib.reload(helper)\n",
    "\n",
    "training_data = [\n",
    "    {\"x1\":0,\"x2\":0,\"y\":0},\n",
    "    {\"x1\":1,\"x2\":0,\"y\":0},\n",
    "    {\"x1\":0,\"x2\":1,\"y\":0},\n",
    "    {\"x1\":1,\"x2\":1,\"y\":1},\n",
    "]\n",
    "\n",
    "training_x_vec = []\n",
    "for obs in training_data:\n",
    "    x1 = obs[\"x1\"]\n",
    "    x2 = obs[\"x2\"]\n",
    "    x_vec = [x1, x2]\n",
    "    training_x_vec.append(x_vec)\n",
    "\n",
    "real_vec = [x[\"y\"] for x in training_data]"
   ]
  },
  {
   "cell_type": "code",
   "execution_count": 5,
   "metadata": {},
   "outputs": [
    {
     "data": {
      "text/plain": [
       "[0, 0, 0, 1]"
      ]
     },
     "execution_count": 5,
     "metadata": {},
     "output_type": "execute_result"
    }
   ],
   "source": [
    "importlib.reload(helper)\n",
    "\n",
    "weights = [0, 0]\n",
    "pred_vec = []\n",
    "for x_input in training_x_vec:\n",
    "    pred_y = helper.predictions(x_input, weights)\n",
    "    pred_vec.append(pred_y)\n",
    "\n",
    "helper.error_pred_real(pred_vec, real_vec)"
   ]
  },
  {
   "attachments": {},
   "cell_type": "markdown",
   "metadata": {},
   "source": [
    "The update function\n",
    "\n",
    "$$ w_{n+1} = w_{n} + \\alpha \\cdot x \\cdot e $$\n",
    "\n",
    "- $w_{n+1}$ = weight after update (in the next epoch)\n",
    "- $w_{n}$ = weight before update (in the current epoch)\n",
    "- $\\alpha$ = learning rate\n",
    "- $e$ = error\n",
    "- $x$ = the input value"
   ]
  },
  {
   "cell_type": "code",
   "execution_count": null,
   "metadata": {},
   "outputs": [],
   "source": []
  },
  {
   "cell_type": "code",
   "execution_count": null,
   "metadata": {},
   "outputs": [],
   "source": []
  },
  {
   "cell_type": "code",
   "execution_count": null,
   "metadata": {},
   "outputs": [],
   "source": []
  },
  {
   "cell_type": "code",
   "execution_count": null,
   "metadata": {},
   "outputs": [],
   "source": []
  },
  {
   "cell_type": "code",
   "execution_count": null,
   "metadata": {},
   "outputs": [],
   "source": []
  },
  {
   "cell_type": "code",
   "execution_count": null,
   "metadata": {},
   "outputs": [],
   "source": []
  },
  {
   "cell_type": "code",
   "execution_count": null,
   "metadata": {},
   "outputs": [],
   "source": []
  },
  {
   "cell_type": "code",
   "execution_count": null,
   "metadata": {},
   "outputs": [],
   "source": []
  },
  {
   "cell_type": "code",
   "execution_count": null,
   "metadata": {},
   "outputs": [],
   "source": []
  },
  {
   "cell_type": "code",
   "execution_count": null,
   "metadata": {},
   "outputs": [],
   "source": []
  },
  {
   "cell_type": "code",
   "execution_count": null,
   "metadata": {},
   "outputs": [],
   "source": []
  },
  {
   "cell_type": "code",
   "execution_count": null,
   "metadata": {},
   "outputs": [],
   "source": []
  }
 ],
 "metadata": {
  "kernelspec": {
   "display_name": "Python 3",
   "language": "python",
   "name": "python3"
  },
  "language_info": {
   "codemirror_mode": {
    "name": "ipython",
    "version": 3
   },
   "file_extension": ".py",
   "mimetype": "text/x-python",
   "name": "python",
   "nbconvert_exporter": "python",
   "pygments_lexer": "ipython3",
   "version": "3.10.11"
  },
  "orig_nbformat": 4
 },
 "nbformat": 4,
 "nbformat_minor": 2
}
