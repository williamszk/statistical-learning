{
 "cells": [
  {
   "cell_type": "code",
   "execution_count": 2,
   "metadata": {},
   "outputs": [
    {
     "data": {
      "text/plain": [
       "<module 'helper2' from 'c:\\\\Users\\\\Pichau\\\\Documents\\\\statistical-learning\\\\experiments\\\\231112_update_function_neural_nets\\\\helper2.py'>"
      ]
     },
     "execution_count": 2,
     "metadata": {},
     "output_type": "execute_result"
    }
   ],
   "source": [
    "import helper2\n",
    "import importlib\n",
    "importlib.reload(helper2)\n",
    "\n",
    "input_descriptor = helper2.InputDesc(\n",
    "    input_layer=2,\n",
    "    output_layer=1,\n",
    "    hidden_layers=[\n",
    "        \n",
    "    ]\n",
    ")\n",
    "\n",
    "\n"
   ]
  }
 ],
 "metadata": {
  "kernelspec": {
   "display_name": ".venv",
   "language": "python",
   "name": "python3"
  },
  "language_info": {
   "codemirror_mode": {
    "name": "ipython",
    "version": 3
   },
   "file_extension": ".py",
   "mimetype": "text/x-python",
   "name": "python",
   "nbconvert_exporter": "python",
   "pygments_lexer": "ipython3",
   "version": "3.10.11"
  },
  "orig_nbformat": 4
 },
 "nbformat": 4,
 "nbformat_minor": 2
}
