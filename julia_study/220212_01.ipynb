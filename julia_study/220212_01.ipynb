{
 "cells": [
  {
   "cell_type": "code",
   "execution_count": null,
   "metadata": {},
   "outputs": [],
   "source": [
    "# how to install julia in ubuntu\n",
    "# apt install julia\n",
    "# how to add julia to jupyter \n",
    "# https://datatofish.com/add-julia-to-jupyter/\n",
    "# inside julia\n",
    "# using Pkg\n",
    "# Pkg.add(\"IJulia\")\n",
    "# maybe we need to restart the session in vscode"
   ]
  },
  {
   "cell_type": "code",
   "execution_count": 33,
   "metadata": {},
   "outputs": [],
   "source": [
    "# https://www.youtube.com/watch?v=wU6c8CDRXJE&ab_channel=ACCUConference"
   ]
  },
  {
   "cell_type": "code",
   "execution_count": 1,
   "metadata": {},
   "outputs": [
    {
     "name": "stdout",
     "output_type": "stream",
     "text": [
      "Hello World!\n"
     ]
    }
   ],
   "source": [
    "println(\"Hello World!\")"
   ]
  },
  {
   "cell_type": "code",
   "execution_count": 2,
   "metadata": {},
   "outputs": [
    {
     "name": "stdout",
     "output_type": "stream",
     "text": [
      "Hello again\n"
     ]
    }
   ],
   "source": [
    "println(\"Hello again\")"
   ]
  },
  {
   "cell_type": "code",
   "execution_count": 2,
   "metadata": {},
   "outputs": [
    {
     "data": {
      "text/plain": [
       "1"
      ]
     },
     "metadata": {},
     "output_type": "display_data"
    }
   ],
   "source": [
    "a = 1"
   ]
  },
  {
   "cell_type": "code",
   "execution_count": 4,
   "metadata": {},
   "outputs": [
    {
     "data": {
      "text/plain": [
       "10.23"
      ]
     },
     "metadata": {},
     "output_type": "display_data"
    }
   ],
   "source": [
    "α = 10.23"
   ]
  },
  {
   "cell_type": "code",
   "execution_count": 5,
   "metadata": {},
   "outputs": [
    {
     "data": {
      "text/plain": [
       "90"
      ]
     },
     "metadata": {},
     "output_type": "display_data"
    }
   ],
   "source": [
    "Δt = 90"
   ]
  },
  {
   "cell_type": "code",
   "execution_count": 6,
   "metadata": {},
   "outputs": [],
   "source": [
    "# classes and custom types\n",
    "struct Knight\n",
    "    name::String\n",
    "    health::Int\n",
    "    armor::Int\n",
    "end"
   ]
  },
  {
   "cell_type": "code",
   "execution_count": 7,
   "metadata": {},
   "outputs": [
    {
     "data": {
      "text/plain": [
       "Knight(\"Faramir\", 10, 10)"
      ]
     },
     "metadata": {},
     "output_type": "display_data"
    }
   ],
   "source": [
    "knight_01 = Knight(\"Faramir\", 10, 10)"
   ]
  },
  {
   "cell_type": "code",
   "execution_count": 8,
   "metadata": {},
   "outputs": [
    {
     "data": {
      "text/plain": [
       "Knight"
      ]
     },
     "metadata": {},
     "output_type": "display_data"
    }
   ],
   "source": [
    "typeof(knight_01)"
   ]
  },
  {
   "cell_type": "code",
   "execution_count": 9,
   "metadata": {},
   "outputs": [
    {
     "data": {
      "text/plain": [
       "\"Faramir\""
      ]
     },
     "metadata": {},
     "output_type": "display_data"
    }
   ],
   "source": [
    "knight_01.name"
   ]
  },
  {
   "cell_type": "code",
   "execution_count": 10,
   "metadata": {},
   "outputs": [
    {
     "data": {
      "text/plain": [
       "10"
      ]
     },
     "metadata": {},
     "output_type": "display_data"
    }
   ],
   "source": [
    "knight_01.health"
   ]
  },
  {
   "cell_type": "code",
   "execution_count": 13,
   "metadata": {},
   "outputs": [
    {
     "data": {
      "text/plain": [
       "Knight(\"Sir Morien\", 10, 20)"
      ]
     },
     "metadata": {},
     "output_type": "display_data"
    }
   ],
   "source": [
    "black = Knight(\"Sir Morien\", 10, 20)"
   ]
  },
  {
   "cell_type": "code",
   "execution_count": 14,
   "metadata": {},
   "outputs": [
    {
     "data": {
      "text/plain": [
       "\"Sir Morien\""
      ]
     },
     "metadata": {},
     "output_type": "display_data"
    }
   ],
   "source": [
    "# :name is called a symbol, which is common in Ruby, Lisp languanges\n",
    "getfield(black, :name)\n",
    "# we can use the function getfield instead of the dot notation"
   ]
  },
  {
   "cell_type": "code",
   "execution_count": 16,
   "metadata": {},
   "outputs": [
    {
     "data": {
      "text/plain": [
       "Symbol"
      ]
     },
     "metadata": {},
     "output_type": "display_data"
    }
   ],
   "source": [
    "typeof(:name)"
   ]
  },
  {
   "cell_type": "code",
   "execution_count": 17,
   "metadata": {},
   "outputs": [
    {
     "data": {
      "text/plain": [
       "20"
      ]
     },
     "metadata": {},
     "output_type": "display_data"
    }
   ],
   "source": [
    "# access fields by index\n",
    "# Julia starts with 1 instead of 0\n",
    "getfield(black, 3)"
   ]
  },
  {
   "cell_type": "code",
   "execution_count": 22,
   "metadata": {},
   "outputs": [
    {
     "ename": "UndefVarError",
     "evalue": "UndefVarError: total not defined",
     "output_type": "error",
     "traceback": [
      "UndefVarError: total not defined\n",
      "\n",
      "Stacktrace:\n",
      " [1] top-level scope at /root/statistical-learning/julia_study/220212_01.ipynb:4\n",
      " [2] include_string(::Module, ::String, ::String) at ./loading.jl:1080\n",
      " [3] #invokelatest#1 at ./essentials.jl:712 [inlined]\n",
      " [4] invokelatest at ./essentials.jl:711 [inlined]\n",
      " [5] (::VSCodeServer.var\"#146#147\"{VSCodeServer.NotebookRunCellArguments,String})() at /root/.vscode-server/extensions/julialang.language-julia-1.5.11/scripts/packages/VSCodeServer/src/serve_notebook.jl:18\n",
      " [6] withpath(::VSCodeServer.var\"#146#147\"{VSCodeServer.NotebookRunCellArguments,String}, ::String) at /root/.vscode-server/extensions/julialang.language-julia-1.5.11/scripts/packages/VSCodeServer/src/repl.jl:185\n",
      " [7] notebook_runcell_request(::VSCodeServer.JSONRPC.JSONRPCEndpoint{Base.PipeEndpoint,Base.PipeEndpoint}, ::VSCodeServer.NotebookRunCellArguments) at /root/.vscode-server/extensions/julialang.language-julia-1.5.11/scripts/packages/VSCodeServer/src/serve_notebook.jl:14\n",
      " [8] dispatch_msg(::VSCodeServer.JSONRPC.JSONRPCEndpoint{Base.PipeEndpoint,Base.PipeEndpoint}, ::VSCodeServer.JSONRPC.MsgDispatcher, ::Dict{String,Any}) at /root/.vscode-server/extensions/julialang.language-julia-1.5.11/scripts/packages/JSONRPC/src/typed.jl:67\n",
      " [9] serve_notebook(::String; crashreporting_pipename::String) at /root/.vscode-server/extensions/julialang.language-julia-1.5.11/scripts/packages/VSCodeServer/src/serve_notebook.jl:94\n",
      " [10] top-level scope at /root/.vscode-server/extensions/julialang.language-julia-1.5.11/scripts/notebook/notebook.jl:12\n",
      " [11] include(::Module, ::String) at ./Base.jl:377\n",
      " [12] exec_options(::Base.JLOptions) at ./client.jl:288\n",
      " [13] _start() at ./client.jl:484"
     ]
    }
   ],
   "source": [
    "total = 0\n",
    "\n",
    "for i in [1,2,3]\n",
    "    total += i\n",
    "end"
   ]
  },
  {
   "cell_type": "code",
   "execution_count": 23,
   "metadata": {},
   "outputs": [
    {
     "ename": "UndefVarError",
     "evalue": "UndefVarError: total not defined",
     "output_type": "error",
     "traceback": [
      "UndefVarError: total not defined\n",
      "\n",
      "Stacktrace:\n",
      " [1] top-level scope at /root/statistical-learning/julia_study/220212_01.ipynb:2\n",
      " [2] include_string(::Module, ::String, ::String) at ./loading.jl:1080\n",
      " [3] #invokelatest#1 at ./essentials.jl:712 [inlined]\n",
      " [4] invokelatest at ./essentials.jl:711 [inlined]\n",
      " [5] (::VSCodeServer.var\"#146#147\"{VSCodeServer.NotebookRunCellArguments,String})() at /root/.vscode-server/extensions/julialang.language-julia-1.5.11/scripts/packages/VSCodeServer/src/serve_notebook.jl:18\n",
      " [6] withpath(::VSCodeServer.var\"#146#147\"{VSCodeServer.NotebookRunCellArguments,String}, ::String) at /root/.vscode-server/extensions/julialang.language-julia-1.5.11/scripts/packages/VSCodeServer/src/repl.jl:185\n",
      " [7] notebook_runcell_request(::VSCodeServer.JSONRPC.JSONRPCEndpoint{Base.PipeEndpoint,Base.PipeEndpoint}, ::VSCodeServer.NotebookRunCellArguments) at /root/.vscode-server/extensions/julialang.language-julia-1.5.11/scripts/packages/VSCodeServer/src/serve_notebook.jl:14\n",
      " [8] dispatch_msg(::VSCodeServer.JSONRPC.JSONRPCEndpoint{Base.PipeEndpoint,Base.PipeEndpoint}, ::VSCodeServer.JSONRPC.MsgDispatcher, ::Dict{String,Any}) at /root/.vscode-server/extensions/julialang.language-julia-1.5.11/scripts/packages/JSONRPC/src/typed.jl:67\n",
      " [9] serve_notebook(::String; crashreporting_pipename::String) at /root/.vscode-server/extensions/julialang.language-julia-1.5.11/scripts/packages/VSCodeServer/src/serve_notebook.jl:94\n",
      " [10] top-level scope at /root/.vscode-server/extensions/julialang.language-julia-1.5.11/scripts/notebook/notebook.jl:12\n",
      " [11] include(::Module, ::String) at ./Base.jl:377\n",
      " [12] exec_options(::Base.JLOptions) at ./client.jl:288\n",
      " [13] _start() at ./client.jl:484"
     ]
    }
   ],
   "source": [
    "for x in 3:5\n",
    "    total += x\n",
    "end"
   ]
  },
  {
   "cell_type": "code",
   "execution_count": 24,
   "metadata": {},
   "outputs": [
    {
     "data": {
      "text/plain": [
       "12"
      ]
     },
     "metadata": {},
     "output_type": "display_data"
    }
   ],
   "source": [
    "sum(3:5)"
   ]
  },
  {
   "cell_type": "code",
   "execution_count": 25,
   "metadata": {},
   "outputs": [
    {
     "data": {
      "text/plain": [
       "12"
      ]
     },
     "metadata": {},
     "output_type": "display_data"
    }
   ],
   "source": [
    "sum([3,4,5])"
   ]
  },
  {
   "cell_type": "code",
   "execution_count": 27,
   "metadata": {},
   "outputs": [
    {
     "data": {
      "text/plain": [
       "\"medium\""
      ]
     },
     "metadata": {},
     "output_type": "display_data"
    }
   ],
   "source": [
    "# if statements in Julia are expression like in Scala\n",
    "x = 4\n",
    "if x > 5\n",
    "    \"large\"\n",
    "elseif x > 3\n",
    "    \"medium\"\n",
    "else\n",
    "    \"small\"\n",
    "end"
   ]
  },
  {
   "cell_type": "code",
   "execution_count": 28,
   "metadata": {},
   "outputs": [
    {
     "data": {
      "text/plain": [
       "f (generic function with 1 method)"
      ]
     },
     "metadata": {},
     "output_type": "display_data"
    }
   ],
   "source": [
    "f(x) = 2x + 4"
   ]
  },
  {
   "cell_type": "code",
   "execution_count": 29,
   "metadata": {},
   "outputs": [
    {
     "data": {
      "text/plain": [
       "10"
      ]
     },
     "metadata": {},
     "output_type": "display_data"
    }
   ],
   "source": [
    "f(3)"
   ]
  },
  {
   "cell_type": "code",
   "execution_count": 30,
   "metadata": {},
   "outputs": [
    {
     "data": {
      "text/plain": [
       "add (generic function with 1 method)"
      ]
     },
     "metadata": {},
     "output_type": "display_data"
    }
   ],
   "source": [
    "function add(x::Int, y::Int)\n",
    "    return x + y\n",
    "end"
   ]
  },
  {
   "cell_type": "code",
   "execution_count": 32,
   "metadata": {},
   "outputs": [
    {
     "data": {
      "text/plain": [
       "3"
      ]
     },
     "metadata": {},
     "output_type": "display_data"
    }
   ],
   "source": [
    "add(1, 2)"
   ]
  },
  {
   "cell_type": "code",
   "execution_count": 31,
   "metadata": {},
   "outputs": [
    {
     "ename": "MethodError",
     "evalue": "MethodError: no method matching add(::Float64, ::Int64)\nClosest candidates are:\n  add(!Matched::Int64, ::Int64) at /root/statistical-learning/julia_study/220212_01.ipynb:2",
     "output_type": "error",
     "traceback": [
      "MethodError: no method matching add(::Float64, ::Int64)\n",
      "Closest candidates are:\n",
      "  add(!Matched::Int64, ::Int64) at /root/statistical-learning/julia_study/220212_01.ipynb:2\n",
      "\n",
      "Stacktrace:\n",
      " [1] top-level scope at /root/statistical-learning/julia_study/220212_01.ipynb:1\n",
      " [2] include_string(::Module, ::String, ::String) at ./loading.jl:1080\n",
      " [3] #invokelatest#1 at ./essentials.jl:712 [inlined]\n",
      " [4] invokelatest at ./essentials.jl:711 [inlined]\n",
      " [5] (::VSCodeServer.var\"#146#147\"{VSCodeServer.NotebookRunCellArguments,String})() at /root/.vscode-server/extensions/julialang.language-julia-1.5.11/scripts/packages/VSCodeServer/src/serve_notebook.jl:18\n",
      " [6] withpath(::VSCodeServer.var\"#146#147\"{VSCodeServer.NotebookRunCellArguments,String}, ::String) at /root/.vscode-server/extensions/julialang.language-julia-1.5.11/scripts/packages/VSCodeServer/src/repl.jl:185\n",
      " [7] notebook_runcell_request(::VSCodeServer.JSONRPC.JSONRPCEndpoint{Base.PipeEndpoint,Base.PipeEndpoint}, ::VSCodeServer.NotebookRunCellArguments) at /root/.vscode-server/extensions/julialang.language-julia-1.5.11/scripts/packages/VSCodeServer/src/serve_notebook.jl:14\n",
      " [8] dispatch_msg(::VSCodeServer.JSONRPC.JSONRPCEndpoint{Base.PipeEndpoint,Base.PipeEndpoint}, ::VSCodeServer.JSONRPC.MsgDispatcher, ::Dict{String,Any}) at /root/.vscode-server/extensions/julialang.language-julia-1.5.11/scripts/packages/JSONRPC/src/typed.jl:67\n",
      " [9] serve_notebook(::String; crashreporting_pipename::String) at /root/.vscode-server/extensions/julialang.language-julia-1.5.11/scripts/packages/VSCodeServer/src/serve_notebook.jl:94\n",
      " [10] top-level scope at /root/.vscode-server/extensions/julialang.language-julia-1.5.11/scripts/notebook/notebook.jl:12\n",
      " [11] include(::Module, ::String) at ./Base.jl:377\n",
      " [12] exec_options(::Base.JLOptions) at ./client.jl:288\n",
      " [13] _start() at ./client.jl:484"
     ]
    }
   ],
   "source": [
    "# it gives errors if we pass incorrect types for arguments\n",
    "add(1.2, 1)"
   ]
  },
  {
   "cell_type": "code",
   "execution_count": null,
   "metadata": {},
   "outputs": [],
   "source": []
  },
  {
   "cell_type": "code",
   "execution_count": null,
   "metadata": {},
   "outputs": [],
   "source": []
  },
  {
   "cell_type": "code",
   "execution_count": null,
   "metadata": {},
   "outputs": [],
   "source": []
  },
  {
   "cell_type": "code",
   "execution_count": null,
   "metadata": {},
   "outputs": [],
   "source": []
  },
  {
   "cell_type": "code",
   "execution_count": null,
   "metadata": {},
   "outputs": [],
   "source": []
  },
  {
   "cell_type": "code",
   "execution_count": null,
   "metadata": {},
   "outputs": [],
   "source": []
  },
  {
   "cell_type": "code",
   "execution_count": null,
   "metadata": {},
   "outputs": [],
   "source": []
  },
  {
   "cell_type": "code",
   "execution_count": null,
   "metadata": {},
   "outputs": [],
   "source": []
  },
  {
   "cell_type": "code",
   "execution_count": null,
   "metadata": {},
   "outputs": [],
   "source": []
  },
  {
   "cell_type": "code",
   "execution_count": null,
   "metadata": {},
   "outputs": [],
   "source": []
  },
  {
   "cell_type": "code",
   "execution_count": null,
   "metadata": {},
   "outputs": [],
   "source": []
  }
 ],
 "metadata": {
  "kernelspec": {
   "display_name": "Julia 1.4.1",
   "language": "julia",
   "name": "julia-1.4"
  },
  "language_info": {
   "file_extension": ".jl",
   "mimetype": "application/julia",
   "name": "julia",
   "version": "1.4.1"
  },
  "orig_nbformat": 4
 },
 "nbformat": 4,
 "nbformat_minor": 2
}
