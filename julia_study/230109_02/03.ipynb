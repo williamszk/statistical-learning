{
 "cells": [
  {
   "cell_type": "code",
   "execution_count": 1,
   "metadata": {},
   "outputs": [],
   "source": [
    "# Installing plotting library\n",
    "using Pkg"
   ]
  },
  {
   "cell_type": "code",
   "execution_count": 2,
   "metadata": {},
   "outputs": [
    {
     "name": "stderr",
     "output_type": "stream",
     "text": [
      "\u001b[32m\u001b[1m    Updating\u001b[22m\u001b[39m registry at `~/.julia/registries/General.toml`\n"
     ]
    },
    {
     "name": "stderr",
     "output_type": "stream",
     "text": [
      "\u001b[32m\u001b[1m   Resolving\u001b[22m\u001b[39m package versions...\n"
     ]
    },
    {
     "name": "stderr",
     "output_type": "stream",
     "text": [
      "\u001b[32m\u001b[1m   Installed\u001b[22m\u001b[39m x265_jll ───────────────────── v3.5.0+0\n"
     ]
    },
    {
     "name": "stderr",
     "output_type": "stream",
     "text": [
      "\u001b[32m\u001b[1m   Installed\u001b[22m\u001b[39m libfdk_aac_jll ─────────────── v2.0.2+0\n",
      "\u001b[32m\u001b[1m   Installed\u001b[22m\u001b[39m GR_jll ─────────────────────── v0.71.3+0\n"
     ]
    },
    {
     "name": "stderr",
     "output_type": "stream",
     "text": [
      "\u001b[32m\u001b[1m   Installed\u001b[22m\u001b[39m Opus_jll ───────────────────── v1.3.2+0\n"
     ]
    },
    {
     "name": "stderr",
     "output_type": "stream",
     "text": [
      "\u001b[32m\u001b[1m   Installed\u001b[22m\u001b[39m LoggingExtras ──────────────── v1.0.0\n",
      "\u001b[32m\u001b[1m   Installed\u001b[22m\u001b[39m RelocatableFolders ─────────── v1.0.0\n"
     ]
    },
    {
     "name": "stderr",
     "output_type": "stream",
     "text": [
      "\u001b[32m\u001b[1m   Installed\u001b[22m\u001b[39m Grisu ──────────────────────── v1.0.2\n",
      "\u001b[32m\u001b[1m   Installed\u001b[22m\u001b[39m Measures ───────────────────── v0.3.2\n",
      "\u001b[32m\u001b[1m   Installed\u001b[22m\u001b[39m Xorg_xcb_util_wm_jll ───────── v0.4.1+1\n",
      "\u001b[32m\u001b[1m   Installed\u001b[22m\u001b[39m Xorg_xcb_util_image_jll ────── v0.4.0+1\n",
      "\u001b[32m\u001b[1m   Installed\u001b[22m\u001b[39m Contour ────────────────────── v0.6.2\n"
     ]
    },
    {
     "name": "stderr",
     "output_type": "stream",
     "text": [
      "\u001b[32m\u001b[1m   Installed\u001b[22m\u001b[39m PlotUtils ──────────────────── v1.3.2\n"
     ]
    },
    {
     "name": "stderr",
     "output_type": "stream",
     "text": [
      "\u001b[32m\u001b[1m   Installed\u001b[22m\u001b[39m RecipesPipeline ────────────── v0.6.11\n",
      "\u001b[32m\u001b[1m   Installed\u001b[22m\u001b[39m Xorg_xcb_util_jll ──────────── v0.4.0+1\n",
      "\u001b[32m\u001b[1m   Installed\u001b[22m\u001b[39m OpenSSL ────────────────────── v1.3.2\n",
      "\u001b[32m\u001b[1m   Installed\u001b[22m\u001b[39m FFMPEG ─────────────────────── v0.4.1\n",
      "\u001b[32m\u001b[1m   Installed\u001b[22m\u001b[39m HTTP ───────────────────────── v1.6.3\n",
      "\u001b[32m\u001b[1m   Installed\u001b[22m\u001b[39m Showoff ────────────────────── v1.0.3\n"
     ]
    },
    {
     "name": "stderr",
     "output_type": "stream",
     "text": [
      "\u001b[32m\u001b[1m   Installed\u001b[22m\u001b[39m Qt5Base_jll ────────────────── v5.15.3+2\n",
      "\u001b[32m\u001b[1m   Installed\u001b[22m\u001b[39m Xorg_xcb_util_keysyms_jll ──── v0.4.0+1\n",
      "\u001b[32m\u001b[1m   Installed\u001b[22m\u001b[39m SimpleBufferStream ─────────── v1.1.0\n",
      "\u001b[32m\u001b[1m   Installed\u001b[22m\u001b[39m Pipe ───────────────────────── v1.3.0\n",
      "\u001b[32m\u001b[1m   Installed\u001b[22m\u001b[39m fzf_jll ────────────────────── v0.29.0+0\n",
      "\u001b[32m\u001b[1m   Installed\u001b[22m\u001b[39m PlotThemes ─────────────────── v3.1.0\n"
     ]
    },
    {
     "name": "stderr",
     "output_type": "stream",
     "text": [
      "\u001b[32m\u001b[1m   Installed\u001b[22m\u001b[39m UnicodeFun ─────────────────── v0.4.1\n",
      "\u001b[32m\u001b[1m   Installed\u001b[22m\u001b[39m JLFzf ──────────────────────── v0.1.5\n",
      "\u001b[32m\u001b[1m   Installed\u001b[22m\u001b[39m GLFW_jll ───────────────────── v3.3.8+0\n",
      "\u001b[32m\u001b[1m   Installed\u001b[22m\u001b[39m libaom_jll ─────────────────── v3.4.0+0\n",
      "\u001b[32m\u001b[1m   Installed\u001b[22m\u001b[39m x264_jll ───────────────────── v2021.5.5+0\n",
      "\u001b[32m\u001b[1m   Installed\u001b[22m\u001b[39m Plots ──────────────────────── v1.38.1\n"
     ]
    },
    {
     "name": "stderr",
     "output_type": "stream",
     "text": [
      "\u001b[32m\u001b[1m   Installed\u001b[22m\u001b[39m Ogg_jll ────────────────────── v1.3.5+1\n",
      "\u001b[32m\u001b[1m   Installed\u001b[22m\u001b[39m Xorg_xcb_util_renderutil_jll ─ v0.3.9+1\n",
      "\u001b[32m\u001b[1m   Installed\u001b[22m\u001b[39m libass_jll ─────────────────── v0.15.1+0\n",
      "\u001b[32m\u001b[1m   Installed\u001b[22m\u001b[39m BitFlags ───────────────────── v0.1.7\n",
      "\u001b[32m\u001b[1m   Installed\u001b[22m\u001b[39m FFMPEG_jll ─────────────────── v4.4.2+2\n",
      "\u001b[32m\u001b[1m   Installed\u001b[22m\u001b[39m Latexify ───────────────────── v0.15.18\n"
     ]
    },
    {
     "name": "stderr",
     "output_type": "stream",
     "text": [
      "\u001b[32m\u001b[1m   Installed\u001b[22m\u001b[39m LAME_jll ───────────────────── v3.100.1+0\n"
     ]
    },
    {
     "name": "stderr",
     "output_type": "stream",
     "text": [
      "\u001b[32m\u001b[1m   Installed\u001b[22m\u001b[39m IniFile ────────────────────── v0.5.1\n",
      "\u001b[32m\u001b[1m   Installed\u001b[22m\u001b[39m URIs ───────────────────────── v1.4.1\n",
      "\u001b[32m\u001b[1m   Installed\u001b[22m\u001b[39m libvorbis_jll ──────────────── v1.3.7+1\n",
      "\u001b[32m\u001b[1m   Installed\u001b[22m\u001b[39m Unzip ──────────────────────── v0.2.0\n",
      "\u001b[32m\u001b[1m   Installed\u001b[22m\u001b[39m ColorSchemes ───────────────── v3.20.0\n"
     ]
    },
    {
     "name": "stderr",
     "output_type": "stream",
     "text": [
      "\u001b[32m\u001b[1m   Installed\u001b[22m\u001b[39m GR ─────────────────────────── v0.71.3\n"
     ]
    },
    {
     "name": "stderr",
     "output_type": "stream",
     "text": [
      "\u001b[32m\u001b[1m    Updating\u001b[22m\u001b[39m `~/.julia/environments/v1.8/Project.toml`\n",
      " \u001b[90m [91a5bcdd] \u001b[39m\u001b[92m+ Plots v1.38.1\u001b[39m\n",
      "\u001b[32m\u001b[1m    Updating\u001b[22m\u001b[39m `~/.julia/environments/v1.8/Manifest.toml`\n"
     ]
    },
    {
     "name": "stderr",
     "output_type": "stream",
     "text": [
      " \u001b[90m [d1d4a3ce] \u001b[39m\u001b[92m+ BitFlags v0.1.7\u001b[39m\n",
      " \u001b[90m [35d6a980] \u001b[39m\u001b[92m+ ColorSchemes v3.20.0\u001b[39m\n",
      " \u001b[90m [d38c429a] \u001b[39m\u001b[92m+ Contour v0.6.2\u001b[39m\n",
      " \u001b[90m [c87230d0] \u001b[39m\u001b[92m+ FFMPEG v0.4.1\u001b[39m\n",
      " \u001b[90m [28b8d3ca] \u001b[39m\u001b[92m+ GR v0.71.3\u001b[39m\n",
      " \u001b[90m [42e2da0e] \u001b[39m\u001b[92m+ Grisu v1.0.2\u001b[39m\n",
      " \u001b[90m [cd3eb016] \u001b[39m\u001b[92m+ HTTP v1.6.3\u001b[39m\n",
      " \u001b[90m [83e8ac13] \u001b[39m\u001b[92m+ IniFile v0.5.1\u001b[39m\n",
      " \u001b[90m [1019f520] \u001b[39m\u001b[92m+ JLFzf v0.1.5\u001b[39m\n",
      " \u001b[90m [23fbe1c1] \u001b[39m\u001b[92m+ Latexify v0.15.18\u001b[39m\n",
      " \u001b[90m [e6f89c97] \u001b[39m\u001b[92m+ LoggingExtras v1.0.0\u001b[39m\n",
      " \u001b[90m [442fdcdd] \u001b[39m\u001b[92m+ Measures v0.3.2\u001b[39m\n",
      " \u001b[90m [4d8831e6] \u001b[39m\u001b[92m+ OpenSSL v1.3.2\u001b[39m\n",
      " \u001b[90m [b98c9c47] \u001b[39m\u001b[92m+ Pipe v1.3.0\u001b[39m\n",
      " \u001b[90m [ccf2f8ad] \u001b[39m\u001b[92m+ PlotThemes v3.1.0\u001b[39m\n",
      " \u001b[90m [995b91a9] \u001b[39m\u001b[92m+ PlotUtils v1.3.2\u001b[39m\n",
      " \u001b[90m [91a5bcdd] \u001b[39m\u001b[92m+ Plots v1.38.1\u001b[39m\n",
      " \u001b[90m [01d81517] \u001b[39m\u001b[92m+ RecipesPipeline v0.6.11\u001b[39m\n",
      " \u001b[90m [05181044] \u001b[39m\u001b[92m+ RelocatableFolders v1.0.0\u001b[39m\n",
      " \u001b[90m [992d4aef] \u001b[39m\u001b[92m+ Showoff v1.0.3\u001b[39m\n",
      " \u001b[90m [777ac1f9] \u001b[39m\u001b[92m+ SimpleBufferStream v1.1.0\u001b[39m\n",
      " \u001b[90m [5c2747f8] \u001b[39m\u001b[92m+ URIs v1.4.1\u001b[39m\n",
      " \u001b[90m [1cfade01] \u001b[39m\u001b[92m+ UnicodeFun v0.4.1\u001b[39m\n",
      " \u001b[90m [41fe7b60] \u001b[39m\u001b[92m+ Unzip v0.2.0\u001b[39m\n",
      " \u001b[90m [b22a6f82] \u001b[39m\u001b[92m+ FFMPEG_jll v4.4.2+2\u001b[39m\n",
      " \u001b[90m [0656b61e] \u001b[39m\u001b[92m+ GLFW_jll v3.3.8+0\u001b[39m\n",
      " \u001b[90m [d2c73de3] \u001b[39m\u001b[92m+ GR_jll v0.71.3+0\u001b[39m\n",
      " \u001b[90m [c1c5ebd0] \u001b[39m\u001b[92m+ LAME_jll v3.100.1+0\u001b[39m\n",
      " \u001b[90m [e7412a2a] \u001b[39m\u001b[92m+ Ogg_jll v1.3.5+1\u001b[39m\n",
      " \u001b[90m [91d4177d] \u001b[39m\u001b[92m+ Opus_jll v1.3.2+0\u001b[39m\n",
      " \u001b[90m [ea2cea3b] \u001b[39m\u001b[92m+ Qt5Base_jll v5.15.3+2\u001b[39m\n",
      " \u001b[90m [12413925] \u001b[39m\u001b[92m+ Xorg_xcb_util_image_jll v0.4.0+1\u001b[39m\n",
      " \u001b[90m [2def613f] \u001b[39m\u001b[92m+ Xorg_xcb_util_jll v0.4.0+1\u001b[39m\n",
      " \u001b[90m [975044d2] \u001b[39m\u001b[92m+ Xorg_xcb_util_keysyms_jll v0.4.0+1\u001b[39m\n",
      " \u001b[90m [0d47668e] \u001b[39m\u001b[92m+ Xorg_xcb_util_renderutil_jll v0.3.9+1\u001b[39m\n",
      " \u001b[90m [c22f9ab0] \u001b[39m\u001b[92m+ Xorg_xcb_util_wm_jll v0.4.1+1\u001b[39m\n",
      "\u001b[33m⌅\u001b[39m\u001b[90m [214eeab7] \u001b[39m\u001b[92m+ fzf_jll v0.29.0+0\u001b[39m\n",
      " \u001b[90m [a4ae2306] \u001b[39m\u001b[92m+ libaom_jll v3.4.0+0\u001b[39m\n",
      " \u001b[90m [0ac62f75] \u001b[39m\u001b[92m+ libass_jll v0.15.1+0\u001b[39m\n",
      " \u001b[90m [f638f0a6] \u001b[39m\u001b[92m+ libfdk_aac_jll v2.0.2+0\u001b[39m\n",
      " \u001b[90m [f27f6e37] \u001b[39m\u001b[92m+ libvorbis_jll v1.3.7+1\u001b[39m\n",
      " \u001b[90m [1270edf5] \u001b[39m\u001b[92m+ x264_jll v2021.5.5+0\u001b[39m\n",
      " \u001b[90m [dfaa095f] \u001b[39m\u001b[92m+ x265_jll v3.5.0+0\u001b[39m\n",
      " \u001b[90m [8bb1440f] \u001b[39m\u001b[92m+ DelimitedFiles\u001b[39m\n",
      "\u001b[36m\u001b[1m        Info\u001b[22m\u001b[39m Packages marked with \u001b[33m⌅\u001b[39m have new versions available but compatibility constraints restrict them from upgrading. To see why use `status --outdated -m`\n"
     ]
    },
    {
     "name": "stderr",
     "output_type": "stream",
     "text": [
      "\u001b[32m\u001b[1mPrecompiling\u001b[22m\u001b[39m "
     ]
    },
    {
     "name": "stderr",
     "output_type": "stream",
     "text": [
      "project...\n"
     ]
    },
    {
     "name": "stderr",
     "output_type": "stream",
     "text": [
      "\u001b[32m  ✓ \u001b[39m\u001b[90mPipe\u001b[39m\n"
     ]
    },
    {
     "name": "stderr",
     "output_type": "stream",
     "text": [
      "\u001b[32m  ✓ \u001b[39m\u001b[90mContour\u001b[39m\n"
     ]
    },
    {
     "name": "stderr",
     "output_type": "stream",
     "text": [
      "\u001b[32m  ✓ \u001b[39m\u001b[90mMeasures\u001b[39m\n"
     ]
    },
    {
     "name": "stderr",
     "output_type": "stream",
     "text": [
      "\u001b[32m  ✓ \u001b[39m\u001b[90mUnzip\u001b[39m\n"
     ]
    },
    {
     "name": "stderr",
     "output_type": "stream",
     "text": [
      "\u001b[32m  ✓ \u001b[39m\u001b[90mIniFile\u001b[39m\n"
     ]
    },
    {
     "name": "stderr",
     "output_type": "stream",
     "text": [
      "\u001b[32m  ✓ \u001b[39m\u001b[90mSimpleBufferStream\u001b[39m\n"
     ]
    },
    {
     "name": "stderr",
     "output_type": "stream",
     "text": [
      "\u001b[32m  ✓ \u001b[39m\u001b[90mGrisu\u001b[39m\n"
     ]
    },
    {
     "name": "stderr",
     "output_type": "stream",
     "text": [
      "\u001b[32m  ✓ \u001b[39m\u001b[90mURIs\u001b[39m\n"
     ]
    },
    {
     "name": "stderr",
     "output_type": "stream",
     "text": [
      "\u001b[32m  ✓ \u001b[39m\u001b[90mBitFlags\u001b[39m\n"
     ]
    },
    {
     "name": "stderr",
     "output_type": "stream",
     "text": [
      "\u001b[32m  ✓ \u001b[39m\u001b[90mUnicodeFun\u001b[39m\n"
     ]
    },
    {
     "name": "stderr",
     "output_type": "stream",
     "text": [
      "\u001b[32m  ✓ \u001b[39m\u001b[90mRelocatableFolders\u001b[39m\n"
     ]
    },
    {
     "name": "stderr",
     "output_type": "stream",
     "text": [
      "\u001b[32m  ✓ \u001b[39m\u001b[90mLoggingExtras\u001b[39m\n"
     ]
    },
    {
     "name": "stderr",
     "output_type": "stream",
     "text": [
      "\u001b[32m  ✓ \u001b[39m\u001b[90mlibfdk_aac_jll\u001b[39m\n"
     ]
    },
    {
     "name": "stderr",
     "output_type": "stream",
     "text": [
      "\u001b[32m  ✓ \u001b[39m\u001b[90mLAME_jll\u001b[39m\n"
     ]
    },
    {
     "name": "stderr",
     "output_type": "stream",
     "text": [
      "\u001b[32m  ✓ \u001b[39m\u001b[90mfzf_jll\u001b[39m\n"
     ]
    },
    {
     "name": "stderr",
     "output_type": "stream",
     "text": [
      "\u001b[32m  ✓ \u001b[39m\u001b[90mx264_jll\u001b[39m\n"
     ]
    },
    {
     "name": "stderr",
     "output_type": "stream",
     "text": [
      "\u001b[32m  ✓ \u001b[39m\u001b[90mOgg_jll\u001b[39m\n"
     ]
    },
    {
     "name": "stderr",
     "output_type": "stream",
     "text": [
      "\u001b[32m  ✓ \u001b[39m\u001b[90mx265_jll\u001b[39m\n"
     ]
    },
    {
     "name": "stderr",
     "output_type": "stream",
     "text": [
      "\u001b[32m  ✓ \u001b[39m\u001b[90mlibaom_jll\u001b[39m\n"
     ]
    },
    {
     "name": "stderr",
     "output_type": "stream",
     "text": [
      "\u001b[32m  ✓ \u001b[39m\u001b[90mOpus_jll\u001b[39m\n"
     ]
    },
    {
     "name": "stderr",
     "output_type": "stream",
     "text": [
      "\u001b[32m  ✓ \u001b[39m\u001b[90mLatexify\u001b[39m\n"
     ]
    },
    {
     "name": "stderr",
     "output_type": "stream",
     "text": [
      "\u001b[32m  ✓ \u001b[39m\u001b[90mXorg_xcb_util_jll\u001b[39m\n"
     ]
    },
    {
     "name": "stderr",
     "output_type": "stream",
     "text": [
      "\u001b[32m  ✓ \u001b[39m\u001b[90mShowoff\u001b[39m\n"
     ]
    },
    {
     "name": "stderr",
     "output_type": "stream",
     "text": [
      "\u001b[32m  ✓ \u001b[39m\u001b[90mGLFW_jll\u001b[39m\n"
     ]
    },
    {
     "name": "stderr",
     "output_type": "stream",
     "text": [
      "\u001b[32m  ✓ \u001b[39m\u001b[90mJLFzf\u001b[39m\n"
     ]
    },
    {
     "name": "stderr",
     "output_type": "stream",
     "text": [
      "\u001b[32m  ✓ \u001b[39m\u001b[90mlibass_jll\u001b[39m\n"
     ]
    },
    {
     "name": "stderr",
     "output_type": "stream",
     "text": [
      "\u001b[32m  ✓ \u001b[39m\u001b[90mXorg_xcb_util_image_jll\u001b[39m\n"
     ]
    },
    {
     "name": "stderr",
     "output_type": "stream",
     "text": [
      "\u001b[32m  ✓ \u001b[39m\u001b[90mlibvorbis_jll\u001b[39m\n"
     ]
    },
    {
     "name": "stderr",
     "output_type": "stream",
     "text": [
      "\u001b[32m  ✓ \u001b[39m\u001b[90mXorg_xcb_util_keysyms_jll\u001b[39m\n"
     ]
    },
    {
     "name": "stderr",
     "output_type": "stream",
     "text": [
      "\u001b[32m  ✓ \u001b[39m\u001b[90mXorg_xcb_util_renderutil_jll\u001b[39m\n"
     ]
    },
    {
     "name": "stderr",
     "output_type": "stream",
     "text": [
      "\u001b[32m  ✓ \u001b[39m\u001b[90mXorg_xcb_util_wm_jll\u001b[39m\n"
     ]
    },
    {
     "name": "stderr",
     "output_type": "stream",
     "text": [
      "\u001b[32m  ✓ \u001b[39m\u001b[90mOpenSSL\u001b[39m\n"
     ]
    },
    {
     "name": "stderr",
     "output_type": "stream",
     "text": [
      "\u001b[32m  ✓ \u001b[39m\u001b[90mFFMPEG_jll\u001b[39m\n"
     ]
    },
    {
     "name": "stderr",
     "output_type": "stream",
     "text": [
      "\u001b[32m  ✓ \u001b[39m\u001b[90mQt5Base_jll\u001b[39m\n"
     ]
    },
    {
     "name": "stderr",
     "output_type": "stream",
     "text": [
      "\u001b[32m  ✓ \u001b[39m\u001b[90mFFMPEG\u001b[39m\n"
     ]
    },
    {
     "name": "stderr",
     "output_type": "stream",
     "text": [
      "\u001b[32m  ✓ \u001b[39m\u001b[90mGR_jll\u001b[39m\n"
     ]
    },
    {
     "name": "stderr",
     "output_type": "stream",
     "text": [
      "\u001b[32m  ✓ \u001b[39m\u001b[90mHTTP\u001b[39m\n",
      "\u001b[32m  ✓ \u001b[39m\u001b[90mColorSchemes\u001b[39m\n"
     ]
    },
    {
     "name": "stderr",
     "output_type": "stream",
     "text": [
      "\u001b[32m  ✓ \u001b[39m\u001b[90mGR\u001b[39m\n"
     ]
    },
    {
     "name": "stderr",
     "output_type": "stream",
     "text": [
      "\u001b[32m  ✓ \u001b[39m\u001b[90mPlotUtils\u001b[39m\n"
     ]
    },
    {
     "name": "stderr",
     "output_type": "stream",
     "text": [
      "\u001b[32m  ✓ \u001b[39m\u001b[90mPlotThemes\u001b[39m\n"
     ]
    },
    {
     "name": "stderr",
     "output_type": "stream",
     "text": [
      "\u001b[32m  ✓ \u001b[39m\u001b[90mRecipesPipeline\u001b[39m\n"
     ]
    },
    {
     "name": "stderr",
     "output_type": "stream",
     "text": [
      "\u001b[32m  ✓ \u001b[39mPlots\n"
     ]
    },
    {
     "name": "stderr",
     "output_type": "stream",
     "text": [
      "  43 dependencies successfully precompiled in 281 seconds. 235 already precompiled. 2 skipped during auto due to previous errors.\n"
     ]
    }
   ],
   "source": [
    "Pkg.add(\"Plots\")"
   ]
  },
  {
   "cell_type": "code",
   "execution_count": 3,
   "metadata": {},
   "outputs": [
    {
     "name": "stderr",
     "output_type": "stream",
     "text": [
      "\u001b[32m\u001b[1m   Resolving\u001b[22m\u001b[39m package versions...\n"
     ]
    },
    {
     "ename": "Pkg.Resolve.ResolverError",
     "evalue": "Unsatisfiable requirements detected for package \u001b[38;5;11mStatPlots [60ddc479]\u001b[39m:\n \u001b[38;5;11mStatPlots [60ddc479]\u001b[39m log:\n ├─possible versions are: \u001b[38;5;11m0.8.0-0.9.2\u001b[39m or uninstalled\n ├─restricted to versions \u001b[38;5;11m*\u001b[39m by an explicit requirement, leaving only versions \u001b[38;5;11m0.8.0-0.9.2\u001b[39m\n └─restricted by julia compatibility requirements to versions: uninstalled — no versions left",
     "output_type": "error",
     "traceback": [
      "Unsatisfiable requirements detected for package \u001b[38;5;11mStatPlots [60ddc479]\u001b[39m:\n",
      " \u001b[38;5;11mStatPlots [60ddc479]\u001b[39m log:\n",
      " ├─possible versions are: \u001b[38;5;11m0.8.0-0.9.2\u001b[39m or uninstalled\n",
      " ├─restricted to versions \u001b[38;5;11m*\u001b[39m by an explicit requirement, leaving only versions \u001b[38;5;11m0.8.0-0.9.2\u001b[39m\n",
      " └─restricted by julia compatibility requirements to versions: uninstalled — no versions left\n",
      "\n",
      "Stacktrace:\n",
      "  [1] propagate_constraints!(graph::Pkg.Resolve.Graph, sources::Set{Int64}; log_events::Bool)\n",
      "    @ Pkg.Resolve /opt/julia-1.8.4/share/julia/stdlib/v1.8/Pkg/src/Resolve/graphtype.jl:1072\n",
      "  [2] propagate_constraints! (repeats 2 times)\n",
      "    @ /opt/julia-1.8.4/share/julia/stdlib/v1.8/Pkg/src/Resolve/graphtype.jl:1008 [inlined]\n",
      "  [3] simplify_graph!(graph::Pkg.Resolve.Graph, sources::Set{Int64}; clean_graph::Bool)\n",
      "    @ Pkg.Resolve /opt/julia-1.8.4/share/julia/stdlib/v1.8/Pkg/src/Resolve/graphtype.jl:1533\n",
      "  [4] simplify_graph! (repeats 2 times)\n",
      "    @ /opt/julia-1.8.4/share/julia/stdlib/v1.8/Pkg/src/Resolve/graphtype.jl:1532 [inlined]\n",
      "  [5] resolve_versions!(env::Pkg.Types.EnvCache, registries::Vector{Pkg.Registry.RegistryInstance}, pkgs::Vector{Pkg.Types.PackageSpec}, julia_version::VersionNumber)\n",
      "    @ Pkg.Operations /opt/julia-1.8.4/share/julia/stdlib/v1.8/Pkg/src/Operations.jl:352\n",
      "  [6] targeted_resolve(env::Pkg.Types.EnvCache, registries::Vector{Pkg.Registry.RegistryInstance}, pkgs::Vector{Pkg.Types.PackageSpec}, preserve::Pkg.Types.PreserveLevel, julia_version::VersionNumber)\n",
      "    @ Pkg.Operations /opt/julia-1.8.4/share/julia/stdlib/v1.8/Pkg/src/Operations.jl:1254\n",
      "  [7] tiered_resolve(env::Pkg.Types.EnvCache, registries::Vector{Pkg.Registry.RegistryInstance}, pkgs::Vector{Pkg.Types.PackageSpec}, julia_version::VersionNumber)\n",
      "    @ Pkg.Operations /opt/julia-1.8.4/share/julia/stdlib/v1.8/Pkg/src/Operations.jl:1239\n",
      "  [8] _resolve(io::VSCodeServer.IJuliaCore.IJuliaStdio{Base.PipeEndpoint, typeof(VSCodeServer.io_send_callback)}, env::Pkg.Types.EnvCache, registries::Vector{Pkg.Registry.RegistryInstance}, pkgs::Vector{Pkg.Types.PackageSpec}, preserve::Pkg.Types.PreserveLevel, julia_version::VersionNumber)\n",
      "    @ Pkg.Operations /opt/julia-1.8.4/share/julia/stdlib/v1.8/Pkg/src/Operations.jl:1260\n",
      "  [9] add(ctx::Pkg.Types.Context, pkgs::Vector{Pkg.Types.PackageSpec}, new_git::Set{Base.UUID}; preserve::Pkg.Types.PreserveLevel, platform::Base.BinaryPlatforms.Platform)\n",
      "    @ Pkg.Operations /opt/julia-1.8.4/share/julia/stdlib/v1.8/Pkg/src/Operations.jl:1276\n",
      " [10] add(ctx::Pkg.Types.Context, pkgs::Vector{Pkg.Types.PackageSpec}; preserve::Pkg.Types.PreserveLevel, platform::Base.BinaryPlatforms.Platform, kwargs::Base.Pairs{Symbol, VSCodeServer.IJuliaCore.IJuliaStdio{Base.PipeEndpoint, typeof(VSCodeServer.io_send_callback)}, Tuple{Symbol}, NamedTuple{(:io,), Tuple{VSCodeServer.IJuliaCore.IJuliaStdio{Base.PipeEndpoint, typeof(VSCodeServer.io_send_callback)}}}})\n",
      "    @ Pkg.API /opt/julia-1.8.4/share/julia/stdlib/v1.8/Pkg/src/API.jl:275\n",
      " [11] add(pkgs::Vector{Pkg.Types.PackageSpec}; io::VSCodeServer.IJuliaCore.IJuliaStdio{Base.PipeEndpoint, typeof(VSCodeServer.io_send_callback)}, kwargs::Base.Pairs{Symbol, Union{}, Tuple{}, NamedTuple{(), Tuple{}}})\n",
      "    @ Pkg.API /opt/julia-1.8.4/share/julia/stdlib/v1.8/Pkg/src/API.jl:156\n",
      " [12] add(pkgs::Vector{Pkg.Types.PackageSpec})\n",
      "    @ Pkg.API /opt/julia-1.8.4/share/julia/stdlib/v1.8/Pkg/src/API.jl:145\n",
      " [13] #add#27\n",
      "    @ /opt/julia-1.8.4/share/julia/stdlib/v1.8/Pkg/src/API.jl:144 [inlined]\n",
      " [14] add\n",
      "    @ /opt/julia-1.8.4/share/julia/stdlib/v1.8/Pkg/src/API.jl:144 [inlined]\n",
      " [15] #add#26\n",
      "    @ /opt/julia-1.8.4/share/julia/stdlib/v1.8/Pkg/src/API.jl:143 [inlined]\n",
      " [16] add(pkg::String)\n",
      "    @ Pkg.API /opt/julia-1.8.4/share/julia/stdlib/v1.8/Pkg/src/API.jl:143\n",
      " [17] top-level scope\n",
      "    @ ~/statistical-learning/julia_study/230109_02/03.ipynb:1"
     ]
    }
   ],
   "source": [
    "Pkg.add(\"StatPlots\")"
   ]
  },
  {
   "cell_type": "code",
   "execution_count": 4,
   "metadata": {},
   "outputs": [
    {
     "name": "stderr",
     "output_type": "stream",
     "text": [
      "\u001b[32m\u001b[1m   Resolving\u001b[22m\u001b[39m package versions...\n"
     ]
    },
    {
     "name": "stderr",
     "output_type": "stream",
     "text": [
      "\u001b[32m\u001b[1m   Installed\u001b[22m\u001b[39m PyPlot ─ v2.11.0\n",
      "\u001b[32m\u001b[1m   Installed\u001b[22m\u001b[39m PyCall ─ v1.95.1\n"
     ]
    },
    {
     "name": "stderr",
     "output_type": "stream",
     "text": [
      "\u001b[32m\u001b[1m    Updating\u001b[22m\u001b[39m `~/.julia/environments/v1.8/Project.toml`\n",
      " \u001b[90m [d330b81b] \u001b[39m\u001b[92m+ PyPlot v2.11.0\u001b[39m\n",
      "\u001b[32m\u001b[1m    Updating\u001b[22m\u001b[39m `~/.julia/environments/v1.8/Manifest.toml`\n"
     ]
    },
    {
     "name": "stderr",
     "output_type": "stream",
     "text": [
      " \u001b[90m [438e738f] \u001b[39m\u001b[92m+ PyCall v1.95.1\u001b[39m\n",
      " \u001b[90m [d330b81b] \u001b[39m\u001b[92m+ PyPlot v2.11.0\u001b[39m\n"
     ]
    },
    {
     "name": "stderr",
     "output_type": "stream",
     "text": [
      "\u001b[32m\u001b[1m    Building\u001b[22m\u001b[39m PyCall → `~/.julia/scratchspaces/44cfe95a-1eb2-52ea-b672-e2afdf69b78f/62f417f6ad727987c755549e9cd88c46578da562/build.log`\n"
     ]
    },
    {
     "name": "stderr",
     "output_type": "stream",
     "text": [
      "\u001b[32m\u001b[1mPrecompiling\u001b[22m\u001b[39m "
     ]
    },
    {
     "name": "stderr",
     "output_type": "stream",
     "text": [
      "project...\n"
     ]
    },
    {
     "name": "stderr",
     "output_type": "stream",
     "text": [
      "\u001b[32m  ✓ \u001b[39m\u001b[90mPyCall\u001b[39m\n"
     ]
    },
    {
     "name": "stderr",
     "output_type": "stream",
     "text": [
      "\u001b[32m  ✓ \u001b[39mPyPlot\n",
      "  2 dependencies successfully precompiled in 40 seconds. 278 already precompiled. 2 skipped during auto due to previous errors.\n"
     ]
    }
   ],
   "source": [
    "Pkg.add(\"PyPlot\")"
   ]
  },
  {
   "cell_type": "code",
   "execution_count": 7,
   "metadata": {},
   "outputs": [],
   "source": [
    "using Plots\n",
    "using PyPlot"
   ]
  },
  {
   "cell_type": "code",
   "execution_count": 9,
   "metadata": {},
   "outputs": [
    {
     "name": "stderr",
     "output_type": "stream",
     "text": [
      "\u001b[32m\u001b[1m   Resolving\u001b[22m\u001b[39m package versions...\n"
     ]
    },
    {
     "name": "stderr",
     "output_type": "stream",
     "text": [
      "\u001b[32m\u001b[1m    Updating\u001b[22m\u001b[39m `~/.julia/environments/v1.8/Project.toml`\n",
      " \u001b[90m [8f4d0f93] \u001b[39m\u001b[92m+ Conda v1.7.0\u001b[39m\n",
      "\u001b[32m\u001b[1m  No Changes\u001b[22m\u001b[39m to `~/.julia/environments/v1.8/Manifest.toml`\n"
     ]
    },
    {
     "name": "stderr",
     "output_type": "stream",
     "text": [
      "┌ Info: Downloading miniconda installer ...\n",
      "└ @ Conda /root/.julia/packages/Conda/x2UxR/src/Conda.jl:193\n"
     ]
    },
    {
     "name": "stderr",
     "output_type": "stream",
     "text": [
      "┌ Info: Installing miniconda ...\n",
      "└ @ Conda /root/.julia/packages/Conda/x2UxR/src/Conda.jl:203\n"
     ]
    },
    {
     "name": "stdout",
     "output_type": "stream",
     "text": [
      "PREFIX=/root/.julia/conda/3\n"
     ]
    },
    {
     "name": "stdout",
     "output_type": "stream",
     "text": [
      "Unpacking payload ...\n"
     ]
    },
    {
     "name": "stdout",
     "output_type": "stream",
     "text": [
      "Extracting python-3.10.6-ha86cf86_0_cpython.tar.bz2\n"
     ]
    },
    {
     "name": "stdout",
     "output_type": "stream",
     "text": [
      "Extracting _libgcc_mutex-0.1-conda_forge.tar.bz2\n",
      "Extracting ca-certificates-2022.9.24-ha878542_0.tar.bz2\n"
     ]
    },
    {
     "name": "stdout",
     "output_type": "stream",
     "text": [
      "Extracting ld_impl_linux-64-2.39-hc81fddc_0.tar.bz2\n"
     ]
    },
    {
     "name": "stdout",
     "output_type": "stream",
     "text": [
      "Extracting tzdata-2022f-h191b570_0.tar.bz2\n"
     ]
    },
    {
     "name": "stdout",
     "output_type": "stream",
     "text": [
      "Extracting libgomp-12.2.0-h65d4601_19.tar.bz2\n"
     ]
    },
    {
     "name": "stdout",
     "output_type": "stream",
     "text": [
      "Extracting _openmp_mutex-4.5-2_gnu.tar.bz2\n",
      "Extracting libgcc-ng-12.2.0-h65d4601_19.tar.bz2\n"
     ]
    },
    {
     "name": "stdout",
     "output_type": "stream",
     "text": [
      "Extracting bzip2-1.0.8-h7f98852_4.tar.bz2\n"
     ]
    },
    {
     "name": "stdout",
     "output_type": "stream",
     "text": [
      "Extracting libffi-3.4.2-h7f98852_5.tar.bz2\n"
     ]
    },
    {
     "name": "stdout",
     "output_type": "stream",
     "text": [
      "Extracting libnsl-2.0.0-h7f98852_0.tar.bz2\n",
      "Extracting libuuid-2.32.1-h7f98852_1000.tar.bz2\n",
      "Extracting libzlib-1.2.13-h166bdaf_4.tar.bz2\n"
     ]
    },
    {
     "name": "stdout",
     "output_type": "stream",
     "text": [
      "Extracting ncurses-6.3-h27087fc_1.tar.bz2\n"
     ]
    },
    {
     "name": "stdout",
     "output_type": "stream",
     "text": [
      "Extracting openssl-3.0.7-h166bdaf_0.tar.bz2\n"
     ]
    },
    {
     "name": "stdout",
     "output_type": "stream",
     "text": [
      "Extracting xz-5.2.6-h166bdaf_0.tar.bz2\n"
     ]
    },
    {
     "name": "stdout",
     "output_type": "stream",
     "text": [
      "Extracting yaml-0.2.5-h7f98852_2.tar.bz2\n",
      "Extracting libsqlite-3.40.0-h753d276_0.tar.bz2\n"
     ]
    },
    {
     "name": "stdout",
     "output_type": "stream",
     "text": [
      "Extracting readline-8.1.2-h0f457ee_0.tar.bz2\n"
     ]
    },
    {
     "name": "stdout",
     "output_type": "stream",
     "text": [
      "Extracting tk-8.6.12-h27826a3_0.tar.bz2\n"
     ]
    },
    {
     "name": "stdout",
     "output_type": "stream",
     "text": [
      "Extracting certifi-2022.9.24-pyhd8ed1ab_0.tar.bz2\n"
     ]
    },
    {
     "name": "stdout",
     "output_type": "stream",
     "text": [
      "Extracting charset-normalizer-2.1.1-pyhd8ed1ab_0.tar.bz2\n",
      "Extracting colorama-0.4.6-pyhd8ed1ab_0.tar.bz2\n"
     ]
    },
    {
     "name": "stdout",
     "output_type": "stream",
     "text": [
      "Extracting idna-3.4-pyhd8ed1ab_0.tar.bz2\n",
      "Extracting pycparser-2.21-pyhd8ed1ab_0.tar.bz2\n"
     ]
    },
    {
     "name": "stdout",
     "output_type": "stream",
     "text": [
      "Extracting pysocks-1.7.1-pyha2e5f31_6.tar.bz2\n",
      "Extracting python_abi-3.10-2_cp310.tar.bz2\n"
     ]
    },
    {
     "name": "stdout",
     "output_type": "stream",
     "text": [
      "Extracting setuptools-65.5.1-pyhd8ed1ab_0.tar.bz2\n"
     ]
    },
    {
     "name": "stdout",
     "output_type": "stream",
     "text": [
      "Extracting toolz-0.12.0-pyhd8ed1ab_0.tar.bz2\n"
     ]
    },
    {
     "name": "stdout",
     "output_type": "stream",
     "text": [
      "Extracting wheel-0.38.4-pyhd8ed1ab_0.tar.bz2\n",
      "Extracting cffi-1.15.1-py310h255011f_2.tar.bz2\n"
     ]
    },
    {
     "name": "stdout",
     "output_type": "stream",
     "text": [
      "Extracting pip-22.3.1-pyhd8ed1ab_0.tar.bz2\n"
     ]
    },
    {
     "name": "stdout",
     "output_type": "stream",
     "text": [
      "Extracting pycosat-0.6.4-py310h5764c6d_1.tar.bz2\n"
     ]
    },
    {
     "name": "stdout",
     "output_type": "stream",
     "text": [
      "Extracting ruamel_yaml-0.15.80-py310h5764c6d_1008.tar.bz2\n"
     ]
    },
    {
     "name": "stdout",
     "output_type": "stream",
     "text": [
      "Extracting tqdm-4.64.1-pyhd8ed1ab_0.tar.bz2\n",
      "Extracting brotlipy-0.7.0-py310h5764c6d_1005.tar.bz2\n"
     ]
    },
    {
     "name": "stdout",
     "output_type": "stream",
     "text": [
      "Extracting conda-package-handling-1.9.0-py310h5764c6d_1.tar.bz2\n"
     ]
    },
    {
     "name": "stdout",
     "output_type": "stream",
     "text": [
      "Extracting cryptography-38.0.3-py310h600f1e7_0.tar.bz2\n"
     ]
    },
    {
     "name": "stdout",
     "output_type": "stream",
     "text": [
      "Extracting pyopenssl-22.1.0-pyhd8ed1ab_0.tar.bz2\n"
     ]
    },
    {
     "name": "stdout",
     "output_type": "stream",
     "text": [
      "Extracting urllib3-1.26.11-pyhd8ed1ab_0.tar.bz2\n"
     ]
    },
    {
     "name": "stdout",
     "output_type": "stream",
     "text": [
      "Extracting requests-2.28.1-pyhd8ed1ab_1.tar.bz2\n",
      "Extracting conda-22.9.0-py310hff52083_2.tar.bz2\n"
     ]
    },
    {
     "name": "stdout",
     "output_type": "stream",
     "text": [
      "\n",
      "                                           __\n",
      "          __  ______ ___  ____ _____ ___  / /_  ____ _\n",
      "         / / / / __ `__ \\/ __ `/ __ `__ \\/ __ \\/ __ `/\n",
      "        / /_/ / / / / / / /_/ / / / / / / /_/ / /_/ /\n",
      "       / .___/_/ /_/ /_/\\__,_/_/ /_/ /_/_.___/\\__,_/\n",
      "      /_/\n",
      "\n",
      "conda-forge/linux-64                                        Using cache\n",
      "conda-forge/noarch                                          Using cache\n"
     ]
    },
    {
     "name": "stdout",
     "output_type": "stream",
     "text": [
      "\n",
      "Transaction\n",
      "\n",
      "  Prefix: /root/.julia/conda/3\n",
      "\n",
      "  Updating specs:\n",
      "\n",
      "   - python==3.10.6=ha86cf86_0_cpython\n",
      "   - _libgcc_mutex==0.1=conda_forge\n",
      "   - ca-certificates==2022.9.24=ha878542_0\n",
      "   - ld_impl_linux-64==2.39=hc81fddc_0\n",
      "   - tzdata==2022f=h191b570_0\n",
      "   - libgomp==12.2.0=h65d4601_19\n",
      "   - _openmp_mutex==4.5=2_gnu\n",
      "   - libgcc-ng==12.2.0=h65d4601_19\n",
      "   - bzip2==1.0.8=h7f98852_4\n",
      "   - libffi==3.4.2=h7f98852_5\n",
      "   - libnsl==2.0.0=h7f98852_0\n",
      "   - libuuid==2.32.1=h7f98852_1000\n",
      "   - libzlib==1.2.13=h166bdaf_4\n",
      "   - ncurses==6.3=h27087fc_1\n",
      "   - openssl==3.0.7=h166bdaf_0\n",
      "   - xz==5.2.6=h166bdaf_0\n",
      "   - yaml==0.2.5=h7f98852_2\n",
      "   - libsqlite==3.40.0=h753d276_0\n",
      "   - readline==8.1.2=h0f457ee_0\n",
      "   - tk==8.6.12=h27826a3_0\n",
      "   - certifi==2022.9.24=pyhd8ed1ab_0\n",
      "   - charset-normalizer==2.1.1=pyhd8ed1ab_0\n",
      "   - colorama==0.4.6=pyhd8ed1ab_0\n",
      "   - idna==3.4=pyhd8ed1ab_0\n",
      "   - pycparser==2.21=pyhd8ed1ab_0\n",
      "   - pysocks==1.7.1=pyha2e5f31_6\n",
      "   - python_abi==3.10=2_cp310\n",
      "   - setuptools==65.5.1=pyhd8ed1ab_0\n",
      "   - toolz==0.12.0=pyhd8ed1ab_0\n",
      "   - wheel==0.38.4=pyhd8ed1ab_0\n",
      "   - cffi==1.15.1=py310h255011f_2\n",
      "   - pip==22.3.1=pyhd8ed1ab_0\n",
      "   - pycosat==0.6.4=py310h5764c6d_1\n",
      "   - ruamel_yaml==0.15.80=py310h5764c6d_1008\n",
      "   - tqdm==4.64.1=pyhd8ed1ab_0\n",
      "   - brotlipy==0.7.0=py310h5764c6d_1005\n",
      "   - conda-package-handling==1.9.0=py310h5764c6d_1\n",
      "   - cryptography==38.0.3=py310h600f1e7_0\n",
      "   - pyopenssl==22.1.0=pyhd8ed1ab_0\n",
      "   - urllib3==1.26.11=pyhd8ed1ab_0\n",
      "   - requests==2.28.1=pyhd8ed1ab_1\n",
      "   - conda==22.9.0=py310hff52083_2\n",
      "\n",
      "\n"
     ]
    },
    {
     "name": "stdout",
     "output_type": "stream",
     "text": [
      "  Package                     Version  Build               Channel                    Size\n",
      "────────────────────────────────────────────────────────────────────────────────────────────\n",
      "  Install:\n",
      "────────────────────────────────────────────────────────────────────────────────────────────\n",
      "\n",
      "  + _libgcc_mutex                 0.1  conda_forge         conda-forge/linux-64     Cached\n",
      "  + _openmp_mutex                 4.5  2_gnu               conda-forge/linux-64     Cached\n",
      "  + brotlipy                    0.7.0  py310h5764c6d_1005  conda-forge/linux-64     Cached\n",
      "  + bzip2                       1.0.8  h7f98852_4          conda-forge/linux-64     Cached\n",
      "  + ca-certificates         2022.9.24  ha878542_0          conda-forge/linux-64     Cached\n",
      "  + certifi                 2022.9.24  pyhd8ed1ab_0        conda-forge/noarch       Cached\n",
      "  + cffi                       1.15.1  py310h255011f_2     conda-forge/linux-64     Cached\n",
      "  + charset-normalizer          2.1.1  pyhd8ed1ab_0        conda-forge/noarch       Cached\n",
      "  + colorama                    0.4.6  pyhd8ed1ab_0        conda-forge/noarch       Cached\n",
      "  + conda                      22.9.0  py310hff52083_2     conda-forge/linux-64     Cached\n",
      "  + conda-package-handling      1.9.0  py310h5764c6d_1     conda-forge/linux-64     Cached\n",
      "  + cryptography               38.0.3  py310h600f1e7_0     conda-forge/linux-64     Cached\n",
      "  + idna                          3.4  pyhd8ed1ab_0        conda-forge/noarch       Cached\n",
      "  + ld_impl_linux-64             2.39  hc81fddc_0          conda-forge/linux-64     Cached\n",
      "  + libffi                      3.4.2  h7f98852_5          conda-forge/linux-64     Cached\n",
      "  + libgcc-ng                  12.2.0  h65d4601_19         conda-forge/linux-64     Cached\n",
      "  + libgomp                    12.2.0  h65d4601_19         conda-forge/linux-64     Cached\n",
      "  + libnsl                      2.0.0  h7f98852_0          conda-forge/linux-64     Cached\n",
      "  + libsqlite                  3.40.0  h753d276_0          conda-forge/linux-64     Cached\n",
      "  + libuuid                    2.32.1  h7f98852_1000       conda-forge/linux-64     Cached\n",
      "  + libzlib                    1.2.13  h166bdaf_4          conda-forge/linux-64     Cached\n",
      "  + ncurses                       6.3  h27087fc_1          conda-forge/linux-64     Cached\n",
      "  + openssl                     3.0.7  h166bdaf_0          conda-forge/linux-64     Cached\n",
      "  + pip                        22.3.1  pyhd8ed1ab_0        conda-forge/noarch       Cached\n",
      "  + pycosat                     0.6.4  py310h5764c6d_1     conda-forge/linux-64     Cached\n",
      "  + pycparser                    2.21  pyhd8ed1ab_0        conda-forge/noarch       Cached\n",
      "  + pyopenssl                  22.1.0  pyhd8ed1ab_0        conda-forge/noarch       Cached\n",
      "  + pysocks                     1.7.1  pyha2e5f31_6        conda-forge/noarch       Cached\n",
      "  + python                     3.10.6  ha86cf86_0_cpython  conda-forge/linux-64     Cached\n",
      "  + python_abi                   3.10  2_cp310             conda-forge/linux-64     Cached\n",
      "  + readline                    8.1.2  h0f457ee_0          conda-forge/linux-64     Cached\n",
      "  + requests                   2.28.1  pyhd8ed1ab_1        conda-forge/noarch       Cached\n",
      "  + ruamel_yaml               0.15.80  py310h5764c6d_1008  conda-forge/linux-64     Cached\n",
      "  + setuptools                 65.5.1  pyhd8ed1ab_0        conda-forge/noarch       Cached\n",
      "  + tk                         8.6.12  h27826a3_0          conda-forge/linux-64     Cached\n",
      "  + toolz                      0.12.0  pyhd8ed1ab_0        conda-forge/noarch       Cached\n",
      "  + tqdm                       4.64.1  pyhd8ed1ab_0        conda-forge/noarch       Cached\n",
      "  + tzdata                      2022f  h191b570_0          conda-forge/noarch       Cached\n",
      "  + urllib3                   1.26.11  pyhd8ed1ab_0        conda-forge/noarch       Cached\n",
      "  + wheel                      0.38.4  pyhd8ed1ab_0        conda-forge/noarch       Cached\n",
      "  + xz                          5.2.6  h166bdaf_0          conda-forge/linux-64     Cached\n",
      "  + yaml                        0.2.5  h7f98852_2          conda-forge/linux-64     Cached\n",
      "\n",
      "  Summary:\n",
      "\n",
      "  Install: 42 packages\n",
      "\n",
      "  Total download: 0 B\n",
      "\n",
      "────────────────────────────────────────────────────────────────────────────────────────────\n",
      "\n",
      "\n",
      "Transaction starting\n",
      "Linking _libgcc_mutex-0.1-conda_forge\n",
      "Linking ca-certificates-2022.9.24-ha878542_0\n",
      "Linking ld_impl_linux-64-2.39-hc81fddc_0\n",
      "Linking libgomp-12.2.0-h65d4601_19\n",
      "Linking _openmp_mutex-4.5-2_gnu\n",
      "Linking libgcc-ng-12.2.0-h65d4601_19\n",
      "Linking yaml-0.2.5-h7f98852_2\n",
      "Linking xz-5.2.6-h166bdaf_0\n"
     ]
    },
    {
     "name": "stdout",
     "output_type": "stream",
     "text": [
      "Linking openssl-3.0.7-h166bdaf_0\n",
      "Linking ncurses-6.3-h27087fc_1\n"
     ]
    },
    {
     "name": "stdout",
     "output_type": "stream",
     "text": [
      "Linking libzlib-1.2.13-h166bdaf_4\n",
      "Linking libuuid-2.32.1-h7f98852_1000\n",
      "Linking libnsl-2.0.0-h7f98852_0\n",
      "Linking libffi-3.4.2-h7f98852_5\n",
      "Linking bzip2-1.0.8-h7f98852_4\n",
      "Linking readline-8.1.2-h0f457ee_0\n",
      "Linking tk-8.6.12-h27826a3_0\n"
     ]
    },
    {
     "name": "stdout",
     "output_type": "stream",
     "text": [
      "Linking libsqlite-3.40.0-h753d276_0\n",
      "Linking tzdata-2022f-h191b570_0\n"
     ]
    },
    {
     "name": "stdout",
     "output_type": "stream",
     "text": [
      "Linking python-3.10.6-ha86cf86_0_cpython\n"
     ]
    },
    {
     "name": "stdout",
     "output_type": "stream",
     "text": [
      "Linking wheel-0.38.4-pyhd8ed1ab_0\n"
     ]
    },
    {
     "name": "stdout",
     "output_type": "stream",
     "text": [
      "Linking setuptools-65.5.1-pyhd8ed1ab_0\n"
     ]
    },
    {
     "name": "stdout",
     "output_type": "stream",
     "text": [
      "Linking pip-22.3.1-pyhd8ed1ab_0\n"
     ]
    },
    {
     "name": "stdout",
     "output_type": "stream",
     "text": [
      "Linking toolz-0.12.0-pyhd8ed1ab_0\n"
     ]
    },
    {
     "name": "stdout",
     "output_type": "stream",
     "text": [
      "Linking pysocks-1.7.1-pyha2e5f31_6\n",
      "Linking pycparser-2.21-pyhd8ed1ab_0\n",
      "Linking idna-3.4-pyhd8ed1ab_0\n",
      "Linking colorama-0.4.6-pyhd8ed1ab_0\n",
      "Linking charset-normalizer-2.1.1-pyhd8ed1ab_0\n",
      "Linking certifi-2022.9.24-pyhd8ed1ab_0\n",
      "Linking tqdm-4.64.1-pyhd8ed1ab_0\n",
      "Linking python_abi-3.10-2_cp310\n",
      "Linking conda-package-handling-1.9.0-py310h5764c6d_1\n"
     ]
    },
    {
     "name": "stdout",
     "output_type": "stream",
     "text": [
      "Linking ruamel_yaml-0.15.80-py310h5764c6d_1008\n",
      "Linking pycosat-0.6.4-py310h5764c6d_1\n",
      "Linking cffi-1.15.1-py310h255011f_2\n",
      "Linking cryptography-38.0.3-py310h600f1e7_0\n",
      "Linking brotlipy-0.7.0-py310h5764c6d_1005\n"
     ]
    },
    {
     "name": "stdout",
     "output_type": "stream",
     "text": [
      "Linking pyopenssl-22.1.0-pyhd8ed1ab_0\n",
      "Linking urllib3-1.26.11-pyhd8ed1ab_0\n",
      "Linking requests-2.28.1-pyhd8ed1ab_1\n",
      "Linking conda-22.9.0-py310hff52083_2\n"
     ]
    },
    {
     "name": "stdout",
     "output_type": "stream",
     "text": [
      "Transaction finished\n"
     ]
    },
    {
     "name": "stdout",
     "output_type": "stream",
     "text": [
      "installation finished.\n"
     ]
    },
    {
     "name": "stderr",
     "output_type": "stream",
     "text": [
      "┌ Info: Running `conda update -y --all conda` in root environment\n",
      "└ @ Conda /root/.julia/packages/Conda/x2UxR/src/Conda.jl:127\n"
     ]
    },
    {
     "name": "stdout",
     "output_type": "stream",
     "text": [
      "Collecting package metadata (current_repodata.json): ...working... "
     ]
    },
    {
     "name": "stdout",
     "output_type": "stream",
     "text": [
      "done\n",
      "Solving environment: ...working... "
     ]
    },
    {
     "name": "stdout",
     "output_type": "stream",
     "text": [
      "done\n"
     ]
    },
    {
     "name": "stdout",
     "output_type": "stream",
     "text": [
      "\n",
      "## Package Plan ##\n",
      "\n",
      "  environment location: /root/.julia/conda/3\n",
      "\n",
      "  added / updated specs:\n",
      "    - conda\n",
      "\n",
      "\n",
      "The following packages will be downloaded:\n",
      "\n",
      "    package                    |            build\n",
      "    ---------------------------|-----------------\n",
      "    ca-certificates-2022.12.7  |       ha878542_0         143 KB  conda-forge\n",
      "    certifi-2022.12.7          |     pyhd8ed1ab_0         147 KB  conda-forge\n",
      "    cffi-1.15.1                |  py310h255011f_3         231 KB  conda-forge\n",
      "    conda-22.11.1              |  py310hff52083_1         913 KB  conda-forge\n",
      "    conda-package-handling-2.0.2|     pyh38be061_0         247 KB  conda-forge\n",
      "    conda-package-streaming-0.7.0|     pyhd8ed1ab_1          17 KB  conda-forge\n",
      "    cryptography-39.0.0        |  py310h34c0648_0         1.4 MB  conda-forge\n",
      "    ld_impl_linux-64-2.39      |       hcc3a1bd_1         675 KB  conda-forge\n",
      "    libstdcxx-ng-12.2.0        |      h46fd767_19         4.3 MB  conda-forge\n",
      "    openssl-3.0.7              |       h0b41bf4_1         2.5 MB  conda-forge\n",
      "    pluggy-1.0.0               |     pyhd8ed1ab_5          16 KB  conda-forge\n",
      "    pyopenssl-23.0.0           |     pyhd8ed1ab_0         124 KB  conda-forge\n",
      "    python-3.10.8              |h4a9ceb5_0_cpython        22.1 MB  conda-forge\n",
      "    python_abi-3.10            |          3_cp310           6 KB  conda-forge\n",
      "    ruamel.yaml-0.17.21        |  py310h5764c6d_2         175 KB  conda-forge\n",
      "    ruamel.yaml.clib-0.2.7     |  py310h1fa729e_1         132 KB  conda-forge\n",
      "    setuptools-65.6.3          |     pyhd8ed1ab_0         619 KB  conda-forge\n",
      "    tzdata-2022g               |       h191b570_0         106 KB  conda-forge\n",
      "    urllib3-1.26.13            |     pyhd8ed1ab_0         108 KB  conda-forge\n",
      "    zstandard-0.19.0           |  py310hdeb6495_1         373 KB  conda-forge\n",
      "    zstd-1.5.2                 |       h6239696_4         448 KB  conda-forge\n",
      "    ------------------------------------------------------------\n",
      "                                           Total:        34.6 MB\n",
      "\n",
      "The following NEW packages will be INSTALLED:\n",
      "\n",
      "  conda-package-str~ conda-forge/noarch::conda-package-streaming-0.7.0-pyhd8ed1ab_1 None\n",
      "  libstdcxx-ng       conda-forge/linux-64::libstdcxx-ng-12.2.0-h46fd767_19 None\n",
      "  pluggy             conda-forge/noarch::pluggy-1.0.0-pyhd8ed1ab_5 None\n",
      "  ruamel.yaml        conda-forge/linux-64::ruamel.yaml-0.17.21-py310h5764c6d_2 None\n",
      "  ruamel.yaml.clib   conda-forge/linux-64::ruamel.yaml.clib-0.2.7-py310h1fa729e_1 None\n",
      "  zstandard          conda-forge/linux-64::zstandard-0.19.0-py310hdeb6495_1 None\n",
      "  zstd               conda-forge/linux-64::zstd-1.5.2-h6239696_4 None\n",
      "\n",
      "The following packages will be REMOVED:\n",
      "\n",
      "  ruamel_yaml-0.15.80-py310h5764c6d_1008\n",
      "  yaml-0.2.5-h7f98852_2\n",
      "\n",
      "The following packages will be UPDATED:\n",
      "\n",
      "  ca-certificates                      2022.9.24-ha878542_0 --> 2022.12.7-ha878542_0 None\n",
      "  certifi                            2022.9.24-pyhd8ed1ab_0 --> 2022.12.7-pyhd8ed1ab_0 None\n",
      "  cffi                               1.15.1-py310h255011f_2 --> 1.15.1-py310h255011f_3 None\n",
      "  conda                              22.9.0-py310hff52083_2 --> 22.11.1-py310hff52083_1 None\n",
      "  conda-package-han~ conda-forge/linux-64::conda-package-h~ --> conda-forge/noarch::conda-package-handling-2.0.2-pyh38be061_0 None\n",
      "  cryptography                       38.0.3-py310h600f1e7_0 --> 39.0.0-py310h34c0648_0 None\n",
      "  ld_impl_linux-64                          2.39-hc81fddc_0 --> 2.39-hcc3a1bd_1 None\n",
      "  openssl                                  3.0.7-h166bdaf_0 --> 3.0.7-h0b41bf4_1 None\n",
      "  pyopenssl                             22.1.0-pyhd8ed1ab_0 --> 23.0.0-pyhd8ed1ab_0 None\n",
      "  python                          3.10.6-ha86cf86_0_cpython --> 3.10.8-h4a9ceb5_0_cpython None\n",
      "  python_abi                                   3.10-2_cp310 --> 3.10-3_cp310 None\n",
      "  setuptools                            65.5.1-pyhd8ed1ab_0 --> 65.6.3-pyhd8ed1ab_0 None\n",
      "  tzdata                                   2022f-h191b570_0 --> 2022g-h191b570_0 None\n",
      "  urllib3                              1.26.11-pyhd8ed1ab_0 --> 1.26.13-pyhd8ed1ab_0 None\n",
      "\n",
      "\n",
      "\n",
      "Downloading and Extracting Packages\n",
      "\rcertifi-2022.12.7    | 147 KB    |            |   0% "
     ]
    },
    {
     "name": "stdout",
     "output_type": "stream",
     "text": [
      "\rcertifi-2022.12.7    | 147 KB    | #          |  11% \rcertifi-2022.12.7    | 147 KB    | ##1        |  22% "
     ]
    },
    {
     "name": "stdout",
     "output_type": "stream",
     "text": [
      "\rcertifi-2022.12.7    | 147 KB    | ########## | 100% \rcertifi-2022.12.7    | 147 KB    | ########## | 100% \n",
      "\rpyopenssl-23.0.0     | 124 KB    |            |   0% \rpyopenssl-23.0.0     | 124 KB    | ########## | 100% \n",
      "\rca-certificates-2022 | 143 KB    |            |   0% "
     ]
    },
    {
     "name": "stdout",
     "output_type": "stream",
     "text": [
      "\rca-certificates-2022 | 143 KB    | ########## | 100% \n",
      "\rld_impl_linux-64-2.3 | 675 KB    |            |   0% "
     ]
    },
    {
     "name": "stdout",
     "output_type": "stream",
     "text": [
      "\rld_impl_linux-64-2.3 | 675 KB    | ########## | 100% \rld_impl_linux-64-2.3 | 675 KB    | ########## | 100% \n",
      "\rpluggy-1.0.0         | 16 KB     |            |   0% \rpluggy-1.0.0         | 16 KB     | ########## | 100% \n",
      "\rconda-package-handli | 247 KB    |            |   0% "
     ]
    },
    {
     "name": "stdout",
     "output_type": "stream",
     "text": [
      "\rconda-package-handli | 247 KB    | ########## | 100% \rconda-package-handli | 247 KB    | ########## | 100% \n",
      "\rruamel.yaml-0.17.21  | 175 KB    |            |   0% "
     ]
    },
    {
     "name": "stdout",
     "output_type": "stream",
     "text": [
      "\rruamel.yaml-0.17.21  | 175 KB    | ########## | 100% \rruamel.yaml-0.17.21  | 175 KB    | ########## | 100% \n",
      "\rcffi-1.15.1          | 231 KB    |            |   0% \rcffi-1.15.1          | 231 KB    | ########## | 100% "
     ]
    },
    {
     "name": "stdout",
     "output_type": "stream",
     "text": [
      "\n",
      "\rzstd-1.5.2           | 448 KB    |            |   0% "
     ]
    },
    {
     "name": "stdout",
     "output_type": "stream",
     "text": [
      "\rzstd-1.5.2           | 448 KB    | ########## | 100% \rzstd-1.5.2           | 448 KB    | ########## | 100% \n",
      "\rzstandard-0.19.0     | 373 KB    |            |   0% "
     ]
    },
    {
     "name": "stdout",
     "output_type": "stream",
     "text": [
      "\rzstandard-0.19.0     | 373 KB    | ########## | 100% \n",
      "\rurllib3-1.26.13      | 108 KB    |            |   0% \rurllib3-1.26.13      | 108 KB    | ########## | 100% \n",
      "\rlibstdcxx-ng-12.2.0  | 4.3 MB    |            |   0% "
     ]
    },
    {
     "name": "stdout",
     "output_type": "stream",
     "text": [
      "\rlibstdcxx-ng-12.2.0  | 4.3 MB    | ##2        |  23% "
     ]
    },
    {
     "name": "stdout",
     "output_type": "stream",
     "text": [
      "\rlibstdcxx-ng-12.2.0  | 4.3 MB    | #####4     |  54% "
     ]
    },
    {
     "name": "stdout",
     "output_type": "stream",
     "text": [
      "\rlibstdcxx-ng-12.2.0  | 4.3 MB    | ########5  |  85% "
     ]
    },
    {
     "name": "stdout",
     "output_type": "stream",
     "text": [
      "\rlibstdcxx-ng-12.2.0  | 4.3 MB    | ########## | 100% \n",
      "\rconda-package-stream | 17 KB     |            |   0% "
     ]
    },
    {
     "name": "stdout",
     "output_type": "stream",
     "text": [
      "\rconda-package-stream | 17 KB     | ########## | 100% \n",
      "\rconda-22.11.1        | 913 KB    |            |   0% "
     ]
    },
    {
     "name": "stdout",
     "output_type": "stream",
     "text": [
      "\rconda-22.11.1        | 913 KB    | ########## | 100% \rconda-22.11.1        | 913 KB    | ########## | 100% \n",
      "\rruamel.yaml.clib-0.2 | 132 KB    |            |   0% \rruamel.yaml.clib-0.2 | 132 KB    | ########## | 100% \n",
      "\ropenssl-3.0.7        | 2.5 MB    |            |   0% "
     ]
    },
    {
     "name": "stdout",
     "output_type": "stream",
     "text": [
      "\ropenssl-3.0.7        | 2.5 MB    | ###8       |  38% "
     ]
    },
    {
     "name": "stdout",
     "output_type": "stream",
     "text": [
      "\ropenssl-3.0.7        | 2.5 MB    | #########5 |  95% \ropenssl-3.0.7        | 2.5 MB    | ########## | 100% \n",
      "\rsetuptools-65.6.3    | 619 KB    |            |   0% "
     ]
    },
    {
     "name": "stdout",
     "output_type": "stream",
     "text": [
      "\rsetuptools-65.6.3    | 619 KB    | ########## | 100% \rsetuptools-65.6.3    | 619 KB    | ########## | 100% \n",
      "\rpython_abi-3.10      | 6 KB      |            |   0% "
     ]
    },
    {
     "name": "stdout",
     "output_type": "stream",
     "text": [
      "\rpython_abi-3.10      | 6 KB      | ########## | 100% \n",
      "\rtzdata-2022g         | 106 KB    |            |   0% "
     ]
    },
    {
     "name": "stdout",
     "output_type": "stream",
     "text": [
      "\rtzdata-2022g         | 106 KB    | ########## | 100% \n",
      "\rpython-3.10.8        | 22.1 MB   |            |   0% "
     ]
    },
    {
     "name": "stdout",
     "output_type": "stream",
     "text": [
      "\rpython-3.10.8        | 22.1 MB   | 3          |   3% "
     ]
    },
    {
     "name": "stdout",
     "output_type": "stream",
     "text": [
      "\rpython-3.10.8        | 22.1 MB   | 9          |   9% "
     ]
    },
    {
     "name": "stdout",
     "output_type": "stream",
     "text": [
      "\rpython-3.10.8        | 22.1 MB   | #4         |  14% "
     ]
    },
    {
     "name": "stdout",
     "output_type": "stream",
     "text": [
      "\rpython-3.10.8        | 22.1 MB   | #9         |  19% "
     ]
    },
    {
     "name": "stdout",
     "output_type": "stream",
     "text": [
      "\rpython-3.10.8        | 22.1 MB   | ##4        |  24% "
     ]
    },
    {
     "name": "stdout",
     "output_type": "stream",
     "text": [
      "\rpython-3.10.8        | 22.1 MB   | ##9        |  30% "
     ]
    },
    {
     "name": "stdout",
     "output_type": "stream",
     "text": [
      "\rpython-3.10.8        | 22.1 MB   | ###5       |  35% "
     ]
    },
    {
     "name": "stdout",
     "output_type": "stream",
     "text": [
      "\rpython-3.10.8        | 22.1 MB   | ####       |  41% "
     ]
    },
    {
     "name": "stdout",
     "output_type": "stream",
     "text": [
      "\rpython-3.10.8        | 22.1 MB   | ####6      |  46% "
     ]
    },
    {
     "name": "stdout",
     "output_type": "stream",
     "text": [
      "\rpython-3.10.8        | 22.1 MB   | #####2     |  52% "
     ]
    },
    {
     "name": "stdout",
     "output_type": "stream",
     "text": [
      "\rpython-3.10.8        | 22.1 MB   | #####8     |  58% "
     ]
    },
    {
     "name": "stdout",
     "output_type": "stream",
     "text": [
      "\rpython-3.10.8        | 22.1 MB   | ######4    |  64% "
     ]
    },
    {
     "name": "stdout",
     "output_type": "stream",
     "text": [
      "\rpython-3.10.8        | 22.1 MB   | ######8    |  69% "
     ]
    },
    {
     "name": "stdout",
     "output_type": "stream",
     "text": [
      "\rpython-3.10.8        | 22.1 MB   | #######3   |  74% "
     ]
    },
    {
     "name": "stdout",
     "output_type": "stream",
     "text": [
      "\rpython-3.10.8        | 22.1 MB   | #######7   |  78% "
     ]
    },
    {
     "name": "stdout",
     "output_type": "stream",
     "text": [
      "\rpython-3.10.8        | 22.1 MB   | ########3  |  84% "
     ]
    },
    {
     "name": "stdout",
     "output_type": "stream",
     "text": [
      "\rpython-3.10.8        | 22.1 MB   | #########  |  90% "
     ]
    },
    {
     "name": "stdout",
     "output_type": "stream",
     "text": [
      "\rpython-3.10.8        | 22.1 MB   | #########4 |  95% "
     ]
    },
    {
     "name": "stdout",
     "output_type": "stream",
     "text": [
      "\rpython-3.10.8        | 22.1 MB   | #########9 | 100% "
     ]
    },
    {
     "name": "stdout",
     "output_type": "stream",
     "text": [
      "\rpython-3.10.8        | 22.1 MB   | ########## | 100% \n",
      "\rcryptography-39.0.0  | 1.4 MB    |            |   0% "
     ]
    },
    {
     "name": "stdout",
     "output_type": "stream",
     "text": [
      "\rcryptography-39.0.0  | 1.4 MB    | #8         |  18% "
     ]
    },
    {
     "name": "stdout",
     "output_type": "stream",
     "text": [
      "\rcryptography-39.0.0  | 1.4 MB    | ########## | 100% \rcryptography-39.0.0  | 1.4 MB    | ########## | 100% \n",
      "Preparing transaction: ...working... "
     ]
    },
    {
     "name": "stdout",
     "output_type": "stream",
     "text": [
      "done\n",
      "Verifying transaction: ...working... "
     ]
    },
    {
     "name": "stdout",
     "output_type": "stream",
     "text": [
      "done\n",
      "Executing transaction: ...working... "
     ]
    },
    {
     "name": "stdout",
     "output_type": "stream",
     "text": [
      "done\n"
     ]
    },
    {
     "name": "stdout",
     "output_type": "stream",
     "text": [
      "Retrieving notices: ...working... "
     ]
    },
    {
     "name": "stdout",
     "output_type": "stream",
     "text": [
      "done\n"
     ]
    },
    {
     "name": "stderr",
     "output_type": "stream",
     "text": [
      "\u001b[32m\u001b[1m    Building\u001b[22m\u001b[39m Conda ─→ `~/.julia/scratchspaces/44cfe95a-1eb2-52ea-b672-e2afdf69b78f/6e47d11ea2776bc5627421d59cdcc1296c058071/build.log`\n"
     ]
    },
    {
     "name": "stderr",
     "output_type": "stream",
     "text": [
      "\u001b[32m\u001b[1m    Building\u001b[22m\u001b[39m PyCall → `~/.julia/scratchspaces/44cfe95a-1eb2-52ea-b672-e2afdf69b78f/62f417f6ad727987c755549e9cd88c46578da562/build.log`\n"
     ]
    },
    {
     "name": "stderr",
     "output_type": "stream",
     "text": [
      "\u001b[32m\u001b[1mPrecompiling\u001b[22m\u001b[39m "
     ]
    },
    {
     "name": "stderr",
     "output_type": "stream",
     "text": [
      "project...\n"
     ]
    },
    {
     "name": "stderr",
     "output_type": "stream",
     "text": [
      "\u001b[33m  ✓ \u001b[39m\u001b[90mPyCall\u001b[39m\n"
     ]
    },
    {
     "name": "stderr",
     "output_type": "stream",
     "text": [
      "\u001b[33m  ✓ \u001b[39mPyPlot\n",
      "  2 dependencies successfully precompiled in 85 seconds. 278 already precompiled. 2 skipped during auto due to previous errors.\n",
      "  \u001b[33m2\u001b[39m dependencies precompiled but different versions are currently loaded. Restart julia to access the new versions\n"
     ]
    }
   ],
   "source": [
    "import Pkg\n",
    "Pkg.add(\"Conda\")\n",
    "import Conda\n",
    "Conda.update()\n",
    "Pkg.build(\"PyPlot\")"
   ]
  },
  {
   "cell_type": "code",
   "execution_count": 7,
   "metadata": {},
   "outputs": [
    {
     "ename": "ErrorException",
     "evalue": "syntax: extra token \"update\" after end of expression",
     "output_type": "error",
     "traceback": [
      "syntax: extra token \"update\" after end of expression\n",
      "\n",
      "Stacktrace:\n",
      " [1] top-level scope\n",
      "   @ ~/statistical-learning/julia_study/230109_02/03.ipynb:1"
     ]
    }
   ],
   "source": [
    "!apt update\n",
    "!apt upgrade"
   ]
  },
  {
   "cell_type": "code",
   "execution_count": 8,
   "metadata": {},
   "outputs": [],
   "source": [
    "using PyPlot, Plots"
   ]
  },
  {
   "cell_type": "code",
   "execution_count": 9,
   "metadata": {},
   "outputs": [
    {
     "name": "stderr",
     "output_type": "stream",
     "text": [
      "┌ Warning: You are using Matplotlib 0.0.0, which is no longer\n",
      "│ officialy supported by the Plots community. To ensure smooth Plots.jl\n",
      "│ integration update your Matplotlib library to a version >= 3.4.0\n",
      "│ \n",
      "│ If you have used Conda.jl to install PyPlot (default installation),\n",
      "│ upgrade your matplotlib via Conda.jl and rebuild the PyPlot.\n",
      "│ \n",
      "│ If you are not sure, here are the default instructions:\n",
      "│ \n",
      "│ In Julia REPL:\n",
      "│ ```\n",
      "│ import Pkg;\n",
      "│ Pkg.add(\"Conda\")\n",
      "│ import Conda\n",
      "│ Conda.update()\n",
      "│ Pkg.build(\"PyPlot\")\n",
      "│ ```\n",
      "└ @ Plots /root/.julia/packages/Plots/nqFaB/src/backends/deprecated/pyplot.jl:16\n"
     ]
    },
    {
     "ename": "ArgumentError",
     "evalue": "ArgumentError: hasproperty of NULL PyObject",
     "output_type": "error",
     "traceback": [
      "ArgumentError: hasproperty of NULL PyObject\n",
      "\n",
      "Stacktrace:\n",
      " [1] pyhasproperty(o::PyCall.PyObject, s::String)\n",
      "   @ PyCall ~/.julia/packages/PyCall/twYvK/src/PyCall.jl:371\n",
      " [2] hasproperty\n",
      "   @ ~/.julia/packages/PyCall/twYvK/src/PyCall.jl:377 [inlined]\n",
      " [3] ioff(; kws::Base.Pairs{Symbol, Union{}, Tuple{}, NamedTuple{(), Tuple{}}})\n",
      "   @ PyPlot ~/.julia/packages/PyPlot/NsAWt/src/PyPlot.jl:191\n",
      " [4] ioff()\n",
      "   @ PyPlot ~/.julia/packages/PyPlot/NsAWt/src/PyPlot.jl:190\n",
      " [5] top-level scope\n",
      "   @ ~/.julia/packages/Plots/nqFaB/src/backends.jl:804"
     ]
    }
   ],
   "source": [
    "pyplot()"
   ]
  },
  {
   "cell_type": "code",
   "execution_count": null,
   "metadata": {},
   "outputs": [],
   "source": [
    "using CSV\n",
    "using DataFrames\n",
    "train = DataFrame(CSV.File(\"train.csv\"))"
   ]
  },
  {
   "cell_type": "code",
   "execution_count": null,
   "metadata": {},
   "outputs": [],
   "source": [
    "dropna(train[!,\"ApplicantIncome\"])"
   ]
  },
  {
   "cell_type": "code",
   "execution_count": null,
   "metadata": {},
   "outputs": [],
   "source": [
    "Plots.histogram()"
   ]
  },
  {
   "cell_type": "code",
   "execution_count": null,
   "metadata": {},
   "outputs": [],
   "source": []
  },
  {
   "cell_type": "code",
   "execution_count": null,
   "metadata": {},
   "outputs": [],
   "source": []
  },
  {
   "cell_type": "code",
   "execution_count": null,
   "metadata": {},
   "outputs": [],
   "source": []
  },
  {
   "cell_type": "code",
   "execution_count": null,
   "metadata": {},
   "outputs": [],
   "source": []
  },
  {
   "cell_type": "code",
   "execution_count": null,
   "metadata": {},
   "outputs": [],
   "source": []
  },
  {
   "cell_type": "code",
   "execution_count": null,
   "metadata": {},
   "outputs": [],
   "source": []
  },
  {
   "cell_type": "code",
   "execution_count": null,
   "metadata": {},
   "outputs": [],
   "source": []
  },
  {
   "cell_type": "code",
   "execution_count": null,
   "metadata": {},
   "outputs": [],
   "source": []
  },
  {
   "cell_type": "code",
   "execution_count": null,
   "metadata": {},
   "outputs": [],
   "source": []
  },
  {
   "cell_type": "code",
   "execution_count": null,
   "metadata": {},
   "outputs": [],
   "source": []
  },
  {
   "cell_type": "code",
   "execution_count": null,
   "metadata": {},
   "outputs": [],
   "source": []
  },
  {
   "cell_type": "code",
   "execution_count": null,
   "metadata": {},
   "outputs": [],
   "source": []
  }
 ],
 "metadata": {
  "kernelspec": {
   "display_name": "Julia 1.8.4",
   "language": "julia",
   "name": "julia-1.8"
  },
  "language_info": {
   "file_extension": ".jl",
   "mimetype": "application/julia",
   "name": "julia",
   "version": "1.8.4"
  },
  "orig_nbformat": 4
 },
 "nbformat": 4,
 "nbformat_minor": 2
}
