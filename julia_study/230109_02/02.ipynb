{
 "cells": [
  {
   "cell_type": "code",
   "execution_count": 1,
   "metadata": {},
   "outputs": [],
   "source": [
    "using Pkg"
   ]
  },
  {
   "cell_type": "code",
   "execution_count": 2,
   "metadata": {},
   "outputs": [
    {
     "name": "stderr",
     "output_type": "stream",
     "text": [
      "\u001b[32m\u001b[1m    Updating\u001b[22m\u001b[39m registry at `~/.julia/registries/General.toml`\n"
     ]
    },
    {
     "name": "stderr",
     "output_type": "stream",
     "text": [
      "\u001b[32m\u001b[1m   Resolving\u001b[22m\u001b[39m package versions...\n"
     ]
    },
    {
     "name": "stderr",
     "output_type": "stream",
     "text": [
      "\u001b[32m\u001b[1m   Installed\u001b[22m\u001b[39m InlineStrings ─── v1.3.2\n",
      "\u001b[32m\u001b[1m   Installed\u001b[22m\u001b[39m SentinelArrays ── v1.3.16\n",
      "\u001b[32m\u001b[1m   Installed\u001b[22m\u001b[39m CodecZlib ─────── v0.7.0\n",
      "\u001b[32m\u001b[1m   Installed\u001b[22m\u001b[39m WorkerUtilities ─ v1.6.1\n",
      "\u001b[32m\u001b[1m   Installed\u001b[22m\u001b[39m WeakRefStrings ── v1.4.2\n",
      "\u001b[32m\u001b[1m   Installed\u001b[22m\u001b[39m FilePathsBase ─── v0.9.20\n"
     ]
    },
    {
     "name": "stderr",
     "output_type": "stream",
     "text": [
      "\u001b[32m\u001b[1m   Installed\u001b[22m\u001b[39m CSV ───────────── v0.10.9\n"
     ]
    },
    {
     "name": "stderr",
     "output_type": "stream",
     "text": [
      "\u001b[32m\u001b[1m    Updating\u001b[22m\u001b[39m `~/.julia/environments/v1.8/Project.toml`\n",
      " \u001b[90m [336ed68f] \u001b[39m\u001b[92m+ CSV v0.10.9\u001b[39m\n",
      "\u001b[32m\u001b[1m    Updating\u001b[22m\u001b[39m `~/.julia/environments/v1.8/Manifest.toml`\n"
     ]
    },
    {
     "name": "stderr",
     "output_type": "stream",
     "text": [
      " \u001b[90m [336ed68f] \u001b[39m\u001b[92m+ CSV v0.10.9\u001b[39m\n",
      " \u001b[90m [944b1d66] \u001b[39m\u001b[92m+ CodecZlib v0.7.0\u001b[39m\n",
      " \u001b[90m [48062228] \u001b[39m\u001b[92m+ FilePathsBase v0.9.20\u001b[39m\n",
      " \u001b[90m [842dd82b] \u001b[39m\u001b[92m+ InlineStrings v1.3.2\u001b[39m\n",
      " \u001b[90m [91c51154] \u001b[39m\u001b[92m+ SentinelArrays v1.3.16\u001b[39m\n",
      " \u001b[90m [ea10d353] \u001b[39m\u001b[92m+ WeakRefStrings v1.4.2\u001b[39m\n",
      " \u001b[90m [76eceee3] \u001b[39m\u001b[92m+ WorkerUtilities v1.6.1\u001b[39m\n"
     ]
    },
    {
     "name": "stderr",
     "output_type": "stream",
     "text": [
      "\u001b[32m\u001b[1mPrecompiling\u001b[22m\u001b[39m "
     ]
    },
    {
     "name": "stderr",
     "output_type": "stream",
     "text": [
      "project...\n"
     ]
    },
    {
     "name": "stderr",
     "output_type": "stream",
     "text": [
      "\u001b[32m  ✓ \u001b[39m\u001b[90mWorkerUtilities\u001b[39m\n"
     ]
    },
    {
     "name": "stderr",
     "output_type": "stream",
     "text": [
      "\u001b[32m  ✓ \u001b[39m\u001b[90mCodecZlib\u001b[39m\n"
     ]
    },
    {
     "name": "stderr",
     "output_type": "stream",
     "text": [
      "\u001b[32m  ✓ \u001b[39m\u001b[90mSentinelArrays\u001b[39m\n"
     ]
    },
    {
     "name": "stderr",
     "output_type": "stream",
     "text": [
      "\u001b[32m  ✓ \u001b[39m\u001b[90mFilePathsBase\u001b[39m\n"
     ]
    },
    {
     "name": "stderr",
     "output_type": "stream",
     "text": [
      "\u001b[32m  ✓ \u001b[39m\u001b[90mInlineStrings\u001b[39m\n"
     ]
    },
    {
     "name": "stderr",
     "output_type": "stream",
     "text": [
      "\u001b[32m  ✓ \u001b[39m\u001b[90mWeakRefStrings\u001b[39m\n"
     ]
    },
    {
     "name": "stderr",
     "output_type": "stream",
     "text": [
      "\u001b[32m  ✓ \u001b[39mCSV\n"
     ]
    },
    {
     "name": "stderr",
     "output_type": "stream",
     "text": [
      "  7 dependencies successfully precompiled in 89 seconds. 228 already precompiled. 2 skipped during auto due to previous errors.\n"
     ]
    }
   ],
   "source": [
    "Pkg.add(\"CSV\")"
   ]
  },
  {
   "cell_type": "code",
   "execution_count": 3,
   "metadata": {},
   "outputs": [],
   "source": [
    "using CSV"
   ]
  },
  {
   "cell_type": "code",
   "execution_count": 8,
   "metadata": {},
   "outputs": [],
   "source": [
    "using DataFrames"
   ]
  },
  {
   "cell_type": "code",
   "execution_count": null,
   "metadata": {},
   "outputs": [],
   "source": [
    "train = DataFrame(CSV.File(\"train.csv\")) \n",
    "# it takes 34 seconds to read the data frame with 614 lines..."
   ]
  },
  {
   "cell_type": "code",
   "execution_count": 11,
   "metadata": {},
   "outputs": [
    {
     "data": {
      "text/html": [
       "<div><div style = \"float: left;\"><span>614×13 DataFrame</span></div><div style = \"float: right;\"><span style = \"font-style: italic;\">589 rows omitted</span></div><div style = \"clear: both;\"></div></div><div class = \"data-frame\" style = \"overflow-x: scroll;\"><table class = \"data-frame\" style = \"margin-bottom: 6px;\"><thead><tr class = \"header\"><th class = \"rowNumber\" style = \"font-weight: bold; text-align: right;\">Row</th><th style = \"text-align: left;\">Loan_ID</th><th style = \"text-align: left;\">Gender</th><th style = \"text-align: left;\">Married</th><th style = \"text-align: left;\">Dependents</th><th style = \"text-align: left;\">Education</th><th style = \"text-align: left;\">Self_Employed</th><th style = \"text-align: left;\">ApplicantIncome</th><th style = \"text-align: left;\">CoapplicantIncome</th><th style = \"text-align: left;\">LoanAmount</th><th style = \"text-align: left;\">Loan_Amount_Term</th><th style = \"text-align: left;\">Credit_History</th><th style = \"text-align: left;\">Property_Area</th><th style = \"text-align: left;\">Loan_Status</th></tr><tr class = \"subheader headerLastRow\"><th class = \"rowNumber\" style = \"font-weight: bold; text-align: right;\"></th><th title = \"String15\" style = \"text-align: left;\">String15</th><th title = \"Union{Missing, String7}\" style = \"text-align: left;\">String7?</th><th title = \"Union{Missing, String3}\" style = \"text-align: left;\">String3?</th><th title = \"Union{Missing, String3}\" style = \"text-align: left;\">String3?</th><th title = \"String15\" style = \"text-align: left;\">String15</th><th title = \"Union{Missing, String3}\" style = \"text-align: left;\">String3?</th><th title = \"Int64\" style = \"text-align: left;\">Int64</th><th title = \"Float64\" style = \"text-align: left;\">Float64</th><th title = \"Union{Missing, Int64}\" style = \"text-align: left;\">Int64?</th><th title = \"Union{Missing, Int64}\" style = \"text-align: left;\">Int64?</th><th title = \"Union{Missing, Int64}\" style = \"text-align: left;\">Int64?</th><th title = \"String15\" style = \"text-align: left;\">String15</th><th title = \"String1\" style = \"text-align: left;\">String1</th></tr></thead><tbody><tr><td class = \"rowNumber\" style = \"font-weight: bold; text-align: right;\">1</td><td style = \"text-align: left;\">LP001002</td><td style = \"text-align: left;\">Male</td><td style = \"text-align: left;\">No</td><td style = \"text-align: left;\">0</td><td style = \"text-align: left;\">Graduate</td><td style = \"text-align: left;\">No</td><td style = \"text-align: right;\">5849</td><td style = \"text-align: right;\">0.0</td><td style = \"font-style: italic; text-align: right;\">missing</td><td style = \"text-align: right;\">360</td><td style = \"text-align: right;\">1</td><td style = \"text-align: left;\">Urban</td><td style = \"text-align: left;\">Y</td></tr><tr><td class = \"rowNumber\" style = \"font-weight: bold; text-align: right;\">2</td><td style = \"text-align: left;\">LP001003</td><td style = \"text-align: left;\">Male</td><td style = \"text-align: left;\">Yes</td><td style = \"text-align: left;\">1</td><td style = \"text-align: left;\">Graduate</td><td style = \"text-align: left;\">No</td><td style = \"text-align: right;\">4583</td><td style = \"text-align: right;\">1508.0</td><td style = \"text-align: right;\">128</td><td style = \"text-align: right;\">360</td><td style = \"text-align: right;\">1</td><td style = \"text-align: left;\">Rural</td><td style = \"text-align: left;\">N</td></tr><tr><td class = \"rowNumber\" style = \"font-weight: bold; text-align: right;\">3</td><td style = \"text-align: left;\">LP001005</td><td style = \"text-align: left;\">Male</td><td style = \"text-align: left;\">Yes</td><td style = \"text-align: left;\">0</td><td style = \"text-align: left;\">Graduate</td><td style = \"text-align: left;\">Yes</td><td style = \"text-align: right;\">3000</td><td style = \"text-align: right;\">0.0</td><td style = \"text-align: right;\">66</td><td style = \"text-align: right;\">360</td><td style = \"text-align: right;\">1</td><td style = \"text-align: left;\">Urban</td><td style = \"text-align: left;\">Y</td></tr><tr><td class = \"rowNumber\" style = \"font-weight: bold; text-align: right;\">4</td><td style = \"text-align: left;\">LP001006</td><td style = \"text-align: left;\">Male</td><td style = \"text-align: left;\">Yes</td><td style = \"text-align: left;\">0</td><td style = \"text-align: left;\">Not Graduate</td><td style = \"text-align: left;\">No</td><td style = \"text-align: right;\">2583</td><td style = \"text-align: right;\">2358.0</td><td style = \"text-align: right;\">120</td><td style = \"text-align: right;\">360</td><td style = \"text-align: right;\">1</td><td style = \"text-align: left;\">Urban</td><td style = \"text-align: left;\">Y</td></tr><tr><td class = \"rowNumber\" style = \"font-weight: bold; text-align: right;\">5</td><td style = \"text-align: left;\">LP001008</td><td style = \"text-align: left;\">Male</td><td style = \"text-align: left;\">No</td><td style = \"text-align: left;\">0</td><td style = \"text-align: left;\">Graduate</td><td style = \"text-align: left;\">No</td><td style = \"text-align: right;\">6000</td><td style = \"text-align: right;\">0.0</td><td style = \"text-align: right;\">141</td><td style = \"text-align: right;\">360</td><td style = \"text-align: right;\">1</td><td style = \"text-align: left;\">Urban</td><td style = \"text-align: left;\">Y</td></tr><tr><td class = \"rowNumber\" style = \"font-weight: bold; text-align: right;\">6</td><td style = \"text-align: left;\">LP001011</td><td style = \"text-align: left;\">Male</td><td style = \"text-align: left;\">Yes</td><td style = \"text-align: left;\">2</td><td style = \"text-align: left;\">Graduate</td><td style = \"text-align: left;\">Yes</td><td style = \"text-align: right;\">5417</td><td style = \"text-align: right;\">4196.0</td><td style = \"text-align: right;\">267</td><td style = \"text-align: right;\">360</td><td style = \"text-align: right;\">1</td><td style = \"text-align: left;\">Urban</td><td style = \"text-align: left;\">Y</td></tr><tr><td class = \"rowNumber\" style = \"font-weight: bold; text-align: right;\">7</td><td style = \"text-align: left;\">LP001013</td><td style = \"text-align: left;\">Male</td><td style = \"text-align: left;\">Yes</td><td style = \"text-align: left;\">0</td><td style = \"text-align: left;\">Not Graduate</td><td style = \"text-align: left;\">No</td><td style = \"text-align: right;\">2333</td><td style = \"text-align: right;\">1516.0</td><td style = \"text-align: right;\">95</td><td style = \"text-align: right;\">360</td><td style = \"text-align: right;\">1</td><td style = \"text-align: left;\">Urban</td><td style = \"text-align: left;\">Y</td></tr><tr><td class = \"rowNumber\" style = \"font-weight: bold; text-align: right;\">8</td><td style = \"text-align: left;\">LP001014</td><td style = \"text-align: left;\">Male</td><td style = \"text-align: left;\">Yes</td><td style = \"text-align: left;\">3+</td><td style = \"text-align: left;\">Graduate</td><td style = \"text-align: left;\">No</td><td style = \"text-align: right;\">3036</td><td style = \"text-align: right;\">2504.0</td><td style = \"text-align: right;\">158</td><td style = \"text-align: right;\">360</td><td style = \"text-align: right;\">0</td><td style = \"text-align: left;\">Semiurban</td><td style = \"text-align: left;\">N</td></tr><tr><td class = \"rowNumber\" style = \"font-weight: bold; text-align: right;\">9</td><td style = \"text-align: left;\">LP001018</td><td style = \"text-align: left;\">Male</td><td style = \"text-align: left;\">Yes</td><td style = \"text-align: left;\">2</td><td style = \"text-align: left;\">Graduate</td><td style = \"text-align: left;\">No</td><td style = \"text-align: right;\">4006</td><td style = \"text-align: right;\">1526.0</td><td style = \"text-align: right;\">168</td><td style = \"text-align: right;\">360</td><td style = \"text-align: right;\">1</td><td style = \"text-align: left;\">Urban</td><td style = \"text-align: left;\">Y</td></tr><tr><td class = \"rowNumber\" style = \"font-weight: bold; text-align: right;\">10</td><td style = \"text-align: left;\">LP001020</td><td style = \"text-align: left;\">Male</td><td style = \"text-align: left;\">Yes</td><td style = \"text-align: left;\">1</td><td style = \"text-align: left;\">Graduate</td><td style = \"text-align: left;\">No</td><td style = \"text-align: right;\">12841</td><td style = \"text-align: right;\">10968.0</td><td style = \"text-align: right;\">349</td><td style = \"text-align: right;\">360</td><td style = \"text-align: right;\">1</td><td style = \"text-align: left;\">Semiurban</td><td style = \"text-align: left;\">N</td></tr><tr><td class = \"rowNumber\" style = \"font-weight: bold; text-align: right;\">11</td><td style = \"text-align: left;\">LP001024</td><td style = \"text-align: left;\">Male</td><td style = \"text-align: left;\">Yes</td><td style = \"text-align: left;\">2</td><td style = \"text-align: left;\">Graduate</td><td style = \"text-align: left;\">No</td><td style = \"text-align: right;\">3200</td><td style = \"text-align: right;\">700.0</td><td style = \"text-align: right;\">70</td><td style = \"text-align: right;\">360</td><td style = \"text-align: right;\">1</td><td style = \"text-align: left;\">Urban</td><td style = \"text-align: left;\">Y</td></tr><tr><td class = \"rowNumber\" style = \"font-weight: bold; text-align: right;\">12</td><td style = \"text-align: left;\">LP001027</td><td style = \"text-align: left;\">Male</td><td style = \"text-align: left;\">Yes</td><td style = \"text-align: left;\">2</td><td style = \"text-align: left;\">Graduate</td><td style = \"font-style: italic; text-align: left;\">missing</td><td style = \"text-align: right;\">2500</td><td style = \"text-align: right;\">1840.0</td><td style = \"text-align: right;\">109</td><td style = \"text-align: right;\">360</td><td style = \"text-align: right;\">1</td><td style = \"text-align: left;\">Urban</td><td style = \"text-align: left;\">Y</td></tr><tr><td class = \"rowNumber\" style = \"font-weight: bold; text-align: right;\">13</td><td style = \"text-align: left;\">LP001028</td><td style = \"text-align: left;\">Male</td><td style = \"text-align: left;\">Yes</td><td style = \"text-align: left;\">2</td><td style = \"text-align: left;\">Graduate</td><td style = \"text-align: left;\">No</td><td style = \"text-align: right;\">3073</td><td style = \"text-align: right;\">8106.0</td><td style = \"text-align: right;\">200</td><td style = \"text-align: right;\">360</td><td style = \"text-align: right;\">1</td><td style = \"text-align: left;\">Urban</td><td style = \"text-align: left;\">Y</td></tr><tr><td style = \"text-align: right;\">&vellip;</td><td style = \"text-align: right;\">&vellip;</td><td style = \"text-align: right;\">&vellip;</td><td style = \"text-align: right;\">&vellip;</td><td style = \"text-align: right;\">&vellip;</td><td style = \"text-align: right;\">&vellip;</td><td style = \"text-align: right;\">&vellip;</td><td style = \"text-align: right;\">&vellip;</td><td style = \"text-align: right;\">&vellip;</td><td style = \"text-align: right;\">&vellip;</td><td style = \"text-align: right;\">&vellip;</td><td style = \"text-align: right;\">&vellip;</td><td style = \"text-align: right;\">&vellip;</td><td style = \"text-align: right;\">&vellip;</td></tr><tr><td class = \"rowNumber\" style = \"font-weight: bold; text-align: right;\">603</td><td style = \"text-align: left;\">LP002953</td><td style = \"text-align: left;\">Male</td><td style = \"text-align: left;\">Yes</td><td style = \"text-align: left;\">3+</td><td style = \"text-align: left;\">Graduate</td><td style = \"text-align: left;\">No</td><td style = \"text-align: right;\">5703</td><td style = \"text-align: right;\">0.0</td><td style = \"text-align: right;\">128</td><td style = \"text-align: right;\">360</td><td style = \"text-align: right;\">1</td><td style = \"text-align: left;\">Urban</td><td style = \"text-align: left;\">Y</td></tr><tr><td class = \"rowNumber\" style = \"font-weight: bold; text-align: right;\">604</td><td style = \"text-align: left;\">LP002958</td><td style = \"text-align: left;\">Male</td><td style = \"text-align: left;\">No</td><td style = \"text-align: left;\">0</td><td style = \"text-align: left;\">Graduate</td><td style = \"text-align: left;\">No</td><td style = \"text-align: right;\">3676</td><td style = \"text-align: right;\">4301.0</td><td style = \"text-align: right;\">172</td><td style = \"text-align: right;\">360</td><td style = \"text-align: right;\">1</td><td style = \"text-align: left;\">Rural</td><td style = \"text-align: left;\">Y</td></tr><tr><td class = \"rowNumber\" style = \"font-weight: bold; text-align: right;\">605</td><td style = \"text-align: left;\">LP002959</td><td style = \"text-align: left;\">Female</td><td style = \"text-align: left;\">Yes</td><td style = \"text-align: left;\">1</td><td style = \"text-align: left;\">Graduate</td><td style = \"text-align: left;\">No</td><td style = \"text-align: right;\">12000</td><td style = \"text-align: right;\">0.0</td><td style = \"text-align: right;\">496</td><td style = \"text-align: right;\">360</td><td style = \"text-align: right;\">1</td><td style = \"text-align: left;\">Semiurban</td><td style = \"text-align: left;\">Y</td></tr><tr><td class = \"rowNumber\" style = \"font-weight: bold; text-align: right;\">606</td><td style = \"text-align: left;\">LP002960</td><td style = \"text-align: left;\">Male</td><td style = \"text-align: left;\">Yes</td><td style = \"text-align: left;\">0</td><td style = \"text-align: left;\">Not Graduate</td><td style = \"text-align: left;\">No</td><td style = \"text-align: right;\">2400</td><td style = \"text-align: right;\">3800.0</td><td style = \"text-align: right;\">missing</td><td style = \"text-align: right;\">180</td><td style = \"font-style: italic; text-align: right;\">1</td><td style = \"text-align: left;\">Urban</td><td style = \"text-align: left;\">N</td></tr><tr><td class = \"rowNumber\" style = \"font-weight: bold; text-align: right;\">607</td><td style = \"text-align: left;\">LP002961</td><td style = \"text-align: left;\">Male</td><td style = \"text-align: left;\">Yes</td><td style = \"text-align: left;\">1</td><td style = \"text-align: left;\">Graduate</td><td style = \"text-align: left;\">No</td><td style = \"text-align: right;\">3400</td><td style = \"text-align: right;\">2500.0</td><td style = \"text-align: right;\">173</td><td style = \"text-align: right;\">360</td><td style = \"text-align: right;\">1</td><td style = \"text-align: left;\">Semiurban</td><td style = \"text-align: left;\">Y</td></tr><tr><td class = \"rowNumber\" style = \"font-weight: bold; text-align: right;\">608</td><td style = \"text-align: left;\">LP002964</td><td style = \"text-align: left;\">Male</td><td style = \"text-align: left;\">Yes</td><td style = \"text-align: left;\">2</td><td style = \"text-align: left;\">Not Graduate</td><td style = \"text-align: left;\">No</td><td style = \"text-align: right;\">3987</td><td style = \"text-align: right;\">1411.0</td><td style = \"text-align: right;\">157</td><td style = \"text-align: right;\">360</td><td style = \"text-align: right;\">1</td><td style = \"text-align: left;\">Rural</td><td style = \"text-align: left;\">Y</td></tr><tr><td class = \"rowNumber\" style = \"font-weight: bold; text-align: right;\">609</td><td style = \"text-align: left;\">LP002974</td><td style = \"text-align: left;\">Male</td><td style = \"text-align: left;\">Yes</td><td style = \"text-align: left;\">0</td><td style = \"text-align: left;\">Graduate</td><td style = \"font-style: italic; text-align: left;\">No</td><td style = \"text-align: right;\">3232</td><td style = \"text-align: right;\">1950.0</td><td style = \"text-align: right;\">108</td><td style = \"font-style: italic; text-align: right;\">360</td><td style = \"text-align: right;\">1</td><td style = \"text-align: left;\">Rural</td><td style = \"text-align: left;\">Y</td></tr><tr><td class = \"rowNumber\" style = \"font-weight: bold; text-align: right;\">610</td><td style = \"text-align: left;\">LP002978</td><td style = \"text-align: left;\">Female</td><td style = \"text-align: left;\">No</td><td style = \"text-align: left;\">0</td><td style = \"text-align: left;\">Graduate</td><td style = \"text-align: left;\">No</td><td style = \"text-align: right;\">2900</td><td style = \"text-align: right;\">0.0</td><td style = \"text-align: right;\">71</td><td style = \"text-align: right;\">360</td><td style = \"text-align: right;\">1</td><td style = \"text-align: left;\">Rural</td><td style = \"text-align: left;\">Y</td></tr><tr><td class = \"rowNumber\" style = \"font-weight: bold; text-align: right;\">611</td><td style = \"text-align: left;\">LP002979</td><td style = \"text-align: left;\">Male</td><td style = \"text-align: left;\">Yes</td><td style = \"text-align: left;\">3+</td><td style = \"text-align: left;\">Graduate</td><td style = \"text-align: left;\">No</td><td style = \"text-align: right;\">4106</td><td style = \"text-align: right;\">0.0</td><td style = \"text-align: right;\">40</td><td style = \"text-align: right;\">180</td><td style = \"text-align: right;\">1</td><td style = \"text-align: left;\">Rural</td><td style = \"text-align: left;\">Y</td></tr><tr><td class = \"rowNumber\" style = \"font-weight: bold; text-align: right;\">612</td><td style = \"text-align: left;\">LP002983</td><td style = \"text-align: left;\">Male</td><td style = \"text-align: left;\">Yes</td><td style = \"text-align: left;\">1</td><td style = \"text-align: left;\">Graduate</td><td style = \"text-align: left;\">No</td><td style = \"text-align: right;\">8072</td><td style = \"text-align: right;\">240.0</td><td style = \"text-align: right;\">253</td><td style = \"text-align: right;\">360</td><td style = \"text-align: right;\">1</td><td style = \"text-align: left;\">Urban</td><td style = \"text-align: left;\">Y</td></tr><tr><td class = \"rowNumber\" style = \"font-weight: bold; text-align: right;\">613</td><td style = \"text-align: left;\">LP002984</td><td style = \"font-style: italic; text-align: left;\">Male</td><td style = \"text-align: left;\">Yes</td><td style = \"text-align: left;\">2</td><td style = \"text-align: left;\">Graduate</td><td style = \"text-align: left;\">No</td><td style = \"text-align: right;\">7583</td><td style = \"text-align: right;\">0.0</td><td style = \"text-align: right;\">187</td><td style = \"text-align: right;\">360</td><td style = \"text-align: right;\">1</td><td style = \"text-align: left;\">Urban</td><td style = \"text-align: left;\">Y</td></tr><tr><td class = \"rowNumber\" style = \"font-weight: bold; text-align: right;\">614</td><td style = \"text-align: left;\">LP002990</td><td style = \"text-align: left;\">Female</td><td style = \"text-align: left;\">No</td><td style = \"text-align: left;\">0</td><td style = \"text-align: left;\">Graduate</td><td style = \"font-style: italic; text-align: left;\">Yes</td><td style = \"text-align: right;\">4583</td><td style = \"text-align: right;\">0.0</td><td style = \"text-align: right;\">133</td><td style = \"text-align: right;\">360</td><td style = \"font-style: italic; text-align: right;\">0</td><td style = \"text-align: left;\">Semiurban</td><td style = \"text-align: left;\">N</td></tr></tbody></table></div>"
      ],
      "text/latex": [
       "\\begin{tabular}{r|cccccccc}\n",
       "\t& Loan\\_ID & Gender & Married & Dependents & Education & Self\\_Employed & ApplicantIncome & \\\\\n",
       "\t\\hline\n",
       "\t& String15 & String7? & String3? & String3? & String15 & String3? & Int64 & \\\\\n",
       "\t\\hline\n",
       "\t1 & LP001002 & Male & No & 0 & Graduate & No & 5849 & $\\dots$ \\\\\n",
       "\t2 & LP001003 & Male & Yes & 1 & Graduate & No & 4583 & $\\dots$ \\\\\n",
       "\t3 & LP001005 & Male & Yes & 0 & Graduate & Yes & 3000 & $\\dots$ \\\\\n",
       "\t4 & LP001006 & Male & Yes & 0 & Not Graduate & No & 2583 & $\\dots$ \\\\\n",
       "\t5 & LP001008 & Male & No & 0 & Graduate & No & 6000 & $\\dots$ \\\\\n",
       "\t6 & LP001011 & Male & Yes & 2 & Graduate & Yes & 5417 & $\\dots$ \\\\\n",
       "\t7 & LP001013 & Male & Yes & 0 & Not Graduate & No & 2333 & $\\dots$ \\\\\n",
       "\t8 & LP001014 & Male & Yes & 3+ & Graduate & No & 3036 & $\\dots$ \\\\\n",
       "\t9 & LP001018 & Male & Yes & 2 & Graduate & No & 4006 & $\\dots$ \\\\\n",
       "\t10 & LP001020 & Male & Yes & 1 & Graduate & No & 12841 & $\\dots$ \\\\\n",
       "\t11 & LP001024 & Male & Yes & 2 & Graduate & No & 3200 & $\\dots$ \\\\\n",
       "\t12 & LP001027 & Male & Yes & 2 & Graduate & \\emph{missing} & 2500 & $\\dots$ \\\\\n",
       "\t13 & LP001028 & Male & Yes & 2 & Graduate & No & 3073 & $\\dots$ \\\\\n",
       "\t14 & LP001029 & Male & No & 0 & Graduate & No & 1853 & $\\dots$ \\\\\n",
       "\t15 & LP001030 & Male & Yes & 2 & Graduate & No & 1299 & $\\dots$ \\\\\n",
       "\t16 & LP001032 & Male & No & 0 & Graduate & No & 4950 & $\\dots$ \\\\\n",
       "\t17 & LP001034 & Male & No & 1 & Not Graduate & No & 3596 & $\\dots$ \\\\\n",
       "\t18 & LP001036 & Female & No & 0 & Graduate & No & 3510 & $\\dots$ \\\\\n",
       "\t19 & LP001038 & Male & Yes & 0 & Not Graduate & No & 4887 & $\\dots$ \\\\\n",
       "\t20 & LP001041 & Male & Yes & 0 & Graduate & \\emph{missing} & 2600 & $\\dots$ \\\\\n",
       "\t21 & LP001043 & Male & Yes & 0 & Not Graduate & No & 7660 & $\\dots$ \\\\\n",
       "\t22 & LP001046 & Male & Yes & 1 & Graduate & No & 5955 & $\\dots$ \\\\\n",
       "\t23 & LP001047 & Male & Yes & 0 & Not Graduate & No & 2600 & $\\dots$ \\\\\n",
       "\t24 & LP001050 & \\emph{missing} & Yes & 2 & Not Graduate & No & 3365 & $\\dots$ \\\\\n",
       "\t$\\dots$ & $\\dots$ & $\\dots$ & $\\dots$ & $\\dots$ & $\\dots$ & $\\dots$ & $\\dots$ &  \\\\\n",
       "\\end{tabular}\n"
      ],
      "text/plain": [
       "\u001b[1m614×13 DataFrame\u001b[0m\n",
       "\u001b[1m Row \u001b[0m│\u001b[1m Loan_ID  \u001b[0m\u001b[1m Gender   \u001b[0m\u001b[1m Married  \u001b[0m\u001b[1m Dependents \u001b[0m\u001b[1m Education    \u001b[0m\u001b[1m Self_Employed \u001b[0m\u001b[1m \u001b[0m ⋯\n",
       "     │\u001b[90m String15 \u001b[0m\u001b[90m String7? \u001b[0m\u001b[90m String3? \u001b[0m\u001b[90m String3?   \u001b[0m\u001b[90m String15     \u001b[0m\u001b[90m String3?      \u001b[0m\u001b[90m \u001b[0m ⋯\n",
       "─────┼──────────────────────────────────────────────────────────────────────────\n",
       "   1 │ LP001002  Male      No        0           Graduate      No              ⋯\n",
       "   2 │ LP001003  Male      Yes       1           Graduate      No\n",
       "   3 │ LP001005  Male      Yes       0           Graduate      Yes\n",
       "   4 │ LP001006  Male      Yes       0           Not Graduate  No\n",
       "   5 │ LP001008  Male      No        0           Graduate      No              ⋯\n",
       "   6 │ LP001011  Male      Yes       2           Graduate      Yes\n",
       "   7 │ LP001013  Male      Yes       0           Not Graduate  No\n",
       "   8 │ LP001014  Male      Yes       3+          Graduate      No\n",
       "  ⋮  │    ⋮         ⋮         ⋮          ⋮            ⋮              ⋮         ⋱\n",
       " 608 │ LP002964  Male      Yes       2           Not Graduate  No              ⋯\n",
       " 609 │ LP002974  Male      Yes       0           Graduate      No\n",
       " 610 │ LP002978  Female    No        0           Graduate      No\n",
       " 611 │ LP002979  Male      Yes       3+          Graduate      No\n",
       " 612 │ LP002983  Male      Yes       1           Graduate      No              ⋯\n",
       " 613 │ LP002984  Male      Yes       2           Graduate      No\n",
       " 614 │ LP002990  Female    No        0           Graduate      Yes\n",
       "\u001b[36m                                                  7 columns and 599 rows omitted\u001b[0m"
      ]
     },
     "metadata": {},
     "output_type": "display_data"
    }
   ],
   "source": [
    "train"
   ]
  },
  {
   "cell_type": "code",
   "execution_count": 12,
   "metadata": {},
   "outputs": [
    {
     "data": {
      "text/plain": [
       "(614, 13)"
      ]
     },
     "metadata": {},
     "output_type": "display_data"
    }
   ],
   "source": [
    "size(train)"
   ]
  },
  {
   "cell_type": "code",
   "execution_count": 14,
   "metadata": {},
   "outputs": [
    {
     "data": {
      "text/plain": [
       "13-element Vector{String}:\n",
       " \"Loan_ID\"\n",
       " \"Gender\"\n",
       " \"Married\"\n",
       " \"Dependents\"\n",
       " \"Education\"\n",
       " \"Self_Employed\"\n",
       " \"ApplicantIncome\"\n",
       " \"CoapplicantIncome\"\n",
       " \"LoanAmount\"\n",
       " \"Loan_Amount_Term\"\n",
       " \"Credit_History\"\n",
       " \"Property_Area\"\n",
       " \"Loan_Status\""
      ]
     },
     "metadata": {},
     "output_type": "display_data"
    }
   ],
   "source": [
    "names(train)"
   ]
  },
  {
   "cell_type": "code",
   "execution_count": 15,
   "metadata": {},
   "outputs": [
    {
     "data": {
      "text/plain": [
       "Symbol"
      ]
     },
     "metadata": {},
     "output_type": "display_data"
    }
   ],
   "source": [
    "Symbol"
   ]
  },
  {
   "cell_type": "code",
   "execution_count": 16,
   "metadata": {},
   "outputs": [
    {
     "data": {
      "text/plain": [
       ":a"
      ]
     },
     "metadata": {},
     "output_type": "display_data"
    }
   ],
   "source": [
    ":a"
   ]
  },
  {
   "cell_type": "code",
   "execution_count": 17,
   "metadata": {},
   "outputs": [
    {
     "data": {
      "text/plain": [
       "Symbol"
      ]
     },
     "metadata": {},
     "output_type": "display_data"
    }
   ],
   "source": [
    "typeof(:a)"
   ]
  },
  {
   "cell_type": "code",
   "execution_count": 18,
   "metadata": {},
   "outputs": [
    {
     "ename": "UndefVarError",
     "evalue": "UndefVarError: head not defined",
     "output_type": "error",
     "traceback": [
      "UndefVarError: head not defined\n",
      "\n",
      "Stacktrace:\n",
      " [1] top-level scope\n",
      "   @ ~/statistical-learning/julia_study/230109_02/02.ipynb:1"
     ]
    }
   ],
   "source": [
    "head(train, 10)"
   ]
  },
  {
   "cell_type": "code",
   "execution_count": 19,
   "metadata": {},
   "outputs": [
    {
     "data": {
      "text/html": [
       "<div><div style = \"float: left;\"><span>614×13 DataFrame</span></div><div style = \"float: right;\"><span style = \"font-style: italic;\">589 rows omitted</span></div><div style = \"clear: both;\"></div></div><div class = \"data-frame\" style = \"overflow-x: scroll;\"><table class = \"data-frame\" style = \"margin-bottom: 6px;\"><thead><tr class = \"header\"><th class = \"rowNumber\" style = \"font-weight: bold; text-align: right;\">Row</th><th style = \"text-align: left;\">Loan_ID</th><th style = \"text-align: left;\">Gender</th><th style = \"text-align: left;\">Married</th><th style = \"text-align: left;\">Dependents</th><th style = \"text-align: left;\">Education</th><th style = \"text-align: left;\">Self_Employed</th><th style = \"text-align: left;\">ApplicantIncome</th><th style = \"text-align: left;\">CoapplicantIncome</th><th style = \"text-align: left;\">LoanAmount</th><th style = \"text-align: left;\">Loan_Amount_Term</th><th style = \"text-align: left;\">Credit_History</th><th style = \"text-align: left;\">Property_Area</th><th style = \"text-align: left;\">Loan_Status</th></tr><tr class = \"subheader headerLastRow\"><th class = \"rowNumber\" style = \"font-weight: bold; text-align: right;\"></th><th title = \"String15\" style = \"text-align: left;\">String15</th><th title = \"Union{Missing, String7}\" style = \"text-align: left;\">String7?</th><th title = \"Union{Missing, String3}\" style = \"text-align: left;\">String3?</th><th title = \"Union{Missing, String3}\" style = \"text-align: left;\">String3?</th><th title = \"String15\" style = \"text-align: left;\">String15</th><th title = \"Union{Missing, String3}\" style = \"text-align: left;\">String3?</th><th title = \"Int64\" style = \"text-align: left;\">Int64</th><th title = \"Float64\" style = \"text-align: left;\">Float64</th><th title = \"Union{Missing, Int64}\" style = \"text-align: left;\">Int64?</th><th title = \"Union{Missing, Int64}\" style = \"text-align: left;\">Int64?</th><th title = \"Union{Missing, Int64}\" style = \"text-align: left;\">Int64?</th><th title = \"String15\" style = \"text-align: left;\">String15</th><th title = \"String1\" style = \"text-align: left;\">String1</th></tr></thead><tbody><tr><td class = \"rowNumber\" style = \"font-weight: bold; text-align: right;\">1</td><td style = \"text-align: left;\">LP001002</td><td style = \"text-align: left;\">Male</td><td style = \"text-align: left;\">No</td><td style = \"text-align: left;\">0</td><td style = \"text-align: left;\">Graduate</td><td style = \"text-align: left;\">No</td><td style = \"text-align: right;\">5849</td><td style = \"text-align: right;\">0.0</td><td style = \"font-style: italic; text-align: right;\">missing</td><td style = \"text-align: right;\">360</td><td style = \"text-align: right;\">1</td><td style = \"text-align: left;\">Urban</td><td style = \"text-align: left;\">Y</td></tr><tr><td class = \"rowNumber\" style = \"font-weight: bold; text-align: right;\">2</td><td style = \"text-align: left;\">LP001003</td><td style = \"text-align: left;\">Male</td><td style = \"text-align: left;\">Yes</td><td style = \"text-align: left;\">1</td><td style = \"text-align: left;\">Graduate</td><td style = \"text-align: left;\">No</td><td style = \"text-align: right;\">4583</td><td style = \"text-align: right;\">1508.0</td><td style = \"text-align: right;\">128</td><td style = \"text-align: right;\">360</td><td style = \"text-align: right;\">1</td><td style = \"text-align: left;\">Rural</td><td style = \"text-align: left;\">N</td></tr><tr><td class = \"rowNumber\" style = \"font-weight: bold; text-align: right;\">3</td><td style = \"text-align: left;\">LP001005</td><td style = \"text-align: left;\">Male</td><td style = \"text-align: left;\">Yes</td><td style = \"text-align: left;\">0</td><td style = \"text-align: left;\">Graduate</td><td style = \"text-align: left;\">Yes</td><td style = \"text-align: right;\">3000</td><td style = \"text-align: right;\">0.0</td><td style = \"text-align: right;\">66</td><td style = \"text-align: right;\">360</td><td style = \"text-align: right;\">1</td><td style = \"text-align: left;\">Urban</td><td style = \"text-align: left;\">Y</td></tr><tr><td class = \"rowNumber\" style = \"font-weight: bold; text-align: right;\">4</td><td style = \"text-align: left;\">LP001006</td><td style = \"text-align: left;\">Male</td><td style = \"text-align: left;\">Yes</td><td style = \"text-align: left;\">0</td><td style = \"text-align: left;\">Not Graduate</td><td style = \"text-align: left;\">No</td><td style = \"text-align: right;\">2583</td><td style = \"text-align: right;\">2358.0</td><td style = \"text-align: right;\">120</td><td style = \"text-align: right;\">360</td><td style = \"text-align: right;\">1</td><td style = \"text-align: left;\">Urban</td><td style = \"text-align: left;\">Y</td></tr><tr><td class = \"rowNumber\" style = \"font-weight: bold; text-align: right;\">5</td><td style = \"text-align: left;\">LP001008</td><td style = \"text-align: left;\">Male</td><td style = \"text-align: left;\">No</td><td style = \"text-align: left;\">0</td><td style = \"text-align: left;\">Graduate</td><td style = \"text-align: left;\">No</td><td style = \"text-align: right;\">6000</td><td style = \"text-align: right;\">0.0</td><td style = \"text-align: right;\">141</td><td style = \"text-align: right;\">360</td><td style = \"text-align: right;\">1</td><td style = \"text-align: left;\">Urban</td><td style = \"text-align: left;\">Y</td></tr><tr><td class = \"rowNumber\" style = \"font-weight: bold; text-align: right;\">6</td><td style = \"text-align: left;\">LP001011</td><td style = \"text-align: left;\">Male</td><td style = \"text-align: left;\">Yes</td><td style = \"text-align: left;\">2</td><td style = \"text-align: left;\">Graduate</td><td style = \"text-align: left;\">Yes</td><td style = \"text-align: right;\">5417</td><td style = \"text-align: right;\">4196.0</td><td style = \"text-align: right;\">267</td><td style = \"text-align: right;\">360</td><td style = \"text-align: right;\">1</td><td style = \"text-align: left;\">Urban</td><td style = \"text-align: left;\">Y</td></tr><tr><td class = \"rowNumber\" style = \"font-weight: bold; text-align: right;\">7</td><td style = \"text-align: left;\">LP001013</td><td style = \"text-align: left;\">Male</td><td style = \"text-align: left;\">Yes</td><td style = \"text-align: left;\">0</td><td style = \"text-align: left;\">Not Graduate</td><td style = \"text-align: left;\">No</td><td style = \"text-align: right;\">2333</td><td style = \"text-align: right;\">1516.0</td><td style = \"text-align: right;\">95</td><td style = \"text-align: right;\">360</td><td style = \"text-align: right;\">1</td><td style = \"text-align: left;\">Urban</td><td style = \"text-align: left;\">Y</td></tr><tr><td class = \"rowNumber\" style = \"font-weight: bold; text-align: right;\">8</td><td style = \"text-align: left;\">LP001014</td><td style = \"text-align: left;\">Male</td><td style = \"text-align: left;\">Yes</td><td style = \"text-align: left;\">3+</td><td style = \"text-align: left;\">Graduate</td><td style = \"text-align: left;\">No</td><td style = \"text-align: right;\">3036</td><td style = \"text-align: right;\">2504.0</td><td style = \"text-align: right;\">158</td><td style = \"text-align: right;\">360</td><td style = \"text-align: right;\">0</td><td style = \"text-align: left;\">Semiurban</td><td style = \"text-align: left;\">N</td></tr><tr><td class = \"rowNumber\" style = \"font-weight: bold; text-align: right;\">9</td><td style = \"text-align: left;\">LP001018</td><td style = \"text-align: left;\">Male</td><td style = \"text-align: left;\">Yes</td><td style = \"text-align: left;\">2</td><td style = \"text-align: left;\">Graduate</td><td style = \"text-align: left;\">No</td><td style = \"text-align: right;\">4006</td><td style = \"text-align: right;\">1526.0</td><td style = \"text-align: right;\">168</td><td style = \"text-align: right;\">360</td><td style = \"text-align: right;\">1</td><td style = \"text-align: left;\">Urban</td><td style = \"text-align: left;\">Y</td></tr><tr><td class = \"rowNumber\" style = \"font-weight: bold; text-align: right;\">10</td><td style = \"text-align: left;\">LP001020</td><td style = \"text-align: left;\">Male</td><td style = \"text-align: left;\">Yes</td><td style = \"text-align: left;\">1</td><td style = \"text-align: left;\">Graduate</td><td style = \"text-align: left;\">No</td><td style = \"text-align: right;\">12841</td><td style = \"text-align: right;\">10968.0</td><td style = \"text-align: right;\">349</td><td style = \"text-align: right;\">360</td><td style = \"text-align: right;\">1</td><td style = \"text-align: left;\">Semiurban</td><td style = \"text-align: left;\">N</td></tr><tr><td class = \"rowNumber\" style = \"font-weight: bold; text-align: right;\">11</td><td style = \"text-align: left;\">LP001024</td><td style = \"text-align: left;\">Male</td><td style = \"text-align: left;\">Yes</td><td style = \"text-align: left;\">2</td><td style = \"text-align: left;\">Graduate</td><td style = \"text-align: left;\">No</td><td style = \"text-align: right;\">3200</td><td style = \"text-align: right;\">700.0</td><td style = \"text-align: right;\">70</td><td style = \"text-align: right;\">360</td><td style = \"text-align: right;\">1</td><td style = \"text-align: left;\">Urban</td><td style = \"text-align: left;\">Y</td></tr><tr><td class = \"rowNumber\" style = \"font-weight: bold; text-align: right;\">12</td><td style = \"text-align: left;\">LP001027</td><td style = \"text-align: left;\">Male</td><td style = \"text-align: left;\">Yes</td><td style = \"text-align: left;\">2</td><td style = \"text-align: left;\">Graduate</td><td style = \"font-style: italic; text-align: left;\">missing</td><td style = \"text-align: right;\">2500</td><td style = \"text-align: right;\">1840.0</td><td style = \"text-align: right;\">109</td><td style = \"text-align: right;\">360</td><td style = \"text-align: right;\">1</td><td style = \"text-align: left;\">Urban</td><td style = \"text-align: left;\">Y</td></tr><tr><td class = \"rowNumber\" style = \"font-weight: bold; text-align: right;\">13</td><td style = \"text-align: left;\">LP001028</td><td style = \"text-align: left;\">Male</td><td style = \"text-align: left;\">Yes</td><td style = \"text-align: left;\">2</td><td style = \"text-align: left;\">Graduate</td><td style = \"text-align: left;\">No</td><td style = \"text-align: right;\">3073</td><td style = \"text-align: right;\">8106.0</td><td style = \"text-align: right;\">200</td><td style = \"text-align: right;\">360</td><td style = \"text-align: right;\">1</td><td style = \"text-align: left;\">Urban</td><td style = \"text-align: left;\">Y</td></tr><tr><td style = \"text-align: right;\">&vellip;</td><td style = \"text-align: right;\">&vellip;</td><td style = \"text-align: right;\">&vellip;</td><td style = \"text-align: right;\">&vellip;</td><td style = \"text-align: right;\">&vellip;</td><td style = \"text-align: right;\">&vellip;</td><td style = \"text-align: right;\">&vellip;</td><td style = \"text-align: right;\">&vellip;</td><td style = \"text-align: right;\">&vellip;</td><td style = \"text-align: right;\">&vellip;</td><td style = \"text-align: right;\">&vellip;</td><td style = \"text-align: right;\">&vellip;</td><td style = \"text-align: right;\">&vellip;</td><td style = \"text-align: right;\">&vellip;</td></tr><tr><td class = \"rowNumber\" style = \"font-weight: bold; text-align: right;\">603</td><td style = \"text-align: left;\">LP002953</td><td style = \"text-align: left;\">Male</td><td style = \"text-align: left;\">Yes</td><td style = \"text-align: left;\">3+</td><td style = \"text-align: left;\">Graduate</td><td style = \"text-align: left;\">No</td><td style = \"text-align: right;\">5703</td><td style = \"text-align: right;\">0.0</td><td style = \"text-align: right;\">128</td><td style = \"text-align: right;\">360</td><td style = \"text-align: right;\">1</td><td style = \"text-align: left;\">Urban</td><td style = \"text-align: left;\">Y</td></tr><tr><td class = \"rowNumber\" style = \"font-weight: bold; text-align: right;\">604</td><td style = \"text-align: left;\">LP002958</td><td style = \"text-align: left;\">Male</td><td style = \"text-align: left;\">No</td><td style = \"text-align: left;\">0</td><td style = \"text-align: left;\">Graduate</td><td style = \"text-align: left;\">No</td><td style = \"text-align: right;\">3676</td><td style = \"text-align: right;\">4301.0</td><td style = \"text-align: right;\">172</td><td style = \"text-align: right;\">360</td><td style = \"text-align: right;\">1</td><td style = \"text-align: left;\">Rural</td><td style = \"text-align: left;\">Y</td></tr><tr><td class = \"rowNumber\" style = \"font-weight: bold; text-align: right;\">605</td><td style = \"text-align: left;\">LP002959</td><td style = \"text-align: left;\">Female</td><td style = \"text-align: left;\">Yes</td><td style = \"text-align: left;\">1</td><td style = \"text-align: left;\">Graduate</td><td style = \"text-align: left;\">No</td><td style = \"text-align: right;\">12000</td><td style = \"text-align: right;\">0.0</td><td style = \"text-align: right;\">496</td><td style = \"text-align: right;\">360</td><td style = \"text-align: right;\">1</td><td style = \"text-align: left;\">Semiurban</td><td style = \"text-align: left;\">Y</td></tr><tr><td class = \"rowNumber\" style = \"font-weight: bold; text-align: right;\">606</td><td style = \"text-align: left;\">LP002960</td><td style = \"text-align: left;\">Male</td><td style = \"text-align: left;\">Yes</td><td style = \"text-align: left;\">0</td><td style = \"text-align: left;\">Not Graduate</td><td style = \"text-align: left;\">No</td><td style = \"text-align: right;\">2400</td><td style = \"text-align: right;\">3800.0</td><td style = \"text-align: right;\">missing</td><td style = \"text-align: right;\">180</td><td style = \"font-style: italic; text-align: right;\">1</td><td style = \"text-align: left;\">Urban</td><td style = \"text-align: left;\">N</td></tr><tr><td class = \"rowNumber\" style = \"font-weight: bold; text-align: right;\">607</td><td style = \"text-align: left;\">LP002961</td><td style = \"text-align: left;\">Male</td><td style = \"text-align: left;\">Yes</td><td style = \"text-align: left;\">1</td><td style = \"text-align: left;\">Graduate</td><td style = \"text-align: left;\">No</td><td style = \"text-align: right;\">3400</td><td style = \"text-align: right;\">2500.0</td><td style = \"text-align: right;\">173</td><td style = \"text-align: right;\">360</td><td style = \"text-align: right;\">1</td><td style = \"text-align: left;\">Semiurban</td><td style = \"text-align: left;\">Y</td></tr><tr><td class = \"rowNumber\" style = \"font-weight: bold; text-align: right;\">608</td><td style = \"text-align: left;\">LP002964</td><td style = \"text-align: left;\">Male</td><td style = \"text-align: left;\">Yes</td><td style = \"text-align: left;\">2</td><td style = \"text-align: left;\">Not Graduate</td><td style = \"text-align: left;\">No</td><td style = \"text-align: right;\">3987</td><td style = \"text-align: right;\">1411.0</td><td style = \"text-align: right;\">157</td><td style = \"text-align: right;\">360</td><td style = \"text-align: right;\">1</td><td style = \"text-align: left;\">Rural</td><td style = \"text-align: left;\">Y</td></tr><tr><td class = \"rowNumber\" style = \"font-weight: bold; text-align: right;\">609</td><td style = \"text-align: left;\">LP002974</td><td style = \"text-align: left;\">Male</td><td style = \"text-align: left;\">Yes</td><td style = \"text-align: left;\">0</td><td style = \"text-align: left;\">Graduate</td><td style = \"font-style: italic; text-align: left;\">No</td><td style = \"text-align: right;\">3232</td><td style = \"text-align: right;\">1950.0</td><td style = \"text-align: right;\">108</td><td style = \"font-style: italic; text-align: right;\">360</td><td style = \"text-align: right;\">1</td><td style = \"text-align: left;\">Rural</td><td style = \"text-align: left;\">Y</td></tr><tr><td class = \"rowNumber\" style = \"font-weight: bold; text-align: right;\">610</td><td style = \"text-align: left;\">LP002978</td><td style = \"text-align: left;\">Female</td><td style = \"text-align: left;\">No</td><td style = \"text-align: left;\">0</td><td style = \"text-align: left;\">Graduate</td><td style = \"text-align: left;\">No</td><td style = \"text-align: right;\">2900</td><td style = \"text-align: right;\">0.0</td><td style = \"text-align: right;\">71</td><td style = \"text-align: right;\">360</td><td style = \"text-align: right;\">1</td><td style = \"text-align: left;\">Rural</td><td style = \"text-align: left;\">Y</td></tr><tr><td class = \"rowNumber\" style = \"font-weight: bold; text-align: right;\">611</td><td style = \"text-align: left;\">LP002979</td><td style = \"text-align: left;\">Male</td><td style = \"text-align: left;\">Yes</td><td style = \"text-align: left;\">3+</td><td style = \"text-align: left;\">Graduate</td><td style = \"text-align: left;\">No</td><td style = \"text-align: right;\">4106</td><td style = \"text-align: right;\">0.0</td><td style = \"text-align: right;\">40</td><td style = \"text-align: right;\">180</td><td style = \"text-align: right;\">1</td><td style = \"text-align: left;\">Rural</td><td style = \"text-align: left;\">Y</td></tr><tr><td class = \"rowNumber\" style = \"font-weight: bold; text-align: right;\">612</td><td style = \"text-align: left;\">LP002983</td><td style = \"text-align: left;\">Male</td><td style = \"text-align: left;\">Yes</td><td style = \"text-align: left;\">1</td><td style = \"text-align: left;\">Graduate</td><td style = \"text-align: left;\">No</td><td style = \"text-align: right;\">8072</td><td style = \"text-align: right;\">240.0</td><td style = \"text-align: right;\">253</td><td style = \"text-align: right;\">360</td><td style = \"text-align: right;\">1</td><td style = \"text-align: left;\">Urban</td><td style = \"text-align: left;\">Y</td></tr><tr><td class = \"rowNumber\" style = \"font-weight: bold; text-align: right;\">613</td><td style = \"text-align: left;\">LP002984</td><td style = \"font-style: italic; text-align: left;\">Male</td><td style = \"text-align: left;\">Yes</td><td style = \"text-align: left;\">2</td><td style = \"text-align: left;\">Graduate</td><td style = \"text-align: left;\">No</td><td style = \"text-align: right;\">7583</td><td style = \"text-align: right;\">0.0</td><td style = \"text-align: right;\">187</td><td style = \"text-align: right;\">360</td><td style = \"text-align: right;\">1</td><td style = \"text-align: left;\">Urban</td><td style = \"text-align: left;\">Y</td></tr><tr><td class = \"rowNumber\" style = \"font-weight: bold; text-align: right;\">614</td><td style = \"text-align: left;\">LP002990</td><td style = \"text-align: left;\">Female</td><td style = \"text-align: left;\">No</td><td style = \"text-align: left;\">0</td><td style = \"text-align: left;\">Graduate</td><td style = \"font-style: italic; text-align: left;\">Yes</td><td style = \"text-align: right;\">4583</td><td style = \"text-align: right;\">0.0</td><td style = \"text-align: right;\">133</td><td style = \"text-align: right;\">360</td><td style = \"font-style: italic; text-align: right;\">0</td><td style = \"text-align: left;\">Semiurban</td><td style = \"text-align: left;\">N</td></tr></tbody></table></div>"
      ],
      "text/latex": [
       "\\begin{tabular}{r|cccccccc}\n",
       "\t& Loan\\_ID & Gender & Married & Dependents & Education & Self\\_Employed & ApplicantIncome & \\\\\n",
       "\t\\hline\n",
       "\t& String15 & String7? & String3? & String3? & String15 & String3? & Int64 & \\\\\n",
       "\t\\hline\n",
       "\t1 & LP001002 & Male & No & 0 & Graduate & No & 5849 & $\\dots$ \\\\\n",
       "\t2 & LP001003 & Male & Yes & 1 & Graduate & No & 4583 & $\\dots$ \\\\\n",
       "\t3 & LP001005 & Male & Yes & 0 & Graduate & Yes & 3000 & $\\dots$ \\\\\n",
       "\t4 & LP001006 & Male & Yes & 0 & Not Graduate & No & 2583 & $\\dots$ \\\\\n",
       "\t5 & LP001008 & Male & No & 0 & Graduate & No & 6000 & $\\dots$ \\\\\n",
       "\t6 & LP001011 & Male & Yes & 2 & Graduate & Yes & 5417 & $\\dots$ \\\\\n",
       "\t7 & LP001013 & Male & Yes & 0 & Not Graduate & No & 2333 & $\\dots$ \\\\\n",
       "\t8 & LP001014 & Male & Yes & 3+ & Graduate & No & 3036 & $\\dots$ \\\\\n",
       "\t9 & LP001018 & Male & Yes & 2 & Graduate & No & 4006 & $\\dots$ \\\\\n",
       "\t10 & LP001020 & Male & Yes & 1 & Graduate & No & 12841 & $\\dots$ \\\\\n",
       "\t11 & LP001024 & Male & Yes & 2 & Graduate & No & 3200 & $\\dots$ \\\\\n",
       "\t12 & LP001027 & Male & Yes & 2 & Graduate & \\emph{missing} & 2500 & $\\dots$ \\\\\n",
       "\t13 & LP001028 & Male & Yes & 2 & Graduate & No & 3073 & $\\dots$ \\\\\n",
       "\t14 & LP001029 & Male & No & 0 & Graduate & No & 1853 & $\\dots$ \\\\\n",
       "\t15 & LP001030 & Male & Yes & 2 & Graduate & No & 1299 & $\\dots$ \\\\\n",
       "\t16 & LP001032 & Male & No & 0 & Graduate & No & 4950 & $\\dots$ \\\\\n",
       "\t17 & LP001034 & Male & No & 1 & Not Graduate & No & 3596 & $\\dots$ \\\\\n",
       "\t18 & LP001036 & Female & No & 0 & Graduate & No & 3510 & $\\dots$ \\\\\n",
       "\t19 & LP001038 & Male & Yes & 0 & Not Graduate & No & 4887 & $\\dots$ \\\\\n",
       "\t20 & LP001041 & Male & Yes & 0 & Graduate & \\emph{missing} & 2600 & $\\dots$ \\\\\n",
       "\t21 & LP001043 & Male & Yes & 0 & Not Graduate & No & 7660 & $\\dots$ \\\\\n",
       "\t22 & LP001046 & Male & Yes & 1 & Graduate & No & 5955 & $\\dots$ \\\\\n",
       "\t23 & LP001047 & Male & Yes & 0 & Not Graduate & No & 2600 & $\\dots$ \\\\\n",
       "\t24 & LP001050 & \\emph{missing} & Yes & 2 & Not Graduate & No & 3365 & $\\dots$ \\\\\n",
       "\t$\\dots$ & $\\dots$ & $\\dots$ & $\\dots$ & $\\dots$ & $\\dots$ & $\\dots$ & $\\dots$ &  \\\\\n",
       "\\end{tabular}\n"
      ],
      "text/plain": [
       "\u001b[1m614×13 DataFrame\u001b[0m\n",
       "\u001b[1m Row \u001b[0m│\u001b[1m Loan_ID  \u001b[0m\u001b[1m Gender   \u001b[0m\u001b[1m Married  \u001b[0m\u001b[1m Dependents \u001b[0m\u001b[1m Education    \u001b[0m\u001b[1m Self_Employed \u001b[0m\u001b[1m \u001b[0m ⋯\n",
       "     │\u001b[90m String15 \u001b[0m\u001b[90m String7? \u001b[0m\u001b[90m String3? \u001b[0m\u001b[90m String3?   \u001b[0m\u001b[90m String15     \u001b[0m\u001b[90m String3?      \u001b[0m\u001b[90m \u001b[0m ⋯\n",
       "─────┼──────────────────────────────────────────────────────────────────────────\n",
       "   1 │ LP001002  Male      No        0           Graduate      No              ⋯\n",
       "   2 │ LP001003  Male      Yes       1           Graduate      No\n",
       "   3 │ LP001005  Male      Yes       0           Graduate      Yes\n",
       "   4 │ LP001006  Male      Yes       0           Not Graduate  No\n",
       "   5 │ LP001008  Male      No        0           Graduate      No              ⋯\n",
       "   6 │ LP001011  Male      Yes       2           Graduate      Yes\n",
       "   7 │ LP001013  Male      Yes       0           Not Graduate  No\n",
       "   8 │ LP001014  Male      Yes       3+          Graduate      No\n",
       "  ⋮  │    ⋮         ⋮         ⋮          ⋮            ⋮              ⋮         ⋱\n",
       " 608 │ LP002964  Male      Yes       2           Not Graduate  No              ⋯\n",
       " 609 │ LP002974  Male      Yes       0           Graduate      No\n",
       " 610 │ LP002978  Female    No        0           Graduate      No\n",
       " 611 │ LP002979  Male      Yes       3+          Graduate      No\n",
       " 612 │ LP002983  Male      Yes       1           Graduate      No              ⋯\n",
       " 613 │ LP002984  Male      Yes       2           Graduate      No\n",
       " 614 │ LP002990  Female    No        0           Graduate      Yes\n",
       "\u001b[36m                                                  7 columns and 599 rows omitted\u001b[0m"
      ]
     },
     "metadata": {},
     "output_type": "display_data"
    }
   ],
   "source": [
    "train"
   ]
  },
  {
   "cell_type": "code",
   "execution_count": null,
   "metadata": {},
   "outputs": [],
   "source": [
    "# Which features are categorical?\n",
    "# Categorical features can be separeted into ordered and unordered.\n",
    "# Which features have missing?\n",
    "# \n",
    "# In supervised learning problems the target variable is the most important\n",
    "# variable, we need to be careful about the business interpretation specially\n",
    "# about the targe variable."
   ]
  },
  {
   "cell_type": "code",
   "execution_count": 28,
   "metadata": {},
   "outputs": [
    {
     "ename": "MethodError",
     "evalue": "MethodError: no method matching describe(::Vector{Union{Missing, Int64}})\nClosest candidates are:\n  describe(!Matched::AbstractDataFrame; cols) at ~/.julia/packages/DataFrames/dgZn3/src/abstractdataframe/abstractdataframe.jl:661\n  describe(!Matched::AbstractDataFrame, !Matched::Union{Symbol, Pair{<:Union{Function, Type}, <:Union{AbstractString, Symbol}}}...; cols) at ~/.julia/packages/DataFrames/dgZn3/src/abstractdataframe/abstractdataframe.jl:658",
     "output_type": "error",
     "traceback": [
      "MethodError: no method matching describe(::Vector{Union{Missing, Int64}})\n",
      "Closest candidates are:\n",
      "  describe(!Matched::AbstractDataFrame; cols) at ~/.julia/packages/DataFrames/dgZn3/src/abstractdataframe/abstractdataframe.jl:661\n",
      "  describe(!Matched::AbstractDataFrame, !Matched::Union{Symbol, Pair{<:Union{Function, Type}, <:Union{AbstractString, Symbol}}}...; cols) at ~/.julia/packages/DataFrames/dgZn3/src/abstractdataframe/abstractdataframe.jl:658\n",
      "\n",
      "Stacktrace:\n",
      " [1] top-level scope\n",
      "   @ ~/statistical-learning/julia_study/230109_02/02.ipynb:1"
     ]
    }
   ],
   "source": [
    "describe(train[!,\"LoanAmount\"])"
   ]
  },
  {
   "cell_type": "code",
   "execution_count": 27,
   "metadata": {},
   "outputs": [
    {
     "data": {
      "text/plain": [
       "614-element Vector{Union{Missing, Int64}}:\n",
       "    missing\n",
       " 128\n",
       "  66\n",
       " 120\n",
       " 141\n",
       " 267\n",
       "  95\n",
       " 158\n",
       " 168\n",
       " 349\n",
       "   ⋮\n",
       "    missing\n",
       " 173\n",
       " 157\n",
       " 108\n",
       "  71\n",
       "  40\n",
       " 253\n",
       " 187\n",
       " 133"
      ]
     },
     "metadata": {},
     "output_type": "display_data"
    }
   ],
   "source": [
    "train[!,\"LoanAmount\"]"
   ]
  },
  {
   "cell_type": "code",
   "execution_count": 30,
   "metadata": {},
   "outputs": [
    {
     "data": {
      "text/html": [
       "<div><div style = \"float: left;\"><span>1×15 DataFrame</span></div><div style = \"clear: both;\"></div></div><div class = \"data-frame\" style = \"overflow-x: scroll;\"><table class = \"data-frame\" style = \"margin-bottom: 6px;\"><thead><tr class = \"header\"><th class = \"rowNumber\" style = \"font-weight: bold; text-align: right;\">Row</th><th style = \"text-align: left;\">variable</th><th style = \"text-align: left;\">mean</th><th style = \"text-align: left;\">std</th><th style = \"text-align: left;\">min</th><th style = \"text-align: left;\">q25</th><th style = \"text-align: left;\">median</th><th style = \"text-align: left;\">q75</th><th style = \"text-align: left;\">max</th><th style = \"text-align: left;\">nunique</th><th style = \"text-align: left;\">nuniqueall</th><th style = \"text-align: left;\">nmissing</th><th style = \"text-align: left;\">nnonmissing</th><th style = \"text-align: left;\">first</th><th style = \"text-align: left;\">last</th><th style = \"text-align: left;\">eltype</th></tr><tr class = \"subheader headerLastRow\"><th class = \"rowNumber\" style = \"font-weight: bold; text-align: right;\"></th><th title = \"Symbol\" style = \"text-align: left;\">Symbol</th><th title = \"Float64\" style = \"text-align: left;\">Float64</th><th title = \"Float64\" style = \"text-align: left;\">Float64</th><th title = \"Int64\" style = \"text-align: left;\">Int64</th><th title = \"Float64\" style = \"text-align: left;\">Float64</th><th title = \"Float64\" style = \"text-align: left;\">Float64</th><th title = \"Float64\" style = \"text-align: left;\">Float64</th><th title = \"Int64\" style = \"text-align: left;\">Int64</th><th title = \"Nothing\" style = \"text-align: left;\">Nothing</th><th title = \"Int64\" style = \"text-align: left;\">Int64</th><th title = \"Int64\" style = \"text-align: left;\">Int64</th><th title = \"Int64\" style = \"text-align: left;\">Int64</th><th title = \"Missing\" style = \"text-align: left;\">Missing</th><th title = \"Int64\" style = \"text-align: left;\">Int64</th><th title = \"Union\" style = \"text-align: left;\">Union</th></tr></thead><tbody><tr><td class = \"rowNumber\" style = \"font-weight: bold; text-align: right;\">1</td><td style = \"text-align: left;\">LoanAmount</td><td style = \"text-align: right;\">146.412</td><td style = \"text-align: right;\">85.5873</td><td style = \"text-align: right;\">9</td><td style = \"text-align: right;\">100.0</td><td style = \"text-align: right;\">128.0</td><td style = \"text-align: right;\">168.0</td><td style = \"text-align: right;\">700</td><td style = \"font-style: italic; text-align: left;\"></td><td style = \"text-align: right;\">203</td><td style = \"text-align: right;\">22</td><td style = \"text-align: right;\">592</td><td style = \"font-style: italic; text-align: right;\">missing</td><td style = \"text-align: right;\">133</td><td style = \"text-align: left;\">Union{Missing, Int64}</td></tr></tbody></table></div>"
      ],
      "text/latex": [
       "\\begin{tabular}{r|cccccccccc}\n",
       "\t& variable & mean & std & min & q25 & median & q75 & max & nunique & \\\\\n",
       "\t\\hline\n",
       "\t& Symbol & Float64 & Float64 & Int64 & Float64 & Float64 & Float64 & Int64 & Nothing & \\\\\n",
       "\t\\hline\n",
       "\t1 & LoanAmount & 146.412 & 85.5873 & 9 & 100.0 & 128.0 & 168.0 & 700 &  & $\\dots$ \\\\\n",
       "\\end{tabular}\n"
      ],
      "text/plain": [
       "\u001b[1m1×15 DataFrame\u001b[0m\n",
       "\u001b[1m Row \u001b[0m│\u001b[1m variable   \u001b[0m\u001b[1m mean    \u001b[0m\u001b[1m std     \u001b[0m\u001b[1m min   \u001b[0m\u001b[1m q25     \u001b[0m\u001b[1m median  \u001b[0m\u001b[1m q75     \u001b[0m\u001b[1m max   \u001b[0m\u001b[1m \u001b[0m ⋯\n",
       "     │\u001b[90m Symbol     \u001b[0m\u001b[90m Float64 \u001b[0m\u001b[90m Float64 \u001b[0m\u001b[90m Int64 \u001b[0m\u001b[90m Float64 \u001b[0m\u001b[90m Float64 \u001b[0m\u001b[90m Float64 \u001b[0m\u001b[90m Int64 \u001b[0m\u001b[90m \u001b[0m ⋯\n",
       "─────┼──────────────────────────────────────────────────────────────────────────\n",
       "   1 │ LoanAmount  146.412  85.5873      9    100.0    128.0    168.0    700 \u001b[90m \u001b[0m ⋯\n",
       "\u001b[36m                                                               7 columns omitted\u001b[0m"
      ]
     },
     "metadata": {},
     "output_type": "display_data"
    }
   ],
   "source": [
    "describe(train, :all,cols=\"LoanAmount\")"
   ]
  },
  {
   "cell_type": "code",
   "execution_count": 31,
   "metadata": {},
   "outputs": [
    {
     "ename": "UndefVarError",
     "evalue": "UndefVarError: countmap not defined",
     "output_type": "error",
     "traceback": [
      "UndefVarError: countmap not defined\n",
      "\n",
      "Stacktrace:\n",
      " [1] top-level scope\n",
      "   @ ~/statistical-learning/julia_study/230109_02/02.ipynb:1"
     ]
    }
   ],
   "source": [
    "countmap()"
   ]
  },
  {
   "cell_type": "code",
   "execution_count": 32,
   "metadata": {},
   "outputs": [
    {
     "name": "stderr",
     "output_type": "stream",
     "text": [
      "\u001b[32m\u001b[1m   Resolving\u001b[22m\u001b[39m package versions...\n"
     ]
    },
    {
     "name": "stderr",
     "output_type": "stream",
     "text": [
      "\u001b[32m\u001b[1m    Updating\u001b[22m\u001b[39m `~/.julia/environments/v1.8/Project.toml`\n",
      " \u001b[90m [2913bbd2] \u001b[39m\u001b[92m+ StatsBase v0.33.21\u001b[39m\n",
      "\u001b[32m\u001b[1m  No Changes\u001b[22m\u001b[39m to `~/.julia/environments/v1.8/Manifest.toml`\n"
     ]
    }
   ],
   "source": [
    "Pkg.add(\"StatsBase\")"
   ]
  },
  {
   "cell_type": "code",
   "execution_count": 33,
   "metadata": {},
   "outputs": [],
   "source": [
    "using StatsBase"
   ]
  },
  {
   "cell_type": "code",
   "execution_count": 36,
   "metadata": {},
   "outputs": [
    {
     "data": {
      "text/html": [
       "<div><div style = \"float: left;\"><span>614×13 DataFrame</span></div><div style = \"float: right;\"><span style = \"font-style: italic;\">589 rows omitted</span></div><div style = \"clear: both;\"></div></div><div class = \"data-frame\" style = \"overflow-x: scroll;\"><table class = \"data-frame\" style = \"margin-bottom: 6px;\"><thead><tr class = \"header\"><th class = \"rowNumber\" style = \"font-weight: bold; text-align: right;\">Row</th><th style = \"text-align: left;\">Loan_ID</th><th style = \"text-align: left;\">Gender</th><th style = \"text-align: left;\">Married</th><th style = \"text-align: left;\">Dependents</th><th style = \"text-align: left;\">Education</th><th style = \"text-align: left;\">Self_Employed</th><th style = \"text-align: left;\">ApplicantIncome</th><th style = \"text-align: left;\">CoapplicantIncome</th><th style = \"text-align: left;\">LoanAmount</th><th style = \"text-align: left;\">Loan_Amount_Term</th><th style = \"text-align: left;\">Credit_History</th><th style = \"text-align: left;\">Property_Area</th><th style = \"text-align: left;\">Loan_Status</th></tr><tr class = \"subheader headerLastRow\"><th class = \"rowNumber\" style = \"font-weight: bold; text-align: right;\"></th><th title = \"String15\" style = \"text-align: left;\">String15</th><th title = \"Union{Missing, String7}\" style = \"text-align: left;\">String7?</th><th title = \"Union{Missing, String3}\" style = \"text-align: left;\">String3?</th><th title = \"Union{Missing, String3}\" style = \"text-align: left;\">String3?</th><th title = \"String15\" style = \"text-align: left;\">String15</th><th title = \"Union{Missing, String3}\" style = \"text-align: left;\">String3?</th><th title = \"Int64\" style = \"text-align: left;\">Int64</th><th title = \"Float64\" style = \"text-align: left;\">Float64</th><th title = \"Union{Missing, Int64}\" style = \"text-align: left;\">Int64?</th><th title = \"Union{Missing, Int64}\" style = \"text-align: left;\">Int64?</th><th title = \"Union{Missing, Int64}\" style = \"text-align: left;\">Int64?</th><th title = \"String15\" style = \"text-align: left;\">String15</th><th title = \"String1\" style = \"text-align: left;\">String1</th></tr></thead><tbody><tr><td class = \"rowNumber\" style = \"font-weight: bold; text-align: right;\">1</td><td style = \"text-align: left;\">LP001002</td><td style = \"text-align: left;\">Male</td><td style = \"text-align: left;\">No</td><td style = \"text-align: left;\">0</td><td style = \"text-align: left;\">Graduate</td><td style = \"text-align: left;\">No</td><td style = \"text-align: right;\">5849</td><td style = \"text-align: right;\">0.0</td><td style = \"font-style: italic; text-align: right;\">missing</td><td style = \"text-align: right;\">360</td><td style = \"text-align: right;\">1</td><td style = \"text-align: left;\">Urban</td><td style = \"text-align: left;\">Y</td></tr><tr><td class = \"rowNumber\" style = \"font-weight: bold; text-align: right;\">2</td><td style = \"text-align: left;\">LP001003</td><td style = \"text-align: left;\">Male</td><td style = \"text-align: left;\">Yes</td><td style = \"text-align: left;\">1</td><td style = \"text-align: left;\">Graduate</td><td style = \"text-align: left;\">No</td><td style = \"text-align: right;\">4583</td><td style = \"text-align: right;\">1508.0</td><td style = \"text-align: right;\">128</td><td style = \"text-align: right;\">360</td><td style = \"text-align: right;\">1</td><td style = \"text-align: left;\">Rural</td><td style = \"text-align: left;\">N</td></tr><tr><td class = \"rowNumber\" style = \"font-weight: bold; text-align: right;\">3</td><td style = \"text-align: left;\">LP001005</td><td style = \"text-align: left;\">Male</td><td style = \"text-align: left;\">Yes</td><td style = \"text-align: left;\">0</td><td style = \"text-align: left;\">Graduate</td><td style = \"text-align: left;\">Yes</td><td style = \"text-align: right;\">3000</td><td style = \"text-align: right;\">0.0</td><td style = \"text-align: right;\">66</td><td style = \"text-align: right;\">360</td><td style = \"text-align: right;\">1</td><td style = \"text-align: left;\">Urban</td><td style = \"text-align: left;\">Y</td></tr><tr><td class = \"rowNumber\" style = \"font-weight: bold; text-align: right;\">4</td><td style = \"text-align: left;\">LP001006</td><td style = \"text-align: left;\">Male</td><td style = \"text-align: left;\">Yes</td><td style = \"text-align: left;\">0</td><td style = \"text-align: left;\">Not Graduate</td><td style = \"text-align: left;\">No</td><td style = \"text-align: right;\">2583</td><td style = \"text-align: right;\">2358.0</td><td style = \"text-align: right;\">120</td><td style = \"text-align: right;\">360</td><td style = \"text-align: right;\">1</td><td style = \"text-align: left;\">Urban</td><td style = \"text-align: left;\">Y</td></tr><tr><td class = \"rowNumber\" style = \"font-weight: bold; text-align: right;\">5</td><td style = \"text-align: left;\">LP001008</td><td style = \"text-align: left;\">Male</td><td style = \"text-align: left;\">No</td><td style = \"text-align: left;\">0</td><td style = \"text-align: left;\">Graduate</td><td style = \"text-align: left;\">No</td><td style = \"text-align: right;\">6000</td><td style = \"text-align: right;\">0.0</td><td style = \"text-align: right;\">141</td><td style = \"text-align: right;\">360</td><td style = \"text-align: right;\">1</td><td style = \"text-align: left;\">Urban</td><td style = \"text-align: left;\">Y</td></tr><tr><td class = \"rowNumber\" style = \"font-weight: bold; text-align: right;\">6</td><td style = \"text-align: left;\">LP001011</td><td style = \"text-align: left;\">Male</td><td style = \"text-align: left;\">Yes</td><td style = \"text-align: left;\">2</td><td style = \"text-align: left;\">Graduate</td><td style = \"text-align: left;\">Yes</td><td style = \"text-align: right;\">5417</td><td style = \"text-align: right;\">4196.0</td><td style = \"text-align: right;\">267</td><td style = \"text-align: right;\">360</td><td style = \"text-align: right;\">1</td><td style = \"text-align: left;\">Urban</td><td style = \"text-align: left;\">Y</td></tr><tr><td class = \"rowNumber\" style = \"font-weight: bold; text-align: right;\">7</td><td style = \"text-align: left;\">LP001013</td><td style = \"text-align: left;\">Male</td><td style = \"text-align: left;\">Yes</td><td style = \"text-align: left;\">0</td><td style = \"text-align: left;\">Not Graduate</td><td style = \"text-align: left;\">No</td><td style = \"text-align: right;\">2333</td><td style = \"text-align: right;\">1516.0</td><td style = \"text-align: right;\">95</td><td style = \"text-align: right;\">360</td><td style = \"text-align: right;\">1</td><td style = \"text-align: left;\">Urban</td><td style = \"text-align: left;\">Y</td></tr><tr><td class = \"rowNumber\" style = \"font-weight: bold; text-align: right;\">8</td><td style = \"text-align: left;\">LP001014</td><td style = \"text-align: left;\">Male</td><td style = \"text-align: left;\">Yes</td><td style = \"text-align: left;\">3+</td><td style = \"text-align: left;\">Graduate</td><td style = \"text-align: left;\">No</td><td style = \"text-align: right;\">3036</td><td style = \"text-align: right;\">2504.0</td><td style = \"text-align: right;\">158</td><td style = \"text-align: right;\">360</td><td style = \"text-align: right;\">0</td><td style = \"text-align: left;\">Semiurban</td><td style = \"text-align: left;\">N</td></tr><tr><td class = \"rowNumber\" style = \"font-weight: bold; text-align: right;\">9</td><td style = \"text-align: left;\">LP001018</td><td style = \"text-align: left;\">Male</td><td style = \"text-align: left;\">Yes</td><td style = \"text-align: left;\">2</td><td style = \"text-align: left;\">Graduate</td><td style = \"text-align: left;\">No</td><td style = \"text-align: right;\">4006</td><td style = \"text-align: right;\">1526.0</td><td style = \"text-align: right;\">168</td><td style = \"text-align: right;\">360</td><td style = \"text-align: right;\">1</td><td style = \"text-align: left;\">Urban</td><td style = \"text-align: left;\">Y</td></tr><tr><td class = \"rowNumber\" style = \"font-weight: bold; text-align: right;\">10</td><td style = \"text-align: left;\">LP001020</td><td style = \"text-align: left;\">Male</td><td style = \"text-align: left;\">Yes</td><td style = \"text-align: left;\">1</td><td style = \"text-align: left;\">Graduate</td><td style = \"text-align: left;\">No</td><td style = \"text-align: right;\">12841</td><td style = \"text-align: right;\">10968.0</td><td style = \"text-align: right;\">349</td><td style = \"text-align: right;\">360</td><td style = \"text-align: right;\">1</td><td style = \"text-align: left;\">Semiurban</td><td style = \"text-align: left;\">N</td></tr><tr><td class = \"rowNumber\" style = \"font-weight: bold; text-align: right;\">11</td><td style = \"text-align: left;\">LP001024</td><td style = \"text-align: left;\">Male</td><td style = \"text-align: left;\">Yes</td><td style = \"text-align: left;\">2</td><td style = \"text-align: left;\">Graduate</td><td style = \"text-align: left;\">No</td><td style = \"text-align: right;\">3200</td><td style = \"text-align: right;\">700.0</td><td style = \"text-align: right;\">70</td><td style = \"text-align: right;\">360</td><td style = \"text-align: right;\">1</td><td style = \"text-align: left;\">Urban</td><td style = \"text-align: left;\">Y</td></tr><tr><td class = \"rowNumber\" style = \"font-weight: bold; text-align: right;\">12</td><td style = \"text-align: left;\">LP001027</td><td style = \"text-align: left;\">Male</td><td style = \"text-align: left;\">Yes</td><td style = \"text-align: left;\">2</td><td style = \"text-align: left;\">Graduate</td><td style = \"font-style: italic; text-align: left;\">missing</td><td style = \"text-align: right;\">2500</td><td style = \"text-align: right;\">1840.0</td><td style = \"text-align: right;\">109</td><td style = \"text-align: right;\">360</td><td style = \"text-align: right;\">1</td><td style = \"text-align: left;\">Urban</td><td style = \"text-align: left;\">Y</td></tr><tr><td class = \"rowNumber\" style = \"font-weight: bold; text-align: right;\">13</td><td style = \"text-align: left;\">LP001028</td><td style = \"text-align: left;\">Male</td><td style = \"text-align: left;\">Yes</td><td style = \"text-align: left;\">2</td><td style = \"text-align: left;\">Graduate</td><td style = \"text-align: left;\">No</td><td style = \"text-align: right;\">3073</td><td style = \"text-align: right;\">8106.0</td><td style = \"text-align: right;\">200</td><td style = \"text-align: right;\">360</td><td style = \"text-align: right;\">1</td><td style = \"text-align: left;\">Urban</td><td style = \"text-align: left;\">Y</td></tr><tr><td style = \"text-align: right;\">&vellip;</td><td style = \"text-align: right;\">&vellip;</td><td style = \"text-align: right;\">&vellip;</td><td style = \"text-align: right;\">&vellip;</td><td style = \"text-align: right;\">&vellip;</td><td style = \"text-align: right;\">&vellip;</td><td style = \"text-align: right;\">&vellip;</td><td style = \"text-align: right;\">&vellip;</td><td style = \"text-align: right;\">&vellip;</td><td style = \"text-align: right;\">&vellip;</td><td style = \"text-align: right;\">&vellip;</td><td style = \"text-align: right;\">&vellip;</td><td style = \"text-align: right;\">&vellip;</td><td style = \"text-align: right;\">&vellip;</td></tr><tr><td class = \"rowNumber\" style = \"font-weight: bold; text-align: right;\">603</td><td style = \"text-align: left;\">LP002953</td><td style = \"text-align: left;\">Male</td><td style = \"text-align: left;\">Yes</td><td style = \"text-align: left;\">3+</td><td style = \"text-align: left;\">Graduate</td><td style = \"text-align: left;\">No</td><td style = \"text-align: right;\">5703</td><td style = \"text-align: right;\">0.0</td><td style = \"text-align: right;\">128</td><td style = \"text-align: right;\">360</td><td style = \"text-align: right;\">1</td><td style = \"text-align: left;\">Urban</td><td style = \"text-align: left;\">Y</td></tr><tr><td class = \"rowNumber\" style = \"font-weight: bold; text-align: right;\">604</td><td style = \"text-align: left;\">LP002958</td><td style = \"text-align: left;\">Male</td><td style = \"text-align: left;\">No</td><td style = \"text-align: left;\">0</td><td style = \"text-align: left;\">Graduate</td><td style = \"text-align: left;\">No</td><td style = \"text-align: right;\">3676</td><td style = \"text-align: right;\">4301.0</td><td style = \"text-align: right;\">172</td><td style = \"text-align: right;\">360</td><td style = \"text-align: right;\">1</td><td style = \"text-align: left;\">Rural</td><td style = \"text-align: left;\">Y</td></tr><tr><td class = \"rowNumber\" style = \"font-weight: bold; text-align: right;\">605</td><td style = \"text-align: left;\">LP002959</td><td style = \"text-align: left;\">Female</td><td style = \"text-align: left;\">Yes</td><td style = \"text-align: left;\">1</td><td style = \"text-align: left;\">Graduate</td><td style = \"text-align: left;\">No</td><td style = \"text-align: right;\">12000</td><td style = \"text-align: right;\">0.0</td><td style = \"text-align: right;\">496</td><td style = \"text-align: right;\">360</td><td style = \"text-align: right;\">1</td><td style = \"text-align: left;\">Semiurban</td><td style = \"text-align: left;\">Y</td></tr><tr><td class = \"rowNumber\" style = \"font-weight: bold; text-align: right;\">606</td><td style = \"text-align: left;\">LP002960</td><td style = \"text-align: left;\">Male</td><td style = \"text-align: left;\">Yes</td><td style = \"text-align: left;\">0</td><td style = \"text-align: left;\">Not Graduate</td><td style = \"text-align: left;\">No</td><td style = \"text-align: right;\">2400</td><td style = \"text-align: right;\">3800.0</td><td style = \"text-align: right;\">missing</td><td style = \"text-align: right;\">180</td><td style = \"font-style: italic; text-align: right;\">1</td><td style = \"text-align: left;\">Urban</td><td style = \"text-align: left;\">N</td></tr><tr><td class = \"rowNumber\" style = \"font-weight: bold; text-align: right;\">607</td><td style = \"text-align: left;\">LP002961</td><td style = \"text-align: left;\">Male</td><td style = \"text-align: left;\">Yes</td><td style = \"text-align: left;\">1</td><td style = \"text-align: left;\">Graduate</td><td style = \"text-align: left;\">No</td><td style = \"text-align: right;\">3400</td><td style = \"text-align: right;\">2500.0</td><td style = \"text-align: right;\">173</td><td style = \"text-align: right;\">360</td><td style = \"text-align: right;\">1</td><td style = \"text-align: left;\">Semiurban</td><td style = \"text-align: left;\">Y</td></tr><tr><td class = \"rowNumber\" style = \"font-weight: bold; text-align: right;\">608</td><td style = \"text-align: left;\">LP002964</td><td style = \"text-align: left;\">Male</td><td style = \"text-align: left;\">Yes</td><td style = \"text-align: left;\">2</td><td style = \"text-align: left;\">Not Graduate</td><td style = \"text-align: left;\">No</td><td style = \"text-align: right;\">3987</td><td style = \"text-align: right;\">1411.0</td><td style = \"text-align: right;\">157</td><td style = \"text-align: right;\">360</td><td style = \"text-align: right;\">1</td><td style = \"text-align: left;\">Rural</td><td style = \"text-align: left;\">Y</td></tr><tr><td class = \"rowNumber\" style = \"font-weight: bold; text-align: right;\">609</td><td style = \"text-align: left;\">LP002974</td><td style = \"text-align: left;\">Male</td><td style = \"text-align: left;\">Yes</td><td style = \"text-align: left;\">0</td><td style = \"text-align: left;\">Graduate</td><td style = \"font-style: italic; text-align: left;\">No</td><td style = \"text-align: right;\">3232</td><td style = \"text-align: right;\">1950.0</td><td style = \"text-align: right;\">108</td><td style = \"font-style: italic; text-align: right;\">360</td><td style = \"text-align: right;\">1</td><td style = \"text-align: left;\">Rural</td><td style = \"text-align: left;\">Y</td></tr><tr><td class = \"rowNumber\" style = \"font-weight: bold; text-align: right;\">610</td><td style = \"text-align: left;\">LP002978</td><td style = \"text-align: left;\">Female</td><td style = \"text-align: left;\">No</td><td style = \"text-align: left;\">0</td><td style = \"text-align: left;\">Graduate</td><td style = \"text-align: left;\">No</td><td style = \"text-align: right;\">2900</td><td style = \"text-align: right;\">0.0</td><td style = \"text-align: right;\">71</td><td style = \"text-align: right;\">360</td><td style = \"text-align: right;\">1</td><td style = \"text-align: left;\">Rural</td><td style = \"text-align: left;\">Y</td></tr><tr><td class = \"rowNumber\" style = \"font-weight: bold; text-align: right;\">611</td><td style = \"text-align: left;\">LP002979</td><td style = \"text-align: left;\">Male</td><td style = \"text-align: left;\">Yes</td><td style = \"text-align: left;\">3+</td><td style = \"text-align: left;\">Graduate</td><td style = \"text-align: left;\">No</td><td style = \"text-align: right;\">4106</td><td style = \"text-align: right;\">0.0</td><td style = \"text-align: right;\">40</td><td style = \"text-align: right;\">180</td><td style = \"text-align: right;\">1</td><td style = \"text-align: left;\">Rural</td><td style = \"text-align: left;\">Y</td></tr><tr><td class = \"rowNumber\" style = \"font-weight: bold; text-align: right;\">612</td><td style = \"text-align: left;\">LP002983</td><td style = \"text-align: left;\">Male</td><td style = \"text-align: left;\">Yes</td><td style = \"text-align: left;\">1</td><td style = \"text-align: left;\">Graduate</td><td style = \"text-align: left;\">No</td><td style = \"text-align: right;\">8072</td><td style = \"text-align: right;\">240.0</td><td style = \"text-align: right;\">253</td><td style = \"text-align: right;\">360</td><td style = \"text-align: right;\">1</td><td style = \"text-align: left;\">Urban</td><td style = \"text-align: left;\">Y</td></tr><tr><td class = \"rowNumber\" style = \"font-weight: bold; text-align: right;\">613</td><td style = \"text-align: left;\">LP002984</td><td style = \"font-style: italic; text-align: left;\">Male</td><td style = \"text-align: left;\">Yes</td><td style = \"text-align: left;\">2</td><td style = \"text-align: left;\">Graduate</td><td style = \"text-align: left;\">No</td><td style = \"text-align: right;\">7583</td><td style = \"text-align: right;\">0.0</td><td style = \"text-align: right;\">187</td><td style = \"text-align: right;\">360</td><td style = \"text-align: right;\">1</td><td style = \"text-align: left;\">Urban</td><td style = \"text-align: left;\">Y</td></tr><tr><td class = \"rowNumber\" style = \"font-weight: bold; text-align: right;\">614</td><td style = \"text-align: left;\">LP002990</td><td style = \"text-align: left;\">Female</td><td style = \"text-align: left;\">No</td><td style = \"text-align: left;\">0</td><td style = \"text-align: left;\">Graduate</td><td style = \"font-style: italic; text-align: left;\">Yes</td><td style = \"text-align: right;\">4583</td><td style = \"text-align: right;\">0.0</td><td style = \"text-align: right;\">133</td><td style = \"text-align: right;\">360</td><td style = \"font-style: italic; text-align: right;\">0</td><td style = \"text-align: left;\">Semiurban</td><td style = \"text-align: left;\">N</td></tr></tbody></table></div>"
      ],
      "text/latex": [
       "\\begin{tabular}{r|cccccccc}\n",
       "\t& Loan\\_ID & Gender & Married & Dependents & Education & Self\\_Employed & ApplicantIncome & \\\\\n",
       "\t\\hline\n",
       "\t& String15 & String7? & String3? & String3? & String15 & String3? & Int64 & \\\\\n",
       "\t\\hline\n",
       "\t1 & LP001002 & Male & No & 0 & Graduate & No & 5849 & $\\dots$ \\\\\n",
       "\t2 & LP001003 & Male & Yes & 1 & Graduate & No & 4583 & $\\dots$ \\\\\n",
       "\t3 & LP001005 & Male & Yes & 0 & Graduate & Yes & 3000 & $\\dots$ \\\\\n",
       "\t4 & LP001006 & Male & Yes & 0 & Not Graduate & No & 2583 & $\\dots$ \\\\\n",
       "\t5 & LP001008 & Male & No & 0 & Graduate & No & 6000 & $\\dots$ \\\\\n",
       "\t6 & LP001011 & Male & Yes & 2 & Graduate & Yes & 5417 & $\\dots$ \\\\\n",
       "\t7 & LP001013 & Male & Yes & 0 & Not Graduate & No & 2333 & $\\dots$ \\\\\n",
       "\t8 & LP001014 & Male & Yes & 3+ & Graduate & No & 3036 & $\\dots$ \\\\\n",
       "\t9 & LP001018 & Male & Yes & 2 & Graduate & No & 4006 & $\\dots$ \\\\\n",
       "\t10 & LP001020 & Male & Yes & 1 & Graduate & No & 12841 & $\\dots$ \\\\\n",
       "\t11 & LP001024 & Male & Yes & 2 & Graduate & No & 3200 & $\\dots$ \\\\\n",
       "\t12 & LP001027 & Male & Yes & 2 & Graduate & \\emph{missing} & 2500 & $\\dots$ \\\\\n",
       "\t13 & LP001028 & Male & Yes & 2 & Graduate & No & 3073 & $\\dots$ \\\\\n",
       "\t14 & LP001029 & Male & No & 0 & Graduate & No & 1853 & $\\dots$ \\\\\n",
       "\t15 & LP001030 & Male & Yes & 2 & Graduate & No & 1299 & $\\dots$ \\\\\n",
       "\t16 & LP001032 & Male & No & 0 & Graduate & No & 4950 & $\\dots$ \\\\\n",
       "\t17 & LP001034 & Male & No & 1 & Not Graduate & No & 3596 & $\\dots$ \\\\\n",
       "\t18 & LP001036 & Female & No & 0 & Graduate & No & 3510 & $\\dots$ \\\\\n",
       "\t19 & LP001038 & Male & Yes & 0 & Not Graduate & No & 4887 & $\\dots$ \\\\\n",
       "\t20 & LP001041 & Male & Yes & 0 & Graduate & \\emph{missing} & 2600 & $\\dots$ \\\\\n",
       "\t21 & LP001043 & Male & Yes & 0 & Not Graduate & No & 7660 & $\\dots$ \\\\\n",
       "\t22 & LP001046 & Male & Yes & 1 & Graduate & No & 5955 & $\\dots$ \\\\\n",
       "\t23 & LP001047 & Male & Yes & 0 & Not Graduate & No & 2600 & $\\dots$ \\\\\n",
       "\t24 & LP001050 & \\emph{missing} & Yes & 2 & Not Graduate & No & 3365 & $\\dots$ \\\\\n",
       "\t$\\dots$ & $\\dots$ & $\\dots$ & $\\dots$ & $\\dots$ & $\\dots$ & $\\dots$ & $\\dots$ &  \\\\\n",
       "\\end{tabular}\n"
      ],
      "text/plain": [
       "\u001b[1m614×13 DataFrame\u001b[0m\n",
       "\u001b[1m Row \u001b[0m│\u001b[1m Loan_ID  \u001b[0m\u001b[1m Gender   \u001b[0m\u001b[1m Married  \u001b[0m\u001b[1m Dependents \u001b[0m\u001b[1m Education    \u001b[0m\u001b[1m Self_Employed \u001b[0m\u001b[1m \u001b[0m ⋯\n",
       "     │\u001b[90m String15 \u001b[0m\u001b[90m String7? \u001b[0m\u001b[90m String3? \u001b[0m\u001b[90m String3?   \u001b[0m\u001b[90m String15     \u001b[0m\u001b[90m String3?      \u001b[0m\u001b[90m \u001b[0m ⋯\n",
       "─────┼──────────────────────────────────────────────────────────────────────────\n",
       "   1 │ LP001002  Male      No        0           Graduate      No              ⋯\n",
       "   2 │ LP001003  Male      Yes       1           Graduate      No\n",
       "   3 │ LP001005  Male      Yes       0           Graduate      Yes\n",
       "   4 │ LP001006  Male      Yes       0           Not Graduate  No\n",
       "   5 │ LP001008  Male      No        0           Graduate      No              ⋯\n",
       "   6 │ LP001011  Male      Yes       2           Graduate      Yes\n",
       "   7 │ LP001013  Male      Yes       0           Not Graduate  No\n",
       "   8 │ LP001014  Male      Yes       3+          Graduate      No\n",
       "  ⋮  │    ⋮         ⋮         ⋮          ⋮            ⋮              ⋮         ⋱\n",
       " 608 │ LP002964  Male      Yes       2           Not Graduate  No              ⋯\n",
       " 609 │ LP002974  Male      Yes       0           Graduate      No\n",
       " 610 │ LP002978  Female    No        0           Graduate      No\n",
       " 611 │ LP002979  Male      Yes       3+          Graduate      No\n",
       " 612 │ LP002983  Male      Yes       1           Graduate      No              ⋯\n",
       " 613 │ LP002984  Male      Yes       2           Graduate      No\n",
       " 614 │ LP002990  Female    No        0           Graduate      Yes\n",
       "\u001b[36m                                                  7 columns and 599 rows omitted\u001b[0m"
      ]
     },
     "metadata": {},
     "output_type": "display_data"
    }
   ],
   "source": [
    "train"
   ]
  },
  {
   "cell_type": "code",
   "execution_count": 43,
   "metadata": {},
   "outputs": [
    {
     "data": {
      "text/plain": [
       "Dict{String1, Int64} with 2 entries:\n",
       "  String1(\"Y\") => 422\n",
       "  String1(\"N\") => 192"
      ]
     },
     "metadata": {},
     "output_type": "display_data"
    }
   ],
   "source": [
    "countmap(train[!,\"Loan_Status\"])"
   ]
  },
  {
   "cell_type": "code",
   "execution_count": null,
   "metadata": {},
   "outputs": [
    {
     "data": {
      "text/plain": [
       "Dict{String15, Int64} with 3 entries:\n",
       "  String15(\"Urban\")     => 202\n",
       "  String15(\"Rural\")     => 179\n",
       "  String15(\"Semiurban\") => 233"
      ]
     },
     "metadata": {},
     "output_type": "display_data"
    }
   ],
   "source": [
    "countmap(train[!,\"Property_Area\"])"
   ]
  },
  {
   "cell_type": "code",
   "execution_count": null,
   "metadata": {},
   "outputs": [
    {
     "data": {
      "text/plain": [
       "Dict{Union{Missing, String3}, Int64} with 3 entries:\n",
       "  String3(\"Yes\") => 82\n",
       "  String3(\"No\")  => 500\n",
       "  missing        => 32"
      ]
     },
     "metadata": {},
     "output_type": "display_data"
    }
   ],
   "source": [
    "countmap(train[!,\"Self_Employed\"])"
   ]
  },
  {
   "cell_type": "code",
   "execution_count": null,
   "metadata": {},
   "outputs": [
    {
     "data": {
      "text/plain": [
       "Dict{String15, Int64} with 2 entries:\n",
       "  String15(\"Graduate\")     => 480\n",
       "  String15(\"Not Graduate\") => 134"
      ]
     },
     "metadata": {},
     "output_type": "display_data"
    }
   ],
   "source": [
    "countmap(train[!,\"Education\"])"
   ]
  },
  {
   "cell_type": "code",
   "execution_count": null,
   "metadata": {},
   "outputs": [
    {
     "data": {
      "text/plain": [
       "Dict{Union{Missing, String3}, Int64} with 5 entries:\n",
       "  String3(\"1\")  => 102\n",
       "  missing       => 15\n",
       "  String3(\"0\")  => 345\n",
       "  String3(\"2\")  => 101\n",
       "  String3(\"3+\") => 51"
      ]
     },
     "metadata": {},
     "output_type": "display_data"
    }
   ],
   "source": [
    "countmap(train[!,\"Dependents\"])"
   ]
  },
  {
   "cell_type": "code",
   "execution_count": null,
   "metadata": {},
   "outputs": [
    {
     "data": {
      "text/plain": [
       "Dict{Union{Missing, String3}, Int64} with 3 entries:\n",
       "  String3(\"Yes\") => 398\n",
       "  String3(\"No\")  => 213\n",
       "  missing        => 3"
      ]
     },
     "metadata": {},
     "output_type": "display_data"
    }
   ],
   "source": [
    "countmap(train[!,\"Married\"])"
   ]
  },
  {
   "cell_type": "code",
   "execution_count": null,
   "metadata": {},
   "outputs": [
    {
     "data": {
      "text/plain": [
       "Dict{Union{Missing, String7}, Int64} with 3 entries:\n",
       "  String7(\"Female\") => 112\n",
       "  missing           => 13\n",
       "  String7(\"Male\")   => 489"
      ]
     },
     "metadata": {},
     "output_type": "display_data"
    }
   ],
   "source": [
    "countmap(train[!,\"Gender\"])"
   ]
  },
  {
   "cell_type": "code",
   "execution_count": null,
   "metadata": {},
   "outputs": [],
   "source": []
  }
 ],
 "metadata": {
  "kernelspec": {
   "display_name": "Julia 1.8.4",
   "language": "julia",
   "name": "julia-1.8"
  },
  "language_info": {
   "file_extension": ".jl",
   "mimetype": "application/julia",
   "name": "julia",
   "version": "1.8.4"
  },
  "orig_nbformat": 4,
  "vscode": {
   "interpreter": {
    "hash": "916dbcbb3f70747c44a77c7bcd40155683ae19c65e1c03b4aa3499c5328201f1"
   }
  }
 },
 "nbformat": 4,
 "nbformat_minor": 2
}
