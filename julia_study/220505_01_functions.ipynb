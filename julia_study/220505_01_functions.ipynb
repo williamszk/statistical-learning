{
 "cells": [
  {
   "cell_type": "code",
   "execution_count": 1,
   "metadata": {},
   "outputs": [],
   "source": [
    "# https://www.udemy.com/course/learning-path-julia-explore-data-science-with-julia/learn/lecture/6792676?start=15#overview\n",
    "# julia is a functional language\n",
    "\n"
   ]
  },
  {
   "cell_type": "code",
   "execution_count": 1,
   "metadata": {},
   "outputs": [
    {
     "data": {
      "text/plain": [
       "2"
      ]
     },
     "execution_count": 1,
     "metadata": {},
     "output_type": "execute_result"
    }
   ],
   "source": [
    "1 + 1"
   ]
  },
  {
   "cell_type": "code",
   "execution_count": 1,
   "metadata": {},
   "outputs": [
    {
     "data": {
      "text/plain": [
       "sum (generic function with 1 method)"
      ]
     },
     "execution_count": 1,
     "metadata": {},
     "output_type": "execute_result"
    }
   ],
   "source": [
    "function sum(x,y,z)\n",
    "    return x + y + z\n",
    "    # the key word return is optional\n",
    "    # the function will return the value of the last expression\n",
    "end"
   ]
  },
  {
   "cell_type": "code",
   "execution_count": 2,
   "metadata": {},
   "outputs": [
    {
     "data": {
      "text/plain": [
       "6"
      ]
     },
     "execution_count": 2,
     "metadata": {},
     "output_type": "execute_result"
    }
   ],
   "source": [
    "sum(1,2,3)"
   ]
  },
  {
   "cell_type": "code",
   "execution_count": 10,
   "metadata": {},
   "outputs": [
    {
     "name": "stdout",
     "output_type": "stream",
     "text": [
      "9.600000000000001\n",
      "2\n"
     ]
    }
   ],
   "source": [
    "# julia functions are generic, in the sense that it works with many\n",
    "# types of arguments\n",
    "println(sum(2.1, 3.2, 4.3))\n",
    "println(sum(true, false, true))"
   ]
  },
  {
   "cell_type": "code",
   "execution_count": 11,
   "metadata": {},
   "outputs": [
    {
     "data": {
      "text/plain": [
       "typeof(sum) (singleton type of function sum, subtype of Function)"
      ]
     },
     "execution_count": 11,
     "metadata": {},
     "output_type": "execute_result"
    }
   ],
   "source": [
    "typeof(sum)"
   ]
  },
  {
   "cell_type": "code",
   "execution_count": 12,
   "metadata": {},
   "outputs": [
    {
     "ename": "LoadError",
     "evalue": "MethodError: no method matching +(::String, ::Int64)\n\u001b[0mClosest candidates are:\n\u001b[0m  +(::Any, ::Any, \u001b[91m::Any\u001b[39m, \u001b[91m::Any...\u001b[39m) at /opt/julia-1.7.2/share/julia/base/operators.jl:655\n\u001b[0m  +(\u001b[91m::T\u001b[39m, ::T) where T<:Union{Int128, Int16, Int32, Int64, Int8, UInt128, UInt16, UInt32, UInt64, UInt8} at /opt/julia-1.7.2/share/julia/base/int.jl:87\n\u001b[0m  +(\u001b[91m::Base.TwicePrecision\u001b[39m, ::Number) at /opt/julia-1.7.2/share/julia/base/twiceprecision.jl:279\n\u001b[0m  ...",
     "output_type": "error",
     "traceback": [
      "MethodError: no method matching +(::String, ::Int64)\n\u001b[0mClosest candidates are:\n\u001b[0m  +(::Any, ::Any, \u001b[91m::Any\u001b[39m, \u001b[91m::Any...\u001b[39m) at /opt/julia-1.7.2/share/julia/base/operators.jl:655\n\u001b[0m  +(\u001b[91m::T\u001b[39m, ::T) where T<:Union{Int128, Int16, Int32, Int64, Int8, UInt128, UInt16, UInt32, UInt64, UInt8} at /opt/julia-1.7.2/share/julia/base/int.jl:87\n\u001b[0m  +(\u001b[91m::Base.TwicePrecision\u001b[39m, ::Number) at /opt/julia-1.7.2/share/julia/base/twiceprecision.jl:279\n\u001b[0m  ...",
      "",
      "Stacktrace:",
      " [1] +(::String, ::Int64, ::Bool)",
      "   @ Base ./operators.jl:655",
      " [2] sum(x::String, y::Int64, z::Bool)",
      "   @ Main ./In[1]:2",
      " [3] top-level scope",
      "   @ In[12]:2",
      " [4] eval",
      "   @ ./boot.jl:373 [inlined]",
      " [5] include_string(mapexpr::typeof(REPL.softscope), mod::Module, code::String, filename::String)",
      "   @ Base ./loading.jl:1196"
     ]
    }
   ],
   "source": [
    "# try to sum an integer, string and boolean\n",
    "sum(\"Iris\", 7, true)"
   ]
  },
  {
   "cell_type": "code",
   "execution_count": 2,
   "metadata": {},
   "outputs": [
    {
     "data": {
      "text/plain": [
       "Int64"
      ]
     },
     "execution_count": 2,
     "metadata": {},
     "output_type": "execute_result"
    }
   ],
   "source": [
    "Int64"
   ]
  },
  {
   "cell_type": "code",
   "execution_count": 6,
   "metadata": {},
   "outputs": [
    {
     "ename": "LoadError",
     "evalue": "MethodError: no method matching sum(::Int64, ::Int64, ::Float64)\n\u001b[0mClosest candidates are:\n\u001b[0m  sum(::Int64, ::Int64, \u001b[91m::Int64\u001b[39m) at In[6]:2",
     "output_type": "error",
     "traceback": [
      "MethodError: no method matching sum(::Int64, ::Int64, ::Float64)\n\u001b[0mClosest candidates are:\n\u001b[0m  sum(::Int64, ::Int64, \u001b[91m::Int64\u001b[39m) at In[6]:2",
      "",
      "Stacktrace:",
      " [1] top-level scope",
      "   @ In[6]:8",
      " [2] eval",
      "   @ ./boot.jl:373 [inlined]",
      " [3] include_string(mapexpr::typeof(REPL.softscope), mod::Module, code::String, filename::String)",
      "   @ Base ./loading.jl:1196"
     ]
    }
   ],
   "source": [
    "# specifying types for arguments in functions\n",
    "function sum(x::Int64, y::Int64, z::Int64)\n",
    "    return x + y + z\n",
    "end\n",
    "\n",
    "# when the type do not match the arguments\n",
    "# the function will give error\n",
    "sum(1, 2, 3.2)"
   ]
  },
  {
   "cell_type": "code",
   "execution_count": 8,
   "metadata": {},
   "outputs": [
    {
     "data": {
      "text/plain": [
       "sump (generic function with 1 method)"
      ]
     },
     "execution_count": 8,
     "metadata": {},
     "output_type": "execute_result"
    }
   ],
   "source": [
    "# how to indicate to a function that we want to return a certain type?\n",
    "\n",
    "# indicate an internal type for local variable\n",
    "function sump(x::Int64, y::Int64, z::Int64)\n",
    "    p::Int64 = x * y * z\n",
    "    return x + y + z + p\n",
    "end"
   ]
  },
  {
   "cell_type": "code",
   "execution_count": 9,
   "metadata": {},
   "outputs": [
    {
     "data": {
      "text/plain": [
       "12"
      ]
     },
     "execution_count": 9,
     "metadata": {},
     "output_type": "execute_result"
    }
   ],
   "source": [
    "sump(1,2,3)"
   ]
  },
  {
   "cell_type": "code",
   "execution_count": 10,
   "metadata": {},
   "outputs": [
    {
     "data": {
      "text/plain": [
       "sumvar (generic function with 1 method)"
      ]
     },
     "execution_count": 10,
     "metadata": {},
     "output_type": "execute_result"
    }
   ],
   "source": [
    "# how to pass many arguments to the function?\n",
    "# like using spread in javascript or using *args in python?\n",
    "\n",
    "function sumvar(args...)\n",
    "    sum = 0\n",
    "    for n in args\n",
    "        sum += n\n",
    "    end\n",
    "    return sum\n",
    "end\n",
    "\n",
    "# ... is called the splat operator, it is similar in Go and JavaScript"
   ]
  },
  {
   "cell_type": "code",
   "execution_count": 11,
   "metadata": {},
   "outputs": [
    {
     "data": {
      "text/plain": [
       "10"
      ]
     },
     "execution_count": 11,
     "metadata": {},
     "output_type": "execute_result"
    }
   ],
   "source": [
    "sumvar(1,1,1,1,1,2,2,1)"
   ]
  },
  {
   "cell_type": "code",
   "execution_count": 12,
   "metadata": {},
   "outputs": [
    {
     "data": {
      "text/plain": [
       "0"
      ]
     },
     "execution_count": 12,
     "metadata": {},
     "output_type": "execute_result"
    }
   ],
   "source": [
    "sumvar()"
   ]
  },
  {
   "cell_type": "code",
   "execution_count": 14,
   "metadata": {},
   "outputs": [
    {
     "data": {
      "text/plain": [
       "100"
      ]
     },
     "execution_count": 14,
     "metadata": {},
     "output_type": "execute_result"
    }
   ],
   "source": [
    "sumvar(2,3,4,100,-9)"
   ]
  },
  {
   "cell_type": "code",
   "execution_count": 21,
   "metadata": {},
   "outputs": [
    {
     "data": {
      "text/plain": [
       "sum01 (generic function with 2 methods)"
      ]
     },
     "execution_count": 21,
     "metadata": {},
     "output_type": "execute_result"
    }
   ],
   "source": [
    "# include optional arguments in functions\n",
    "# in python they are called keyword arguments\n",
    "\n",
    "# note that we include a ; after the keyword argument\n",
    "function sum01(n1, n2, n3=5; n4=-9)\n",
    "    return n1 + n2 + n3 + n4\n",
    "end"
   ]
  },
  {
   "cell_type": "code",
   "execution_count": 23,
   "metadata": {},
   "outputs": [
    {
     "data": {
      "text/plain": [
       "1"
      ]
     },
     "execution_count": 23,
     "metadata": {},
     "output_type": "execute_result"
    }
   ],
   "source": [
    "sum01(2,3)"
   ]
  },
  {
   "cell_type": "code",
   "execution_count": 25,
   "metadata": {},
   "outputs": [
    {
     "data": {
      "text/plain": [
       "0"
      ]
     },
     "execution_count": 25,
     "metadata": {},
     "output_type": "execute_result"
    }
   ],
   "source": [
    "sum01(2,3,4)"
   ]
  },
  {
   "cell_type": "code",
   "execution_count": 26,
   "metadata": {},
   "outputs": [
    {
     "data": {
      "text/plain": [
       "109"
      ]
     },
     "execution_count": 26,
     "metadata": {},
     "output_type": "execute_result"
    }
   ],
   "source": [
    "sum01(2,3,4,n4=100)"
   ]
  },
  {
   "cell_type": "code",
   "execution_count": 28,
   "metadata": {},
   "outputs": [
    {
     "ename": "LoadError",
     "evalue": "syntax: \"sum02(x, y, z)\" is not a valid function argument name around In[28]:1",
     "output_type": "error",
     "traceback": [
      "syntax: \"sum02(x, y, z)\" is not a valid function argument name around In[28]:1",
      "",
      "Stacktrace:",
      " [1] top-level scope",
      "   @ In[28]:1",
      " [2] eval",
      "   @ ./boot.jl:373 [inlined]",
      " [3] include_string(mapexpr::typeof(REPL.softscope), mod::Module, code::String, filename::String)",
      "   @ Base ./loading.jl:1196"
     ]
    }
   ],
   "source": [
    "sum02(x,y,z) -> x + y + z"
   ]
  },
  {
   "cell_type": "code",
   "execution_count": null,
   "metadata": {},
   "outputs": [],
   "source": [
    "# anonymous function\n",
    "# lambda expression\n"
   ]
  },
  {
   "cell_type": "code",
   "execution_count": 29,
   "metadata": {},
   "outputs": [
    {
     "data": {
      "text/plain": [
       "100-element Vector{Float64}:\n",
       " 0.4083114547870098\n",
       " 0.352843384642063\n",
       " 0.0439655923336697\n",
       " 0.714304220042709\n",
       " 0.17834794164604106\n",
       " 0.41280961531625415\n",
       " 0.9715852996838584\n",
       " 0.39372298857019983\n",
       " 0.7608770753630288\n",
       " 0.909661375318403\n",
       " 0.44940105418329146\n",
       " 0.2299991896854956\n",
       " 0.7167616508715993\n",
       " ⋮\n",
       " 0.022211765917892645\n",
       " 0.22410650977670454\n",
       " 0.6268412075935141\n",
       " 0.007705902299679934\n",
       " 0.13511479075119903\n",
       " 0.7746747296564317\n",
       " 0.004314969077057196\n",
       " 0.6414101219625526\n",
       " 0.3013630899404677\n",
       " 0.023621086018340787\n",
       " 0.5843140947470475\n",
       " 0.5923592710912142"
      ]
     },
     "execution_count": 29,
     "metadata": {},
     "output_type": "execute_result"
    }
   ],
   "source": [
    "# 100 random uniform values between 0 and 1\n",
    "arr = rand(100)"
   ]
  },
  {
   "cell_type": "code",
   "execution_count": 30,
   "metadata": {},
   "outputs": [
    {
     "data": {
      "text/plain": [
       "100-element Vector{Float64}:\n",
       " 0.16671824411028435\n",
       " 0.12449845408566682\n",
       " 0.001932973309250436\n",
       " 0.5102305187708228\n",
       " 0.03180798828937967\n",
       " 0.17041177849755373\n",
       " 0.943977994561773\n",
       " 0.1550177917286497\n",
       " 0.5789339238129962\n",
       " 0.8274838177461684\n",
       " 0.20196130750105368\n",
       " 0.052899627255984585\n",
       " 0.5137472641601804\n",
       " ⋮\n",
       " 0.0004933625451912573\n",
       " 0.05022372772429617\n",
       " 0.39292989953729507\n",
       " 5.93809302522125e-5\n",
       " 0.0182560066797403\n",
       " 0.6001209367682655\n",
       " 1.8618958135959827e-5\n",
       " 0.4114069445560167\n",
       " 0.09081971197846642\n",
       " 0.0005579557046858547\n",
       " 0.34142296132006167\n",
       " 0.3508895060477146"
      ]
     },
     "execution_count": 30,
     "metadata": {},
     "output_type": "execute_result"
    }
   ],
   "source": [
    "# square all the values from arr\n",
    "arr2 = map(x -> x^2, arr)\n",
    "# here we are using a lambda expression, or anonymous function\n",
    "# map is a higher order function, because it can receive another function \n",
    "# as one of its arguments"
   ]
  },
  {
   "cell_type": "code",
   "execution_count": 31,
   "metadata": {},
   "outputs": [
    {
     "data": {
      "text/plain": [
       "100-element Vector{Float64}:\n",
       " 0.16671824411028435\n",
       " 0.12449845408566682\n",
       " 0.001932973309250436\n",
       " 0.5102305187708228\n",
       " 0.03180798828937967\n",
       " 0.17041177849755373\n",
       " 0.943977994561773\n",
       " 0.1550177917286497\n",
       " 0.5789339238129962\n",
       " 0.8274838177461684\n",
       " 0.20196130750105368\n",
       " 0.052899627255984585\n",
       " 0.5137472641601804\n",
       " ⋮\n",
       " 0.0004933625451912573\n",
       " 0.05022372772429617\n",
       " 0.39292989953729507\n",
       " 5.93809302522125e-5\n",
       " 0.0182560066797403\n",
       " 0.6001209367682655\n",
       " 1.8618958135959827e-5\n",
       " 0.4114069445560167\n",
       " 0.09081971197846642\n",
       " 0.0005579557046858547\n",
       " 0.34142296132006167\n",
       " 0.3508895060477146"
      ]
     },
     "execution_count": 31,
     "metadata": {},
     "output_type": "execute_result"
    }
   ],
   "source": [
    "# we can use python list comprehension also\n",
    "arr3 = [x^2 for x in arr]"
   ]
  },
  {
   "cell_type": "code",
   "execution_count": 33,
   "metadata": {},
   "outputs": [
    {
     "data": {
      "text/plain": [
       "100"
      ]
     },
     "execution_count": 33,
     "metadata": {},
     "output_type": "execute_result"
    }
   ],
   "source": [
    "length(arr3)"
   ]
  },
  {
   "cell_type": "code",
   "execution_count": 34,
   "metadata": {},
   "outputs": [
    {
     "data": {
      "text/plain": [
       "isodd (generic function with 1 method)"
      ]
     },
     "execution_count": 34,
     "metadata": {},
     "output_type": "execute_result"
    }
   ],
   "source": [
    "isodd(n) = (n % 2 != 0)"
   ]
  },
  {
   "cell_type": "code",
   "execution_count": 35,
   "metadata": {},
   "outputs": [
    {
     "data": {
      "text/plain": [
       "false"
      ]
     },
     "execution_count": 35,
     "metadata": {},
     "output_type": "execute_result"
    }
   ],
   "source": [
    "isodd(20)"
   ]
  },
  {
   "cell_type": "code",
   "execution_count": 36,
   "metadata": {},
   "outputs": [
    {
     "data": {
      "text/plain": [
       "true"
      ]
     },
     "execution_count": 36,
     "metadata": {},
     "output_type": "execute_result"
    }
   ],
   "source": [
    "isodd(9999)"
   ]
  },
  {
   "cell_type": "code",
   "execution_count": 39,
   "metadata": {},
   "outputs": [
    {
     "data": {
      "text/plain": [
       "10000"
      ]
     },
     "execution_count": 39,
     "metadata": {},
     "output_type": "execute_result"
    }
   ],
   "source": [
    "2_000 * 5"
   ]
  },
  {
   "cell_type": "code",
   "execution_count": 41,
   "metadata": {},
   "outputs": [
    {
     "data": {
      "text/plain": [
       "56-element Vector{Int64}:\n",
       " 53\n",
       " 51\n",
       " 93\n",
       " 69\n",
       " 67\n",
       " 77\n",
       " 55\n",
       " 49\n",
       " 87\n",
       " 81\n",
       " 91\n",
       " 95\n",
       " 65\n",
       "  ⋮\n",
       " 77\n",
       " 31\n",
       "  3\n",
       " 57\n",
       " 65\n",
       " 57\n",
       " 31\n",
       " 95\n",
       "  1\n",
       "  7\n",
       " 59\n",
       " 79"
      ]
     },
     "execution_count": 41,
     "metadata": {},
     "output_type": "execute_result"
    }
   ],
   "source": [
    "filter(isodd, round.(Int64, rand(100) * 100))"
   ]
  },
  {
   "cell_type": "code",
   "execution_count": 42,
   "metadata": {},
   "outputs": [
    {
     "data": {
      "text/plain": [
       "44-element Vector{Int64}:\n",
       " 89\n",
       " 19\n",
       " 31\n",
       " 39\n",
       " 75\n",
       " 17\n",
       " 31\n",
       " 25\n",
       " 59\n",
       " 47\n",
       "  3\n",
       " 91\n",
       " 21\n",
       "  ⋮\n",
       " 69\n",
       " 11\n",
       " 43\n",
       " 63\n",
       " 57\n",
       "  7\n",
       " 79\n",
       " 85\n",
       "  7\n",
       " 53\n",
       "  9\n",
       " 77"
      ]
     },
     "execution_count": 42,
     "metadata": {},
     "output_type": "execute_result"
    }
   ],
   "source": [
    "filter(n -> n % 2 != 0, round.(Int64, rand(100) * 100))"
   ]
  },
  {
   "cell_type": "code",
   "execution_count": null,
   "metadata": {},
   "outputs": [],
   "source": [
    "# julia also has reduce and fold functions\n"
   ]
  },
  {
   "cell_type": "code",
   "execution_count": null,
   "metadata": {},
   "outputs": [],
   "source": []
  },
  {
   "cell_type": "code",
   "execution_count": null,
   "metadata": {},
   "outputs": [],
   "source": []
  },
  {
   "cell_type": "code",
   "execution_count": null,
   "metadata": {},
   "outputs": [],
   "source": []
  },
  {
   "cell_type": "code",
   "execution_count": null,
   "metadata": {},
   "outputs": [],
   "source": []
  },
  {
   "cell_type": "code",
   "execution_count": null,
   "metadata": {},
   "outputs": [],
   "source": []
  }
 ],
 "metadata": {
  "kernelspec": {
   "display_name": "Julia 1.7.2",
   "language": "julia",
   "name": "julia-1.7"
  },
  "language_info": {
   "file_extension": ".jl",
   "mimetype": "application/julia",
   "name": "julia",
   "version": "1.7.2"
  },
  "orig_nbformat": 4
 },
 "nbformat": 4,
 "nbformat_minor": 2
}
