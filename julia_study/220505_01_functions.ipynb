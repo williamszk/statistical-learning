{
 "cells": [
  {
   "cell_type": "code",
   "execution_count": 1,
   "metadata": {},
   "outputs": [],
   "source": [
    "# https://www.udemy.com/course/learning-path-julia-explore-data-science-with-julia/learn/lecture/6792676?start=15#overview\n",
    "# julia is a functional language"
   ]
  },
  {
   "cell_type": "code",
   "execution_count": 1,
   "metadata": {},
   "outputs": [
    {
     "data": {
      "text/plain": [
       "2"
      ]
     },
     "execution_count": 1,
     "metadata": {},
     "output_type": "execute_result"
    }
   ],
   "source": [
    "1 + 1"
   ]
  },
  {
   "cell_type": "code",
   "execution_count": 2,
   "metadata": {},
   "outputs": [
    {
     "data": {
      "text/plain": [
       "sum (generic function with 1 method)"
      ]
     },
     "execution_count": 2,
     "metadata": {},
     "output_type": "execute_result"
    }
   ],
   "source": [
    "function sum(x,y,z)\n",
    "    return x + y + z\n",
    "    # the key word return is optional\n",
    "    # the function will return the value of the last expression\n",
    "end"
   ]
  },
  {
   "cell_type": "code",
   "execution_count": 3,
   "metadata": {},
   "outputs": [
    {
     "data": {
      "text/plain": [
       "6"
      ]
     },
     "execution_count": 3,
     "metadata": {},
     "output_type": "execute_result"
    }
   ],
   "source": [
    "sum(1,2,3)"
   ]
  },
  {
   "cell_type": "code",
   "execution_count": 4,
   "metadata": {},
   "outputs": [
    {
     "name": "stdout",
     "output_type": "stream",
     "text": [
      "9.600000000000001\n",
      "2\n"
     ]
    }
   ],
   "source": [
    "# julia functions are generic, in the sense that it works with many\n",
    "# types of arguments\n",
    "println(sum(2.1, 3.2, 4.3))\n",
    "println(sum(true, false, true))"
   ]
  },
  {
   "cell_type": "code",
   "execution_count": 5,
   "metadata": {},
   "outputs": [
    {
     "data": {
      "text/plain": [
       "typeof(sum)"
      ]
     },
     "execution_count": 5,
     "metadata": {},
     "output_type": "execute_result"
    }
   ],
   "source": [
    "typeof(sum)"
   ]
  },
  {
   "cell_type": "code",
   "execution_count": 6,
   "metadata": {},
   "outputs": [
    {
     "ename": "MethodError",
     "evalue": "\u001b[91mMethodError: no method matching +(::String, ::Int64)\u001b[39m\n\u001b[91m\u001b[0mClosest candidates are:\u001b[39m\n\u001b[91m\u001b[0m  +(::Any, ::Any, \u001b[91m::Any\u001b[39m, \u001b[91m::Any...\u001b[39m) at operators.jl:529\u001b[39m\n\u001b[91m\u001b[0m  +(\u001b[91m::Complex{Bool}\u001b[39m, ::Real) at complex.jl:301\u001b[39m\n\u001b[91m\u001b[0m  +(\u001b[91m::Missing\u001b[39m, ::Number) at missing.jl:115\u001b[39m\n\u001b[91m\u001b[0m  ...\u001b[39m",
     "output_type": "error",
     "traceback": [
      "\u001b[91mMethodError: no method matching +(::String, ::Int64)\u001b[39m\n\u001b[91m\u001b[0mClosest candidates are:\u001b[39m\n\u001b[91m\u001b[0m  +(::Any, ::Any, \u001b[91m::Any\u001b[39m, \u001b[91m::Any...\u001b[39m) at operators.jl:529\u001b[39m\n\u001b[91m\u001b[0m  +(\u001b[91m::Complex{Bool}\u001b[39m, ::Real) at complex.jl:301\u001b[39m\n\u001b[91m\u001b[0m  +(\u001b[91m::Missing\u001b[39m, ::Number) at missing.jl:115\u001b[39m\n\u001b[91m\u001b[0m  ...\u001b[39m",
      "",
      "Stacktrace:",
      " [1] +(::String, ::Int64, ::Bool) at ./operators.jl:529",
      " [2] sum(::String, ::Int64, ::Bool) at ./In[2]:2",
      " [3] top-level scope at In[6]:1"
     ]
    }
   ],
   "source": [
    "# try to sum an integer, string and boolean\n",
    "sum(\"Iris\", 7, true)"
   ]
  },
  {
   "cell_type": "code",
   "execution_count": 2,
   "metadata": {},
   "outputs": [
    {
     "data": {
      "text/plain": [
       "Int64"
      ]
     },
     "execution_count": 2,
     "metadata": {},
     "output_type": "execute_result"
    }
   ],
   "source": [
    "Int64"
   ]
  },
  {
   "cell_type": "code",
   "execution_count": 8,
   "metadata": {},
   "outputs": [
    {
     "data": {
      "text/plain": [
       "DataType"
      ]
     },
     "execution_count": 8,
     "metadata": {},
     "output_type": "execute_result"
    }
   ],
   "source": [
    "typeof(Int64) "
   ]
  },
  {
   "cell_type": "code",
   "execution_count": 9,
   "metadata": {},
   "outputs": [
    {
     "data": {
      "text/plain": [
       "6.2"
      ]
     },
     "execution_count": 9,
     "metadata": {},
     "output_type": "execute_result"
    }
   ],
   "source": [
    "# specifying types for arguments in functions\n",
    "function sum(x::Int64, y::Int64, z::Int64)\n",
    "    return x + y + z\n",
    "end\n",
    "\n",
    "# when the type do not match the arguments\n",
    "# the function will give error\n",
    "sum(1, 2, 3.2)"
   ]
  },
  {
   "cell_type": "code",
   "execution_count": 10,
   "metadata": {},
   "outputs": [
    {
     "data": {
      "text/plain": [
       "sump (generic function with 1 method)"
      ]
     },
     "execution_count": 10,
     "metadata": {},
     "output_type": "execute_result"
    }
   ],
   "source": [
    "# how to indicate to a function that we want to return a certain type?\n",
    "\n",
    "# indicate an internal type for local variable\n",
    "function sump(x::Int64, y::Int64, z::Int64)\n",
    "    p::Int64 = x * y * z\n",
    "    return x + y + z + p\n",
    "end"
   ]
  },
  {
   "cell_type": "code",
   "execution_count": 11,
   "metadata": {},
   "outputs": [
    {
     "data": {
      "text/plain": [
       "12"
      ]
     },
     "execution_count": 11,
     "metadata": {},
     "output_type": "execute_result"
    }
   ],
   "source": [
    "sump(1,2,3)"
   ]
  },
  {
   "cell_type": "code",
   "execution_count": 12,
   "metadata": {},
   "outputs": [
    {
     "data": {
      "text/plain": [
       "sumvar (generic function with 1 method)"
      ]
     },
     "execution_count": 12,
     "metadata": {},
     "output_type": "execute_result"
    }
   ],
   "source": [
    "# how to pass many arguments to the function?\n",
    "# like using spread in javascript or using *args in python?\n",
    "\n",
    "function sumvar(args...)\n",
    "    sum = 0\n",
    "    for n in args\n",
    "        sum += n\n",
    "    end\n",
    "    return sum\n",
    "end\n",
    "\n",
    "# ... is called the splat operator, it is similar in Go and JavaScript"
   ]
  },
  {
   "cell_type": "code",
   "execution_count": 13,
   "metadata": {},
   "outputs": [
    {
     "data": {
      "text/plain": [
       "10"
      ]
     },
     "execution_count": 13,
     "metadata": {},
     "output_type": "execute_result"
    }
   ],
   "source": [
    "sumvar(1,1,1,1,1,2,2,1)"
   ]
  },
  {
   "cell_type": "code",
   "execution_count": 14,
   "metadata": {},
   "outputs": [
    {
     "data": {
      "text/plain": [
       "0"
      ]
     },
     "execution_count": 14,
     "metadata": {},
     "output_type": "execute_result"
    }
   ],
   "source": [
    "sumvar()"
   ]
  },
  {
   "cell_type": "code",
   "execution_count": 15,
   "metadata": {},
   "outputs": [
    {
     "data": {
      "text/plain": [
       "100"
      ]
     },
     "execution_count": 15,
     "metadata": {},
     "output_type": "execute_result"
    }
   ],
   "source": [
    "sumvar(2,3,4,100,-9)"
   ]
  },
  {
   "cell_type": "code",
   "execution_count": 16,
   "metadata": {},
   "outputs": [
    {
     "data": {
      "text/plain": [
       "sum01 (generic function with 2 methods)"
      ]
     },
     "execution_count": 16,
     "metadata": {},
     "output_type": "execute_result"
    }
   ],
   "source": [
    "# include optional arguments in functions\n",
    "# in python they are called keyword arguments\n",
    "\n",
    "# note that we include a ; after the keyword argument\n",
    "function sum01(n1, n2, n3=5; n4=-9)\n",
    "    return n1 + n2 + n3 + n4\n",
    "end"
   ]
  },
  {
   "cell_type": "code",
   "execution_count": 17,
   "metadata": {},
   "outputs": [
    {
     "data": {
      "text/plain": [
       "1"
      ]
     },
     "execution_count": 17,
     "metadata": {},
     "output_type": "execute_result"
    }
   ],
   "source": [
    "sum01(2,3)"
   ]
  },
  {
   "cell_type": "code",
   "execution_count": 18,
   "metadata": {},
   "outputs": [
    {
     "data": {
      "text/plain": [
       "0"
      ]
     },
     "execution_count": 18,
     "metadata": {},
     "output_type": "execute_result"
    }
   ],
   "source": [
    "sum01(2,3,4)"
   ]
  },
  {
   "cell_type": "code",
   "execution_count": 19,
   "metadata": {},
   "outputs": [
    {
     "data": {
      "text/plain": [
       "109"
      ]
     },
     "execution_count": 19,
     "metadata": {},
     "output_type": "execute_result"
    }
   ],
   "source": [
    "sum01(2,3,4,n4=100)"
   ]
  },
  {
   "cell_type": "code",
   "execution_count": 20,
   "metadata": {},
   "outputs": [
    {
     "ename": "ErrorException",
     "evalue": "\u001b[91msyntax: \"sum02(x, y, z)\" is not a valid function argument name\u001b[39m",
     "output_type": "error",
     "traceback": [
      "\u001b[91msyntax: \"sum02(x, y, z)\" is not a valid function argument name\u001b[39m",
      "",
      "Stacktrace:",
      " [1] top-level scope at /root/.julia/packages/IJulia/e8kqU/src/kernel.jl:53"
     ]
    }
   ],
   "source": [
    "sum02(x,y,z) -> x + y + z"
   ]
  },
  {
   "cell_type": "code",
   "execution_count": null,
   "metadata": {},
   "outputs": [],
   "source": [
    "# anonymous function\n",
    "# lambda expression\n"
   ]
  },
  {
   "cell_type": "code",
   "execution_count": 21,
   "metadata": {},
   "outputs": [
    {
     "data": {
      "text/plain": [
       "100-element Array{Float64,1}:\n",
       " 0.7703886262751307\n",
       " 0.045581931383547714\n",
       " 0.8484969552019797\n",
       " 0.2573035179453995\n",
       " 0.2508725446245492\n",
       " 0.7534067007711329\n",
       " 0.7665222287985249\n",
       " 0.7402889397698429\n",
       " 0.15832427443682295\n",
       " 0.5704780975825918\n",
       " 0.1062830124573726\n",
       " 0.8426172129565082\n",
       " 0.6481002687558424\n",
       " ⋮\n",
       " 0.5049076787880455\n",
       " 0.15508570616367456\n",
       " 0.5056160138035963\n",
       " 0.30950033273206423\n",
       " 0.6554734497978176\n",
       " 0.45178570873832324\n",
       " 0.6165531138421823\n",
       " 0.4121388505630479\n",
       " 0.1932312400820695\n",
       " 0.5895084891325524\n",
       " 0.6109569286092551\n",
       " 0.5798551430581731"
      ]
     },
     "execution_count": 21,
     "metadata": {},
     "output_type": "execute_result"
    }
   ],
   "source": [
    "# 100 random uniform values between 0 and 1\n",
    "arr = rand(100)"
   ]
  },
  {
   "cell_type": "code",
   "execution_count": 22,
   "metadata": {},
   "outputs": [
    {
     "data": {
      "text/plain": [
       "100-element Array{Float64,1}:\n",
       " 0.593498635494083\n",
       " 0.002077712468654452\n",
       " 0.7199470829870303\n",
       " 0.06620510034707854\n",
       " 0.06293703364639644\n",
       " 0.5676216567668434\n",
       " 0.5875563272422583\n",
       " 0.5480277143455581\n",
       " 0.02506657587594643\n",
       " 0.32544525982145317\n",
       " 0.011296078737014019\n",
       " 0.7100037675705935\n",
       " 0.4200339583613951\n",
       " ⋮\n",
       " 0.25493176409913215\n",
       " 0.024051576256285605\n",
       " 0.2556475534146385\n",
       " 0.09579045596125847\n",
       " 0.42964544338985217\n",
       " 0.20411032662018905\n",
       " 0.38013774218849095\n",
       " 0.16985843214343033\n",
       " 0.03733831214365438\n",
       " 0.3475202587593446\n",
       " 0.37326836861565443\n",
       " 0.33623198693101436"
      ]
     },
     "execution_count": 22,
     "metadata": {},
     "output_type": "execute_result"
    }
   ],
   "source": [
    "# square all the values from arr\n",
    "arr2 = map(x -> x^2, arr)\n",
    "# here we are using a lambda expression, or anonymous function\n",
    "# map is a higher order function, because it can receive another function \n",
    "# as one of its arguments"
   ]
  },
  {
   "cell_type": "code",
   "execution_count": 23,
   "metadata": {},
   "outputs": [
    {
     "data": {
      "text/plain": [
       "100-element Array{Float64,1}:\n",
       " 0.593498635494083\n",
       " 0.002077712468654452\n",
       " 0.7199470829870303\n",
       " 0.06620510034707854\n",
       " 0.06293703364639644\n",
       " 0.5676216567668434\n",
       " 0.5875563272422583\n",
       " 0.5480277143455581\n",
       " 0.02506657587594643\n",
       " 0.32544525982145317\n",
       " 0.011296078737014019\n",
       " 0.7100037675705935\n",
       " 0.4200339583613951\n",
       " ⋮\n",
       " 0.25493176409913215\n",
       " 0.024051576256285605\n",
       " 0.2556475534146385\n",
       " 0.09579045596125847\n",
       " 0.42964544338985217\n",
       " 0.20411032662018905\n",
       " 0.38013774218849095\n",
       " 0.16985843214343033\n",
       " 0.03733831214365438\n",
       " 0.3475202587593446\n",
       " 0.37326836861565443\n",
       " 0.33623198693101436"
      ]
     },
     "execution_count": 23,
     "metadata": {},
     "output_type": "execute_result"
    }
   ],
   "source": [
    "# we can use python list comprehension also\n",
    "arr3 = [x^2 for x in arr]"
   ]
  },
  {
   "cell_type": "code",
   "execution_count": 26,
   "metadata": {},
   "outputs": [
    {
     "data": {
      "text/plain": [
       "100"
      ]
     },
     "execution_count": 26,
     "metadata": {},
     "output_type": "execute_result"
    }
   ],
   "source": [
    "length(arr3)"
   ]
  },
  {
   "cell_type": "code",
   "execution_count": 27,
   "metadata": {},
   "outputs": [
    {
     "data": {
      "text/plain": [
       "isodd (generic function with 1 method)"
      ]
     },
     "execution_count": 27,
     "metadata": {},
     "output_type": "execute_result"
    }
   ],
   "source": [
    "isodd(n) = (n % 2 != 0)"
   ]
  },
  {
   "cell_type": "code",
   "execution_count": 28,
   "metadata": {},
   "outputs": [
    {
     "data": {
      "text/plain": [
       "false"
      ]
     },
     "execution_count": 28,
     "metadata": {},
     "output_type": "execute_result"
    }
   ],
   "source": [
    "isodd(20)"
   ]
  },
  {
   "cell_type": "code",
   "execution_count": 29,
   "metadata": {},
   "outputs": [
    {
     "data": {
      "text/plain": [
       "true"
      ]
     },
     "execution_count": 29,
     "metadata": {},
     "output_type": "execute_result"
    }
   ],
   "source": [
    "isodd(9999)"
   ]
  },
  {
   "cell_type": "code",
   "execution_count": 30,
   "metadata": {},
   "outputs": [
    {
     "data": {
      "text/plain": [
       "10000"
      ]
     },
     "execution_count": 30,
     "metadata": {},
     "output_type": "execute_result"
    }
   ],
   "source": [
    "2_000 * 5"
   ]
  },
  {
   "cell_type": "code",
   "execution_count": 31,
   "metadata": {},
   "outputs": [
    {
     "data": {
      "text/plain": [
       "51-element Array{Int64,1}:\n",
       " 61\n",
       " 87\n",
       "  1\n",
       " 73\n",
       " 91\n",
       " 23\n",
       " 91\n",
       " 87\n",
       " 15\n",
       " 79\n",
       " 45\n",
       " 21\n",
       " 93\n",
       "  ⋮\n",
       " 91\n",
       " 47\n",
       " 11\n",
       " 83\n",
       " 17\n",
       " 75\n",
       " 79\n",
       " 65\n",
       " 69\n",
       " 19\n",
       " 35\n",
       " 77"
      ]
     },
     "execution_count": 31,
     "metadata": {},
     "output_type": "execute_result"
    }
   ],
   "source": [
    "filter(isodd, round.(Int64, rand(100) * 100))"
   ]
  },
  {
   "cell_type": "code",
   "execution_count": 32,
   "metadata": {},
   "outputs": [
    {
     "data": {
      "text/plain": [
       "52-element Array{Int64,1}:\n",
       "  7\n",
       "  1\n",
       " 13\n",
       " 27\n",
       " 83\n",
       " 85\n",
       " 71\n",
       " 59\n",
       " 77\n",
       " 37\n",
       " 41\n",
       " 27\n",
       " 75\n",
       "  ⋮\n",
       " 17\n",
       " 41\n",
       " 57\n",
       " 39\n",
       " 47\n",
       " 77\n",
       " 79\n",
       " 59\n",
       " 93\n",
       " 31\n",
       " 27\n",
       "  3"
      ]
     },
     "execution_count": 32,
     "metadata": {},
     "output_type": "execute_result"
    }
   ],
   "source": [
    "filter(n -> n % 2 != 0, round.(Int64, rand(100) * 100))"
   ]
  },
  {
   "cell_type": "code",
   "execution_count": null,
   "metadata": {},
   "outputs": [],
   "source": [
    "# julia also has reduce and fold functions\n"
   ]
  },
  {
   "cell_type": "code",
   "execution_count": null,
   "metadata": {},
   "outputs": [],
   "source": []
  }
 ],
 "metadata": {
  "kernelspec": {
   "display_name": "Julia 1.4.1",
   "language": "julia",
   "name": "julia-1.4"
  },
  "language_info": {
   "file_extension": ".jl",
   "mimetype": "application/julia",
   "name": "julia",
   "version": "1.4.1"
  },
  "orig_nbformat": 4
 },
 "nbformat": 4,
 "nbformat_minor": 2
}
