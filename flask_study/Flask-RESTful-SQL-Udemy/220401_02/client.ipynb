{
 "cells": [
  {
   "cell_type": "code",
   "execution_count": 11,
   "metadata": {},
   "outputs": [],
   "source": [
    "import requests"
   ]
  },
  {
   "cell_type": "code",
   "execution_count": 12,
   "metadata": {},
   "outputs": [
    {
     "name": "stdout",
     "output_type": "stream",
     "text": [
      "201\n",
      "{'message': 'User created successfully.'}\n"
     ]
    }
   ],
   "source": [
    "#----------------------------------#\n",
    "# Create an user\n",
    "#----------------------------------#\n",
    "res = requests.post(\"http://127.0.0.1:5000/register\", json={\"username\": \"jose\", \"password\": \"asdf\"})\n",
    "print(res.status_code)\n",
    "res_json = res.json()\n",
    "print(res_json)"
   ]
  },
  {
   "cell_type": "code",
   "execution_count": 18,
   "metadata": {},
   "outputs": [
    {
     "name": "stdout",
     "output_type": "stream",
     "text": [
      "200\n"
     ]
    }
   ],
   "source": [
    "#----------------------------------#\n",
    "# Authenticate an user\n",
    "#----------------------------------#\n",
    "res = requests.post(\"http://127.0.0.1:5000/auth\", json={\"username\": \"jose\", \"password\": \"asdf\"})\n",
    "print(res.status_code)\n",
    "res_json = res.json()\n",
    "# print(res_json)\n",
    "access_token = res_json[\"access_token\"]"
   ]
  },
  {
   "cell_type": "code",
   "execution_count": 19,
   "metadata": {},
   "outputs": [
    {
     "name": "stdout",
     "output_type": "stream",
     "text": [
      "400\n",
      "{\n",
      "    \"message\": \"The item already exists\"\n",
      "}\n",
      "\n"
     ]
    }
   ],
   "source": [
    "#----------------------------------#\n",
    "# Create a new item\n",
    "#----------------------------------#\n",
    "res = requests.post(\"http://localhost:5000/item/piano\", \n",
    "    json={\"price\": 19.99}, \n",
    "    headers={\"Authorization\": \"JWT \"+access_token})\n",
    "print(res.status_code)\n",
    "print(res.text)"
   ]
  },
  {
   "cell_type": "code",
   "execution_count": 20,
   "metadata": {},
   "outputs": [
    {
     "name": "stdout",
     "output_type": "stream",
     "text": [
      "200\n",
      "{\n",
      "    \"items\": [\n",
      "        {\n",
      "            \"name\": \"piano\",\n",
      "            \"price\": 99.0\n",
      "        }\n",
      "    ]\n",
      "}\n",
      "\n"
     ]
    }
   ],
   "source": [
    "#----------------------------------#\n",
    "# Read all items\n",
    "#----------------------------------#\n",
    "\n",
    "res = requests.get(\"http://localhost:5000/items\",\n",
    "    headers={\"Authorization\": \"JWT \"+access_token})\n",
    "print(res.status_code)\n",
    "print(res.text)"
   ]
  },
  {
   "cell_type": "code",
   "execution_count": 21,
   "metadata": {},
   "outputs": [
    {
     "name": "stdout",
     "output_type": "stream",
     "text": [
      "200\n",
      "{\n",
      "    \"name\": \"piano\",\n",
      "    \"price\": 99.0\n",
      "}\n",
      "\n"
     ]
    }
   ],
   "source": [
    "#----------------------------------#\n",
    "# Update an item\n",
    "#----------------------------------#\n",
    "\n",
    "res = requests.put(\"http://localhost:5000/item/piano\", \n",
    "    json={\"price\": 99, \"name\": \"car\", \"color\": \"green\"}, \n",
    "    headers={\"Authorization\": \"JWT \"+access_token})\n",
    "print(res.status_code)\n",
    "print(res.text)"
   ]
  },
  {
   "cell_type": "code",
   "execution_count": 22,
   "metadata": {},
   "outputs": [
    {
     "name": "stdout",
     "output_type": "stream",
     "text": [
      "200\n",
      "{\n",
      "    \"items\": [\n",
      "        {\n",
      "            \"name\": \"piano\",\n",
      "            \"price\": 99.0\n",
      "        }\n",
      "    ]\n",
      "}\n",
      "\n"
     ]
    }
   ],
   "source": [
    "#----------------------------------#\n",
    "# Read all items\n",
    "#----------------------------------#\n",
    "\n",
    "res = requests.get(\"http://localhost:5000/items\",\n",
    "    headers={\"Authorization\": \"JWT \"+access_token})\n",
    "print(res.status_code)\n",
    "print(res.text)"
   ]
  },
  {
   "cell_type": "code",
   "execution_count": null,
   "metadata": {},
   "outputs": [],
   "source": []
  }
 ],
 "metadata": {
  "interpreter": {
   "hash": "da7f233ee3ba78b0a0249af3abf5ed1898eb036399ea0f41c1e7938fd1d5a177"
  },
  "kernelspec": {
   "display_name": "Python 3.9.12 ('.venv': venv)",
   "language": "python",
   "name": "python3"
  },
  "language_info": {
   "codemirror_mode": {
    "name": "ipython",
    "version": 3
   },
   "file_extension": ".py",
   "mimetype": "text/x-python",
   "name": "python",
   "nbconvert_exporter": "python",
   "pygments_lexer": "ipython3",
   "version": "3.9.12"
  },
  "orig_nbformat": 4
 },
 "nbformat": 4,
 "nbformat_minor": 2
}
