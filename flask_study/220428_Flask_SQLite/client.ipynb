{
 "cells": [
  {
   "cell_type": "code",
   "execution_count": 76,
   "metadata": {},
   "outputs": [],
   "source": [
    "import requests"
   ]
  },
  {
   "cell_type": "code",
   "execution_count": 77,
   "metadata": {},
   "outputs": [],
   "source": [
    "# Util functions\n",
    "\n",
    "def pretty(d, indent=0):\n",
    "    for key, value in d.items():\n",
    "        print('\\t' * indent + str(key)+\":\")\n",
    "        if isinstance(value, dict):\n",
    "            pretty(value, indent+1)\n",
    "        else:\n",
    "            print('\\t' * (indent+1) + str(value))\n",
    "\n",
    "def print_http_response(res):\n",
    "    print(\"+-----------------------------------------------------------+\")\n",
    "    print(f\"Status Code: {res.status_code}\")\n",
    "    # resjson = res.json() # use if we wanted to see the json file\n",
    "\n",
    "    # print(\"\\n\\nHTTP Response Header:\")\n",
    "    # pretty(res.headers)\n",
    "\n",
    "    print(\"\\nHTTP Response Body:\")\n",
    "    print(res.text)\n",
    "    print()\n",
    "    print(\"+-----------------------------------------------------------+\")"
   ]
  },
  {
   "cell_type": "code",
   "execution_count": 78,
   "metadata": {},
   "outputs": [
    {
     "name": "stdout",
     "output_type": "stream",
     "text": [
      "+-----------------------------------------------------------+\n",
      "Status Code: 200\n",
      "\n",
      "HTTP Response Body:\n",
      "{\n",
      "    \"message\": \"User created successfully.\"\n",
      "}\n",
      "\n",
      "\n",
      "+-----------------------------------------------------------+\n"
     ]
    }
   ],
   "source": [
    "# ====================================== #\n",
    "# Register a new user Dennis\n",
    "# ====================================== #\n",
    "res = requests.post(\"http://127.0.0.1:5000/register\",\n",
    "    json={  \"username\": \"Dennis\",\n",
    "            \"password\": \"Ritchie\"}\n",
    ")\n",
    "print_http_response(res)"
   ]
  },
  {
   "cell_type": "code",
   "execution_count": null,
   "metadata": {},
   "outputs": [],
   "source": [
    "# ====================================== #\n",
    "# Example of wrong register of user\n",
    "# ====================================== #\n",
    "res = requests.post(\"http://127.0.0.1:5000/register\",\n",
    "    json={  \"username\": \"Bob\"} # there is no password, the program should give an error\n",
    ")\n",
    "print_http_response(res)"
   ]
  },
  {
   "cell_type": "code",
   "execution_count": 79,
   "metadata": {},
   "outputs": [],
   "source": [
    "# ====================================== #\n",
    "# To request an access token for Dennis Ritchie\n",
    "# ====================================== #\n",
    "res = requests.post(\"http://127.0.0.1:5000/auth\",\n",
    "                   json={   \"username\": \"Dennis\",\n",
    "                            \"password\": \"Ritchie\"})\n",
    "access_token = res.json()[\"access_token\"]"
   ]
  },
  {
   "cell_type": "code",
   "execution_count": null,
   "metadata": {},
   "outputs": [],
   "source": [
    "# ====================================== #\n",
    "# To request an access token\n",
    "# ====================================== #\n",
    "res = requests.post(\"http://127.0.0.1:5000/auth\",\n",
    "                   json={ # this is the body of the request, it needs to have\n",
    "                       \"username\": \"jose\", # the username and password\n",
    "                       \"password\": \"asdf\"\n",
    "                       })\n",
    "access_token = res.json()[\"access_token\"]"
   ]
  },
  {
   "cell_type": "code",
   "execution_count": null,
   "metadata": {},
   "outputs": [],
   "source": [
    "res = requests.post(\"http://127.0.0.1:5000/item/chair\", json={\"price\": 1982.00})\n",
    "print_http_response(res)"
   ]
  },
  {
   "cell_type": "code",
   "execution_count": 81,
   "metadata": {},
   "outputs": [
    {
     "name": "stdout",
     "output_type": "stream",
     "text": [
      "+-----------------------------------------------------------+\n",
      "Status Code: 200\n",
      "\n",
      "HTTP Response Body:\n",
      "{\n",
      "    \"items\": [\n",
      "        {\n",
      "            \"name\": \"chair\",\n",
      "            \"price\": 1982.0\n",
      "        }\n",
      "    ]\n",
      "}\n",
      "\n",
      "\n",
      "+-----------------------------------------------------------+\n"
     ]
    }
   ],
   "source": [
    "res = requests.get(\"http://127.0.0.1:5000/items\")\n",
    "print_http_response(res)"
   ]
  },
  {
   "cell_type": "code",
   "execution_count": 82,
   "metadata": {},
   "outputs": [
    {
     "name": "stdout",
     "output_type": "stream",
     "text": [
      "+-----------------------------------------------------------+\n",
      "Status Code: 404\n",
      "\n",
      "HTTP Response Body:\n",
      "{\n",
      "    \"item\": null\n",
      "}\n",
      "\n",
      "\n",
      "+-----------------------------------------------------------+\n"
     ]
    }
   ],
   "source": [
    "# This request needs a token.\n",
    "# This is what logged in means to a server.\n",
    "# We need to prove that we have an information that only the user can have.\n",
    "# This happens because API requests are independent of each other.\n",
    "# But we can carry information in the request so that we can authenticate the user.\n",
    "res = requests.get(\"http://127.0.0.1:5000/item/piano\", \n",
    "    headers={\"Authorization\": \"JWT \" + access_token})\n",
    "print_http_response(res)"
   ]
  },
  {
   "cell_type": "code",
   "execution_count": 83,
   "metadata": {},
   "outputs": [
    {
     "name": "stdout",
     "output_type": "stream",
     "text": [
      "+-----------------------------------------------------------+\n",
      "Status Code: 401\n",
      "\n",
      "HTTP Response Body:\n",
      "{\n",
      "  \"description\": \"Request does not contain an access token\", \n",
      "  \"error\": \"Authorization Required\", \n",
      "  \"status_code\": 401\n",
      "}\n",
      "\n",
      "\n",
      "+-----------------------------------------------------------+\n"
     ]
    }
   ],
   "source": [
    "res = requests.get(\"http://127.0.0.1:5000/item/chair\")\n",
    "print_http_response(res)"
   ]
  },
  {
   "cell_type": "code",
   "execution_count": 84,
   "metadata": {},
   "outputs": [
    {
     "name": "stdout",
     "output_type": "stream",
     "text": [
      "+-----------------------------------------------------------+\n",
      "Status Code: 401\n",
      "\n",
      "HTTP Response Body:\n",
      "{\n",
      "  \"description\": \"Request does not contain an access token\", \n",
      "  \"error\": \"Authorization Required\", \n",
      "  \"status_code\": 401\n",
      "}\n",
      "\n",
      "\n",
      "+-----------------------------------------------------------+\n"
     ]
    }
   ],
   "source": [
    "res = requests.get(\"http://127.0.0.1:5000/item/piano\")\n",
    "print_http_response(res)"
   ]
  },
  {
   "cell_type": "code",
   "execution_count": 85,
   "metadata": {},
   "outputs": [
    {
     "name": "stdout",
     "output_type": "stream",
     "text": [
      "+-----------------------------------------------------------+\n",
      "Status Code: 400\n",
      "\n",
      "HTTP Response Body:\n",
      "{\n",
      "    \"message\": \"An item with name 'chair' already exists.\"\n",
      "}\n",
      "\n",
      "\n",
      "+-----------------------------------------------------------+\n"
     ]
    }
   ],
   "source": [
    "res = requests.post(\"http://127.0.0.1:5000/item/chair\", json={\"price\":99.00})\n",
    "print_http_response(res)"
   ]
  },
  {
   "cell_type": "code",
   "execution_count": 86,
   "metadata": {},
   "outputs": [
    {
     "name": "stdout",
     "output_type": "stream",
     "text": [
      "+-----------------------------------------------------------+\n",
      "Status Code: 200\n",
      "\n",
      "HTTP Response Body:\n",
      "{\n",
      "    \"items\": [\n",
      "        {\n",
      "            \"name\": \"chair\",\n",
      "            \"price\": 1982.0\n",
      "        }\n",
      "    ]\n",
      "}\n",
      "\n",
      "\n",
      "+-----------------------------------------------------------+\n"
     ]
    }
   ],
   "source": [
    "res = requests.get(\"http://127.0.0.1:5000/items\")\n",
    "print_http_response(res)"
   ]
  },
  {
   "cell_type": "code",
   "execution_count": null,
   "metadata": {},
   "outputs": [],
   "source": []
  },
  {
   "cell_type": "code",
   "execution_count": null,
   "metadata": {},
   "outputs": [],
   "source": []
  },
  {
   "cell_type": "code",
   "execution_count": null,
   "metadata": {},
   "outputs": [],
   "source": []
  }
 ],
 "metadata": {
  "interpreter": {
   "hash": "0572692ec15b475301c6d4dac81e7f3a88103aaf3ccfccebd42cc1e29f4d7ff1"
  },
  "kernelspec": {
   "display_name": "Python 3.9.12 64-bit (windows store)",
   "language": "python",
   "name": "python3"
  },
  "language_info": {
   "codemirror_mode": {
    "name": "ipython",
    "version": 3
   },
   "file_extension": ".py",
   "mimetype": "text/x-python",
   "name": "python",
   "nbconvert_exporter": "python",
   "pygments_lexer": "ipython3",
   "version": "3.9.12"
  },
  "orig_nbformat": 4
 },
 "nbformat": 4,
 "nbformat_minor": 2
}
