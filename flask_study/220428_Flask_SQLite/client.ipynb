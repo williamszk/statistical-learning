{
 "cells": [
  {
   "cell_type": "markdown",
   "metadata": {},
   "source": [
    "## Define and import"
   ]
  },
  {
   "cell_type": "code",
   "execution_count": 1,
   "metadata": {},
   "outputs": [],
   "source": [
    "import requests"
   ]
  },
  {
   "cell_type": "code",
   "execution_count": 2,
   "metadata": {},
   "outputs": [],
   "source": [
    "# Util functions\n",
    "\n",
    "def pretty(d, indent=0):\n",
    "    for key, value in d.items():\n",
    "        print('\\t' * indent + str(key)+\":\")\n",
    "        if isinstance(value, dict):\n",
    "            pretty(value, indent+1)\n",
    "        else:\n",
    "            print('\\t' * (indent+1) + str(value))\n",
    "\n",
    "def print_http_response(res):\n",
    "    print(\"+-----------------------------------------------------------+\")\n",
    "    print(f\"Status Code: {res.status_code}\")\n",
    "    # resjson = res.json() # use if we wanted to see the json file\n",
    "\n",
    "    # print(\"\\n\\nHTTP Response Header:\")\n",
    "    # pretty(res.headers)\n",
    "\n",
    "    print(\"\\nHTTP Response Body:\")\n",
    "    print(res.text)\n",
    "    print()\n",
    "    print(\"+-----------------------------------------------------------+\")"
   ]
  },
  {
   "cell_type": "code",
   "execution_count": 4,
   "metadata": {},
   "outputs": [
    {
     "name": "stdout",
     "output_type": "stream",
     "text": [
      "+-----------------------------------------------------------+\n",
      "Status Code: 200\n",
      "\n",
      "HTTP Response Body:\n",
      "{\n",
      "    \"message\": \"User created successfully.\"\n",
      "}\n",
      "\n",
      "\n",
      "+-----------------------------------------------------------+\n"
     ]
    }
   ],
   "source": [
    "# ====================================== #\n",
    "# Register a new user Dennis\n",
    "# ====================================== #\n",
    "res = requests.post(\"http://127.0.0.1:5000/register\",\n",
    "    json={  \"username\": \"Dennis\",\n",
    "            \"password\": \"Ritchie\"}\n",
    ")\n",
    "print_http_response(res)"
   ]
  },
  {
   "cell_type": "code",
   "execution_count": null,
   "metadata": {},
   "outputs": [],
   "source": [
    "# ====================================== #\n",
    "# Example of wrong register of user\n",
    "# ====================================== #\n",
    "res = requests.post(\"http://127.0.0.1:5000/register\",\n",
    "    json={  \"username\": \"Bob\"} # there is no password, the program should give an error\n",
    ")\n",
    "print_http_response(res)"
   ]
  },
  {
   "cell_type": "code",
   "execution_count": 5,
   "metadata": {},
   "outputs": [],
   "source": [
    "# ====================================== #\n",
    "# To request an access token for Dennis Ritchie\n",
    "# ====================================== #\n",
    "res = requests.post(\"http://127.0.0.1:5000/auth\",\n",
    "                   json={   \"username\": \"Dennis\",\n",
    "                            \"password\": \"Ritchie\"})\n",
    "access_token = res.json()[\"access_token\"]"
   ]
  },
  {
   "cell_type": "code",
   "execution_count": null,
   "metadata": {},
   "outputs": [],
   "source": [
    "# ====================================== #\n",
    "# To request an access token\n",
    "# ====================================== #\n",
    "res = requests.post(\"http://127.0.0.1:5000/auth\",\n",
    "                   json={ # this is the body of the request, it needs to have\n",
    "                       \"username\": \"jose\", # the username and password\n",
    "                       \"password\": \"asdf\"\n",
    "                       })\n",
    "access_token = res.json()[\"access_token\"]"
   ]
  },
  {
   "cell_type": "code",
   "execution_count": 13,
   "metadata": {},
   "outputs": [
    {
     "name": "stdout",
     "output_type": "stream",
     "text": [
      "+-----------------------------------------------------------+\n",
      "Status Code: 201\n",
      "\n",
      "HTTP Response Body:\n",
      "{\n",
      "    \"name\": \"chair\",\n",
      "    \"price\": 1982.0\n",
      "}\n",
      "\n",
      "\n",
      "+-----------------------------------------------------------+\n"
     ]
    }
   ],
   "source": [
    "res = requests.post(\"http://127.0.0.1:5000/item/chair\", \n",
    "    headers={\"Authorization\": \"JWT \" + access_token},\n",
    "    json={\"price\": 1982.00})\n",
    "print_http_response(res)"
   ]
  },
  {
   "cell_type": "code",
   "execution_count": 14,
   "metadata": {},
   "outputs": [
    {
     "name": "stdout",
     "output_type": "stream",
     "text": [
      "+-----------------------------------------------------------+\n",
      "Status Code: 200\n",
      "\n",
      "HTTP Response Body:\n",
      "{\n",
      "    \"items\": [\n",
      "        {\n",
      "            \"name\": \"chair\",\n",
      "            \"price\": 1982.0\n",
      "        }\n",
      "    ]\n",
      "}\n",
      "\n",
      "\n",
      "+-----------------------------------------------------------+\n"
     ]
    }
   ],
   "source": [
    "res = requests.get(\"http://127.0.0.1:5000/items\",\n",
    "    headers={\"Authorization\": \"JWT \" + access_token},\n",
    ")\n",
    "print_http_response(res)"
   ]
  },
  {
   "cell_type": "code",
   "execution_count": 15,
   "metadata": {},
   "outputs": [
    {
     "name": "stdout",
     "output_type": "stream",
     "text": [
      "+-----------------------------------------------------------+\n",
      "Status Code: 404\n",
      "\n",
      "HTTP Response Body:\n",
      "{\n",
      "    \"item\": null\n",
      "}\n",
      "\n",
      "\n",
      "+-----------------------------------------------------------+\n"
     ]
    }
   ],
   "source": [
    "# This request needs a token.\n",
    "# This is what logged-in means to a server.\n",
    "# We need to prove that we have an information that only the user can have.\n",
    "# This happens because API requests are independent of each other.\n",
    "# But we can carry information in the request so that we can authenticate the user.\n",
    "res = requests.get(\"http://127.0.0.1:5000/item/piano\", \n",
    "    headers={\"Authorization\": \"JWT \" + access_token})\n",
    "print_http_response(res)"
   ]
  },
  {
   "cell_type": "code",
   "execution_count": 17,
   "metadata": {},
   "outputs": [
    {
     "name": "stdout",
     "output_type": "stream",
     "text": [
      "+-----------------------------------------------------------+\n",
      "Status Code: 200\n",
      "\n",
      "HTTP Response Body:\n",
      "{\n",
      "    \"item\": {\n",
      "        \"name\": \"chair\",\n",
      "        \"price\": 1982.0\n",
      "    }\n",
      "}\n",
      "\n",
      "\n",
      "+-----------------------------------------------------------+\n"
     ]
    }
   ],
   "source": [
    "res = requests.get(\"http://127.0.0.1:5000/item/chair\",\n",
    "    headers={\"Authorization\": \"JWT \" + access_token},\n",
    ")\n",
    "print_http_response(res)"
   ]
  },
  {
   "cell_type": "code",
   "execution_count": 20,
   "metadata": {},
   "outputs": [
    {
     "name": "stdout",
     "output_type": "stream",
     "text": [
      "+-----------------------------------------------------------+\n",
      "Status Code: 404\n",
      "\n",
      "HTTP Response Body:\n",
      "{\n",
      "    \"item\": null\n",
      "}\n",
      "\n",
      "\n",
      "+-----------------------------------------------------------+\n"
     ]
    }
   ],
   "source": [
    "res = requests.get(\"http://127.0.0.1:5000/item/piano\",\n",
    "    headers={\"authorization\": \"jwt \" + access_token},\n",
    ")\n",
    "print_http_response(res)"
   ]
  },
  {
   "cell_type": "code",
   "execution_count": 25,
   "metadata": {},
   "outputs": [
    {
     "name": "stdout",
     "output_type": "stream",
     "text": [
      "+-----------------------------------------------------------+\n",
      "Status Code: 401\n",
      "\n",
      "HTTP Response Body:\n",
      "{\n",
      "  \"description\": \"Request does not contain an access token\", \n",
      "  \"error\": \"Authorization Required\", \n",
      "  \"status_code\": 401\n",
      "}\n",
      "\n",
      "\n",
      "+-----------------------------------------------------------+\n"
     ]
    }
   ],
   "source": [
    "res = requests.post(\"http://127.0.0.1:5000/item/chair\", \n",
    "    headers={\"authorization\": \"jwt \" + access_token},\n",
    "    json={\"price\":99.00})\n",
    "print_http_response(res)"
   ]
  },
  {
   "cell_type": "code",
   "execution_count": 24,
   "metadata": {},
   "outputs": [
    {
     "name": "stdout",
     "output_type": "stream",
     "text": [
      "+-----------------------------------------------------------+\n",
      "Status Code: 200\n",
      "\n",
      "HTTP Response Body:\n",
      "{\n",
      "    \"items\": [\n",
      "        {\n",
      "            \"name\": \"chair\",\n",
      "            \"price\": 1982.0\n",
      "        }\n",
      "    ]\n",
      "}\n",
      "\n",
      "\n",
      "+-----------------------------------------------------------+\n"
     ]
    }
   ],
   "source": [
    "res = requests.get(\"http://127.0.0.1:5000/items\",\n",
    "    headers={\"authorization\": \"jwt \" + access_token},\n",
    ")\n",
    "print_http_response(res)"
   ]
  },
  {
   "cell_type": "code",
   "execution_count": 27,
   "metadata": {},
   "outputs": [
    {
     "name": "stdout",
     "output_type": "stream",
     "text": [
      "+-----------------------------------------------------------+\n",
      "Status Code: 200\n",
      "\n",
      "HTTP Response Body:\n",
      "{\n",
      "    \"message\": \"Item deleted\"\n",
      "}\n",
      "\n",
      "\n",
      "+-----------------------------------------------------------+\n"
     ]
    }
   ],
   "source": [
    "res = requests.delete(\"http://127.0.0.1:5000/item/chair\",\n",
    "    headers={\"authorization\": \"jwt \" + access_token},\n",
    ")\n",
    "print_http_response(res)"
   ]
  },
  {
   "cell_type": "markdown",
   "metadata": {},
   "source": [
    "## An example with PUT request"
   ]
  },
  {
   "cell_type": "code",
   "execution_count": 37,
   "metadata": {},
   "outputs": [],
   "source": [
    "# ====================================== #\n",
    "# To request an access token for Dennis Ritchie\n",
    "# ====================================== #\n",
    "res = requests.post(\"http://127.0.0.1:5000/auth\",\n",
    "                   json={   \"username\": \"Dennis\",\n",
    "                            \"password\": \"Ritchie\"})\n",
    "access_token = res.json()[\"access_token\"]"
   ]
  },
  {
   "cell_type": "code",
   "execution_count": 38,
   "metadata": {},
   "outputs": [
    {
     "name": "stdout",
     "output_type": "stream",
     "text": [
      "+-----------------------------------------------------------+\n",
      "Status Code: 201\n",
      "\n",
      "HTTP Response Body:\n",
      "{\n",
      "    \"name\": \"chair\",\n",
      "    \"price\": 99.0\n",
      "}\n",
      "\n",
      "\n",
      "+-----------------------------------------------------------+\n"
     ]
    }
   ],
   "source": [
    "# ====================================== #\n",
    "# Post a chair, with price 99.00\n",
    "# ====================================== #\n",
    "res = requests.post(\"http://127.0.0.1:5000/item/chair\", \n",
    "    headers={\"authorization\": \"jwt \" + access_token},\n",
    "    json={\"price\":99.00})\n",
    "print_http_response(res)"
   ]
  },
  {
   "cell_type": "code",
   "execution_count": 39,
   "metadata": {},
   "outputs": [
    {
     "name": "stdout",
     "output_type": "stream",
     "text": [
      "+-----------------------------------------------------------+\n",
      "Status Code: 200\n",
      "\n",
      "HTTP Response Body:\n",
      "{\n",
      "    \"items\": [\n",
      "        {\n",
      "            \"name\": \"chair\",\n",
      "            \"price\": 99.0\n",
      "        }\n",
      "    ]\n",
      "}\n",
      "\n",
      "\n",
      "+-----------------------------------------------------------+\n"
     ]
    }
   ],
   "source": [
    "# ====================================== #\n",
    "# GET all items\n",
    "# ====================================== #\n",
    "res = requests.get(\"http://127.0.0.1:5000/items\",\n",
    "    headers={\"authorization\": \"jwt \" + access_token},\n",
    ")\n",
    "print_http_response(res)"
   ]
  },
  {
   "cell_type": "code",
   "execution_count": 40,
   "metadata": {},
   "outputs": [
    {
     "name": "stdout",
     "output_type": "stream",
     "text": [
      "+-----------------------------------------------------------+\n",
      "Status Code: 200\n",
      "\n",
      "HTTP Response Body:\n",
      "{\n",
      "    \"name\": \"chair\",\n",
      "    \"price\": 10.99\n",
      "}\n",
      "\n",
      "\n",
      "+-----------------------------------------------------------+\n"
     ]
    }
   ],
   "source": [
    "# ====================================== #\n",
    "# PUT change chair's price\n",
    "# ====================================== #\n",
    "res = requests.put(\"http://127.0.0.1:5000/item/chair\",\n",
    "    headers={\"authorization\": \"jwt \" + access_token},\n",
    "    json={\"price\": 10.99}\n",
    ")\n",
    "print_http_response(res)"
   ]
  },
  {
   "cell_type": "code",
   "execution_count": 41,
   "metadata": {},
   "outputs": [
    {
     "name": "stdout",
     "output_type": "stream",
     "text": [
      "+-----------------------------------------------------------+\n",
      "Status Code: 200\n",
      "\n",
      "HTTP Response Body:\n",
      "{\n",
      "    \"items\": [\n",
      "        {\n",
      "            \"name\": \"chair\",\n",
      "            \"price\": 10.99\n",
      "        }\n",
      "    ]\n",
      "}\n",
      "\n",
      "\n",
      "+-----------------------------------------------------------+\n"
     ]
    }
   ],
   "source": [
    "# ====================================== #\n",
    "# GET all items, see if price changed\n",
    "# ====================================== #\n",
    "res = requests.get(\"http://127.0.0.1:5000/items\",\n",
    "    headers={\"authorization\": \"jwt \" + access_token},\n",
    ")\n",
    "print_http_response(res)"
   ]
  },
  {
   "cell_type": "markdown",
   "metadata": {},
   "source": [
    "## Using GET after sqlite3 reform"
   ]
  },
  {
   "cell_type": "code",
   "execution_count": 6,
   "metadata": {},
   "outputs": [],
   "source": [
    "# ====================================== #\n",
    "# To request an access token for Dennis Ritchie\n",
    "# ====================================== #\n",
    "res = requests.post(\"http://127.0.0.1:5000/auth\",\n",
    "                   json={   \"username\": \"Dennis\",\n",
    "                            \"password\": \"Ritchie\"})\n",
    "access_token = res.json()[\"access_token\"]"
   ]
  },
  {
   "cell_type": "code",
   "execution_count": 8,
   "metadata": {},
   "outputs": [
    {
     "name": "stdout",
     "output_type": "stream",
     "text": [
      "+-----------------------------------------------------------+\n",
      "Status Code: 200\n",
      "\n",
      "HTTP Response Body:\n",
      "{\n",
      "    \"item\": {\n",
      "        \"name\": \"test\",\n",
      "        \"price\": 10.99\n",
      "    }\n",
      "}\n",
      "\n",
      "\n",
      "+-----------------------------------------------------------+\n"
     ]
    }
   ],
   "source": [
    "# ====================================== #\n",
    "# GET the test item from the database\n",
    "# ====================================== #\n",
    "res = requests.get(\"http://127.0.0.1:5000/item/test\",\n",
    "    headers={\"authorization\": \"jwt \" + access_token},\n",
    ")\n",
    "print_http_response(res)"
   ]
  },
  {
   "cell_type": "code",
   "execution_count": 9,
   "metadata": {},
   "outputs": [
    {
     "name": "stdout",
     "output_type": "stream",
     "text": [
      "+-----------------------------------------------------------+\n",
      "Status Code: 404\n",
      "\n",
      "HTTP Response Body:\n",
      "{\n",
      "    \"message\": \"Item not found\"\n",
      "}\n",
      "\n",
      "\n",
      "+-----------------------------------------------------------+\n"
     ]
    }
   ],
   "source": [
    "# ====================================== #\n",
    "# try to GET an item that doesn't exist in the database\n",
    "# ====================================== #\n",
    "res = requests.get(\"http://127.0.0.1:5000/item/chair\",\n",
    "    headers={\"authorization\": \"jwt \" + access_token},\n",
    ")\n",
    "print_http_response(res)"
   ]
  },
  {
   "cell_type": "code",
   "execution_count": null,
   "metadata": {},
   "outputs": [],
   "source": []
  }
 ],
 "metadata": {
  "interpreter": {
   "hash": "91a5a568192385e230f8881b0aa358097f53c390cad0a12eaafaf6e489649967"
  },
  "kernelspec": {
   "display_name": "Python 3.9.12 ('.venv': venv)",
   "language": "python",
   "name": "python3"
  },
  "language_info": {
   "codemirror_mode": {
    "name": "ipython",
    "version": 3
   },
   "file_extension": ".py",
   "mimetype": "text/x-python",
   "name": "python",
   "nbconvert_exporter": "python",
   "pygments_lexer": "ipython3",
   "version": "3.9.12"
  },
  "orig_nbformat": 4
 },
 "nbformat": 4,
 "nbformat_minor": 2
}
