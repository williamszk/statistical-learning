{
 "cells": [
  {
   "cell_type": "code",
   "execution_count": 61,
   "metadata": {},
   "outputs": [],
   "source": [
    "import requests"
   ]
  },
  {
   "cell_type": "code",
   "execution_count": 62,
   "metadata": {},
   "outputs": [],
   "source": [
    "# Util functions\n",
    "\n",
    "def pretty(d, indent=0):\n",
    "    for key, value in d.items():\n",
    "        print('\\t' * indent + str(key)+\":\")\n",
    "        if isinstance(value, dict):\n",
    "            pretty(value, indent+1)\n",
    "        else:\n",
    "            print('\\t' * (indent+1) + str(value))\n",
    "\n",
    "def print_http_response(res):\n",
    "    print(\"+-----------------------------------------------------------+\")\n",
    "    print(f\"Status Code: {res.status_code}\")\n",
    "    # resjson = res.json() # use if we wanted to see the json file\n",
    "\n",
    "    # print(\"\\n\\nHTTP Response Header:\")\n",
    "    # pretty(res.headers)\n",
    "\n",
    "    print(\"\\nHTTP Response Body:\")\n",
    "    resjson = res.json()\n",
    "    print(res.text)\n",
    "    print()\n",
    "    print(\"+-----------------------------------------------------------+\")"
   ]
  },
  {
   "cell_type": "code",
   "execution_count": 63,
   "metadata": {},
   "outputs": [
    {
     "name": "stdout",
     "output_type": "stream",
     "text": [
      "+-----------------------------------------------------------+\n",
      "Status Code: 201\n",
      "\n",
      "HTTP Response Body:\n",
      "{\n",
      "    \"name\": \"piano\",\n",
      "    \"price\": 1982.0\n",
      "}\n",
      "\n",
      "\n",
      "+-----------------------------------------------------------+\n"
     ]
    }
   ],
   "source": [
    "res = requests.post(\"http://127.0.0.1:5000/item/piano\", json={\"price\": 1982.00})\n",
    "print_http_response(res)"
   ]
  },
  {
   "cell_type": "code",
   "execution_count": 64,
   "metadata": {},
   "outputs": [
    {
     "name": "stdout",
     "output_type": "stream",
     "text": [
      "+-----------------------------------------------------------+\n",
      "Status Code: 400\n",
      "\n",
      "HTTP Response Body:\n",
      "{\n",
      "    \"message\": \"An item with name 'piano' already exists.\"\n",
      "}\n",
      "\n",
      "\n",
      "+-----------------------------------------------------------+\n"
     ]
    }
   ],
   "source": [
    "res = requests.post(\"http://127.0.0.1:5000/item/piano\", json={\"price\": 1982.00})\n",
    "print_http_response(res)"
   ]
  },
  {
   "cell_type": "code",
   "execution_count": 65,
   "metadata": {},
   "outputs": [
    {
     "name": "stdout",
     "output_type": "stream",
     "text": [
      "+-----------------------------------------------------------+\n",
      "Status Code: 200\n",
      "\n",
      "HTTP Response Body:\n",
      "{\n",
      "    \"item\": {\n",
      "        \"name\": \"piano\",\n",
      "        \"price\": 1982.0\n",
      "    }\n",
      "}\n",
      "\n",
      "\n",
      "+-----------------------------------------------------------+\n"
     ]
    }
   ],
   "source": [
    "res = requests.get(\"http://127.0.0.1:5000/item/piano\")\n",
    "print_http_response(res)"
   ]
  },
  {
   "cell_type": "code",
   "execution_count": 66,
   "metadata": {},
   "outputs": [
    {
     "name": "stdout",
     "output_type": "stream",
     "text": [
      "+-----------------------------------------------------------+\n",
      "Status Code: 404\n",
      "\n",
      "HTTP Response Body:\n",
      "{\n",
      "    \"item\": null\n",
      "}\n",
      "\n",
      "\n",
      "+-----------------------------------------------------------+\n"
     ]
    }
   ],
   "source": [
    "res = requests.get(\"http://127.0.0.1:5000/item/chair\")\n",
    "print_http_response(res)"
   ]
  },
  {
   "cell_type": "code",
   "execution_count": 67,
   "metadata": {},
   "outputs": [
    {
     "name": "stdout",
     "output_type": "stream",
     "text": [
      "+-----------------------------------------------------------+\n",
      "Status Code: 200\n",
      "\n",
      "HTTP Response Body:\n",
      "{\n",
      "    \"item\": {\n",
      "        \"name\": \"piano\",\n",
      "        \"price\": 1982.0\n",
      "    }\n",
      "}\n",
      "\n",
      "\n",
      "+-----------------------------------------------------------+\n"
     ]
    }
   ],
   "source": [
    "res = requests.get(\"http://127.0.0.1:5000/item/piano\")\n",
    "print_http_response(res)"
   ]
  },
  {
   "cell_type": "code",
   "execution_count": 68,
   "metadata": {},
   "outputs": [
    {
     "name": "stdout",
     "output_type": "stream",
     "text": [
      "+-----------------------------------------------------------+\n",
      "Status Code: 201\n",
      "\n",
      "HTTP Response Body:\n",
      "{\n",
      "    \"name\": \"chair\",\n",
      "    \"price\": 99.0\n",
      "}\n",
      "\n",
      "\n",
      "+-----------------------------------------------------------+\n"
     ]
    }
   ],
   "source": [
    "res = requests.post(\"http://127.0.0.1:5000/item/chair\", json={\"price\":99.00})\n",
    "print_http_response(res)"
   ]
  },
  {
   "cell_type": "code",
   "execution_count": 69,
   "metadata": {},
   "outputs": [
    {
     "name": "stdout",
     "output_type": "stream",
     "text": [
      "+-----------------------------------------------------------+\n",
      "Status Code: 200\n",
      "\n",
      "HTTP Response Body:\n",
      "{\n",
      "    \"items\": [\n",
      "        {\n",
      "            \"name\": \"piano\",\n",
      "            \"price\": 1982.0\n",
      "        },\n",
      "        {\n",
      "            \"name\": \"chair\",\n",
      "            \"price\": 99.0\n",
      "        }\n",
      "    ]\n",
      "}\n",
      "\n",
      "\n",
      "+-----------------------------------------------------------+\n"
     ]
    }
   ],
   "source": [
    "res = requests.get(\"http://127.0.0.1:5000/items\")\n",
    "print_http_response(res)"
   ]
  },
  {
   "cell_type": "code",
   "execution_count": null,
   "metadata": {},
   "outputs": [],
   "source": []
  },
  {
   "cell_type": "code",
   "execution_count": null,
   "metadata": {},
   "outputs": [],
   "source": []
  }
 ],
 "metadata": {
  "interpreter": {
   "hash": "0572692ec15b475301c6d4dac81e7f3a88103aaf3ccfccebd42cc1e29f4d7ff1"
  },
  "kernelspec": {
   "display_name": "Python 3.9.12 64-bit (windows store)",
   "language": "python",
   "name": "python3"
  },
  "language_info": {
   "codemirror_mode": {
    "name": "ipython",
    "version": 3
   },
   "file_extension": ".py",
   "mimetype": "text/x-python",
   "name": "python",
   "nbconvert_exporter": "python",
   "pygments_lexer": "ipython3",
   "version": "3.9.12"
  },
  "orig_nbformat": 4
 },
 "nbformat": 4,
 "nbformat_minor": 2
}
