{
 "cells": [
  {
   "cell_type": "code",
   "execution_count": 1,
   "metadata": {},
   "outputs": [],
   "source": [
    "import requests"
   ]
  },
  {
   "cell_type": "code",
   "execution_count": 9,
   "metadata": {},
   "outputs": [
    {
     "name": "stdout",
     "output_type": "stream",
     "text": [
      "res.status_code = 200\n"
     ]
    },
    {
     "data": {
      "text/plain": [
       "'Hello World!'"
      ]
     },
     "execution_count": 9,
     "metadata": {},
     "output_type": "execute_result"
    }
   ],
   "source": [
    "res = requests.get(\"http://127.0.0.1:5000/\")\n",
    "print(f\"{res.status_code = }\")\n",
    "res.text"
   ]
  },
  {
   "cell_type": "code",
   "execution_count": 12,
   "metadata": {},
   "outputs": [
    {
     "name": "stdout",
     "output_type": "stream",
     "text": [
      "res.status_code = 200\n"
     ]
    },
    {
     "data": {
      "text/plain": [
       "'Sauron'"
      ]
     },
     "execution_count": 12,
     "metadata": {},
     "output_type": "execute_result"
    }
   ],
   "source": [
    "res = requests.get(\"http://127.0.0.1:5000/store/Sauron\")\n",
    "print(f\"{res.status_code = }\")\n",
    "res.text"
   ]
  },
  {
   "cell_type": "code",
   "execution_count": 22,
   "metadata": {},
   "outputs": [
    {
     "name": "stdout",
     "output_type": "stream",
     "text": [
      "res.status_code = 200\n",
      "My LOTR Store\n"
     ]
    },
    {
     "data": {
      "text/plain": [
       "{'stores': [{'items': [{'name': 'The One Ring', 'price': 17.99}],\n",
       "   'name': 'My LOTR Store'}]}"
      ]
     },
     "execution_count": 22,
     "metadata": {},
     "output_type": "execute_result"
    }
   ],
   "source": [
    "res = requests.get(\"http://127.0.0.1:5000/store\")\n",
    "print(f\"{res.status_code = }\")\n",
    "resjson = res.json()\n",
    "print(resjson[\"stores\"][0][\"name\"])\n",
    "resjson\n"
   ]
  },
  {
   "cell_type": "code",
   "execution_count": 45,
   "metadata": {},
   "outputs": [
    {
     "name": "stdout",
     "output_type": "stream",
     "text": [
      "res.status_code = 200\n"
     ]
    },
    {
     "data": {
      "text/plain": [
       "{'age': 1000, 'name': 'Mithrandir', 'power': 'Magic'}"
      ]
     },
     "execution_count": 45,
     "metadata": {},
     "output_type": "execute_result"
    }
   ],
   "source": [
    "res = requests.get(\"http://127.0.0.1:5000/lotr\", json={\"name\":\"Mithrandir\", \"power\": \"Magic\", \"age\": 1000})\n",
    "print(f\"{res.status_code = }\")\n",
    "resjson = res.json()\n",
    "resjson"
   ]
  },
  {
   "cell_type": "code",
   "execution_count": 6,
   "metadata": {},
   "outputs": [
    {
     "name": "stdout",
     "output_type": "stream",
     "text": [
      "res.status_code = 200\n"
     ]
    },
    {
     "data": {
      "text/plain": [
       "{'stores': [{'items': [{'name': 'The One Ring', 'price': 17.99}],\n",
       "   'name': 'My LOTR Store'},\n",
       "  {'items': [], 'name': 'Star Wars Store'}]}"
      ]
     },
     "execution_count": 6,
     "metadata": {},
     "output_type": "execute_result"
    }
   ],
   "source": [
    "res = requests.get(\"http://127.0.0.1:5000/store\")\n",
    "print(f\"{res.status_code = }\")\n",
    "resjson = res.json()\n",
    "resjson"
   ]
  },
  {
   "cell_type": "code",
   "execution_count": 5,
   "metadata": {},
   "outputs": [
    {
     "name": "stdout",
     "output_type": "stream",
     "text": [
      "res.status_code = 200\n"
     ]
    },
    {
     "data": {
      "text/plain": [
       "{'items': [], 'name': 'Star Wars Store'}"
      ]
     },
     "execution_count": 5,
     "metadata": {},
     "output_type": "execute_result"
    }
   ],
   "source": [
    "res = requests.post(\"http://127.0.0.1:5000/store\", json={\"name\":\"Star Wars Store\"})\n",
    "print(f\"{res.status_code = }\")\n",
    "resjson = res.json()\n",
    "resjson"
   ]
  },
  {
   "cell_type": "code",
   "execution_count": 7,
   "metadata": {},
   "outputs": [
    {
     "name": "stdout",
     "output_type": "stream",
     "text": [
      "res.status_code = 200\n"
     ]
    },
    {
     "data": {
      "text/plain": [
       "{'name': 'Light Saber', 'price': 5.99}"
      ]
     },
     "execution_count": 7,
     "metadata": {},
     "output_type": "execute_result"
    }
   ],
   "source": [
    "res = requests.post(\"http://127.0.0.1:5000/store/Star Wars Store/item\", json={\n",
    "    \"name\": \"Light Saber\",\n",
    "    \"price\": 5.99\n",
    "})\n",
    "print(f\"{res.status_code = }\")\n",
    "resjson = res.json()\n",
    "resjson"
   ]
  },
  {
   "cell_type": "code",
   "execution_count": 8,
   "metadata": {},
   "outputs": [
    {
     "name": "stdout",
     "output_type": "stream",
     "text": [
      "res.status_code = 200\n"
     ]
    },
    {
     "data": {
      "text/plain": [
       "{'stores': [{'items': [{'name': 'The One Ring', 'price': 17.99}],\n",
       "   'name': 'My LOTR Store'},\n",
       "  {'items': [{'name': 'Light Saber', 'price': 5.99}],\n",
       "   'name': 'Star Wars Store'}]}"
      ]
     },
     "execution_count": 8,
     "metadata": {},
     "output_type": "execute_result"
    }
   ],
   "source": [
    "res = requests.get(\"http://127.0.0.1:5000/store\")\n",
    "print(f\"{res.status_code = }\")\n",
    "resjson = res.json()\n",
    "resjson"
   ]
  },
  {
   "cell_type": "code",
   "execution_count": null,
   "metadata": {},
   "outputs": [],
   "source": []
  },
  {
   "cell_type": "markdown",
   "metadata": {},
   "source": []
  }
 ],
 "metadata": {
  "interpreter": {
   "hash": "d3da489bf661179457b97b86f9a4f61229f8fd9a20a541ff9065ed5badb828cf"
  },
  "kernelspec": {
   "display_name": "Python 3.9.10 ('venv': venv)",
   "language": "python",
   "name": "python3"
  },
  "language_info": {
   "codemirror_mode": {
    "name": "ipython",
    "version": 3
   },
   "file_extension": ".py",
   "mimetype": "text/x-python",
   "name": "python",
   "nbconvert_exporter": "python",
   "pygments_lexer": "ipython3",
   "version": "3.9.5"
  },
  "orig_nbformat": 4
 },
 "nbformat": 4,
 "nbformat_minor": 2
}
