{
 "cells": [
  {
   "cell_type": "code",
   "execution_count": 8,
   "metadata": {},
   "outputs": [],
   "source": [
    "import requests"
   ]
  },
  {
   "cell_type": "code",
   "execution_count": 9,
   "metadata": {},
   "outputs": [],
   "source": [
    "# Util functions\n",
    "\n",
    "def pretty(d, indent=0):\n",
    "    for key, value in d.items():\n",
    "        print('\\t' * indent + str(key)+\":\")\n",
    "        if isinstance(value, dict):\n",
    "            pretty(value, indent+1)\n",
    "        else:\n",
    "            print('\\t' * (indent+1) + str(value))\n",
    "\n",
    "def print_http_response(res):\n",
    "    print(\"+-----------------------------------------------------------+\")\n",
    "    print(f\"Status Code: {res.status_code}\")\n",
    "    # resjson = res.json() # use if we wanted to see the json file\n",
    "\n",
    "    # print(\"\\n\\nHTTP Response Header:\")\n",
    "    # pretty(res.headers)\n",
    "\n",
    "    print(\"\\nHTTP Response Body:\")\n",
    "    print(res.text)\n",
    "    print()\n",
    "    print(\"+-----------------------------------------------------------+\")"
   ]
  },
  {
   "cell_type": "code",
   "execution_count": 10,
   "metadata": {},
   "outputs": [
    {
     "name": "stdout",
     "output_type": "stream",
     "text": [
      "<Response [200]>\n"
     ]
    }
   ],
   "source": [
    "# ====================================== #\n",
    "# To request an access token\n",
    "# ====================================== #\n",
    "res = requests.post(\"http://127.0.0.1:5000/auth\",\n",
    "                   json={ # this is the body of the request, it needs to have\n",
    "                       \"username\": \"Jose\", # the username and password\n",
    "                       \"password\": \"asdf\"\n",
    "                       })\n",
    "print(res)\n",
    "access_token = res.json()[\"access_token\"]"
   ]
  },
  {
   "cell_type": "code",
   "execution_count": 11,
   "metadata": {},
   "outputs": [
    {
     "name": "stdout",
     "output_type": "stream",
     "text": [
      "+-----------------------------------------------------------+\n",
      "Status Code: 201\n",
      "\n",
      "HTTP Response Body:\n",
      "{\n",
      "    \"name\": \"chair\",\n",
      "    \"price\": 1982.0\n",
      "}\n",
      "\n",
      "\n",
      "+-----------------------------------------------------------+\n"
     ]
    }
   ],
   "source": [
    "# ====================================== #\n",
    "# POST chair price: 1982.00\n",
    "# ====================================== #\n",
    "\n",
    "# This request needs a token.\n",
    "# This is what logged in means to a server.\n",
    "# We need to prove that we have an information that only the user can have.\n",
    "# This happens because API requests are independent of each other.\n",
    "# But we can carry information in the request so that we can authenticate the user.\n",
    "\n",
    "res = requests.post(\"http://127.0.0.1:5000/item/chair\", \n",
    "    json={\"price\": 1982.00},\n",
    "    headers={\"Authorization\": \"JWT \" + access_token})\n",
    "print_http_response(res)"
   ]
  },
  {
   "cell_type": "code",
   "execution_count": 14,
   "metadata": {},
   "outputs": [
    {
     "name": "stdout",
     "output_type": "stream",
     "text": [
      "+-----------------------------------------------------------+\n",
      "Status Code: 401\n",
      "\n",
      "HTTP Response Body:\n",
      "{\n",
      "  \"description\": \"Request does not contain an access token\", \n",
      "  \"error\": \"Authorization Required\", \n",
      "  \"status_code\": 401\n",
      "}\n",
      "\n",
      "\n",
      "+-----------------------------------------------------------+\n"
     ]
    }
   ],
   "source": [
    "# ====================================== #\n",
    "# PUT chair price: 19.00\n",
    "# request with problem\n",
    "# Status Code: 401 - Unauthorized\n",
    "# ====================================== #\n",
    "res = requests.put(\"http://127.0.0.1:5000/item/chair\", \n",
    "    json={})\n",
    "print_http_response(res)"
   ]
  },
  {
   "cell_type": "code",
   "execution_count": 16,
   "metadata": {},
   "outputs": [
    {
     "name": "stdout",
     "output_type": "stream",
     "text": [
      "+-----------------------------------------------------------+\n",
      "Status Code: 400\n",
      "\n",
      "HTTP Response Body:\n",
      "{\n",
      "    \"message\": {\n",
      "        \"price\": \"This field cannot be left blank\"\n",
      "    }\n",
      "}\n",
      "\n",
      "\n",
      "+-----------------------------------------------------------+\n"
     ]
    }
   ],
   "source": [
    "# ====================================== #\n",
    "# PUT chair price: 19.00\n",
    "# request with problem\n",
    "# test the reqparse\n",
    "# Reqparse asks for non empty argument\n",
    "# ====================================== #\n",
    "res = requests.put(\"http://127.0.0.1:5000/item/chair\", \n",
    "    headers={\"Authorization\": \"JWT \" + access_token},\n",
    "    json={})\n",
    "print_http_response(res)"
   ]
  },
  {
   "cell_type": "code",
   "execution_count": 17,
   "metadata": {},
   "outputs": [
    {
     "name": "stdout",
     "output_type": "stream",
     "text": [
      "+-----------------------------------------------------------+\n",
      "Status Code: 200\n",
      "\n",
      "HTTP Response Body:\n",
      "{\n",
      "    \"name\": \"chair\",\n",
      "    \"price\": 19.0\n",
      "}\n",
      "\n",
      "\n",
      "+-----------------------------------------------------------+\n"
     ]
    }
   ],
   "source": [
    "# ====================================== #\n",
    "# PUT chair price: 19.00\n",
    "# this is correct\n",
    "# ====================================== #\n",
    "res = requests.put(\"http://127.0.0.1:5000/item/chair\", \n",
    "    headers={\"Authorization\": \"JWT \" + access_token},\n",
    "    json={\"price\": 19.00})\n",
    "print_http_response(res)"
   ]
  },
  {
   "cell_type": "code",
   "execution_count": 18,
   "metadata": {},
   "outputs": [
    {
     "name": "stdout",
     "output_type": "stream",
     "text": [
      "+-----------------------------------------------------------+\n",
      "Status Code: 401\n",
      "\n",
      "HTTP Response Body:\n",
      "{\n",
      "  \"description\": \"Request does not contain an access token\", \n",
      "  \"error\": \"Authorization Required\", \n",
      "  \"status_code\": 401\n",
      "}\n",
      "\n",
      "\n",
      "+-----------------------------------------------------------+\n"
     ]
    }
   ],
   "source": [
    "# ====================================== #\n",
    "# GET all items\n",
    "# With error 401 - Unauthorized\n",
    "# ====================================== #\n",
    "res = requests.get(\"http://127.0.0.1:5000/items\")\n",
    "print_http_response(res)"
   ]
  },
  {
   "cell_type": "code",
   "execution_count": 19,
   "metadata": {},
   "outputs": [
    {
     "name": "stdout",
     "output_type": "stream",
     "text": [
      "+-----------------------------------------------------------+\n",
      "Status Code: 200\n",
      "\n",
      "HTTP Response Body:\n",
      "{\n",
      "    \"items\": [\n",
      "        {\n",
      "            \"name\": \"chair\",\n",
      "            \"price\": 19.0\n",
      "        }\n",
      "    ]\n",
      "}\n",
      "\n",
      "\n",
      "+-----------------------------------------------------------+\n"
     ]
    }
   ],
   "source": [
    "# ====================================== #\n",
    "# GET all items\n",
    "# This request is correct\n",
    "# ====================================== #\n",
    "res = requests.get(\"http://127.0.0.1:5000/items\",\n",
    "    headers={\"Authorization\": \"JWT \" + access_token})\n",
    "print_http_response(res)"
   ]
  },
  {
   "cell_type": "code",
   "execution_count": 20,
   "metadata": {},
   "outputs": [
    {
     "name": "stdout",
     "output_type": "stream",
     "text": [
      "+-----------------------------------------------------------+\n",
      "Status Code: 200\n",
      "\n",
      "HTTP Response Body:\n",
      "{\n",
      "    \"message\": \"Item deleted\"\n",
      "}\n",
      "\n",
      "\n",
      "+-----------------------------------------------------------+\n"
     ]
    }
   ],
   "source": [
    "# ====================================== #\n",
    "# DELETE name: \"chair\"\n",
    "# ====================================== #\n",
    "res = requests.delete(\"http://127.0.0.1:5000/item/chair\",\n",
    "    headers={\"Authorization\": \"JWT \" + access_token})\n",
    "print_http_response(res)"
   ]
  },
  {
   "cell_type": "code",
   "execution_count": 21,
   "metadata": {},
   "outputs": [
    {
     "name": "stdout",
     "output_type": "stream",
     "text": [
      "+-----------------------------------------------------------+\n",
      "Status Code: 401\n",
      "\n",
      "HTTP Response Body:\n",
      "{\n",
      "  \"description\": \"Signature has expired\", \n",
      "  \"error\": \"Invalid token\", \n",
      "  \"status_code\": 401\n",
      "}\n",
      "\n",
      "\n",
      "+-----------------------------------------------------------+\n"
     ]
    }
   ],
   "source": [
    "# ====================================== #\n",
    "# GET name: \"piano\"\n",
    "# Problem: the item does not exist\n",
    "# ====================================== #\n",
    "res = requests.get(\"http://127.0.0.1:5000/item/piano\", \n",
    "    headers={\"Authorization\": \"JWT \" + access_token})\n",
    "print_http_response(res)"
   ]
  },
  {
   "cell_type": "code",
   "execution_count": null,
   "metadata": {},
   "outputs": [],
   "source": []
  },
  {
   "cell_type": "code",
   "execution_count": null,
   "metadata": {},
   "outputs": [],
   "source": []
  },
  {
   "cell_type": "code",
   "execution_count": null,
   "metadata": {},
   "outputs": [],
   "source": []
  },
  {
   "cell_type": "code",
   "execution_count": null,
   "metadata": {},
   "outputs": [],
   "source": []
  },
  {
   "cell_type": "code",
   "execution_count": null,
   "metadata": {},
   "outputs": [],
   "source": []
  },
  {
   "cell_type": "code",
   "execution_count": null,
   "metadata": {},
   "outputs": [],
   "source": []
  },
  {
   "cell_type": "code",
   "execution_count": null,
   "metadata": {},
   "outputs": [],
   "source": []
  },
  {
   "cell_type": "code",
   "execution_count": null,
   "metadata": {},
   "outputs": [],
   "source": []
  },
  {
   "cell_type": "code",
   "execution_count": null,
   "metadata": {},
   "outputs": [],
   "source": []
  },
  {
   "cell_type": "code",
   "execution_count": null,
   "metadata": {},
   "outputs": [],
   "source": []
  },
  {
   "cell_type": "code",
   "execution_count": null,
   "metadata": {},
   "outputs": [],
   "source": []
  },
  {
   "cell_type": "code",
   "execution_count": null,
   "metadata": {},
   "outputs": [],
   "source": []
  },
  {
   "cell_type": "code",
   "execution_count": 25,
   "metadata": {},
   "outputs": [
    {
     "name": "stdout",
     "output_type": "stream",
     "text": [
      "+-----------------------------------------------------------+\n",
      "Status Code: 200\n",
      "\n",
      "HTTP Response Body:\n",
      "{\n",
      "    \"item\": {\n",
      "        \"name\": \"piano\",\n",
      "        \"price\": 1982.0\n",
      "    }\n",
      "}\n",
      "\n",
      "\n",
      "+-----------------------------------------------------------+\n"
     ]
    }
   ],
   "source": []
  },
  {
   "cell_type": "code",
   "execution_count": 66,
   "metadata": {},
   "outputs": [
    {
     "name": "stdout",
     "output_type": "stream",
     "text": [
      "+-----------------------------------------------------------+\n",
      "Status Code: 404\n",
      "\n",
      "HTTP Response Body:\n",
      "{\n",
      "    \"item\": null\n",
      "}\n",
      "\n",
      "\n",
      "+-----------------------------------------------------------+\n"
     ]
    }
   ],
   "source": [
    "res = requests.get(\"http://127.0.0.1:5000/item/chair\")\n",
    "print_http_response(res)"
   ]
  },
  {
   "cell_type": "code",
   "execution_count": 67,
   "metadata": {},
   "outputs": [
    {
     "name": "stdout",
     "output_type": "stream",
     "text": [
      "+-----------------------------------------------------------+\n",
      "Status Code: 200\n",
      "\n",
      "HTTP Response Body:\n",
      "{\n",
      "    \"item\": {\n",
      "        \"name\": \"piano\",\n",
      "        \"price\": 1982.0\n",
      "    }\n",
      "}\n",
      "\n",
      "\n",
      "+-----------------------------------------------------------+\n"
     ]
    }
   ],
   "source": [
    "res = requests.get(\"http://127.0.0.1:5000/item/piano\")\n",
    "print_http_response(res)"
   ]
  },
  {
   "cell_type": "code",
   "execution_count": 68,
   "metadata": {},
   "outputs": [
    {
     "name": "stdout",
     "output_type": "stream",
     "text": [
      "+-----------------------------------------------------------+\n",
      "Status Code: 201\n",
      "\n",
      "HTTP Response Body:\n",
      "{\n",
      "    \"name\": \"chair\",\n",
      "    \"price\": 99.0\n",
      "}\n",
      "\n",
      "\n",
      "+-----------------------------------------------------------+\n"
     ]
    }
   ],
   "source": [
    "res = requests.post(\"http://127.0.0.1:5000/item/chair\", json={\"price\":99.00})\n",
    "print_http_response(res)"
   ]
  },
  {
   "cell_type": "code",
   "execution_count": 69,
   "metadata": {},
   "outputs": [
    {
     "name": "stdout",
     "output_type": "stream",
     "text": [
      "+-----------------------------------------------------------+\n",
      "Status Code: 200\n",
      "\n",
      "HTTP Response Body:\n",
      "{\n",
      "    \"items\": [\n",
      "        {\n",
      "            \"name\": \"piano\",\n",
      "            \"price\": 1982.0\n",
      "        },\n",
      "        {\n",
      "            \"name\": \"chair\",\n",
      "            \"price\": 99.0\n",
      "        }\n",
      "    ]\n",
      "}\n",
      "\n",
      "\n",
      "+-----------------------------------------------------------+\n"
     ]
    }
   ],
   "source": [
    "res = requests.get(\"http://127.0.0.1:5000/items\")\n",
    "print_http_response(res)"
   ]
  },
  {
   "cell_type": "code",
   "execution_count": null,
   "metadata": {},
   "outputs": [],
   "source": []
  },
  {
   "cell_type": "code",
   "execution_count": null,
   "metadata": {},
   "outputs": [],
   "source": []
  },
  {
   "cell_type": "code",
   "execution_count": null,
   "metadata": {},
   "outputs": [],
   "source": []
  }
 ],
 "metadata": {
  "interpreter": {
   "hash": "0572692ec15b475301c6d4dac81e7f3a88103aaf3ccfccebd42cc1e29f4d7ff1"
  },
  "kernelspec": {
   "display_name": "Python 3.9.12 64-bit (windows store)",
   "language": "python",
   "name": "python3"
  },
  "language_info": {
   "codemirror_mode": {
    "name": "ipython",
    "version": 3
   },
   "file_extension": ".py",
   "mimetype": "text/x-python",
   "name": "python",
   "nbconvert_exporter": "python",
   "pygments_lexer": "ipython3",
   "version": "3.9.12"
  },
  "orig_nbformat": 4
 },
 "nbformat": 4,
 "nbformat_minor": 2
}
