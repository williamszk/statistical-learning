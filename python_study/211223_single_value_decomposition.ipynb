{
 "cells": [
  {
   "cell_type": "markdown",
   "metadata": {},
   "source": [
    "The objective here is to implement Single Value Decomposition\n",
    "\n",
    "The code here is based on:\n",
    "https://jonathan-hui.medium.com/machine-learning-singular-value-decomposition-svd-principal-component-analysis-pca-1d45e885e491"
   ]
  },
  {
   "cell_type": "code",
   "execution_count": 7,
   "metadata": {},
   "outputs": [
    {
     "name": "stdout",
     "output_type": "stream",
     "text": [
      "A_matrix.shape = (2, 3)\n",
      "A_t_A_matrix = array([[13, 12,  2],\n",
      "       [12, 13, -2],\n",
      "       [ 2, -2,  8]])\n",
      "A_A_t_matrix = array([[17,  8],\n",
      "       [ 8, 17]])\n"
     ]
    }
   ],
   "source": [
    "import numpy as np\n",
    "\n",
    "A_matrix = np.array([\n",
    "    [3, 2, 2],\n",
    "    [2, 3, -2]])\n",
    "\n",
    "print(f\"{A_matrix.shape = }\")\n",
    "\n",
    "A_t_A_matrix = np.dot(A_matrix.T, A_matrix)\n",
    "print(f\"{A_t_A_matrix = }\")\n",
    "\n",
    "A_A_t_matrix = np.dot(A_matrix, A_matrix.T)\n",
    "print(f\"{A_A_t_matrix = }\")"
   ]
  },
  {
   "cell_type": "code",
   "execution_count": 11,
   "metadata": {},
   "outputs": [
    {
     "name": "stdout",
     "output_type": "stream",
     "text": [
      "[2.5000000e+01 5.0324328e-15 9.0000000e+00]\n",
      "[25.  9.]\n"
     ]
    }
   ],
   "source": [
    "# The two matrices above share the eigenvalues and eingenvectors\n",
    "V_eigenvalues = np.linalg.eig(A_t_A_matrix)[0]\n",
    "U_eigenvalues = np.linalg.eig(A_A_t_matrix)[0]\n",
    "print(V_eigenvalues)\n",
    "print(U_eigenvalues)\n",
    "\n",
    "\n",
    "# np.argmax(, ) \n",
    "len(U_eigenvalues)\n",
    "len(V_eigenvalues)\n"
   ]
  },
  {
   "cell_type": "markdown",
   "metadata": {},
   "source": [
    "Implement Single Value Decomposition:\n",
    "\n",
    "$$ A = U S V^{T} $$\n"
   ]
  },
  {
   "cell_type": "code",
   "execution_count": 9,
   "metadata": {},
   "outputs": [
    {
     "data": {
      "text/plain": [
       "array([[1., 0., 0.],\n",
       "       [0., 1., 0.],\n",
       "       [0., 0., 1.]])"
      ]
     },
     "execution_count": 9,
     "metadata": {},
     "output_type": "execute_result"
    }
   ],
   "source": [
    "V_matrix = np.linalg.eig(A_t_A_matrix)[1]\n",
    "U_matrix = np.linalg.eig(A_A_t_matrix)[1]\n",
    "\n",
    "# [[5, 0, 0]\n",
    "#   [0, 3, 0]]\n",
    "dim_0 = A_matrix.shape[0]\n",
    "dim_1 = A_matrix.shape[1]\n",
    "# I want this to be general\n",
    "S_matrix_temp = np.eye(np.max([dim_0, dim_1]))[0:dim_0,0:dim_1]\n",
    "S_matrix = S_matrix_temp * np.array([\n",
    "    \n",
    "])\n",
    "# make a square identity then cut to the desired format\n",
    "S_matrix\n",
    "# dim: 2 x 3\n",
    "\n",
    "\n",
    "\n",
    "# we need to find A again using the other matrices\n",
    "\n",
    "\n"
   ]
  },
  {
   "cell_type": "code",
   "execution_count": null,
   "metadata": {},
   "outputs": [],
   "source": [
    "#################\n",
    "# NOT FINISHED! #\n",
    "#################"
   ]
  },
  {
   "cell_type": "code",
   "execution_count": null,
   "metadata": {},
   "outputs": [],
   "source": []
  },
  {
   "cell_type": "code",
   "execution_count": null,
   "metadata": {},
   "outputs": [],
   "source": []
  },
  {
   "cell_type": "code",
   "execution_count": null,
   "metadata": {},
   "outputs": [],
   "source": []
  },
  {
   "cell_type": "code",
   "execution_count": null,
   "metadata": {},
   "outputs": [],
   "source": []
  },
  {
   "cell_type": "code",
   "execution_count": null,
   "metadata": {},
   "outputs": [],
   "source": []
  },
  {
   "cell_type": "markdown",
   "metadata": {},
   "source": [
    "## Conclusion\n",
    "- Other articles to explore:\n",
    "- https://akichan-f.medium.com/akiras-machine-learning-news-23-276a1cd4c6dc"
   ]
  }
 ],
 "metadata": {
  "interpreter": {
   "hash": "331011f122a889b25738108d413113b694afba0bf4a89fb5b791b355e3aa4fbf"
  },
  "kernelspec": {
   "display_name": "Python 3.9.9 64-bit ('venv': venv)",
   "language": "python",
   "name": "python3"
  },
  "language_info": {
   "codemirror_mode": {
    "name": "ipython",
    "version": 3
   },
   "file_extension": ".py",
   "mimetype": "text/x-python",
   "name": "python",
   "nbconvert_exporter": "python",
   "pygments_lexer": "ipython3",
   "version": "3.9.9"
  },
  "orig_nbformat": 4
 },
 "nbformat": 4,
 "nbformat_minor": 2
}
