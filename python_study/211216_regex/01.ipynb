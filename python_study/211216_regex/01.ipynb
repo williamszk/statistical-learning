{
 "cells": [
  {
   "cell_type": "code",
   "execution_count": 2,
   "source": [
    "# https://www.youtube.com/watch?v=sHw5hLYFaIw&t=583s&ab_channel=codebasics\n",
    "\n",
    "# https://regex101.com/\n",
    "\n",
    "import re"
   ],
   "outputs": [],
   "metadata": {}
  },
  {
   "cell_type": "code",
   "execution_count": 5,
   "source": [
    "text = \"\"\"\n",
    "Lorem ipsum dolor sit amet, consectetur 9991116666 adipiscing elit, sed \n",
    "do eiusmod tempor incididunt ut labore et dolore magna aliqua. Ut enim ad minim veniam, quis nostrud \n",
    "exercitation ullamco laboris nisi ut aliquip ex ea commodo consequat. Duis aute irure dolor in reprehenderit \n",
    "in voluptate velit esse cillum dolore eu fugiat nulla pariatur. Excepteur sint occaecat cupidatat non proident, \n",
    "sunt in culpa qui officia deserunt mollit anim id est laborum.\n",
    "\"\"\"\n",
    "pattern = \"\\d{10}\"\n",
    "matches = re.findall(pattern, text)\n",
    "matches"
   ],
   "outputs": [
    {
     "output_type": "execute_result",
     "data": {
      "text/plain": [
       "['9991116666']"
      ]
     },
     "metadata": {},
     "execution_count": 5
    }
   ],
   "metadata": {}
  },
  {
   "cell_type": "code",
   "execution_count": 4,
   "source": [
    "text = \"\"\"\n",
    "Lorem ipsum dolor sit amet, consectetur 9991116666 adipiscing elit, sed do eiusmod \n",
    "tempor incididunt ut labore et dolore magna aliqua. Ut enim ad minim veniam, quis nostrud exercitation \n",
    "ullamco laboris nisi ut aliquip ex ea commodo consequat. Duis aute irure dolor in reprehenderit in \n",
    "voluptate velit esse cillum dolore eu fugiat (999)-333-7777 nulla pariatur. Excepteur sint occaecat cupidatat non \n",
    "proident, sunt in culpa qui officia deserunt mollit anim id est laborum.\n",
    "\"\"\"\n",
    "pattern = \"\\(\\d{3}\\)-\\d{3}-\\d{4}\"\n",
    "matches = re.findall(pattern, text)\n",
    "matches"
   ],
   "outputs": [
    {
     "output_type": "execute_result",
     "data": {
      "text/plain": [
       "['(999)-333-7777']"
      ]
     },
     "metadata": {},
     "execution_count": 4
    }
   ],
   "metadata": {}
  },
  {
   "cell_type": "code",
   "execution_count": 6,
   "source": [
    "text = \"\"\"\n",
    "Lorem ipsum dolor sit amet, consectetur 9991116666 adipiscing elit, sed do eiusmod \n",
    "tempor incididunt ut labore et dolore magna aliqua. Ut enim ad minim veniam, quis nostrud exercitation \n",
    "ullamco laboris nisi ut aliquip ex ea commodo consequat. Duis aute irure dolor in reprehenderit in \n",
    "voluptate velit esse cillum dolore eu fugiat (999)-333-7777 nulla pariatur. Excepteur sint occaecat cupidatat non \n",
    "proident, sunt in culpa qui officia deserunt mollit anim id est laborum.\n",
    "\"\"\"\n",
    "pattern = \"\\(\\d{3}\\)-\\d{3}-\\d{4}|\\d{10}\"\n",
    "matches = re.findall(pattern, text)\n",
    "matches"
   ],
   "outputs": [
    {
     "output_type": "execute_result",
     "data": {
      "text/plain": [
       "['9991116666', '(999)-333-7777']"
      ]
     },
     "metadata": {},
     "execution_count": 6
    }
   ],
   "metadata": {}
  },
  {
   "cell_type": "code",
   "execution_count": 8,
   "source": [
    "# [^abc] = any character excluding abc\n",
    "text = \"\"\"\n",
    "Note 1 - Overview\n",
    "Lorem ipsum dolor sit amet, consectetur 9991116666 adipiscing elit, sed do eiusmod \n",
    "tempor incididunt ut labore et dolore magna aliqua. Ut enim ad minim veniam, quis nostrud exercitation \n",
    "ullamco laboris nisi ut aliquip ex ea commodo consequat. Duis aute irure dolor in reprehenderit in \n",
    "voluptate velit esse cillum dolore eu fugiat (999)-333-7777 nulla pariatur. Excepteur sint occaecat cupidatat non \n",
    "proident, sunt in culpa qui officia deserunt mollit anim id est laborum.\n",
    "Note 2 - SEC Filings | Tesla Investor Relations\n",
    "Lorem ipsum dolor sit amet, consectetur 9991116666 adipiscing elit, sed do eiusmod \n",
    "tempor incididunt ut labore et dolore magna aliqua. Ut enim ad minim veniam, quis nostrud exercitation \n",
    "ullamco laboris nisi ut aliquip ex ea commodo consequat. Duis aute irure dolor in reprehenderit in \n",
    "voluptate velit esse cillum dolore eu fugiat (999)-333-7777 nulla pariatur. Excepteur sint occaecat cupidatat non \n",
    "proident, sunt in culpa qui officia deserunt mollit anim id est laborum.\n",
    "\"\"\"\n",
    "pattern = \"Note \\d - [^abc]\" # <====\n",
    "matches = re.findall(pattern, text)\n",
    "matches"
   ],
   "outputs": [
    {
     "output_type": "execute_result",
     "data": {
      "text/plain": [
       "['Note 1 - O', 'Note 2 - S']"
      ]
     },
     "metadata": {},
     "execution_count": 8
    }
   ],
   "metadata": {}
  },
  {
   "cell_type": "code",
   "execution_count": 11,
   "source": [
    "text = \"açla;falk;dfs-\"\n",
    "pattern = \"[^;-]\"\n",
    "matches = re.findall(pattern, text)\n",
    "matches"
   ],
   "outputs": [
    {
     "output_type": "execute_result",
     "data": {
      "text/plain": [
       "['a', 'ç', 'l', 'a', 'f', 'a', 'l', 'k', 'd', 'f', 's']"
      ]
     },
     "metadata": {},
     "execution_count": 11
    }
   ],
   "metadata": {}
  },
  {
   "cell_type": "code",
   "execution_count": 10,
   "source": [
    "text = \"açla;falk;dfs-\"\n",
    "pattern = \"[^;-]+\" # with the + we say one or more of those characters \n",
    "matches = re.findall(pattern, text)\n",
    "matches"
   ],
   "outputs": [
    {
     "output_type": "execute_result",
     "data": {
      "text/plain": [
       "['açla', 'falk', 'dfs']"
      ]
     },
     "metadata": {},
     "execution_count": 10
    }
   ],
   "metadata": {}
  },
  {
   "cell_type": "code",
   "execution_count": 12,
   "source": [
    "text = \"\"\"\n",
    "Note 1 - Overview\n",
    "Lorem ipsum dolor sit amet, consectetur 9991116666 adipiscing elit, sed do eiusmod \n",
    "tempor incididunt ut labore et dolore magna aliqua. Ut enim ad minim veniam, quis nostrud exercitation \n",
    "ullamco laboris nisi ut aliquip ex ea commodo consequat. Duis aute irure dolor in reprehenderit in \n",
    "voluptate velit esse cillum dolore eu fugiat (999)-333-7777 nulla pariatur. Excepteur sint occaecat cupidatat non \n",
    "proident, sunt in culpa qui officia deserunt mollit anim id est laborum.\n",
    "Note 2 - SEC Filings | Tesla Investor Relations\n",
    "Lorem ipsum dolor sit amet, consectetur 9991116666 adipiscing elit, sed do eiusmod \n",
    "tempor incididunt ut labore et dolore magna aliqua. Ut enim ad minim veniam, quis nostrud exercitation \n",
    "ullamco laboris nisi ut aliquip ex ea commodo consequat. Duis aute irure dolor in reprehenderit in \n",
    "voluptate velit esse cillum dolore eu fugiat (999)-333-7777 nulla pariatur. Excepteur sint occaecat cupidatat non \n",
    "proident, sunt in culpa qui officia deserunt mollit anim id est laborum.\n",
    "\"\"\"\n",
    "pattern = \"Note \\d - [^abc]+\"\n",
    "# [^abc] = any character excluding abc\n",
    "matches = re.findall(pattern, text)\n",
    "matches"
   ],
   "outputs": [
    {
     "output_type": "execute_result",
     "data": {
      "text/plain": [
       "['Note 1 - Overview\\nLorem ipsum dolor sit ', 'Note 2 - SEC Filings | Tesl']"
      ]
     },
     "metadata": {},
     "execution_count": 12
    }
   ],
   "metadata": {}
  },
  {
   "cell_type": "code",
   "execution_count": 13,
   "source": [
    "text = \"\"\"\n",
    "Note 1 - Overview\n",
    "Lorem ipsum dolor sit amet, consectetur 9991116666 adipiscing elit, sed do eiusmod \n",
    "tempor incididunt ut labore et dolore magna aliqua. Ut enim ad minim veniam, quis nostrud exercitation \n",
    "ullamco laboris nisi ut aliquip ex ea commodo consequat. Duis aute irure dolor in reprehenderit in \n",
    "voluptate velit esse cillum dolore eu fugiat (999)-333-7777 nulla pariatur. Excepteur sint occaecat cupidatat non \n",
    "proident, sunt in culpa qui officia deserunt mollit anim id est laborum.\n",
    "Note 2 - SEC Filings | Tesla Investor Relations\n",
    "Lorem ipsum dolor sit amet, consectetur 9991116666 adipiscing elit, sed do eiusmod \n",
    "tempor incididunt ut labore et dolore magna aliqua. Ut enim ad minim veniam, quis nostrud exercitation \n",
    "ullamco laboris nisi ut aliquip ex ea commodo consequat. Duis aute irure dolor in reprehenderit in \n",
    "voluptate velit esse cillum dolore eu fugiat (999)-333-7777 nulla pariatur. Excepteur sint occaecat cupidatat non \n",
    "proident, sunt in culpa qui officia deserunt mollit anim id est laborum.\n",
    "\"\"\"\n",
    "pattern = \"Note \\d - [^\\n]+\"\n",
    "# [^abc] = any character excluding abc\n",
    "matches = re.findall(pattern, text)\n",
    "matches"
   ],
   "outputs": [
    {
     "output_type": "execute_result",
     "data": {
      "text/plain": [
       "['Note 1 - Overview', 'Note 2 - SEC Filings | Tesla Investor Relations']"
      ]
     },
     "metadata": {},
     "execution_count": 13
    }
   ],
   "metadata": {}
  },
  {
   "cell_type": "code",
   "execution_count": 14,
   "source": [
    "# how to capture just a part of the matched string\n",
    "# (...) captures everything enclosed\n",
    "text = \"\"\"\n",
    "Note 1 - Overview\n",
    "Lorem ipsum dolor sit amet, consectetur 9991116666 adipiscing elit, sed do eiusmod \n",
    "tempor incididunt ut labore et dolore magna aliqua. Ut enim ad minim veniam, quis nostrud exercitation \n",
    "ullamco laboris nisi ut aliquip ex ea commodo consequat. Duis aute irure dolor in reprehenderit in \n",
    "voluptate velit esse cillum dolore eu fugiat (999)-333-7777 nulla pariatur. Excepteur sint occaecat cupidatat non \n",
    "proident, sunt in culpa qui officia deserunt mollit anim id est laborum.\n",
    "Note 2 - SEC Filings | Tesla Investor Relations\n",
    "Lorem ipsum dolor sit amet, consectetur 9991116666 adipiscing elit, sed do eiusmod \n",
    "tempor incididunt ut labore et dolore magna aliqua. Ut enim ad minim veniam, quis nostrud exercitation \n",
    "ullamco laboris nisi ut aliquip ex ea commodo consequat. Duis aute irure dolor in reprehenderit in \n",
    "voluptate velit esse cillum dolore eu fugiat (999)-333-7777 nulla pariatur. Excepteur sint occaecat cupidatat non \n",
    "proident, sunt in culpa qui officia deserunt mollit anim id est laborum.\n",
    "\"\"\"\n",
    "pattern = \"Note \\d - ([^\\n]+)\"\n",
    "matches = re.findall(pattern, text)\n",
    "matches\n",
    "# now we got only the titles, there is no \"Note 1\""
   ],
   "outputs": [
    {
     "output_type": "execute_result",
     "data": {
      "text/plain": [
       "['Overview', 'SEC Filings | Tesla Investor Relations']"
      ]
     },
     "metadata": {},
     "execution_count": 14
    }
   ],
   "metadata": {}
  },
  {
   "cell_type": "code",
   "execution_count": null,
   "source": [
    "# we can use * to say 0 or n number of characters that match this pattern\n",
    "text = \"\"\"\n",
    "Note 1 - Overview\n",
    "Lorem ipsum dolor sit amet, consectetur 9991116666 adipiscing elit, sed do eiusmod \n",
    "tempor incididunt ut labore et dolore magna aliqua. Ut enim ad minim veniam, quis nostrud exercitation \n",
    "ullamco laboris nisi ut aliquip ex ea commodo consequat. Duis aute irure dolor in reprehenderit in \n",
    "voluptate velit esse cillum dolore eu fugiat (999)-333-7777 nulla pariatur. Excepteur sint occaecat cupidatat non \n",
    "proident, sunt in culpa qui officia deserunt mollit anim id est laborum.\n",
    "Note 2 - SEC Filings | Tesla Investor Relations\n",
    "Lorem ipsum dolor sit amet, consectetur 9991116666 adipiscing elit, sed do eiusmod \n",
    "tempor incididunt ut labore et dolore magna aliqua. Ut enim ad minim veniam, quis nostrud exercitation \n",
    "ullamco laboris nisi ut aliquip ex ea commodo consequat. Duis aute irure dolor in reprehenderit in \n",
    "voluptate velit esse cillum dolore eu fugiat (999)-333-7777 nulla pariatur. Excepteur sint occaecat cupidatat non \n",
    "proident, sunt in culpa qui officia deserunt mollit anim id est laborum.\n",
    "\"\"\"\n",
    "pattern = \"Note \\d - ([^\\n]*)\" # <===\n",
    "matches = re.findall(pattern, text)\n",
    "matches\n",
    "# now we got only the titles, there is no \"Note 1\""
   ],
   "outputs": [],
   "metadata": {}
  },
  {
   "cell_type": "code",
   "execution_count": 22,
   "source": [
    "text = \"\"\"\n",
    "Note 1 - Overview\n",
    "Lorem ipsum dolor sit amet, consectetur 9991116666 adipiscing elit, sed do eiusmod \n",
    "tempor incididunt ut labore et dolore magna aliqua. Ut enim ad minim veniam, quis nostrud exercitation \n",
    "ullamco laboris nisi ut aliquip ex ea commodo consequat. Duis aute irure dolor in reprehenderit in \n",
    "voluptate velit esse cillum dolore eu fugiat (999)-333-7777 nulla pariatur. FY2021 Q2 was $9.8 billion\n",
    "Excepteur sint occaecat cupidatat non \n",
    "proident, sunt in culpa qui officia deserunt mollit anim id est laborum.\n",
    "Note 2 - SEC Filings | Tesla Investor Relations\n",
    "Lorem ipsum dolor sit amet, consectetur 9991116666 adipiscing elit, sed do eiusmod \n",
    "tempor incididunt ut labore et dolore magna aliqua. Ut enim ad minim veniam, quis nostrud exercitation \n",
    "ullamco laboris nisi ut aliquip ex ea FY2021 Q1 was $4.85 billion commodo consequat. Duis aute irure dolor in reprehenderit in \n",
    "voluptate velit esse cillum dolore eu fugiat (999)-333-7777 nulla pariatur. Excepteur sint occaecat cupidatat non \n",
    "proident, sunt in culpa qui officia deserunt mollit anim id est laborum.\n",
    "\"\"\"\n",
    "pattern = \"FY\\d{4} Q[1-4] [^\\ ]* \\$([^a-zA-Z]*)billion\"\n",
    "matches = re.findall(pattern, text)\n",
    "matches"
   ],
   "outputs": [
    {
     "output_type": "execute_result",
     "data": {
      "text/plain": [
       "['9.8 ', '4.85 ']"
      ]
     },
     "metadata": {},
     "execution_count": 22
    }
   ],
   "metadata": {}
  },
  {
   "cell_type": "code",
   "execution_count": 2,
   "source": [
    "import re"
   ],
   "outputs": [],
   "metadata": {}
  },
  {
   "cell_type": "code",
   "execution_count": 3,
   "source": [
    "text = \"\"\"\n",
    "ullamco laboris nisi ut aliquip ex ea FY2021 Q1 was $4.85 billion commodo consequat. Duis aute irure dolor in reprehenderit in FY2021 Q5\n",
    "voluptate velit esse cillum dolore eu fugiat (999)-333-7777 nulla pariatur. Excepteur sint occaecat cupidatat non \n",
    "proident, sunt in culpa qui officia deserunt mollit anim id est laborum.\n",
    "FY\\d{4} Q\\d [^\\ ]* \\$([^a-zA-Z]*)billion\n",
    "FY\\d{4} Q[1,2,3,4,5]\n",
    "Q\n",
    "Q1\n",
    "Q2\n",
    "Q12345\n",
    "\"\"\"\n",
    "pattern = \"Q[12345]+\"\n",
    "matches = re.findall(pattern, text)\n",
    "matches"
   ],
   "outputs": [
    {
     "output_type": "execute_result",
     "data": {
      "text/plain": [
       "['Q1', 'Q5', 'Q1', 'Q2', 'Q12345']"
      ]
     },
     "metadata": {},
     "execution_count": 3
    }
   ],
   "metadata": {}
  },
  {
   "cell_type": "code",
   "execution_count": 9,
   "source": [
    "# with fy with case\n",
    "text = \"\"\"\n",
    "ullamco laboris nisi ut aliquip ex ea fy2021 Q1 was $4.85 billion commodo consequat. Duis aute irure dolor in reprehenderit in FY2021 Q5\n",
    "voluptate velit esse cillum dolore eu FY2021 Q2 fugiat (999)-333-7777 nulla pariatur. Excepteur sint occaecat cupidatat non \n",
    "proident, sunt in culpa qui officia deserunt mollit anim id est laborum.\n",
    "\"\"\"\n",
    "pattern = \"FY\\d{4} Q[1-4]\"\n",
    "matches = re.findall(pattern, text)\n",
    "matches\n",
    "# it can't find fy2021 Q1\n",
    "# but we want to ignore case"
   ],
   "outputs": [
    {
     "output_type": "execute_result",
     "data": {
      "text/plain": [
       "['FY2021 Q2']"
      ]
     },
     "metadata": {},
     "execution_count": 9
    }
   ],
   "metadata": {}
  },
  {
   "cell_type": "code",
   "execution_count": 10,
   "source": [
    "text = \"\"\"\n",
    "ullamco laboris nisi ut aliquip ex ea fy2021 Q1 was $4.85 billion commodo consequat. Duis aute irure dolor in reprehenderit in FY2021 Q5\n",
    "voluptate velit esse cillum dolore eu FY2021 Q2 fugiat (999)-333-7777 nulla pariatur. Excepteur sint occaecat cupidatat non \n",
    "proident, sunt in culpa qui officia deserunt mollit anim id est laborum.\n",
    "\"\"\"\n",
    "pattern = \"FY\\d{4} Q[1-4]\"\n",
    "matches = re.findall(pattern, text, flags=re.I)\n",
    "matches\n",
    "# we use the flag re.I\n",
    "# we can see in the documentation about the possible flags"
   ],
   "outputs": [
    {
     "output_type": "execute_result",
     "data": {
      "text/plain": [
       "['fy2021 Q1', 'FY2021 Q2']"
      ]
     },
     "metadata": {},
     "execution_count": 10
    }
   ],
   "metadata": {}
  },
  {
   "cell_type": "code",
   "execution_count": 11,
   "source": [
    "# find all \"2021 Q1\" without the FY\n",
    "text = \"\"\"\n",
    "ullamco laboris nisi ut aliquip ex ea fy2021 Q1 was $4.85 billion commodo consequat. Duis aute irure dolor in reprehenderit in FY2021 Q5\n",
    "voluptate velit esse cillum dolore eu FY2021 Q2 fugiat (999)-333-7777 nulla pariatur. Excepteur sint occaecat cupidatat non \n",
    "proident, sunt in culpa qui officia deserunt mollit anim id est laborum.\n",
    "\"\"\"\n",
    "pattern = \"FY(\\d{4} Q[1-4])\"\n",
    "matches = re.findall(pattern, text, flags=re.I)\n",
    "matches\n",
    "# we can just use parenthesis to select what we want"
   ],
   "outputs": [
    {
     "output_type": "execute_result",
     "data": {
      "text/plain": [
       "['2021 Q1', '2021 Q2']"
      ]
     },
     "metadata": {},
     "execution_count": 11
    }
   ],
   "metadata": {}
  },
  {
   "cell_type": "code",
   "execution_count": 17,
   "source": [
    "# after the fy2021 q1 we want to know the values of each quarter\n",
    "# quarters are only 1-4\n",
    "text = \"\"\"\n",
    "ullamco laboris nisi ut aliquip ex ea fy2021 Q1 was $4.85 billion commodo consequat. Duis aute irure dolor in \n",
    "reprehenderit in FY2021 Q5 $9.999 billion\n",
    "voluptate velit esse cillum dolore eu FY2021 Q2 $5.32 billion fugiat \n",
    "(999)-333-7777 nulla pariatur. Excepteur sint occaecat cupidatat non \n",
    "proident, sunt in culpa qui officia deserunt mollit anim id est laborum.\n",
    "\"\"\"\n",
    "pattern = \"FY\\d{4} Q[1-4] \\$([^\\ ]+) | FY\\d{4} Q[1-4] was \\$([^\\ ]+)\"\n",
    "matches = re.findall(pattern, text, flags=re.I)\n",
    "matches"
   ],
   "outputs": [
    {
     "output_type": "execute_result",
     "data": {
      "text/plain": [
       "[('', '4.85'), ('5.32', '')]"
      ]
     },
     "metadata": {},
     "execution_count": 17
    }
   ],
   "metadata": {}
  },
  {
   "cell_type": "code",
   "execution_count": 18,
   "source": [
    "# I want to extract \"FY2021 Q1\" and the value\n",
    "# \n",
    "text = \"\"\"\n",
    "ullamco laboris nisi ut aliquip ex ea fy2021 Q1 was $4.85 billion commodo consequat. Duis aute irure dolor in \n",
    "reprehenderit in FY2021 Q5 $9.999 billion\n",
    "voluptate velit esse cillum dolore eu FY2021 Q2 $5.32 billion fugiat \n",
    "(999)-333-7777 nulla pariatur. Excepteur sint occaecat cupidatat non \n",
    "proident, sunt in culpa qui officia deserunt mollit anim id est laborum.\n",
    "\"\"\"\n",
    "pattern = \"(FY\\d{4} Q[1-4]) \\$([^\\ ]+) | (FY\\d{4} Q[1-4]) was \\$([^\\ ]+)\"\n",
    "matches = re.findall(pattern, text, flags=re.I)\n",
    "matches"
   ],
   "outputs": [
    {
     "output_type": "execute_result",
     "data": {
      "text/plain": [
       "[('', '', 'fy2021 Q1', '4.85'), ('FY2021 Q2', '5.32', '', '')]"
      ]
     },
     "metadata": {},
     "execution_count": 18
    }
   ],
   "metadata": {}
  },
  {
   "cell_type": "code",
   "execution_count": 21,
   "source": [
    "text = \"\"\"\n",
    "$98.98\n",
    "hell world\n",
    "$oo\n",
    "$98.98.33d\n",
    "\"\"\"\n",
    "pattern = \"\\$[0-9\\.]+\"\n",
    "matches = re.findall(pattern, text)\n",
    "matches"
   ],
   "outputs": [
    {
     "output_type": "execute_result",
     "data": {
      "text/plain": [
       "['$98.98', '$98.98.33']"
      ]
     },
     "metadata": {},
     "execution_count": 21
    }
   ],
   "metadata": {}
  },
  {
   "cell_type": "code",
   "execution_count": 24,
   "source": [
    "text = \"\"\"\n",
    "$98.98\n",
    "hell world\n",
    "$oo\n",
    "$98.98987.33d\n",
    "\"\"\"\n",
    "pattern = \"\\$\\d+\\.\\d+\"\n",
    "matches = re.findall(pattern, text)\n",
    "matches"
   ],
   "outputs": [
    {
     "output_type": "execute_result",
     "data": {
      "text/plain": [
       "['$98.98', '$98.98987']"
      ]
     },
     "metadata": {},
     "execution_count": 24
    }
   ],
   "metadata": {}
  },
  {
   "cell_type": "code",
   "execution_count": null,
   "source": [],
   "outputs": [],
   "metadata": {}
  },
  {
   "cell_type": "code",
   "execution_count": null,
   "source": [],
   "outputs": [],
   "metadata": {}
  },
  {
   "cell_type": "code",
   "execution_count": null,
   "source": [],
   "outputs": [],
   "metadata": {}
  },
  {
   "cell_type": "code",
   "execution_count": null,
   "source": [],
   "outputs": [],
   "metadata": {}
  },
  {
   "cell_type": "code",
   "execution_count": null,
   "source": [],
   "outputs": [],
   "metadata": {}
  },
  {
   "cell_type": "code",
   "execution_count": null,
   "source": [],
   "outputs": [],
   "metadata": {}
  },
  {
   "cell_type": "code",
   "execution_count": null,
   "source": [],
   "outputs": [],
   "metadata": {}
  },
  {
   "cell_type": "code",
   "execution_count": null,
   "source": [],
   "outputs": [],
   "metadata": {}
  },
  {
   "cell_type": "code",
   "execution_count": null,
   "source": [],
   "outputs": [],
   "metadata": {}
  },
  {
   "cell_type": "code",
   "execution_count": null,
   "source": [],
   "outputs": [],
   "metadata": {}
  }
 ],
 "metadata": {
  "orig_nbformat": 4,
  "language_info": {
   "name": "python",
   "version": "3.9.5",
   "mimetype": "text/x-python",
   "codemirror_mode": {
    "name": "ipython",
    "version": 3
   },
   "pygments_lexer": "ipython3",
   "nbconvert_exporter": "python",
   "file_extension": ".py"
  },
  "kernelspec": {
   "name": "python3",
   "display_name": "Python 3.9.5 64-bit"
  },
  "interpreter": {
   "hash": "2e74ac382d889cd10012e41722f06aacf916b16814a4d1407b6d1cbec49a5dc7"
  }
 },
 "nbformat": 4,
 "nbformat_minor": 2
}