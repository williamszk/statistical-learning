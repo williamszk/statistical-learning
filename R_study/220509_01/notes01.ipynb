{
 "cells": [
  {
   "cell_type": "code",
   "execution_count": 1,
   "metadata": {
    "vscode": {
     "languageId": "r"
    }
   },
   "outputs": [
    {
     "data": {
      "text/html": [
       "2"
      ],
      "text/latex": [
       "2"
      ],
      "text/markdown": [
       "2"
      ],
      "text/plain": [
       "[1] 2"
      ]
     },
     "metadata": {},
     "output_type": "display_data"
    }
   ],
   "source": [
    "1 + 1"
   ]
  },
  {
   "cell_type": "code",
   "execution_count": null,
   "metadata": {
    "vscode": {
     "languageId": "r"
    }
   },
   "outputs": [],
   "source": [
    "# some notes on verzani introduction to statistics with R\n"
   ]
  },
  {
   "cell_type": "code",
   "execution_count": null,
   "metadata": {
    "vscode": {
     "languageId": "r"
    }
   },
   "outputs": [],
   "source": [
    "\n",
    "# also taking a look at Venables and Ripley, Modern Applied Statistics with S"
   ]
  },
  {
   "cell_type": "code",
   "execution_count": 1,
   "metadata": {
    "vscode": {
     "languageId": "r"
    }
   },
   "outputs": [
    {
     "data": {
      "text/html": [
       "5"
      ],
      "text/latex": [
       "5"
      ],
      "text/markdown": [
       "5"
      ],
      "text/plain": [
       "[1] 5"
      ]
     },
     "metadata": {},
     "output_type": "display_data"
    }
   ],
   "source": [
    "2 + 3"
   ]
  },
  {
   "cell_type": "code",
   "execution_count": 2,
   "metadata": {
    "vscode": {
     "languageId": "r"
    }
   },
   "outputs": [
    {
     "data": {
      "text/html": [
       "6.62651313987539"
      ],
      "text/latex": [
       "6.62651313987539"
      ],
      "text/markdown": [
       "6.62651313987539"
      ],
      "text/plain": [
       "[1] 6.626513"
      ]
     },
     "metadata": {},
     "output_type": "display_data"
    }
   ],
   "source": [
    "sqrt(3/4)/(1/3 - 2/pi^2)"
   ]
  },
  {
   "cell_type": "code",
   "execution_count": 3,
   "metadata": {
    "vscode": {
     "languageId": "r"
    }
   },
   "outputs": [],
   "source": [
    "library(MASS)"
   ]
  },
  {
   "cell_type": "code",
   "execution_count": 4,
   "metadata": {
    "vscode": {
     "languageId": "r"
    }
   },
   "outputs": [],
   "source": [
    "data(chem)"
   ]
  },
  {
   "cell_type": "code",
   "execution_count": 5,
   "metadata": {
    "vscode": {
     "languageId": "r"
    }
   },
   "outputs": [
    {
     "data": {
      "text/html": [
       "<style>\n",
       ".list-inline {list-style: none; margin:0; padding: 0}\n",
       ".list-inline>li {display: inline-block}\n",
       ".list-inline>li:not(:last-child)::after {content: \"\\00b7\"; padding: 0 .5ex}\n",
       "</style>\n",
       "<ol class=list-inline><li>2.9</li><li>3.1</li><li>3.4</li><li>3.4</li><li>3.7</li><li>3.7</li><li>2.8</li><li>2.5</li><li>2.4</li><li>2.4</li><li>2.7</li><li>2.2</li><li>5.28</li><li>3.37</li><li>3.03</li><li>3.03</li><li>28.95</li><li>3.77</li><li>3.4</li><li>2.2</li><li>3.5</li><li>3.6</li><li>3.7</li><li>3.7</li></ol>\n"
      ],
      "text/latex": [
       "\\begin{enumerate*}\n",
       "\\item 2.9\n",
       "\\item 3.1\n",
       "\\item 3.4\n",
       "\\item 3.4\n",
       "\\item 3.7\n",
       "\\item 3.7\n",
       "\\item 2.8\n",
       "\\item 2.5\n",
       "\\item 2.4\n",
       "\\item 2.4\n",
       "\\item 2.7\n",
       "\\item 2.2\n",
       "\\item 5.28\n",
       "\\item 3.37\n",
       "\\item 3.03\n",
       "\\item 3.03\n",
       "\\item 28.95\n",
       "\\item 3.77\n",
       "\\item 3.4\n",
       "\\item 2.2\n",
       "\\item 3.5\n",
       "\\item 3.6\n",
       "\\item 3.7\n",
       "\\item 3.7\n",
       "\\end{enumerate*}\n"
      ],
      "text/markdown": [
       "1. 2.9\n",
       "2. 3.1\n",
       "3. 3.4\n",
       "4. 3.4\n",
       "5. 3.7\n",
       "6. 3.7\n",
       "7. 2.8\n",
       "8. 2.5\n",
       "9. 2.4\n",
       "10. 2.4\n",
       "11. 2.7\n",
       "12. 2.2\n",
       "13. 5.28\n",
       "14. 3.37\n",
       "15. 3.03\n",
       "16. 3.03\n",
       "17. 28.95\n",
       "18. 3.77\n",
       "19. 3.4\n",
       "20. 2.2\n",
       "21. 3.5\n",
       "22. 3.6\n",
       "23. 3.7\n",
       "24. 3.7\n",
       "\n",
       "\n"
      ],
      "text/plain": [
       " [1]  2.90  3.10  3.40  3.40  3.70  3.70  2.80  2.50  2.40  2.40  2.70  2.20\n",
       "[13]  5.28  3.37  3.03  3.03 28.95  3.77  3.40  2.20  3.50  3.60  3.70  3.70"
      ]
     },
     "metadata": {},
     "output_type": "display_data"
    }
   ],
   "source": [
    "chem"
   ]
  },
  {
   "cell_type": "code",
   "execution_count": 6,
   "metadata": {
    "vscode": {
     "languageId": "r"
    }
   },
   "outputs": [
    {
     "data": {
      "text/html": [
       "'numeric'"
      ],
      "text/latex": [
       "'numeric'"
      ],
      "text/markdown": [
       "'numeric'"
      ],
      "text/plain": [
       "[1] \"numeric\""
      ]
     },
     "metadata": {},
     "output_type": "display_data"
    }
   ],
   "source": [
    "class(chem)"
   ]
  },
  {
   "cell_type": "code",
   "execution_count": 7,
   "metadata": {
    "vscode": {
     "languageId": "r"
    }
   },
   "outputs": [
    {
     "data": {
      "text/html": [
       "24"
      ],
      "text/latex": [
       "24"
      ],
      "text/markdown": [
       "24"
      ],
      "text/plain": [
       "[1] 24"
      ]
     },
     "metadata": {},
     "output_type": "display_data"
    }
   ],
   "source": [
    "length(chem)"
   ]
  },
  {
   "cell_type": "code",
   "execution_count": 8,
   "metadata": {
    "vscode": {
     "languageId": "r"
    }
   },
   "outputs": [
    {
     "data": {
      "text/html": [
       "4.28041666666667"
      ],
      "text/latex": [
       "4.28041666666667"
      ],
      "text/markdown": [
       "4.28041666666667"
      ],
      "text/plain": [
       "[1] 4.280417"
      ]
     },
     "metadata": {},
     "output_type": "display_data"
    }
   ],
   "source": [
    "mean(chem)"
   ]
  },
  {
   "cell_type": "code",
   "execution_count": 9,
   "metadata": {
    "vscode": {
     "languageId": "r"
    }
   },
   "outputs": [
    {
     "data": {
      "image/png": "[encoded data removed]",
      "text/plain": [
       "plot without title"
      ]
     },
     "metadata": {
      "image/png": {
       "height": 420,
       "width": 420
      }
     },
     "output_type": "display_data"
    }
   ],
   "source": [
    "plot(chem)"
   ]
  },
  {
   "cell_type": "code",
   "execution_count": 10,
   "metadata": {
    "vscode": {
     "languageId": "r"
    }
   },
   "outputs": [],
   "source": [
    "m <- mean(chem); v <- var(chem)/length(chem)"
   ]
  },
  {
   "cell_type": "code",
   "execution_count": 11,
   "metadata": {
    "vscode": {
     "languageId": "r"
    }
   },
   "outputs": [
    {
     "data": {
      "text/html": [
       "4.28041666666667"
      ],
      "text/latex": [
       "4.28041666666667"
      ],
      "text/markdown": [
       "4.28041666666667"
      ],
      "text/plain": [
       "[1] 4.280417"
      ]
     },
     "metadata": {},
     "output_type": "display_data"
    }
   ],
   "source": [
    "m"
   ]
  },
  {
   "cell_type": "code",
   "execution_count": 13,
   "metadata": {
    "vscode": {
     "languageId": "r"
    }
   },
   "outputs": [
    {
     "data": {
      "text/html": [
       "1.16926684027778"
      ],
      "text/latex": [
       "1.16926684027778"
      ],
      "text/markdown": [
       "1.16926684027778"
      ],
      "text/plain": [
       "[1] 1.169267"
      ]
     },
     "metadata": {},
     "output_type": "display_data"
    }
   ],
   "source": [
    "v"
   ]
  },
  {
   "cell_type": "code",
   "execution_count": 15,
   "metadata": {
    "vscode": {
     "languageId": "r"
    }
   },
   "outputs": [
    {
     "data": {
      "text/html": [
       "3.95848706037608"
      ],
      "text/latex": [
       "3.95848706037608"
      ],
      "text/markdown": [
       "3.95848706037608"
      ],
      "text/plain": [
       "[1] 3.958487"
      ]
     },
     "metadata": {},
     "output_type": "display_data"
    }
   ],
   "source": [
    "m/sqrt(v)"
   ]
  },
  {
   "cell_type": "markdown",
   "metadata": {
    "vscode": {
     "languageId": "r"
    }
   },
   "source": [
    "A test to see how higher order function would work with R"
   ]
  },
  {
   "cell_type": "code",
   "execution_count": 12,
   "metadata": {
    "vscode": {
     "languageId": "r"
    }
   },
   "outputs": [],
   "source": [
    "compose <- function(f,g) {\n",
    "    inner <- function(x) {\n",
    "        f(g(x))\n",
    "    }\n",
    "    inner\n",
    "}\n",
    "\n",
    "upper.case <- function(s) {\n",
    "    toupper(s)\n",
    "}\n",
    "\n",
    "exclamation <- function(s) {\n",
    "    paste(s, \"!\", sep=\"\")\n",
    "}"
   ]
  },
  {
   "cell_type": "code",
   "execution_count": 13,
   "metadata": {
    "vscode": {
     "languageId": "r"
    }
   },
   "outputs": [
    {
     "data": {
      "text/html": [
       "'HI THERE'"
      ],
      "text/latex": [
       "'HI THERE'"
      ],
      "text/markdown": [
       "'HI THERE'"
      ],
      "text/plain": [
       "[1] \"HI THERE\""
      ]
     },
     "metadata": {},
     "output_type": "display_data"
    }
   ],
   "source": [
    "upper.case(\"hi there\")"
   ]
  },
  {
   "cell_type": "code",
   "execution_count": 14,
   "metadata": {
    "vscode": {
     "languageId": "r"
    }
   },
   "outputs": [
    {
     "data": {
      "text/html": [
       "'hi!'"
      ],
      "text/latex": [
       "'hi!'"
      ],
      "text/markdown": [
       "'hi!'"
      ],
      "text/plain": [
       "[1] \"hi!\""
      ]
     },
     "metadata": {},
     "output_type": "display_data"
    }
   ],
   "source": [
    "exclamation(\"hi\")"
   ]
  },
  {
   "cell_type": "code",
   "execution_count": 15,
   "metadata": {
    "vscode": {
     "languageId": "r"
    }
   },
   "outputs": [],
   "source": [
    "scream <- compose(upper.case, exclamation)"
   ]
  },
  {
   "cell_type": "code",
   "execution_count": 16,
   "metadata": {
    "vscode": {
     "languageId": "r"
    }
   },
   "outputs": [
    {
     "data": {
      "text/html": [
       "'HI THERE!'"
      ],
      "text/latex": [
       "'HI THERE!'"
      ],
      "text/markdown": [
       "'HI THERE!'"
      ],
      "text/plain": [
       "[1] \"HI THERE!\""
      ]
     },
     "metadata": {},
     "output_type": "display_data"
    }
   ],
   "source": [
    "scream(\"hi there\")"
   ]
  },
  {
   "cell_type": "code",
   "execution_count": null,
   "metadata": {
    "vscode": {
     "languageId": "r"
    }
   },
   "outputs": [],
   "source": []
  }
 ],
 "metadata": {
  "kernelspec": {
   "display_name": "R",
   "language": "R",
   "name": "ir"
  },
  "language_info": {
   "codemirror_mode": "r",
   "file_extension": ".r",
   "mimetype": "text/x-r-source",
   "name": "R",
   "pygments_lexer": "r",
   "version": "3.6.3"
  },
  "orig_nbformat": 4
 },
 "nbformat": 4,
 "nbformat_minor": 2
}
