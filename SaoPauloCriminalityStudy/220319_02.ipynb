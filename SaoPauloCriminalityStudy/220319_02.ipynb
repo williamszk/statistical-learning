{
 "cells": [
  {
   "cell_type": "code",
   "execution_count": 17,
   "metadata": {},
   "outputs": [],
   "source": [
    "import pandas as pd"
   ]
  },
  {
   "cell_type": "code",
   "execution_count": null,
   "metadata": {},
   "outputs": [],
   "source": [
    "# df_00 = pd.read_html(r\"data/DadosBO_2022_1(FURTO DE CELULAR).txt\", header=1, encoding=\"ISO-8859-1\")"
   ]
  },
  {
   "cell_type": "code",
   "execution_count": 40,
   "metadata": {},
   "outputs": [],
   "source": [
    "list_strings = []\n",
    "with open(r\"data/DadosBO_2022_1(FURTO DE CELULAR).xls\", encoding=\"iso-8859-1\") as file:\n",
    "    for _ in range(4):\n",
    "        list_strings.append(file.readline())"
   ]
  },
  {
   "cell_type": "code",
   "execution_count": 46,
   "metadata": {},
   "outputs": [
    {
     "data": {
      "text/plain": [
       "['ANO_BO',\n",
       " 'NUM_BO',\n",
       " 'NUMERO_BOLETIM',\n",
       " 'BO_INICIADO',\n",
       " 'BO_EMITIDO',\n",
       " 'DATAOCORRENCIA',\n",
       " 'HORAOCORRENCIA',\n",
       " 'PERIDOOCORRENCIA',\n",
       " 'DATACOMUNICACAO',\n",
       " 'DATAELABORACAO',\n",
       " 'BO_AUTORIA',\n",
       " 'FLAGRANTE',\n",
       " 'NUMERO_BOLETIM_PRINCIPAL',\n",
       " 'LOGRADOURO',\n",
       " 'NUMERO',\n",
       " 'BAIRRO',\n",
       " 'CIDADE',\n",
       " 'UF',\n",
       " 'LATITUDE',\n",
       " 'LONGITUDE',\n",
       " 'DESCRICAOLOCAL',\n",
       " 'EXAME',\n",
       " 'SOLUCAO',\n",
       " 'DELEGACIA_NOME',\n",
       " 'DELEGACIA_CIRCUNSCRICAO',\n",
       " 'ESPECIE',\n",
       " 'RUBRICA',\n",
       " 'DESDOBRAMENTO',\n",
       " 'STATUS',\n",
       " 'TIPOPESSOA',\n",
       " 'VITIMAFATAL',\n",
       " 'NATURALIDADE',\n",
       " 'NACIONALIDADE',\n",
       " 'SEXO',\n",
       " 'DATANASCIMENTO',\n",
       " 'IDADE',\n",
       " 'ESTADOCIVIL',\n",
       " 'PROFISSAO',\n",
       " 'GRAUINSTRUCAO',\n",
       " 'CORCUTIS',\n",
       " 'NATUREZAVINCULADA',\n",
       " 'TIPOVINCULO',\n",
       " 'RELACIONAMENTO',\n",
       " 'PARENTESCO',\n",
       " 'PLACA_VEICULO',\n",
       " 'UF_VEICULO',\n",
       " 'CIDADE_VEICULO',\n",
       " 'DESCR_COR_VEICULO',\n",
       " 'DESCR_MARCA_VEICULO',\n",
       " 'ANO_FABRICACAO',\n",
       " 'ANO_MODELO',\n",
       " 'DESCR_TIPO_VEICULO',\n",
       " 'QUANT_CELULAR',\n",
       " 'MARCA_CELULAR']"
      ]
     },
     "execution_count": 46,
     "metadata": {},
     "output_type": "execute_result"
    }
   ],
   "source": [
    "list_strings[0].replace(\"\\x00\", \"\").replace(\"\\n\",\"\").split(\"\\t\")"
   ]
  },
  {
   "cell_type": "code",
   "execution_count": 47,
   "metadata": {},
   "outputs": [
    {
     "data": {
      "text/plain": [
       "['2021',\n",
       " '2528434',\n",
       " '2528434/2021',\n",
       " '31/12/2021 23:20:07',\n",
       " '01/01/2022 00:33:43',\n",
       " '30/12/2021',\n",
       " '17:30',\n",
       " 'A TARDE',\n",
       " '31/12/2021',\n",
       " '31/12/2021 23:20:07',\n",
       " 'Desconhecida',\n",
       " 'Não',\n",
       " '',\n",
       " 'AVENIDA DO ESTADO',\n",
       " '5018',\n",
       " 'CAMBUCI',\n",
       " 'S.PAULO',\n",
       " 'SP',\n",
       " '-23,5572300039987',\n",
       " '-46,620146983325',\n",
       " 'Via pública',\n",
       " '',\n",
       " 'ENCAMINHAMENTO DP ÁREA DO FATO',\n",
       " 'DELEGACIA ELETRONICA',\n",
       " '08º D.P. BRAS',\n",
       " 'Título II - Patrimônio (arts. 155 a 183)',\n",
       " 'Furto (art. 155) - INTERIOR DE VEICULO',\n",
       " '',\n",
       " 'Consumado',\n",
       " '',\n",
       " '',\n",
       " '',\n",
       " '',\n",
       " '',\n",
       " '',\n",
       " '',\n",
       " '',\n",
       " '',\n",
       " '',\n",
       " '',\n",
       " '',\n",
       " '',\n",
       " '',\n",
       " '',\n",
       " '',\n",
       " '',\n",
       " '',\n",
       " '',\n",
       " '',\n",
       " '0',\n",
       " '0',\n",
       " '',\n",
       " '1',\n",
       " '']"
      ]
     },
     "execution_count": 47,
     "metadata": {},
     "output_type": "execute_result"
    }
   ],
   "source": [
    "list_strings[1].replace(\"\\x00\", \"\").replace(\"\\n\",\"\").split(\"\\t\")"
   ]
  },
  {
   "cell_type": "code",
   "execution_count": 48,
   "metadata": {},
   "outputs": [
    {
     "data": {
      "text/plain": [
       "['2022',\n",
       " '37',\n",
       " '37/2022',\n",
       " '01/01/2022 01:01:51',\n",
       " '01/01/2022 01:15:15',\n",
       " '31/12/2021',\n",
       " '21:10',\n",
       " 'A NOITE',\n",
       " '01/01/2022',\n",
       " '01/01/2022 01:01:51',\n",
       " 'Desconhecida',\n",
       " 'Não',\n",
       " '',\n",
       " 'RUA CANTAREIRA',\n",
       " '306',\n",
       " 'CENTRO HISTÓRICO DE SÃO PAULO',\n",
       " 'S.PAULO',\n",
       " 'SP',\n",
       " '-23,541819',\n",
       " '-46,629386',\n",
       " 'Via pública',\n",
       " '',\n",
       " 'ENCAMINHAMENTO DP ÁREA DO FATO',\n",
       " 'DELEGACIA ELETRONICA',\n",
       " '01º D.P. SE',\n",
       " 'Título II - Patrimônio (arts. 155 a 183)',\n",
       " 'Furto (art. 155) - INTERIOR DE VEICULO',\n",
       " '',\n",
       " 'Consumado',\n",
       " '',\n",
       " '',\n",
       " '',\n",
       " '',\n",
       " '',\n",
       " '',\n",
       " '',\n",
       " '',\n",
       " '',\n",
       " '',\n",
       " '',\n",
       " '',\n",
       " '',\n",
       " '',\n",
       " '',\n",
       " '',\n",
       " '',\n",
       " '',\n",
       " '',\n",
       " '',\n",
       " '0',\n",
       " '0',\n",
       " '',\n",
       " '1',\n",
       " '']"
      ]
     },
     "execution_count": 48,
     "metadata": {},
     "output_type": "execute_result"
    }
   ],
   "source": [
    "list_strings[2].replace(\"\\x00\", \"\").replace(\"\\n\",\"\").split(\"\\t\")"
   ]
  },
  {
   "cell_type": "code",
   "execution_count": 49,
   "metadata": {},
   "outputs": [
    {
     "data": {
      "text/plain": [
       "['2022',\n",
       " '1',\n",
       " '1/2022',\n",
       " '01/01/2022 01:23:59',\n",
       " '01/01/2022 01:38:37',\n",
       " '01/01/2022',\n",
       " '00:05',\n",
       " 'DE MADRUGADA',\n",
       " '01/01/2022',\n",
       " '01/01/2022 01:23:59',\n",
       " 'Desconhecida',\n",
       " 'Não',\n",
       " '',\n",
       " 'RUA antonio rodrigues',\n",
       " '1',\n",
       " 'VILA COMERCIAL',\n",
       " 'PRESIDENTE PRUDENTE',\n",
       " 'SP',\n",
       " '-22,123472233',\n",
       " '-51,399824479',\n",
       " 'Via pública',\n",
       " '',\n",
       " 'BO PARA REGISTRO',\n",
       " 'DEL.SEC.PRES.PRUDENTE PLANTÃO',\n",
       " '02º D.P. PRES. PRUDENTE',\n",
       " 'Título II - Patrimônio (arts. 155 a 183)',\n",
       " 'Furto (art. 155) - TRANSEUNTE',\n",
       " '',\n",
       " 'Consumado',\n",
       " '',\n",
       " '',\n",
       " '',\n",
       " '',\n",
       " '',\n",
       " '',\n",
       " '',\n",
       " '',\n",
       " '',\n",
       " '',\n",
       " '',\n",
       " '',\n",
       " '',\n",
       " '',\n",
       " '',\n",
       " '',\n",
       " '',\n",
       " '',\n",
       " '',\n",
       " '',\n",
       " '0',\n",
       " '0',\n",
       " '',\n",
       " '1',\n",
       " 'Motorola']"
      ]
     },
     "execution_count": 49,
     "metadata": {},
     "output_type": "execute_result"
    }
   ],
   "source": [
    "list_strings[3].replace(\"\\x00\", \"\").replace(\"\\n\",\"\").split(\"\\t\")"
   ]
  },
  {
   "cell_type": "code",
   "execution_count": null,
   "metadata": {},
   "outputs": [],
   "source": []
  },
  {
   "cell_type": "code",
   "execution_count": null,
   "metadata": {},
   "outputs": [],
   "source": []
  },
  {
   "cell_type": "code",
   "execution_count": null,
   "metadata": {},
   "outputs": [],
   "source": []
  },
  {
   "cell_type": "code",
   "execution_count": null,
   "metadata": {},
   "outputs": [],
   "source": []
  },
  {
   "cell_type": "code",
   "execution_count": null,
   "metadata": {},
   "outputs": [],
   "source": []
  },
  {
   "cell_type": "code",
   "execution_count": null,
   "metadata": {},
   "outputs": [],
   "source": []
  },
  {
   "cell_type": "code",
   "execution_count": null,
   "metadata": {},
   "outputs": [],
   "source": []
  },
  {
   "cell_type": "code",
   "execution_count": null,
   "metadata": {},
   "outputs": [],
   "source": []
  },
  {
   "cell_type": "code",
   "execution_count": null,
   "metadata": {},
   "outputs": [],
   "source": []
  },
  {
   "cell_type": "code",
   "execution_count": null,
   "metadata": {},
   "outputs": [],
   "source": []
  },
  {
   "cell_type": "code",
   "execution_count": null,
   "metadata": {},
   "outputs": [],
   "source": []
  },
  {
   "cell_type": "code",
   "execution_count": null,
   "metadata": {},
   "outputs": [],
   "source": []
  },
  {
   "cell_type": "code",
   "execution_count": null,
   "metadata": {},
   "outputs": [],
   "source": []
  },
  {
   "cell_type": "code",
   "execution_count": null,
   "metadata": {},
   "outputs": [],
   "source": []
  }
 ],
 "metadata": {
  "interpreter": {
   "hash": "9c0c394bc837e9dec2e186955f553143cb573b49617ea2f51eddc0ed49b27e1d"
  },
  "kernelspec": {
   "display_name": "Python 3.8.10 ('.venv': venv)",
   "language": "python",
   "name": "python3"
  },
  "language_info": {
   "codemirror_mode": {
    "name": "ipython",
    "version": 3
   },
   "file_extension": ".py",
   "mimetype": "text/x-python",
   "name": "python",
   "nbconvert_exporter": "python",
   "pygments_lexer": "ipython3",
   "version": "3.8.10"
  },
  "orig_nbformat": 4
 },
 "nbformat": 4,
 "nbformat_minor": 2
}
