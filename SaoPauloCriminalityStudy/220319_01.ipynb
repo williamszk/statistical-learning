{
 "cells": [
  {
   "cell_type": "code",
   "execution_count": 2,
   "metadata": {},
   "outputs": [
    {
     "name": "stdout",
     "output_type": "stream",
     "text": [
      "Hello World\n"
     ]
    }
   ],
   "source": [
    "println(\"Hello World\")"
   ]
  },
  {
   "cell_type": "code",
   "execution_count": 4,
   "metadata": {},
   "outputs": [
    {
     "name": "stderr",
     "output_type": "stream",
     "text": [
      "\u001b[32m\u001b[1m   Updating\u001b[22m\u001b[39m registry at `~/.julia/registries/General`\n"
     ]
    },
    {
     "name": "stdout",
     "output_type": "stream",
     "text": [
      "\u001b[?25l\u001b[2K"
     ]
    },
    {
     "name": "stderr",
     "output_type": "stream",
     "text": [
      "\u001b[32m\u001b[1m   Updating\u001b[22m\u001b[39m git-repo `https://github.com/JuliaRegistries/General.git`\n"
     ]
    },
    {
     "name": "stdout",
     "output_type": "stream",
     "text": [
      "\u001b[?25h"
     ]
    },
    {
     "name": "stderr",
     "output_type": "stream",
     "text": [
      "\u001b[32m\u001b[1m  Resolving\u001b[22m\u001b[39m package versions...\n"
     ]
    },
    {
     "name": "stderr",
     "output_type": "stream",
     "text": [
      "\u001b[32m\u001b[1m  Installed\u001b[22m\u001b[39m DataValueInterfaces ───────── v1.0.0\n"
     ]
    },
    {
     "name": "stderr",
     "output_type": "stream",
     "text": [
      "\u001b[32m\u001b[1m  Installed\u001b[22m\u001b[39m Libiconv_jll ──────────────── v1.16.0+8\n",
      "\u001b[32m\u001b[1m  Installed\u001b[22m\u001b[39m XML2_jll ──────────────────── v2.9.10+3\n",
      "\u001b[32m\u001b[1m  Installed\u001b[22m\u001b[39m IteratorInterfaceExtensions ─ v1.0.0\n",
      "\u001b[32m\u001b[1m  Installed\u001b[22m\u001b[39m ZipFile ───────────────────── v0.9.4\n",
      "\u001b[32m\u001b[1m  Installed\u001b[22m\u001b[39m DataAPI ───────────────────── v1.9.0\n",
      "\u001b[32m\u001b[1m  Installed\u001b[22m\u001b[39m Tables ────────────────────── v1.7.0\n",
      "\u001b[32m\u001b[1m  Installed\u001b[22m\u001b[39m XLSX ──────────────────────── v0.7.9\n"
     ]
    },
    {
     "name": "stderr",
     "output_type": "stream",
     "text": [
      "\u001b[32m\u001b[1m  Installed\u001b[22m\u001b[39m TableTraits ───────────────── v1.0.1\n"
     ]
    },
    {
     "name": "stderr",
     "output_type": "stream",
     "text": [
      "\u001b[32m\u001b[1m  Installed\u001b[22m\u001b[39m EzXML ─────────────────────── v1.1.0\n",
      "\u001b[32m\u001b[1m  Installed\u001b[22m\u001b[39m OrderedCollections ────────── v1.4.1\n"
     ]
    },
    {
     "name": "stderr",
     "output_type": "stream",
     "text": [
      "#=#=#                                                                         \r"
     ]
    },
    {
     "name": "stderr",
     "output_type": "stream",
     "text": [
      "##O#- #                                                                       \r"
     ]
    },
    {
     "name": "stderr",
     "output_type": "stream",
     "text": [
      "##O=#  #                                                                      \r\r######################################################################## 100.0%"
     ]
    },
    {
     "name": "stderr",
     "output_type": "stream",
     "text": [
      "#=#=-#  #                                                                     \r"
     ]
    },
    {
     "name": "stderr",
     "output_type": "stream",
     "text": [
      "\r                                                                           1.1%"
     ]
    },
    {
     "name": "stderr",
     "output_type": "stream",
     "text": [
      "\r####                                                                       6.5%"
     ]
    },
    {
     "name": "stderr",
     "output_type": "stream",
     "text": [
      "\r############                                                              17.8%"
     ]
    },
    {
     "name": "stderr",
     "output_type": "stream",
     "text": [
      "\r######################                                                    30.8%"
     ]
    },
    {
     "name": "stderr",
     "output_type": "stream",
     "text": [
      "\r#############################                                             40.5%"
     ]
    },
    {
     "name": "stderr",
     "output_type": "stream",
     "text": [
      "\r######################################                  "
     ]
    },
    {
     "name": "stderr",
     "output_type": "stream",
     "text": [
      "                  53.5%"
     ]
    },
    {
     "name": "stderr",
     "output_type": "stream",
     "text": [
      "\r##################################################                        69.7%"
     ]
    },
    {
     "name": "stderr",
     "output_type": "stream",
     "text": [
      "\r###########################################################               82.6%"
     ]
    },
    {
     "name": "stderr",
     "output_type": "stream",
     "text": [
      "\r###################################################################       94.0%\r######################################################################## 100.0%\n"
     ]
    },
    {
     "name": "stderr",
     "output_type": "stream",
     "text": [
      "#=#=#                                                                         \r"
     ]
    },
    {
     "name": "stderr",
     "output_type": "stream",
     "text": [
      "##O#- #                                                                       \r"
     ]
    },
    {
     "name": "stderr",
     "output_type": "stream",
     "text": [
      "##O=#  #                                                                      \r\r######################################################################## 100.0%"
     ]
    },
    {
     "name": "stderr",
     "output_type": "stream",
     "text": [
      "#=#=-#  #                                                                     \r"
     ]
    },
    {
     "name": "stderr",
     "output_type": "stream",
     "text": [
      " #=#=-#   #                                                                   \r"
     ]
    },
    {
     "name": "stderr",
     "output_type": "stream",
     "text": [
      "\r                                                                           1.0%"
     ]
    },
    {
     "name": "stderr",
     "output_type": "stream",
     "text": [
      "\r##                                                                         3.1%"
     ]
    },
    {
     "name": "stderr",
     "output_type": "stream",
     "text": [
      "\r##                                                                         3.9%"
     ]
    },
    {
     "name": "stderr",
     "output_type": "stream",
     "text": [
      "\r######                                                                     8.6%"
     ]
    },
    {
     "name": "stderr",
     "output_type": "stream",
     "text": [
      "\r############                                                              17.2%"
     ]
    },
    {
     "name": "stderr",
     "output_type": "stream",
     "text": [
      "\r##################                                                        25.8%"
     ]
    },
    {
     "name": "stderr",
     "output_type": "stream",
     "text": [
      "\r#########################                                                 35.2%"
     ]
    },
    {
     "name": "stderr",
     "output_type": "stream",
     "text": [
      "\r###############################                                           44.3%"
     ]
    },
    {
     "name": "stderr",
     "output_type": "stream",
     "text": [
      "\r######################################                                    53.0%"
     ]
    },
    {
     "name": "stderr",
     "output_type": "stream",
     "text": [
      "\r############################################                              62.4%"
     ]
    },
    {
     "name": "stderr",
     "output_type": "stream",
     "text": [
      "\r##################################################                        70.5%"
     ]
    },
    {
     "name": "stderr",
     "output_type": "stream",
     "text": [
      "\r########################################################                  79.1%"
     ]
    },
    {
     "name": "stderr",
     "output_type": "stream",
     "text": [
      "\r##############################################################            87.3%\r######################################################################## 100.0%\n"
     ]
    },
    {
     "name": "stderr",
     "output_type": "stream",
     "text": [
      "\u001b[32m\u001b[1m   Updating\u001b[22m\u001b[39m `~/.julia/environments/v1.4/Project.toml`\n"
     ]
    },
    {
     "name": "stderr",
     "output_type": "stream",
     "text": [
      " \u001b[90m [fdbf4ff8]\u001b[39m\u001b[92m + XLSX v0.7.9\u001b[39m\n",
      "\u001b[32m\u001b[1m   Updating\u001b[22m\u001b[39m `~/.julia/environments/v1.4/Manifest.toml`\n",
      " \u001b[90m [9a962f9c]\u001b[39m\u001b[92m + DataAPI v1.9.0\u001b[39m\n",
      " \u001b[90m [e2d170a0]\u001b[39m\u001b[92m + DataValueInterfaces v1.0.0\u001b[39m\n",
      " \u001b[90m [8f5d6c58]\u001b[39m\u001b[92m + EzXML v1.1.0\u001b[39m\n",
      " \u001b[90m [82899510]\u001b[39m\u001b[92m + IteratorInterfaceExtensions v1.0.0\u001b[39m\n",
      " \u001b[90m [94ce4f54]\u001b[39m\u001b[92m + Libiconv_jll v1.16.0+8\u001b[39m\n",
      " \u001b[90m [bac558e1]\u001b[39m\u001b[92m + OrderedCollections v1.4.1\u001b[39m\n",
      " \u001b[90m [3783bdb8]\u001b[39m\u001b[92m + TableTraits v1.0.1\u001b[39m\n",
      " \u001b[90m [bd369af6]\u001b[39m\u001b[92m + Tables v1.7.0\u001b[39m\n",
      " \u001b[90m [fdbf4ff8]\u001b[39m\u001b[92m + XLSX v0.7.9\u001b[39m\n",
      " \u001b[90m [02c8fc9c]\u001b[39m\u001b[92m + XML2_jll v2.9.10+3\u001b[39m\n",
      " \u001b[90m [a5390f91]\u001b[39m\u001b[92m + ZipFile v0.9.4\u001b[39m\n",
      " \u001b[90m [37e2e46d]\u001b[39m\u001b[92m + LinearAlgebra \u001b[39m\n"
     ]
    }
   ],
   "source": [
    "using Pkg\n",
    "Pkg.add(\"XLSX\")"
   ]
  },
  {
   "cell_type": "code",
   "execution_count": null,
   "metadata": {},
   "outputs": [],
   "source": [
    "# origin of data:\n",
    "# https://www.ssp.sp.gov.br/transparenciassp/Consulta.aspx"
   ]
  },
  {
   "cell_type": "code",
   "execution_count": 5,
   "metadata": {},
   "outputs": [],
   "source": [
    "import XLSX"
   ]
  },
  {
   "cell_type": "code",
   "execution_count": 7,
   "metadata": {},
   "outputs": [
    {
     "data": {
      "text/plain": [
       "\"/root/statistical-learning/SaoPauloCriminalityStudy\""
      ]
     },
     "metadata": {},
     "output_type": "display_data"
    }
   ],
   "source": [
    "pwd()"
   ]
  },
  {
   "cell_type": "code",
   "execution_count": 8,
   "metadata": {},
   "outputs": [
    {
     "ename": "ErrorException",
     "evalue": "./data/DadosBO_2022_1(FURTO DE CELULAR).xls is not a valid XLSX file.",
     "output_type": "error",
     "traceback": [
      "./data/DadosBO_2022_1(FURTO DE CELULAR).xls is not a valid XLSX file.\n",
      "\n",
      "Stacktrace:\n",
      " [1] error(::String) at ./error.jl:33\n",
      " [2] check_for_xlsx_file_format(::String) at /root/.julia/packages/XLSX/vGPvE/src/read.jl:24\n",
      " [3] XLSX.XLSXFile(::String, ::Bool, ::Bool) at /root/.julia/packages/XLSX/vGPvE/src/types.jl:255\n",
      " [4] open_or_read_xlsx(::String, ::Bool, ::Bool, ::Bool) at /root/.julia/packages/XLSX/vGPvE/src/read.jl:190\n",
      " [5] readxlsx(::String) at /root/.julia/packages/XLSX/vGPvE/src/read.jl:37\n",
      " [6] top-level scope at /root/statistical-learning/SaoPauloCriminalityStudy/220319_01.ipynb:1\n",
      " [7] include_string(::Module, ::String, ::String) at ./loading.jl:1080\n",
      " [8] #invokelatest#1 at ./essentials.jl:712 [inlined]\n",
      " [9] invokelatest at ./essentials.jl:711 [inlined]\n",
      " [10] (::VSCodeServer.var\"#154#155\"{VSCodeServer.NotebookRunCellArguments,String})() at /root/.vscode-server/extensions/julialang.language-julia-1.6.3/scripts/packages/VSCodeServer/src/serve_notebook.jl:18\n",
      " [11] withpath(::VSCodeServer.var\"#154#155\"{VSCodeServer.NotebookRunCellArguments,String}, ::String) at /root/.vscode-server/extensions/julialang.language-julia-1.6.3/scripts/packages/VSCodeServer/src/repl.jl:184\n",
      " [12] notebook_runcell_request(::VSCodeServer.JSONRPC.JSONRPCEndpoint{Base.PipeEndpoint,Base.PipeEndpoint}, ::VSCodeServer.NotebookRunCellArguments) at /root/.vscode-server/extensions/julialang.language-julia-1.6.3/scripts/packages/VSCodeServer/src/serve_notebook.jl:14\n",
      " [13] dispatch_msg(::VSCodeServer.JSONRPC.JSONRPCEndpoint{Base.PipeEndpoint,Base.PipeEndpoint}, ::VSCodeServer.JSONRPC.MsgDispatcher, ::Dict{String,Any}) at /root/.vscode-server/extensions/julialang.language-julia-1.6.3/scripts/packages/JSONRPC/src/typed.jl:67\n",
      " [14] serve_notebook(::String; crashreporting_pipename::String) at /root/.vscode-server/extensions/julialang.language-julia-1.6.3/scripts/packages/VSCodeServer/src/serve_notebook.jl:95\n",
      " [15] top-level scope at /root/.vscode-server/extensions/julialang.language-julia-1.6.3/scripts/notebook/notebook.jl:14\n",
      " [16] include(::Module, ::String) at ./Base.jl:377\n",
      " [17] exec_options(::Base.JLOptions) at ./client.jl:288\n",
      " [18] _start() at ./client.jl:484"
     ]
    }
   ],
   "source": [
    "df_00 = XLSX.readxlsx(\"./data/DadosBO_2022_1(FURTO DE CELULAR).xls\")\n",
    "# the package XLSX can't read the older format xls"
   ]
  },
  {
   "cell_type": "code",
   "execution_count": 9,
   "metadata": {},
   "outputs": [
    {
     "name": "stderr",
     "output_type": "stream",
     "text": [
      "\u001b[32m\u001b[1m  Resolving\u001b[22m\u001b[39m package versions...\n"
     ]
    },
    {
     "name": "stderr",
     "output_type": "stream",
     "text": [
      "\u001b[32m\u001b[1m  Installed\u001b[22m\u001b[39m TableShowUtils ─── v0.2.5\n"
     ]
    },
    {
     "name": "stderr",
     "output_type": "stream",
     "text": [
      "\u001b[32m\u001b[1m  Installed\u001b[22m\u001b[39m ExcelFiles ─────── v1.0.0\n",
      "\u001b[32m\u001b[1m  Installed\u001b[22m\u001b[39m Missings ───────── v1.0.2\n",
      "\u001b[32m\u001b[1m  Installed\u001b[22m\u001b[39m TableTraitsUtils ─ v1.0.2\n",
      "\u001b[32m\u001b[1m  Installed\u001b[22m\u001b[39m DataValues ─────── v0.4.13\n",
      "\u001b[32m\u001b[1m  Installed\u001b[22m\u001b[39m IterableTables ─── v1.0.0\n",
      "\u001b[32m\u001b[1m  Installed\u001b[22m\u001b[39m ExcelReaders ───── v0.11.0\n"
     ]
    },
    {
     "name": "stderr",
     "output_type": "stream",
     "text": [
      "\u001b[32m\u001b[1m  Installed\u001b[22m\u001b[39m FileIO ─────────── v1.13.0\n"
     ]
    },
    {
     "name": "stderr",
     "output_type": "stream",
     "text": [
      "\u001b[32m\u001b[1m  Installed\u001b[22m\u001b[39m Requires ───────── v1.3.0\n"
     ]
    },
    {
     "name": "stderr",
     "output_type": "stream",
     "text": [
      "\u001b[32m\u001b[1m  Installed\u001b[22m\u001b[39m PyCall ─────────── v1.93.1\n"
     ]
    },
    {
     "name": "stderr",
     "output_type": "stream",
     "text": [
      "\u001b[32m\u001b[1m  Installed\u001b[22m\u001b[39m MacroTools ─────── v0.5.9\n"
     ]
    },
    {
     "name": "stderr",
     "output_type": "stream",
     "text": [
      "\u001b[32m\u001b[1m   Updating\u001b[22m\u001b[39m `~/.julia/environments/v1.4/Project.toml`\n",
      " \u001b[90m [89b67f3b]\u001b[39m\u001b[92m + ExcelFiles v1.0.0\u001b[39m\n",
      "\u001b[32m\u001b[1m   Updating\u001b[22m\u001b[39m `~/.julia/environments/v1.4/Manifest.toml`\n",
      " \u001b[90m [e7dc6d0d]\u001b[39m\u001b[92m + DataValues v0.4.13\u001b[39m\n",
      " \u001b[90m [89b67f3b]\u001b[39m\u001b[92m + ExcelFiles v1.0.0\u001b[39m\n",
      " \u001b[90m [c04bee98]\u001b[39m\u001b[92m + ExcelReaders v0.11.0\u001b[39m\n",
      " \u001b[90m [5789e2e9]\u001b[39m\u001b[92m + FileIO v1.13.0\u001b[39m\n",
      " \u001b[90m [1c8ee90f]\u001b[39m\u001b[92m + IterableTables v1.0.0\u001b[39m\n",
      " \u001b[90m [1914dd2f]\u001b[39m\u001b[92m + MacroTools v0.5.9\u001b[39m\n",
      " \u001b[90m [e1d29d7a]\u001b[39m\u001b[92m + Missings v1.0.2\u001b[39m\n",
      " \u001b[90m [438e738f]\u001b[39m\u001b[92m + PyCall v1.93.1\u001b[39m\n",
      " \u001b[90m [ae029012]\u001b[39m\u001b[92m + Requires v1.3.0\u001b[39m\n",
      " \u001b[90m [5e66a065]\u001b[39m\u001b[92m + TableShowUtils v0.2.5\u001b[39m\n",
      " \u001b[90m [382cd787]\u001b[39m\u001b[92m + TableTraitsUtils v1.0.2\u001b[39m\n"
     ]
    },
    {
     "name": "stderr",
     "output_type": "stream",
     "text": [
      "\u001b[32m\u001b[1m   Building\u001b[22m\u001b[39m PyCall → `~/.julia/packages/PyCall/7a7w0/deps/build.log`\n"
     ]
    }
   ],
   "source": [
    "Pkg.add(\"ExcelFiles\")"
   ]
  },
  {
   "cell_type": "code",
   "execution_count": 11,
   "metadata": {},
   "outputs": [
    {
     "name": "stderr",
     "output_type": "stream",
     "text": [
      "\u001b[32m\u001b[1m  Resolving\u001b[22m\u001b[39m package versions...\n"
     ]
    },
    {
     "name": "stderr",
     "output_type": "stream",
     "text": [
      "\u001b[32m\u001b[1m  Installed\u001b[22m\u001b[39m Crayons ─────────── v4.0.4\n",
      "\u001b[32m\u001b[1m  Installed\u001b[22m\u001b[39m Compat ──────────── v3.42.0\n"
     ]
    },
    {
     "name": "stderr",
     "output_type": "stream",
     "text": [
      "\u001b[32m\u001b[1m  Installed\u001b[22m\u001b[39m SortingAlgorithms ─ v1.0.1\n"
     ]
    },
    {
     "name": "stderr",
     "output_type": "stream",
     "text": [
      "\u001b[32m\u001b[1m  Installed\u001b[22m\u001b[39m PooledArrays ────── v1.4.0\n",
      "\u001b[32m\u001b[1m  Installed\u001b[22m\u001b[39m DataStructures ──── v0.18.11\n"
     ]
    },
    {
     "name": "stderr",
     "output_type": "stream",
     "text": [
      "\u001b[32m\u001b[1m  Installed\u001b[22m\u001b[39m DataFrames ──────── v1.3.2\n"
     ]
    },
    {
     "name": "stderr",
     "output_type": "stream",
     "text": [
      "\u001b[32m\u001b[1m  Installed\u001b[22m\u001b[39m InvertedIndices ─── v1.1.0\n"
     ]
    },
    {
     "name": "stderr",
     "output_type": "stream",
     "text": [
      "\u001b[32m\u001b[1m  Installed\u001b[22m\u001b[39m Reexport ────────── v1.2.2\n"
     ]
    },
    {
     "name": "stderr",
     "output_type": "stream",
     "text": [
      "\u001b[32m\u001b[1m  Installed\u001b[22m\u001b[39m PrettyTables ────── v1.3.1\n"
     ]
    },
    {
     "name": "stderr",
     "output_type": "stream",
     "text": [
      "\u001b[32m\u001b[1m  Installed\u001b[22m\u001b[39m Formatting ──────── v0.4.2\n"
     ]
    },
    {
     "name": "stderr",
     "output_type": "stream",
     "text": [
      "\u001b[32m\u001b[1m   Updating\u001b[22m\u001b[39m `~/.julia/environments/v1.4/Project.toml`\n",
      " \u001b[90m [a93c6f00]\u001b[39m\u001b[92m + DataFrames v1.3.2\u001b[39m\n",
      "\u001b[32m\u001b[1m   Updating\u001b[22m\u001b[39m `~/.julia/environments/v1.4/Manifest.toml`\n",
      " \u001b[90m [34da2185]\u001b[39m\u001b[92m + Compat v3.42.0\u001b[39m\n",
      " \u001b[90m [a8cc5b0e]\u001b[39m\u001b[92m + Crayons v4.0.4\u001b[39m\n",
      " \u001b[90m [a93c6f00]\u001b[39m\u001b[92m + DataFrames v1.3.2\u001b[39m\n",
      " \u001b[90m [864edb3b]\u001b[39m\u001b[92m + DataStructures v0.18.11\u001b[39m\n",
      " \u001b[90m [59287772]\u001b[39m\u001b[92m + Formatting v0.4.2\u001b[39m\n",
      " \u001b[90m [41ab1584]\u001b[39m\u001b[92m + InvertedIndices v1.1.0\u001b[39m\n",
      " \u001b[90m [2dfb63ee]\u001b[39m\u001b[92m + PooledArrays v1.4.0\u001b[39m\n",
      " \u001b[90m [08abe8d2]\u001b[39m\u001b[92m + PrettyTables v1.3.1\u001b[39m\n",
      " \u001b[90m [189a3867]\u001b[39m\u001b[92m + Reexport v1.2.2\u001b[39m\n",
      " \u001b[90m [a2af1166]\u001b[39m\u001b[92m + SortingAlgorithms v1.0.1\u001b[39m\n",
      " \u001b[90m [8bb1440f]\u001b[39m\u001b[92m + DelimitedFiles \u001b[39m\n",
      " \u001b[90m [9fa8497b]\u001b[39m\u001b[92m + Future \u001b[39m\n",
      " \u001b[90m [1a1011a3]\u001b[39m\u001b[92m + SharedArrays \u001b[39m\n",
      " \u001b[90m [2f01184e]\u001b[39m\u001b[92m + SparseArrays \u001b[39m\n",
      " \u001b[90m [10745b16]\u001b[39m\u001b[92m + Statistics \u001b[39m\n"
     ]
    }
   ],
   "source": [
    "Pkg.add(\"DataFrames\")"
   ]
  },
  {
   "cell_type": "code",
   "execution_count": 12,
   "metadata": {},
   "outputs": [
    {
     "name": "stderr",
     "output_type": "stream",
     "text": [
      "ERROR: "
     ]
    },
    {
     "name": "stderr",
     "output_type": "stream",
     "text": [
      "LoadError: "
     ]
    },
    {
     "name": "stderr",
     "output_type": "stream",
     "text": [
      "InitError: "
     ]
    },
    {
     "name": "stderr",
     "output_type": "stream",
     "text": [
      "PyError (PyImport_ImportModule\n",
      "\n",
      "The Python package xlrd could not be imported by pyimport. Usually this means\n",
      "that you did not install xlrd in the Python version being used by PyCall.\n",
      "\n",
      "PyCall is currently configured to use the Python version at:\n",
      "\n",
      "/usr/bin/python3\n",
      "\n",
      "and you should use whatever mechanism you usually use (apt-get, pip, conda,\n",
      "etcetera) to install the Python package containing the xlrd module.\n",
      "\n",
      "One alternative is to re-configure PyCall to use a different Python\n",
      "version on your system: set ENV[\"PYTHON\"] to the path/name of the python\n",
      "executable you want to use, run Pkg.build(\"PyCall\"), and re-launch Julia.\n",
      "\n",
      "Another alternative is to configure PyCall to use a Julia-specific Python\n",
      "distribution via the Conda.jl package (which installs a private Anaconda\n",
      "Python distribution), which has the advantage that packages can be installed\n",
      "and kept up-to-date via Julia.  As explained in the PyCall documentation,\n",
      "set ENV[\"PYTHON\"]=\"\", run Pkg.build(\"PyCall\"), and re-launch Julia. Then,\n",
      "To install the xlrd module, you can use `pyimport_conda(\"xlrd\", PKG)`,\n",
      "where PKG is the Anaconda package that contains the module xlrd,\n",
      "or alternatively you can use the Conda package directly (via\n",
      "`using Conda` followed by `Conda.add` etcetera).\n",
      "\n",
      ") <class 'ModuleNotFoundError'>\n",
      "ModuleNotFoundError(\"No module named 'xlrd'\")\n",
      "\n",
      "Stacktrace:"
     ]
    },
    {
     "name": "stderr",
     "output_type": "stream",
     "text": [
      "\n",
      " [1] pyimport"
     ]
    },
    {
     "name": "stderr",
     "output_type": "stream",
     "text": [
      "("
     ]
    },
    {
     "name": "stderr",
     "output_type": "stream",
     "text": [
      "::"
     ]
    },
    {
     "name": "stderr",
     "output_type": "stream",
     "text": [
      "String) at /root/.julia/packages/PyCall/7a7w0/src/PyCall.jl:550\n",
      " [2] pyimport_conda(::String, ::String, ::String) at /root/.julia/packages/PyCall/7a7w0/src/PyCall.jl:708\n",
      " [3] pyimport_conda at /root/.julia/packages/PyCall/7a7w0/src/PyCall.jl:707 [inlined]\n",
      " [4] __init__() at /root/.julia/packages/ExcelReaders/PgE1r/src/ExcelReaders.jl:12\n",
      " [5] _include_from_serialized(::String, ::Array{Any,1}) at ./loading.jl:697\n",
      " [6] _require_search_from_serialized(::Base.PkgId, ::String) at ./loading.jl:781\n",
      " [7] _require(::Base.PkgId) at ./loading.jl:1006\n",
      " [8] require(::Base.PkgId) at ./loading.jl:927\n",
      " [9] require(::Module, ::Symbol) at ./loading.jl:922\n",
      " [10] include(::Module, ::String) at ./Base.jl:377\n",
      " [11] top-level scope at none:2\n",
      " [12] eval at ./boot.jl:331 [inlined]\n",
      " [13] eval(::Expr) at ./client.jl:449\n",
      " [14] top-level scope at ./none:3\n",
      "during initialization of module ExcelReaders\n",
      "in expression starting at /root/.julia/packages/ExcelFiles/NtqPa/src/ExcelFiles.jl:4\n"
     ]
    },
    {
     "ename": "ErrorException",
     "evalue": "Failed to precompile ExcelFiles [89b67f3b-d1aa-5f6f-9ca4-282e8d98620d] to /root/.julia/compiled/v1.4/ExcelFiles/cZRj4_DX2wd.ji.",
     "output_type": "error",
     "traceback": [
      "Failed to precompile ExcelFiles [89b67f3b-d1aa-5f6f-9ca4-282e8d98620d] to /root/.julia/compiled/v1.4/ExcelFiles/cZRj4_DX2wd.ji.\n",
      "\n",
      "Stacktrace:\n",
      " [1] error(::String) at ./error.jl:33\n",
      " [2] compilecache(::Base.PkgId, ::String) at ./loading.jl:1272\n",
      " [3] _require(::Base.PkgId) at ./loading.jl:1029\n",
      " [4] require(::Base.PkgId) at ./loading.jl:927\n",
      " [5] require(::Module, ::Symbol) at ./loading.jl:922\n",
      " [6] include_string(::Module, ::String, ::String) at ./loading.jl:1080\n",
      " [7] #invokelatest#1 at ./essentials.jl:712 [inlined]\n",
      " [8] invokelatest at ./essentials.jl:711 [inlined]\n",
      " [9] (::VSCodeServer.var\"#154#155\"{VSCodeServer.NotebookRunCellArguments,String})() at /root/.vscode-server/extensions/julialang.language-julia-1.6.3/scripts/packages/VSCodeServer/src/serve_notebook.jl:18\n",
      " [10] withpath(::VSCodeServer.var\"#154#155\"{VSCodeServer.NotebookRunCellArguments,String}, ::String) at /root/.vscode-server/extensions/julialang.language-julia-1.6.3/scripts/packages/VSCodeServer/src/repl.jl:184\n",
      " [11] notebook_runcell_request(::VSCodeServer.JSONRPC.JSONRPCEndpoint{Base.PipeEndpoint,Base.PipeEndpoint}, ::VSCodeServer.NotebookRunCellArguments) at /root/.vscode-server/extensions/julialang.language-julia-1.6.3/scripts/packages/VSCodeServer/src/serve_notebook.jl:14\n",
      " [12] dispatch_msg(::VSCodeServer.JSONRPC.JSONRPCEndpoint{Base.PipeEndpoint,Base.PipeEndpoint}, ::VSCodeServer.JSONRPC.MsgDispatcher, ::Dict{String,Any}) at /root/.vscode-server/extensions/julialang.language-julia-1.6.3/scripts/packages/JSONRPC/src/typed.jl:67\n",
      " [13] serve_notebook(::String; crashreporting_pipename::String) at /root/.vscode-server/extensions/julialang.language-julia-1.6.3/scripts/packages/VSCodeServer/src/serve_notebook.jl:95\n",
      " [14] top-level scope at /root/.vscode-server/extensions/julialang.language-julia-1.6.3/scripts/notebook/notebook.jl:14\n",
      " [15] include(::Module, ::String) at ./Base.jl:377\n",
      " [16] exec_options(::Base.JLOptions) at ./client.jl:288\n",
      " [17] _start() at ./client.jl:484"
     ]
    }
   ],
   "source": [
    "using ExcelFiles, DataFrames"
   ]
  },
  {
   "cell_type": "code",
   "execution_count": 13,
   "metadata": {},
   "outputs": [
    {
     "ename": "ErrorException",
     "evalue": "syntax: extra token \"install\" after end of expression",
     "output_type": "error",
     "traceback": [
      "syntax: extra token \"install\" after end of expression\n",
      "\n",
      "Stacktrace:\n",
      " [1] top-level scope at /root/statistical-learning/SaoPauloCriminalityStudy/220319_01.ipynb:3\n",
      " [2] include_string(::Module, ::String, ::String) at ./loading.jl:1080\n",
      " [3] #invokelatest#1 at ./essentials.jl:712 [inlined]\n",
      " [4] invokelatest at ./essentials.jl:711 [inlined]\n",
      " [5] (::VSCodeServer.var\"#154#155\"{VSCodeServer.NotebookRunCellArguments,String})() at /root/.vscode-server/extensions/julialang.language-julia-1.6.3/scripts/packages/VSCodeServer/src/serve_notebook.jl:18\n",
      " [6] withpath(::VSCodeServer.var\"#154#155\"{VSCodeServer.NotebookRunCellArguments,String}, ::String) at /root/.vscode-server/extensions/julialang.language-julia-1.6.3/scripts/packages/VSCodeServer/src/repl.jl:184\n",
      " [7] notebook_runcell_request(::VSCodeServer.JSONRPC.JSONRPCEndpoint{Base.PipeEndpoint,Base.PipeEndpoint}, ::VSCodeServer.NotebookRunCellArguments) at /root/.vscode-server/extensions/julialang.language-julia-1.6.3/scripts/packages/VSCodeServer/src/serve_notebook.jl:14\n",
      " [8] dispatch_msg(::VSCodeServer.JSONRPC.JSONRPCEndpoint{Base.PipeEndpoint,Base.PipeEndpoint}, ::VSCodeServer.JSONRPC.MsgDispatcher, ::Dict{String,Any}) at /root/.vscode-server/extensions/julialang.language-julia-1.6.3/scripts/packages/JSONRPC/src/typed.jl:67\n",
      " [9] serve_notebook(::String; crashreporting_pipename::String) at /root/.vscode-server/extensions/julialang.language-julia-1.6.3/scripts/packages/VSCodeServer/src/serve_notebook.jl:95\n",
      " [10] top-level scope at /root/.vscode-server/extensions/julialang.language-julia-1.6.3/scripts/notebook/notebook.jl:14\n",
      " [11] include(::Module, ::String) at ./Base.jl:377\n",
      " [12] exec_options(::Base.JLOptions) at ./client.jl:288\n",
      " [13] _start() at ./client.jl:484"
     ]
    }
   ],
   "source": [
    "# the error:\n",
    "# <class 'ModuleNotFoundError'> ModuleNotFoundError(\"No module named 'xlrd'\") Stacktrace:\n",
    "# pip3 install xlrd"
   ]
  },
  {
   "cell_type": "code",
   "execution_count": 14,
   "metadata": {},
   "outputs": [],
   "source": [
    "using ExcelFiles, DataFrames\n",
    "# it worked now, it seems that the ExcelFiles needs python to work"
   ]
  },
  {
   "cell_type": "code",
   "execution_count": 18,
   "metadata": {},
   "outputs": [
    {
     "ename": "PyCall.PyError",
     "evalue": "PyCall.PyError(\"\\$(Expr(:escape, :(ccall(#= /root/.julia/packages/PyCall/7a7w0/src/pyfncall.jl:43 =# @pysym(:PyObject_Call), PyPtr, (PyPtr, PyPtr, PyPtr), o, pyargsptr, kw))))\", PyCall.PyObject(Ptr{PyCall.PyObject_struct} @0x000056504dc65ce0), PyCall.PyObject(Ptr{PyCall.PyObject_struct} @0x00007fe232887160), PyCall.PyObject(Ptr{PyCall.PyObject_struct} @0x00007fe232885880))",
     "output_type": "error",
     "traceback": [
      "PyCall.PyError(\"\\$(Expr(:escape, :(ccall(#= /root/.julia/packages/PyCall/7a7w0/src/pyfncall.jl:43 =# @pysym(:PyObject_Call), PyPtr, (PyPtr, PyPtr, PyPtr), o, pyargsptr, kw))))\", PyCall.PyObject(Ptr{PyCall.PyObject_struct} @0x000056504dc65ce0), PyCall.PyObject(Ptr{PyCall.PyObject_struct} @0x00007fe232887160), PyCall.PyObject(Ptr{PyCall.PyObject_struct} @0x00007fe232885880))\n",
      "\n",
      "Stacktrace:\n",
      " [1] pyerr_check at /root/.julia/packages/PyCall/7a7w0/src/exception.jl:62 [inlined]\n",
      " [2] pyerr_check at /root/.julia/packages/PyCall/7a7w0/src/exception.jl:66 [inlined]\n",
      " [3] _handle_error(::String) at /root/.julia/packages/PyCall/7a7w0/src/exception.jl:83\n",
      " [4] macro expansion at /root/.julia/packages/PyCall/7a7w0/src/exception.jl:97 [inlined]\n",
      " [5] #107 at /root/.julia/packages/PyCall/7a7w0/src/pyfncall.jl:43 [inlined]\n",
      " [6] disable_sigint at ./c.jl:446 [inlined]\n",
      " [7] __pycall! at /root/.julia/packages/PyCall/7a7w0/src/pyfncall.jl:42 [inlined]\n",
      " [8] _pycall!(::PyCall.PyObject, ::PyCall.PyObject, ::Tuple{String}, ::Int64, ::Ptr{Nothing}) at /root/.julia/packages/PyCall/7a7w0/src/pyfncall.jl:29\n",
      " [9] _pycall! at /root/.julia/packages/PyCall/7a7w0/src/pyfncall.jl:11 [inlined]\n",
      " [10] #_#114 at /root/.julia/packages/PyCall/7a7w0/src/pyfncall.jl:86 [inlined]\n",
      " [11] (::PyCall.PyObject)(::String) at /root/.julia/packages/PyCall/7a7w0/src/pyfncall.jl:86\n",
      " [12] openxl(::String) at /root/.julia/packages/ExcelReaders/PgE1r/src/ExcelReaders.jl:64\n",
      " [13] getiterator(::ExcelFiles.ExcelFile) at /root/.julia/packages/ExcelFiles/NtqPa/src/ExcelFiles.jl:0\n",
      " [14] nondatavaluerows(::ExcelFiles.ExcelFile) at /root/.julia/packages/Tables/PxO1m/src/tofromdatavalues.jl:24\n",
      " [15] columns at /root/.julia/packages/Tables/PxO1m/src/fallbacks.jl:259 [inlined]\n",
      " [16] DataFrame(::ExcelFiles.ExcelFile; copycols::Nothing) at /root/.julia/packages/DataFrames/MA4YO/src/other/tables.jl:58\n",
      " [17] DataFrame(::ExcelFiles.ExcelFile) at /root/.julia/packages/DataFrames/MA4YO/src/other/tables.jl:49\n",
      " [18] top-level scope at /root/statistical-learning/SaoPauloCriminalityStudy/220319_01.ipynb:1\n",
      " [19] include_string(::Module, ::String, ::String) at ./loading.jl:1080\n",
      " [20] #invokelatest#1 at ./essentials.jl:712 [inlined]\n",
      " [21] invokelatest at ./essentials.jl:711 [inlined]\n",
      " [22] (::VSCodeServer.var\"#154#155\"{VSCodeServer.NotebookRunCellArguments,String})() at /root/.vscode-server/extensions/julialang.language-julia-1.6.3/scripts/packages/VSCodeServer/src/serve_notebook.jl:18\n",
      " [23] withpath(::VSCodeServer.var\"#154#155\"{VSCodeServer.NotebookRunCellArguments,String}, ::String) at /root/.vscode-server/extensions/julialang.language-julia-1.6.3/scripts/packages/VSCodeServer/src/repl.jl:184\n",
      " [24] notebook_runcell_request(::VSCodeServer.JSONRPC.JSONRPCEndpoint{Base.PipeEndpoint,Base.PipeEndpoint}, ::VSCodeServer.NotebookRunCellArguments) at /root/.vscode-server/extensions/julialang.language-julia-1.6.3/scripts/packages/VSCodeServer/src/serve_notebook.jl:14\n",
      " [25] dispatch_msg(::VSCodeServer.JSONRPC.JSONRPCEndpoint{Base.PipeEndpoint,Base.PipeEndpoint}, ::VSCodeServer.JSONRPC.MsgDispatcher, ::Dict{String,Any}) at /root/.vscode-server/extensions/julialang.language-julia-1.6.3/scripts/packages/JSONRPC/src/typed.jl:67\n",
      " [26] serve_notebook(::String; crashreporting_pipename::String) at /root/.vscode-server/extensions/julialang.language-julia-1.6.3/scripts/packages/VSCodeServer/src/serve_notebook.jl:95\n",
      " [27] top-level scope at /root/.vscode-server/extensions/julialang.language-julia-1.6.3/scripts/notebook/notebook.jl:14\n",
      " [28] include(::Module, ::String) at ./Base.jl:377\n",
      " [29] exec_options(::Base.JLOptions) at ./client.jl:288\n",
      " [30] _start() at ./client.jl:484"
     ]
    }
   ],
   "source": [
    "df_00 = DataFrame(load(\"./data/DadosBO_2022_1(FURTO DE CELULAR).xls\", \"DadosBO_2022_1(FURTO DE CELULAR)\"))\n",
    "# I think that the package ExcelFiles doesn't work either"
   ]
  },
  {
   "cell_type": "code",
   "execution_count": null,
   "metadata": {},
   "outputs": [],
   "source": []
  },
  {
   "cell_type": "code",
   "execution_count": null,
   "metadata": {},
   "outputs": [],
   "source": []
  },
  {
   "cell_type": "code",
   "execution_count": null,
   "metadata": {},
   "outputs": [],
   "source": []
  },
  {
   "cell_type": "code",
   "execution_count": null,
   "metadata": {},
   "outputs": [],
   "source": []
  },
  {
   "cell_type": "code",
   "execution_count": null,
   "metadata": {},
   "outputs": [],
   "source": []
  },
  {
   "cell_type": "code",
   "execution_count": null,
   "metadata": {},
   "outputs": [],
   "source": []
  },
  {
   "cell_type": "code",
   "execution_count": null,
   "metadata": {},
   "outputs": [],
   "source": []
  },
  {
   "cell_type": "code",
   "execution_count": null,
   "metadata": {},
   "outputs": [],
   "source": []
  },
  {
   "cell_type": "code",
   "execution_count": null,
   "metadata": {},
   "outputs": [],
   "source": []
  },
  {
   "cell_type": "code",
   "execution_count": null,
   "metadata": {},
   "outputs": [],
   "source": []
  },
  {
   "cell_type": "code",
   "execution_count": null,
   "metadata": {},
   "outputs": [],
   "source": []
  },
  {
   "cell_type": "code",
   "execution_count": null,
   "metadata": {},
   "outputs": [],
   "source": []
  },
  {
   "cell_type": "code",
   "execution_count": null,
   "metadata": {},
   "outputs": [],
   "source": []
  },
  {
   "cell_type": "code",
   "execution_count": null,
   "metadata": {},
   "outputs": [],
   "source": []
  },
  {
   "cell_type": "code",
   "execution_count": null,
   "metadata": {},
   "outputs": [],
   "source": []
  }
 ],
 "metadata": {
  "kernelspec": {
   "display_name": "Julia 1.4.1",
   "language": "julia",
   "name": "julia-1.4"
  },
  "language_info": {
   "file_extension": ".jl",
   "mimetype": "application/julia",
   "name": "julia",
   "version": "1.4.1"
  },
  "orig_nbformat": 4
 },
 "nbformat": 4,
 "nbformat_minor": 2
}
