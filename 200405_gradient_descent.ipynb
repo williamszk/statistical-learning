{
 "cells": [
  {
   "cell_type": "markdown",
   "metadata": {},
   "source": [
    "The objective of this notebook is to reproduce the following code written in matlab to python."
   ]
  },
  {
   "cell_type": "raw",
   "metadata": {},
   "source": [
    "#original code in matlab\n",
    "\n",
    "%**********************************************************\n",
    "% Disciplina Aprendizado de Máquina\n",
    "% Exemplo Algoritmo do Gradiente Descente com passo fixo\n",
    "% Problema de otimização\n",
    "%               min f(x(1),x(2))= (x(1)-3)^2 + (x(2)-2)^2\n",
    "% Exemplo\n",
    "%        example_grad - não precisa definir o valor de x\n",
    "%        exampe_grad([0 0]) - ponto inicial x =[0 0]\n",
    "%**********************************************************\n",
    "\n",
    "function example_grad_fixo(x)\n",
    "% Definição de parâmetros\n",
    "itmax = 1000;     % Numero máximo de iterações\n",
    "normagrad = 1e-3; % Norma mínima do gradiente\n",
    "alfa = 0.1;       % taxa de aprendizado\n",
    "%Valor inicial para x\n",
    "if nargout<1\n",
    "    x = rands(2,1);\n",
    "end\n",
    "% Avalia a função e cálcula o gradiente\n",
    "[f,g,~]=calc_derivada(x);\n",
    "% Definição do valor iteração inicial\n",
    "it = 0;\n",
    "% Verifica critério de parada (numero de iterações ou norma do gradiente)\n",
    "while it<itmax & norm(g)>normagrad\n",
    "    % Imprime na tela\n",
    "    fprintf('Iterações = %d, norma do gradiente =%1.4f,  x = [%2.5f %2.5f] \\n',it,norm(g),x(1),x(2))\n",
    "    %Incrementa o numero de iterações\n",
    "    it = it + 1;\n",
    "    % Atualiza\n",
    "    x = x - alfa*g;\n",
    "    % Avalia a função e cálcula do gradiente\n",
    "    [f,g,~]=calc_derivada(x);\n",
    "end\n",
    "\n",
    "\n",
    "function [f,g,h]=calc_derivada(x)\n",
    "f = (x(1)-3)^2+(x(2)-2)^2;\n",
    "g = [2*(x(1)-3);2*(x(2)-2)];\n",
    "h = [2 0;0 2];"
   ]
  },
  {
   "cell_type": "code",
   "execution_count": null,
   "metadata": {},
   "outputs": [],
   "source": [
    "#function to be minimized \n",
    "#f(x1,x2) = (x1-3)**2 + (x2-2)**2"
   ]
  },
  {
   "cell_type": "code",
   "execution_count": 1,
   "metadata": {},
   "outputs": [],
   "source": [
    "import random\n",
    "import numpy as np\n",
    "from numpy import linalg"
   ]
  },
  {
   "cell_type": "code",
   "execution_count": 2,
   "metadata": {},
   "outputs": [],
   "source": [
    "def func(x1,x2):\n",
    "    ff =(x1-3)**2 + (x2-2)**2\n",
    "    return ff"
   ]
  },
  {
   "cell_type": "code",
   "execution_count": 3,
   "metadata": {},
   "outputs": [],
   "source": [
    "def gradFunc(x1,x2):\n",
    "    g1 = 2*(x1-3)\n",
    "    g2 = 2*(x2-2)\n",
    "    return g1, g2"
   ]
  },
  {
   "cell_type": "code",
   "execution_count": null,
   "metadata": {},
   "outputs": [],
   "source": []
  },
  {
   "cell_type": "code",
   "execution_count": 11,
   "metadata": {},
   "outputs": [],
   "source": [
    "def grad_optim(func,gradFunc):  \n",
    "    itmax = 1000 #maximum nº of steps\n",
    "    normagrad = 1e-3 #minimum norm of gradient\n",
    "    alfa = 0.1 #rate of learning\n",
    "    x1,x2 = random.uniform(-2,2),random.uniform(-2,2)\n",
    "    i = 0\n",
    "    g = gradFunc(x1,x2)\n",
    "    norm_g = linalg.norm(g)\n",
    "    while (norm_g > normagrad) & (i < itmax):\n",
    "        f = func(x1,x2)\n",
    "        g = gradFunc(x1,x2)\n",
    "        norm_g = linalg.norm(g)\n",
    "        print(\"Iteration = \"+ str(i)+\" | gradient norm = \"+ str(round(norm_g,3))+\n",
    "              \" | Position = \"+\"(\"+str(round(x1,3))+\",\"+ str(round(x2,3))+\")\")\n",
    "        i += 1\n",
    "        x1,x2 = x1-alfa*g[0], x2-alfa*g[1]\n",
    "\n",
    "    return x1,x2"
   ]
  },
  {
   "cell_type": "code",
   "execution_count": 12,
   "metadata": {},
   "outputs": [
    {
     "name": "stdout",
     "output_type": "stream",
     "text": [
      "Iteration = 0 | gradient norm = 5.462 | Position = (0.441,1.045)\n",
      "Iteration = 1 | gradient norm = 4.37 | Position = (0.953,1.236)\n",
      "Iteration = 2 | gradient norm = 3.496 | Position = (1.363,1.388)\n",
      "Iteration = 3 | gradient norm = 2.797 | Position = (1.69,1.511)\n",
      "Iteration = 4 | gradient norm = 2.237 | Position = (1.952,1.609)\n",
      "Iteration = 5 | gradient norm = 1.79 | Position = (2.162,1.687)\n",
      "Iteration = 6 | gradient norm = 1.432 | Position = (2.329,1.75)\n",
      "Iteration = 7 | gradient norm = 1.146 | Position = (2.463,1.8)\n",
      "Iteration = 8 | gradient norm = 0.916 | Position = (2.571,1.84)\n",
      "Iteration = 9 | gradient norm = 0.733 | Position = (2.657,1.872)\n",
      "Iteration = 10 | gradient norm = 0.586 | Position = (2.725,1.897)\n",
      "Iteration = 11 | gradient norm = 0.469 | Position = (2.78,1.918)\n",
      "Iteration = 12 | gradient norm = 0.375 | Position = (2.824,1.934)\n",
      "Iteration = 13 | gradient norm = 0.3 | Position = (2.859,1.947)\n",
      "Iteration = 14 | gradient norm = 0.24 | Position = (2.887,1.958)\n",
      "Iteration = 15 | gradient norm = 0.192 | Position = (2.91,1.966)\n",
      "Iteration = 16 | gradient norm = 0.154 | Position = (2.928,1.973)\n",
      "Iteration = 17 | gradient norm = 0.123 | Position = (2.942,1.978)\n",
      "Iteration = 18 | gradient norm = 0.098 | Position = (2.954,1.983)\n",
      "Iteration = 19 | gradient norm = 0.079 | Position = (2.963,1.986)\n",
      "Iteration = 20 | gradient norm = 0.063 | Position = (2.971,1.989)\n",
      "Iteration = 21 | gradient norm = 0.05 | Position = (2.976,1.991)\n",
      "Iteration = 22 | gradient norm = 0.04 | Position = (2.981,1.993)\n",
      "Iteration = 23 | gradient norm = 0.032 | Position = (2.985,1.994)\n",
      "Iteration = 24 | gradient norm = 0.026 | Position = (2.988,1.995)\n",
      "Iteration = 25 | gradient norm = 0.021 | Position = (2.99,1.996)\n",
      "Iteration = 26 | gradient norm = 0.017 | Position = (2.992,1.997)\n",
      "Iteration = 27 | gradient norm = 0.013 | Position = (2.994,1.998)\n",
      "Iteration = 28 | gradient norm = 0.011 | Position = (2.995,1.998)\n",
      "Iteration = 29 | gradient norm = 0.008 | Position = (2.996,1.999)\n",
      "Iteration = 30 | gradient norm = 0.007 | Position = (2.997,1.999)\n",
      "Iteration = 31 | gradient norm = 0.005 | Position = (2.997,1.999)\n",
      "Iteration = 32 | gradient norm = 0.004 | Position = (2.998,1.999)\n",
      "Iteration = 33 | gradient norm = 0.003 | Position = (2.998,1.999)\n",
      "Iteration = 34 | gradient norm = 0.003 | Position = (2.999,2.0)\n",
      "Iteration = 35 | gradient norm = 0.002 | Position = (2.999,2.0)\n",
      "Iteration = 36 | gradient norm = 0.002 | Position = (2.999,2.0)\n",
      "Iteration = 37 | gradient norm = 0.001 | Position = (2.999,2.0)\n",
      "Iteration = 38 | gradient norm = 0.001 | Position = (2.999,2.0)\n",
      "Iteration = 39 | gradient norm = 0.001 | Position = (3.0,2.0)\n"
     ]
    },
    {
     "data": {
      "text/plain": [
       "(2.999659916701209, 1.9998729952370973)"
      ]
     },
     "execution_count": 12,
     "metadata": {},
     "output_type": "execute_result"
    }
   ],
   "source": [
    "grad_optim(func,gradFunc)"
   ]
  },
  {
   "cell_type": "code",
   "execution_count": null,
   "metadata": {},
   "outputs": [],
   "source": []
  },
  {
   "cell_type": "code",
   "execution_count": null,
   "metadata": {},
   "outputs": [],
   "source": []
  },
  {
   "cell_type": "code",
   "execution_count": null,
   "metadata": {},
   "outputs": [],
   "source": []
  },
  {
   "cell_type": "code",
   "execution_count": null,
   "metadata": {},
   "outputs": [],
   "source": []
  },
  {
   "cell_type": "code",
   "execution_count": null,
   "metadata": {},
   "outputs": [],
   "source": []
  },
  {
   "cell_type": "code",
   "execution_count": null,
   "metadata": {},
   "outputs": [],
   "source": []
  },
  {
   "cell_type": "code",
   "execution_count": null,
   "metadata": {},
   "outputs": [],
   "source": []
  },
  {
   "cell_type": "code",
   "execution_count": null,
   "metadata": {},
   "outputs": [],
   "source": []
  },
  {
   "cell_type": "code",
   "execution_count": null,
   "metadata": {},
   "outputs": [],
   "source": []
  },
  {
   "cell_type": "code",
   "execution_count": null,
   "metadata": {},
   "outputs": [],
   "source": []
  },
  {
   "cell_type": "code",
   "execution_count": null,
   "metadata": {},
   "outputs": [],
   "source": []
  },
  {
   "cell_type": "code",
   "execution_count": null,
   "metadata": {},
   "outputs": [],
   "source": []
  },
  {
   "cell_type": "code",
   "execution_count": null,
   "metadata": {},
   "outputs": [],
   "source": []
  },
  {
   "cell_type": "code",
   "execution_count": null,
   "metadata": {},
   "outputs": [],
   "source": []
  },
  {
   "cell_type": "code",
   "execution_count": null,
   "metadata": {},
   "outputs": [],
   "source": []
  },
  {
   "cell_type": "code",
   "execution_count": null,
   "metadata": {},
   "outputs": [],
   "source": []
  },
  {
   "cell_type": "code",
   "execution_count": null,
   "metadata": {},
   "outputs": [],
   "source": []
  },
  {
   "cell_type": "code",
   "execution_count": null,
   "metadata": {},
   "outputs": [],
   "source": []
  },
  {
   "cell_type": "code",
   "execution_count": null,
   "metadata": {},
   "outputs": [],
   "source": []
  },
  {
   "cell_type": "code",
   "execution_count": null,
   "metadata": {},
   "outputs": [],
   "source": []
  },
  {
   "cell_type": "code",
   "execution_count": null,
   "metadata": {},
   "outputs": [],
   "source": []
  },
  {
   "cell_type": "code",
   "execution_count": null,
   "metadata": {},
   "outputs": [],
   "source": []
  }
 ],
 "metadata": {
  "kernelspec": {
   "display_name": "Python 3",
   "language": "python",
   "name": "python3"
  },
  "language_info": {
   "codemirror_mode": {
    "name": "ipython",
    "version": 3
   },
   "file_extension": ".py",
   "mimetype": "text/x-python",
   "name": "python",
   "nbconvert_exporter": "python",
   "pygments_lexer": "ipython3",
   "version": "3.7.3"
  }
 },
 "nbformat": 4,
 "nbformat_minor": 2
}
