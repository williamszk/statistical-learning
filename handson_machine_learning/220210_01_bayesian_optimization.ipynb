{
 "cells": [
  {
   "cell_type": "code",
   "execution_count": null,
   "metadata": {},
   "outputs": [],
   "source": [
    "# https://machinelearningmastery.com/what-is-bayesian-optimization/"
   ]
  },
  {
   "cell_type": "code",
   "execution_count": null,
   "metadata": {},
   "outputs": [],
   "source": [
    "# Sample -> vector, hyperparameter values\n",
    "# Search Space\n",
    "# Objective Function\n",
    "# Cost"
   ]
  },
  {
   "cell_type": "code",
   "execution_count": null,
   "metadata": {},
   "outputs": [],
   "source": [
    "# Algorithm Training -> optimize parameters\n",
    "# Algorithm Tuning -> optimizae hyperparameters\n",
    "# Predictive Modeling -> optimize data preparation steps"
   ]
  },
  {
   "cell_type": "code",
   "execution_count": null,
   "metadata": {},
   "outputs": [],
   "source": [
    "# random search\n",
    "# grid search\n",
    "# "
   ]
  },
  {
   "cell_type": "code",
   "execution_count": null,
   "metadata": {},
   "outputs": [],
   "source": [
    "# surrogate function\n",
    "# acquisition function\n"
   ]
  },
  {
   "cell_type": "code",
   "execution_count": 9,
   "metadata": {},
   "outputs": [],
   "source": [
    "import numpy as np\n",
    "import seaborn as sns\n",
    "sns.set()"
   ]
  },
  {
   "cell_type": "code",
   "execution_count": 2,
   "metadata": {},
   "outputs": [],
   "source": [
    "# Objective function\n",
    "def objective(x, noise=0.1):\n",
    "    noise = np.random.normal(loc=0, scale=noise)\n",
    "    return (x**2 * np.sin(5 * np.pi * x)**6.0) + noise"
   ]
  },
  {
   "cell_type": "code",
   "execution_count": 71,
   "metadata": {},
   "outputs": [],
   "source": [
    "# grid based sample\n",
    "X = np.arange(0, 1, 0.01)"
   ]
  },
  {
   "cell_type": "code",
   "execution_count": 72,
   "metadata": {},
   "outputs": [
    {
     "data": {
      "text/plain": [
       "array([0.  , 0.01, 0.02, 0.03, 0.04, 0.05, 0.06, 0.07, 0.08, 0.09, 0.1 ,\n",
       "       0.11, 0.12, 0.13, 0.14, 0.15, 0.16, 0.17, 0.18, 0.19, 0.2 , 0.21,\n",
       "       0.22, 0.23, 0.24, 0.25, 0.26, 0.27, 0.28, 0.29, 0.3 , 0.31, 0.32,\n",
       "       0.33, 0.34, 0.35, 0.36, 0.37, 0.38, 0.39, 0.4 , 0.41, 0.42, 0.43,\n",
       "       0.44, 0.45, 0.46, 0.47, 0.48, 0.49, 0.5 , 0.51, 0.52, 0.53, 0.54,\n",
       "       0.55, 0.56, 0.57, 0.58, 0.59, 0.6 , 0.61, 0.62, 0.63, 0.64, 0.65,\n",
       "       0.66, 0.67, 0.68, 0.69, 0.7 , 0.71, 0.72, 0.73, 0.74, 0.75, 0.76,\n",
       "       0.77, 0.78, 0.79, 0.8 , 0.81, 0.82, 0.83, 0.84, 0.85, 0.86, 0.87,\n",
       "       0.88, 0.89, 0.9 , 0.91, 0.92, 0.93, 0.94, 0.95, 0.96, 0.97, 0.98,\n",
       "       0.99])"
      ]
     },
     "execution_count": 72,
     "metadata": {},
     "output_type": "execute_result"
    }
   ],
   "source": [
    "X"
   ]
  },
  {
   "cell_type": "code",
   "execution_count": 73,
   "metadata": {},
   "outputs": [],
   "source": [
    "# sample the domain without noise\n",
    "y = [objective(x, 0) for x in X]"
   ]
  },
  {
   "cell_type": "code",
   "execution_count": 10,
   "metadata": {},
   "outputs": [
    {
     "data": {
      "text/plain": [
       "<AxesSubplot:>"
      ]
     },
     "execution_count": 10,
     "metadata": {},
     "output_type": "execute_result"
    },
    {
     "data": {
      "image/png": "[encoded data removed]",
      "text/plain": [
       "<Figure size 432x288 with 1 Axes>"
      ]
     },
     "metadata": {},
     "output_type": "display_data"
    }
   ],
   "source": [
    "sns.scatterplot(x=X, y=y)"
   ]
  },
  {
   "cell_type": "code",
   "execution_count": 11,
   "metadata": {},
   "outputs": [
    {
     "name": "stdout",
     "output_type": "stream",
     "text": [
      "Optimum: x=0.9, y=0.81\n"
     ]
    }
   ],
   "source": [
    "# find the best result\n",
    "ix = np.argmax(y) # the index of the y max\n",
    "print(f\"Optimum: x={X[ix]}, y={y[ix]}\")"
   ]
  },
  {
   "cell_type": "code",
   "execution_count": 12,
   "metadata": {},
   "outputs": [],
   "source": [
    "# sampel the domain with noise\n",
    "y_noise = [objective(x) for x in X]"
   ]
  },
  {
   "cell_type": "code",
   "execution_count": 18,
   "metadata": {},
   "outputs": [
    {
     "data": {
      "text/plain": [
       "<AxesSubplot:>"
      ]
     },
     "execution_count": 18,
     "metadata": {},
     "output_type": "execute_result"
    },
    {
     "data": {
      "image/png": "[encoded data removed]",
      "text/plain": [
       "<Figure size 432x288 with 1 Axes>"
      ]
     },
     "metadata": {},
     "output_type": "display_data"
    }
   ],
   "source": [
    "sns.scatterplot(x=X, y=y_noise)\n",
    "sns.lineplot(x=X, y=y)"
   ]
  },
  {
   "cell_type": "code",
   "execution_count": null,
   "metadata": {},
   "outputs": [],
   "source": [
    "# ---------------------- #\n",
    "# surrogate function\n",
    "# ---------------------- #\n",
    "\n",
    "# Gaussian Process (GP)\n",
    "# Random Forest\n",
    "\n",
    "# Radial Basis Function (RBF)"
   ]
  },
  {
   "cell_type": "code",
   "execution_count": 19,
   "metadata": {},
   "outputs": [],
   "source": [
    "from sklearn.gaussian_process import GaussianProcessRegressor\n",
    "\n",
    "model = GaussianProcessRegressor()"
   ]
  },
  {
   "cell_type": "code",
   "execution_count": 28,
   "metadata": {},
   "outputs": [
    {
     "data": {
      "text/plain": [
       "GaussianProcessRegressor()"
      ]
     },
     "execution_count": 28,
     "metadata": {},
     "output_type": "execute_result"
    }
   ],
   "source": [
    "model.fit(np.array(X).reshape(-1, 1), np.array(y).reshape(-1,1))"
   ]
  },
  {
   "cell_type": "code",
   "execution_count": 38,
   "metadata": {},
   "outputs": [
    {
     "data": {
      "text/plain": [
       "100"
      ]
     },
     "execution_count": 38,
     "metadata": {},
     "output_type": "execute_result"
    }
   ],
   "source": [
    "len(X)"
   ]
  },
  {
   "cell_type": "code",
   "execution_count": 30,
   "metadata": {},
   "outputs": [],
   "source": [
    "yhat = model.predict(np.array(X).reshape(-1,1), return_std=True)"
   ]
  },
  {
   "cell_type": "code",
   "execution_count": 33,
   "metadata": {},
   "outputs": [
    {
     "data": {
      "text/plain": [
       "array([[-0.00068972],\n",
       "       [-0.00525361],\n",
       "       [-0.00711668],\n",
       "       [-0.00694931],\n",
       "       [-0.00532195],\n",
       "       [-0.0027208 ],\n",
       "       [ 0.00044566],\n",
       "       [ 0.00385055],\n",
       "       [ 0.00722614],\n",
       "       [ 0.01036602],\n",
       "       [ 0.01311997],\n",
       "       [ 0.0153833 ],\n",
       "       [ 0.01709428],\n",
       "       [ 0.01822501],\n",
       "       [ 0.01878327],\n",
       "       [ 0.01879746],\n",
       "       [ 0.01832056],\n",
       "       [ 0.01742154],\n",
       "       [ 0.01618594],\n",
       "       [ 0.01469845],\n",
       "       [ 0.01306033],\n",
       "       [ 0.01137108],\n",
       "       [ 0.00972778],\n",
       "       [ 0.00822848],\n",
       "       [ 0.00696516],\n",
       "       [ 0.00601768],\n",
       "       [ 0.00546318],\n",
       "       [ 0.0053674 ],\n",
       "       [ 0.00578022],\n",
       "       [ 0.0067476 ],\n",
       "       [ 0.00829744],\n",
       "       [ 0.01044428],\n",
       "       [ 0.01319194],\n",
       "       [ 0.01652962],\n",
       "       [ 0.02043688],\n",
       "       [ 0.02487755],\n",
       "       [ 0.02980882],\n",
       "       [ 0.03517449],\n",
       "       [ 0.04090768],\n",
       "       [ 0.04693967],\n",
       "       [ 0.05318993],\n",
       "       [ 0.05957568],\n",
       "       [ 0.06600714],\n",
       "       [ 0.07239866],\n",
       "       [ 0.07865787],\n",
       "       [ 0.08470023],\n",
       "       [ 0.09043998],\n",
       "       [ 0.09579384],\n",
       "       [ 0.10069162],\n",
       "       [ 0.10506558],\n",
       "       [ 0.10886163],\n",
       "       [ 0.11203289],\n",
       "       [ 0.11455047],\n",
       "       [ 0.11638844],\n",
       "       [ 0.11754656],\n",
       "       [ 0.11803275],\n",
       "       [ 0.11787426],\n",
       "       [ 0.11711383],\n",
       "       [ 0.11580956],\n",
       "       [ 0.11403531],\n",
       "       [ 0.11188412],\n",
       "       [ 0.10946602],\n",
       "       [ 0.10689664],\n",
       "       [ 0.10432047],\n",
       "       [ 0.10187835],\n",
       "       [ 0.09973317],\n",
       "       [ 0.09804797],\n",
       "       [ 0.09699947],\n",
       "       [ 0.09676021],\n",
       "       [ 0.09750748],\n",
       "       [ 0.09941131],\n",
       "       [ 0.10263574],\n",
       "       [ 0.1073333 ],\n",
       "       [ 0.11363798],\n",
       "       [ 0.12165892],\n",
       "       [ 0.13148713],\n",
       "       [ 0.14316785],\n",
       "       [ 0.15671623],\n",
       "       [ 0.17209619],\n",
       "       [ 0.18922079],\n",
       "       [ 0.20793891],\n",
       "       [ 0.22803217],\n",
       "       [ 0.2492069 ],\n",
       "       [ 0.27108204],\n",
       "       [ 0.29318041],\n",
       "       [ 0.31492501],\n",
       "       [ 0.33562362],\n",
       "       [ 0.35446393],\n",
       "       [ 0.37049615],\n",
       "       [ 0.38262993],\n",
       "       [ 0.38962352],\n",
       "       [ 0.39006799],\n",
       "       [ 0.38237739],\n",
       "       [ 0.36478448],\n",
       "       [ 0.33531904],\n",
       "       [ 0.29180217],\n",
       "       [ 0.23183537],\n",
       "       [ 0.15278852],\n",
       "       [ 0.05178547],\n",
       "       [-0.07430649]])"
      ]
     },
     "execution_count": 33,
     "metadata": {},
     "output_type": "execute_result"
    }
   ],
   "source": [
    "yhat[0]"
   ]
  },
  {
   "cell_type": "code",
   "execution_count": 34,
   "metadata": {},
   "outputs": [
    {
     "data": {
      "text/plain": [
       "array([6.48909214e-06, 4.98523464e-06, 3.97771699e-06, 3.40226502e-06,\n",
       "       3.14587477e-06, 3.06974771e-06, 3.06225207e-06, 3.05909625e-06,\n",
       "       3.03365831e-06, 2.98043712e-06, 2.90477107e-06, 2.81590551e-06,\n",
       "       2.72430558e-06, 2.63876804e-06, 2.56609505e-06, 2.50997222e-06,\n",
       "       2.47087584e-06, 2.44717266e-06, 2.43539411e-06, 2.43140197e-06,\n",
       "       2.43094531e-06, 2.43071695e-06, 2.42815782e-06, 2.42163355e-06,\n",
       "       2.41053630e-06, 2.39505748e-06, 2.37590593e-06, 2.35454851e-06,\n",
       "       2.33182939e-06, 2.30941559e-06, 2.28874754e-06, 2.27050866e-06,\n",
       "       2.25549639e-06, 2.24402285e-06, 2.23581980e-06, 2.23064958e-06,\n",
       "       2.22796031e-06, 2.22688868e-06, 2.22671418e-06, 2.22691361e-06,\n",
       "       2.22683882e-06, 2.22609085e-06, 2.22436956e-06, 2.22207243e-06,\n",
       "       2.21902257e-06, 2.21576810e-06, 2.21230811e-06, 2.20924477e-06,\n",
       "       2.20713312e-06, 2.20600104e-06, 2.20597588e-06, 2.20713312e-06,\n",
       "       2.20939553e-06, 2.21240848e-06, 2.21559272e-06, 2.21907260e-06,\n",
       "       2.22197250e-06, 2.22439451e-06, 2.22606591e-06, 2.22676404e-06,\n",
       "       2.22698839e-06, 2.22676404e-06, 2.22696346e-06, 2.22801014e-06,\n",
       "       2.23069935e-06, 2.23586946e-06, 2.24409707e-06, 2.25554561e-06,\n",
       "       2.27045977e-06, 2.28869903e-06, 2.30946367e-06, 2.33197222e-06,\n",
       "       2.35447778e-06, 2.37606947e-06, 2.39515019e-06, 2.41053630e-06,\n",
       "       2.42165647e-06, 2.42820354e-06, 2.43080830e-06, 2.43094531e-06,\n",
       "       2.43128782e-06, 2.43546249e-06, 2.44728607e-06, 2.47096571e-06,\n",
       "       2.50986164e-06, 2.56603015e-06, 2.63881011e-06, 2.72434634e-06,\n",
       "       2.81600408e-06, 2.90469463e-06, 2.98045575e-06, 3.03367661e-06,\n",
       "       3.05915069e-06, 3.06217956e-06, 3.06972962e-06, 3.14591006e-06,\n",
       "       3.40229766e-06, 3.97764721e-06, 4.98516783e-06, 6.48910925e-06])"
      ]
     },
     "execution_count": 34,
     "metadata": {},
     "output_type": "execute_result"
    }
   ],
   "source": [
    "yhat[1] # I imagine that this is the standard dev of the prediction"
   ]
  },
  {
   "cell_type": "code",
   "execution_count": 37,
   "metadata": {},
   "outputs": [],
   "source": [
    "from warnings import catch_warnings, simplefilter\n",
    "import matplotlib.pyplot as plt"
   ]
  },
  {
   "cell_type": "code",
   "execution_count": 36,
   "metadata": {},
   "outputs": [],
   "source": [
    "# surrogate or approximation for the objective function\n",
    "def surrogate(model, X):\n",
    "    # catch any warnings generated when making a prediction\n",
    "    with catch_warnings():\n",
    "        simplefilter(\"ignore\")\n",
    "        return model.predict(X, return_std=True)"
   ]
  },
  {
   "cell_type": "code",
   "execution_count": 47,
   "metadata": {},
   "outputs": [],
   "source": [
    "# plot real observations vs surrogate function\n",
    "def plot(X, y, model):\n",
    "    # scatter plot of inputs and real objective function\n",
    "    sns.scatterplot(x=X, y=y)\n",
    "    # plt.scatter(X, y)\n",
    "    Xsamples = np.asarray(np.arange(0, 1, 0.001))\n",
    "    Xsamples = Xsamples.reshape(len(Xsamples), 1)\n",
    "    ysamples, _ = surrogate(model, Xsamples)\n",
    "    plt.plot(Xsamples, ysamples)\n",
    "    plt.show()"
   ]
  },
  {
   "cell_type": "code",
   "execution_count": 48,
   "metadata": {},
   "outputs": [
    {
     "data": {
      "image/png": "[encoded data removed]",
      "text/plain": [
       "<Figure size 432x288 with 1 Axes>"
      ]
     },
     "metadata": {},
     "output_type": "display_data"
    }
   ],
   "source": [
    "plot(X, y, model)"
   ]
  },
  {
   "cell_type": "code",
   "execution_count": null,
   "metadata": {},
   "outputs": [],
   "source": [
    "# ------------------- #\n",
    "# Acquisition Function\n",
    "# ------------------- #\n",
    "\n",
    "# Probability of Improvement (PI)\n",
    "# Expected Improvement (EI)\n",
    "# Lower Confidence Bound (LCB)"
   ]
  },
  {
   "cell_type": "code",
   "execution_count": 58,
   "metadata": {},
   "outputs": [],
   "source": [
    "import scipy as sci"
   ]
  },
  {
   "cell_type": "code",
   "execution_count": 62,
   "metadata": {},
   "outputs": [],
   "source": [
    "# probability of improvement acquisition function\n",
    "def acquisition(X, Xsamples, model):\n",
    "    # calculate the best surrogate score found so far\n",
    "    yhat, _ = surrogate(model, X)\n",
    "    best = np.max(yhat)\n",
    "    # calculate mean and stdev via surrogate function\n",
    "    mu, std = surrogate(model, Xsamples)\n",
    "    mu = mu[:,0]\n",
    "    # calcualte the probability of improvement\n",
    "    probs = sci.stats.norm.cdf((mu - best)/(std+1E-9))\n",
    "    return probs"
   ]
  },
  {
   "cell_type": "code",
   "execution_count": 63,
   "metadata": {},
   "outputs": [],
   "source": [
    "# Optimize the acquisition function\n",
    "def opt_acquisition(X, y, model):\n",
    "    # random search, generate random samples\n",
    "    Xsamples = np.random.random(100)\n",
    "    Xsamples = Xsamples.reshape(len(Xsamples), 1)\n",
    "    # calculate the acquisition function for each sample\n",
    "    scores = acquisition(X, Xsamples, model)\n",
    "    ix = np.argmax(scores)\n",
    "    return Xsamples[ix, 0]\n"
   ]
  },
  {
   "cell_type": "code",
   "execution_count": 64,
   "metadata": {},
   "outputs": [
    {
     "data": {
      "text/plain": [
       "GaussianProcessRegressor()"
      ]
     },
     "execution_count": 64,
     "metadata": {},
     "output_type": "execute_result"
    }
   ],
   "source": [
    "model"
   ]
  },
  {
   "cell_type": "code",
   "execution_count": 74,
   "metadata": {},
   "outputs": [],
   "source": [
    "X = X.reshape(-1, 1)\n",
    "y = np.array(y).reshape(-1, 1)"
   ]
  },
  {
   "cell_type": "code",
   "execution_count": 75,
   "metadata": {},
   "outputs": [
    {
     "name": "stdout",
     "output_type": "stream",
     "text": [
      "x = 0.9074614478950853, f() = [[0.3906585]], actual = 1.0142420153334513\n",
      "x = 0.9059212350575085, f() = [[0.44284344]], actual = 0.8492965851103056\n",
      "x = 0.907726532475417, f() = [[0.47418594]], actual = 0.6839743062026037\n",
      "x = 0.23183588421676904, f() = [[0.00373125]], actual = -0.03454674274462552\n",
      "x = 0.9082380175432464, f() = [[0.48933655]], actual = 0.8240270767749932\n",
      "x = 0.4426859963859955, f() = [[0.09005547]], actual = 0.020981960606963605\n",
      "x = 0.9074995266007003, f() = [[0.51143289]], actual = 0.8332838842619601\n",
      "x = 0.5056984413435103, f() = [[0.12148333]], actual = 0.2943154799728516\n",
      "x = 0.9081635291849786, f() = [[0.53258681]], actual = 0.9145738053813148\n",
      "x = 0.9125049603854941, f() = [[0.55424547]], actual = 0.8141583500534908\n",
      "x = 0.16448755464545983, f() = [[0.01985025]], actual = -0.055525536136834204\n",
      "x = 0.9090082773255849, f() = [[0.56965137]], actual = 0.7792012468672599\n",
      "x = 0.4878018256235779, f() = [[0.1279254]], actual = 0.2180847265683767\n",
      "x = 0.0021740401238700136, f() = [[-0.00921369]], actual = -0.0014609874904911212\n",
      "x = 0.9099943097759028, f() = [[0.58110727]], actual = 0.7670829263139195\n",
      "x = 0.19726721184333118, f() = [[0.00404596]], actual = -0.02460170389392737\n",
      "x = 0.45750875476785335, f() = [[0.11495268]], actual = 0.10966689040269831\n",
      "x = 0.3781687647647993, f() = [[0.04341045]], actual = 0.2607725263850688\n",
      "x = 0.909889629778628, f() = [[0.59039116]], actual = 0.754619652413705\n",
      "x = 0.8847576369880623, f() = [[0.56505632]], actual = 0.5554810449144133\n",
      "x = 0.4225973664156766, f() = [[0.09415819]], actual = -0.012145409013092285\n",
      "x = 0.6348016820192723, f() = [[0.08093441]], actual = 0.11591096741800218\n",
      "x = 0.8699715799890618, f() = [[0.52021283]], actual = 0.2035270855232484\n",
      "x = 0.8389295935975797, f() = [[0.38884783]], actual = 0.11421097829354737\n",
      "x = 0.4041280384905782, f() = [[0.07060099]], actual = -0.045892502399149895\n",
      "x = 0.8739462087506281, f() = [[0.50937963]], actual = 0.4538961005200933\n",
      "x = 0.9114862900331692, f() = [[0.57902676]], actual = 0.7747117330109544\n",
      "x = 0.7518980952578288, f() = [[0.10194087]], actual = -0.0389940895097726\n",
      "x = 0.9122128929964319, f() = [[0.5880847]], actual = 0.9202064222901146\n",
      "x = 0.9430762995552969, f() = [[0.51693869]], actual = 0.3077961529810113\n",
      "x = 0.20894780197863438, f() = [[0.00106287]], actual = 0.0539009870470494\n",
      "x = 0.004773253471700878, f() = [[-0.00658929]], actual = -0.17968548269842807\n",
      "x = 0.9562225638865277, f() = [[0.40005195]], actual = 0.10891651590936458\n",
      "x = 0.45995383531588097, f() = [[0.11979055]], actual = 0.04780874663342354\n",
      "x = 0.20753423127818815, f() = [[0.00437534]], actual = -0.09795786887819467\n",
      "x = 0.34837584303892066, f() = [[0.01300526]], actual = 0.10889459416281558\n",
      "x = 0.9102085249891692, f() = [[0.58625531]], actual = 0.6360942105483758\n",
      "x = 0.9088400064476578, f() = [[0.58807188]], actual = 0.860388293705505\n",
      "x = 0.9103315924322396, f() = [[0.59762716]], actual = 0.782088845855591\n",
      "x = 0.9105359468898581, f() = [[0.60388041]], actual = 0.6173186430648344\n",
      "x = 0.1629638236693698, f() = [[0.01920442]], actual = 0.07788002271518218\n",
      "x = 0.9445088685253716, f() = [[0.49337435]], actual = 0.2787340015503964\n",
      "x = 0.3601117895362653, f() = [[0.02636623]], actual = -0.0068015690427963285\n",
      "x = 0.7730145614229657, f() = [[0.14754152]], actual = 0.00043609394012322084\n",
      "x = 0.6940607917833795, f() = [[0.03947639]], actual = 0.38967420782583734\n",
      "x = 0.909959897471187, f() = [[0.59660006]], actual = 0.7750225006910295\n",
      "x = 0.4157946664741291, f() = [[0.07813716]], actual = 0.04818094595260852\n",
      "x = 0.8735901277476602, f() = [[0.53225049]], actual = 0.5196091544755561\n",
      "x = 0.00706764958117212, f() = [[-0.03912985]], actual = -0.04071624265642063\n",
      "x = 0.1547936975118458, f() = [[0.02582356]], actual = -0.0436892254758291\n",
      "x = 0.8799006518970308, f() = [[0.55220032]], actual = 0.6065087316230898\n",
      "x = 0.17331875020762222, f() = [[0.01656669]], actual = 0.08979330380649478\n",
      "x = 0.8453213578909146, f() = [[0.42253768]], actual = 0.15782453936333307\n",
      "x = 0.8988823055595394, f() = [[0.5907979]], actual = 0.7821129687284013\n",
      "x = 0.744982356742073, f() = [[0.0860455]], actual = 0.1351502214669804\n",
      "x = 0.18727317935397159, f() = [[0.01442426]], actual = -0.12055279199652737\n",
      "x = 0.8990932540087989, f() = [[0.596439]], actual = 0.8685784019440137\n",
      "x = 0.9092456831059054, f() = [[0.61133718]], actual = 0.7036575332742465\n",
      "x = 0.1962465529230758, f() = [[0.00484359]], actual = -0.1251509052978942\n",
      "x = 0.9088537083594372, f() = [[0.61379981]], actual = 0.8430768290811697\n",
      "x = 0.909095964298546, f() = [[0.61987305]], actual = 0.6735080250367823\n",
      "x = 0.2443169909136934, f() = [[-0.02057028]], actual = -0.06291918574329566\n",
      "x = 0.2856579130882393, f() = [[-0.02566278]], actual = 0.053923650871471274\n",
      "x = 0.909606823901329, f() = [[0.62117207]], actual = 0.9638152994411968\n",
      "x = 0.31676889952287546, f() = [[-0.01299477]], actual = 0.01607616179049777\n",
      "x = 0.9819732975905251, f() = [[-0.01995099]], actual = -0.07752435591011471\n",
      "x = 0.1657915250223373, f() = [[0.01451707]], actual = -0.12177352543413095\n",
      "x = 0.9092523377597165, f() = [[0.62969077]], actual = 0.9291751328113796\n",
      "x = 0.9089490395971564, f() = [[0.63700438]], actual = 0.790135529528016\n",
      "x = 0.48336482473952547, f() = [[0.14388752]], actual = 0.2111423654532667\n",
      "x = 0.34769401439342884, f() = [[0.00939441]], actual = 0.14119387981911802\n",
      "x = 0.3302957075925892, f() = [[-0.00032854]], actual = -0.18982550241031015\n",
      "x = 0.08650541515702237, f() = [[0.00824642]], actual = 0.21924741669583586\n",
      "x = 0.908579652260174, f() = [[0.64097404]], actual = 0.6973637196461392\n",
      "x = 0.9093750665310489, f() = [[0.6423465]], actual = 0.7082291776083652\n",
      "x = 0.90938142854034, f() = [[0.64384174]], actual = 0.8298130537654512\n",
      "x = 0.6627631386256694, f() = [[0.05318689]], actual = 0.11557399406412956\n",
      "x = 0.7671057844876586, f() = [[0.13139975]], actual = 0.0547634802374193\n",
      "x = 0.36801645684505013, f() = [[0.02573395]], actual = -0.11057478761392345\n",
      "x = 0.9730626277424193, f() = [[0.15396857]], actual = -0.16497635435101027\n",
      "x = 0.7844808776680022, f() = [[0.18265104]], actual = -0.1019111593266156\n",
      "x = 0.9895645676487116, f() = [[-0.27853537]], actual = -0.14661838434854846\n",
      "x = 0.494310652090155, f() = [[0.15584064]], actual = 0.12845924530021746\n",
      "x = 0.6569920508762822, f() = [[0.05406481]], actual = 0.04978638588531788\n",
      "x = 0.9207160908612849, f() = [[0.63412067]], actual = 0.6360953356369478\n",
      "x = 0.9094523861650714, f() = [[0.6451156]], actual = 0.773571020935299\n",
      "x = 0.5191668412263651, f() = [[0.16204262]], actual = 0.39333110461226517\n",
      "x = 0.6337661112247155, f() = [[0.08278561]], actual = 0.15492289510560495\n",
      "x = 0.7543584678884964, f() = [[0.08760798]], actual = 0.1995821415494975\n",
      "x = 0.6412114567750202, f() = [[0.07870507]], actual = 0.19821837901463685\n",
      "x = 0.42312770980387204, f() = [[0.09291887]], actual = 0.022376798380533174\n",
      "x = 0.8282141669026811, f() = [[0.3577913]], actual = -0.04646091123692211\n",
      "x = 0.10270064914323829, f() = [[0.03188038]], actual = 0.151553128364553\n",
      "x = 0.910405231925436, f() = [[0.64455116]], actual = 0.7315946729147715\n",
      "x = 0.02885221543997618, f() = [[-0.01963675]], actual = -0.01625291328533104\n",
      "x = 0.24892416254044658, f() = [[-0.03414097]], actual = -0.060544857204397964\n",
      "x = 0.5262003694880377, f() = [[0.17673343]], actual = 0.017085343909319817\n",
      "x = 0.9426315139005108, f() = [[0.53817773]], actual = 0.1836577507130694\n",
      "x = 0.13245380863875544, f() = [[0.03764105]], actual = 0.09067874331165572\n",
      "x = 0.1921853821054177, f() = [[0.00354087]], actual = -0.20068665467827265\n"
     ]
    }
   ],
   "source": [
    "# perform the optimization process\n",
    "for i in range(100):\n",
    "    # select the next point to sample\n",
    "    x = opt_acquisition(X, y, model)\n",
    "    # sample the point\n",
    "    actual = objective(x)\n",
    "    # summarize the finding for our own reporting\n",
    "    est, _ = surrogate(model, [[x]])\n",
    "    print(f\"x = {x}, f() = {est}, actual = {actual}\")\n",
    "    # add the data to the dataset\n",
    "    X = np.vstack((X, [[x]]))\n",
    "    y = np.vstack((y, [[actual]]))\n",
    "    # update the model\n",
    "    model.fit(X, y)"
   ]
  },
  {
   "cell_type": "code",
   "execution_count": null,
   "metadata": {},
   "outputs": [],
   "source": []
  },
  {
   "cell_type": "code",
   "execution_count": null,
   "metadata": {},
   "outputs": [],
   "source": [
    "# Scikit-Optimize\n",
    "# \n",
    "# https://github.com/scikit-optimize/scikit-optimize\n",
    "# https://github.com/hyperopt/hyperopt\n"
   ]
  },
  {
   "cell_type": "code",
   "execution_count": 81,
   "metadata": {},
   "outputs": [],
   "source": [
    "from sklearn.model_selection import cross_val_score\n",
    "from sklearn.datasets import make_blobs\n",
    "from sklearn.neighbors import KNeighborsClassifier\n",
    "from skopt.space import Integer\n",
    "from skopt.utils import use_named_args\n",
    "from skopt import gp_minimize"
   ]
  },
  {
   "cell_type": "code",
   "execution_count": 78,
   "metadata": {},
   "outputs": [],
   "source": [
    "# generate 2d classification dataset\n",
    "X, y = make_blobs(n_samples=500, centers=3, n_features=2)\n",
    "# define the model\n",
    "model = KNeighborsClassifier()"
   ]
  },
  {
   "cell_type": "code",
   "execution_count": 80,
   "metadata": {},
   "outputs": [],
   "source": [
    "# define the space of hyperparametrs to search\n",
    "search_space = [Integer(1, 5, name=\"n_neighbors\"), Integer(1,2, name=\"p\")]"
   ]
  },
  {
   "cell_type": "code",
   "execution_count": 82,
   "metadata": {},
   "outputs": [],
   "source": [
    "# define the function used to evaluate a given configuration\n",
    "@use_named_args(search_space)\n",
    "def evaluate_model(**params):\n",
    "    # something\n",
    "    model.set_params(**params)\n",
    "    # calculate 5-fold cross validation\n",
    "    result = cross_val_score(model, X, y, cv=5, n_jobs=-1, scoring=\"accuracy\")\n",
    "    # calculate the mean of the scores\n",
    "    estimate = np.mean(result)\n",
    "    \n",
    "    return 1.0 - estimate"
   ]
  },
  {
   "cell_type": "code",
   "execution_count": 83,
   "metadata": {},
   "outputs": [
    {
     "name": "stderr",
     "output_type": "stream",
     "text": [
      "c:\\Users\\william.suzuki\\Documents\\statistical-learning\\handson_machine_learning\\venv\\lib\\site-packages\\skopt\\optimizer\\optimizer.py:449: UserWarning: The objective has been evaluated at this point before.\n",
      "  warnings.warn(\"The objective has been evaluated \"\n",
      "c:\\Users\\william.suzuki\\Documents\\statistical-learning\\handson_machine_learning\\venv\\lib\\site-packages\\skopt\\optimizer\\optimizer.py:449: UserWarning: The objective has been evaluated at this point before.\n",
      "  warnings.warn(\"The objective has been evaluated \"\n",
      "c:\\Users\\william.suzuki\\Documents\\statistical-learning\\handson_machine_learning\\venv\\lib\\site-packages\\skopt\\optimizer\\optimizer.py:449: UserWarning: The objective has been evaluated at this point before.\n",
      "  warnings.warn(\"The objective has been evaluated \"\n",
      "c:\\Users\\william.suzuki\\Documents\\statistical-learning\\handson_machine_learning\\venv\\lib\\site-packages\\skopt\\optimizer\\optimizer.py:449: UserWarning: The objective has been evaluated at this point before.\n",
      "  warnings.warn(\"The objective has been evaluated \"\n",
      "c:\\Users\\william.suzuki\\Documents\\statistical-learning\\handson_machine_learning\\venv\\lib\\site-packages\\skopt\\optimizer\\optimizer.py:449: UserWarning: The objective has been evaluated at this point before.\n",
      "  warnings.warn(\"The objective has been evaluated \"\n",
      "c:\\Users\\william.suzuki\\Documents\\statistical-learning\\handson_machine_learning\\venv\\lib\\site-packages\\skopt\\optimizer\\optimizer.py:449: UserWarning: The objective has been evaluated at this point before.\n",
      "  warnings.warn(\"The objective has been evaluated \"\n",
      "c:\\Users\\william.suzuki\\Documents\\statistical-learning\\handson_machine_learning\\venv\\lib\\site-packages\\skopt\\optimizer\\optimizer.py:449: UserWarning: The objective has been evaluated at this point before.\n",
      "  warnings.warn(\"The objective has been evaluated \"\n",
      "c:\\Users\\william.suzuki\\Documents\\statistical-learning\\handson_machine_learning\\venv\\lib\\site-packages\\skopt\\optimizer\\optimizer.py:449: UserWarning: The objective has been evaluated at this point before.\n",
      "  warnings.warn(\"The objective has been evaluated \"\n",
      "c:\\Users\\william.suzuki\\Documents\\statistical-learning\\handson_machine_learning\\venv\\lib\\site-packages\\skopt\\optimizer\\optimizer.py:449: UserWarning: The objective has been evaluated at this point before.\n",
      "  warnings.warn(\"The objective has been evaluated \"\n",
      "c:\\Users\\william.suzuki\\Documents\\statistical-learning\\handson_machine_learning\\venv\\lib\\site-packages\\skopt\\optimizer\\optimizer.py:449: UserWarning: The objective has been evaluated at this point before.\n",
      "  warnings.warn(\"The objective has been evaluated \"\n",
      "c:\\Users\\william.suzuki\\Documents\\statistical-learning\\handson_machine_learning\\venv\\lib\\site-packages\\skopt\\optimizer\\optimizer.py:449: UserWarning: The objective has been evaluated at this point before.\n",
      "  warnings.warn(\"The objective has been evaluated \"\n",
      "c:\\Users\\william.suzuki\\Documents\\statistical-learning\\handson_machine_learning\\venv\\lib\\site-packages\\skopt\\optimizer\\optimizer.py:449: UserWarning: The objective has been evaluated at this point before.\n",
      "  warnings.warn(\"The objective has been evaluated \"\n",
      "c:\\Users\\william.suzuki\\Documents\\statistical-learning\\handson_machine_learning\\venv\\lib\\site-packages\\skopt\\optimizer\\optimizer.py:449: UserWarning: The objective has been evaluated at this point before.\n",
      "  warnings.warn(\"The objective has been evaluated \"\n",
      "c:\\Users\\william.suzuki\\Documents\\statistical-learning\\handson_machine_learning\\venv\\lib\\site-packages\\skopt\\optimizer\\optimizer.py:449: UserWarning: The objective has been evaluated at this point before.\n",
      "  warnings.warn(\"The objective has been evaluated \"\n",
      "c:\\Users\\william.suzuki\\Documents\\statistical-learning\\handson_machine_learning\\venv\\lib\\site-packages\\skopt\\optimizer\\optimizer.py:449: UserWarning: The objective has been evaluated at this point before.\n",
      "  warnings.warn(\"The objective has been evaluated \"\n",
      "c:\\Users\\william.suzuki\\Documents\\statistical-learning\\handson_machine_learning\\venv\\lib\\site-packages\\skopt\\optimizer\\optimizer.py:449: UserWarning: The objective has been evaluated at this point before.\n",
      "  warnings.warn(\"The objective has been evaluated \"\n",
      "c:\\Users\\william.suzuki\\Documents\\statistical-learning\\handson_machine_learning\\venv\\lib\\site-packages\\skopt\\optimizer\\optimizer.py:449: UserWarning: The objective has been evaluated at this point before.\n",
      "  warnings.warn(\"The objective has been evaluated \"\n",
      "c:\\Users\\william.suzuki\\Documents\\statistical-learning\\handson_machine_learning\\venv\\lib\\site-packages\\skopt\\optimizer\\optimizer.py:449: UserWarning: The objective has been evaluated at this point before.\n",
      "  warnings.warn(\"The objective has been evaluated \"\n",
      "c:\\Users\\william.suzuki\\Documents\\statistical-learning\\handson_machine_learning\\venv\\lib\\site-packages\\skopt\\optimizer\\optimizer.py:449: UserWarning: The objective has been evaluated at this point before.\n",
      "  warnings.warn(\"The objective has been evaluated \"\n",
      "c:\\Users\\william.suzuki\\Documents\\statistical-learning\\handson_machine_learning\\venv\\lib\\site-packages\\skopt\\optimizer\\optimizer.py:449: UserWarning: The objective has been evaluated at this point before.\n",
      "  warnings.warn(\"The objective has been evaluated \"\n",
      "c:\\Users\\william.suzuki\\Documents\\statistical-learning\\handson_machine_learning\\venv\\lib\\site-packages\\skopt\\optimizer\\optimizer.py:449: UserWarning: The objective has been evaluated at this point before.\n",
      "  warnings.warn(\"The objective has been evaluated \"\n",
      "c:\\Users\\william.suzuki\\Documents\\statistical-learning\\handson_machine_learning\\venv\\lib\\site-packages\\skopt\\optimizer\\optimizer.py:449: UserWarning: The objective has been evaluated at this point before.\n",
      "  warnings.warn(\"The objective has been evaluated \"\n",
      "c:\\Users\\william.suzuki\\Documents\\statistical-learning\\handson_machine_learning\\venv\\lib\\site-packages\\skopt\\optimizer\\optimizer.py:449: UserWarning: The objective has been evaluated at this point before.\n",
      "  warnings.warn(\"The objective has been evaluated \"\n",
      "c:\\Users\\william.suzuki\\Documents\\statistical-learning\\handson_machine_learning\\venv\\lib\\site-packages\\skopt\\optimizer\\optimizer.py:449: UserWarning: The objective has been evaluated at this point before.\n",
      "  warnings.warn(\"The objective has been evaluated \"\n",
      "c:\\Users\\william.suzuki\\Documents\\statistical-learning\\handson_machine_learning\\venv\\lib\\site-packages\\skopt\\optimizer\\optimizer.py:449: UserWarning: The objective has been evaluated at this point before.\n",
      "  warnings.warn(\"The objective has been evaluated \"\n",
      "c:\\Users\\william.suzuki\\Documents\\statistical-learning\\handson_machine_learning\\venv\\lib\\site-packages\\skopt\\optimizer\\optimizer.py:449: UserWarning: The objective has been evaluated at this point before.\n",
      "  warnings.warn(\"The objective has been evaluated \"\n",
      "c:\\Users\\william.suzuki\\Documents\\statistical-learning\\handson_machine_learning\\venv\\lib\\site-packages\\skopt\\optimizer\\optimizer.py:449: UserWarning: The objective has been evaluated at this point before.\n",
      "  warnings.warn(\"The objective has been evaluated \"\n",
      "c:\\Users\\william.suzuki\\Documents\\statistical-learning\\handson_machine_learning\\venv\\lib\\site-packages\\skopt\\optimizer\\optimizer.py:449: UserWarning: The objective has been evaluated at this point before.\n",
      "  warnings.warn(\"The objective has been evaluated \"\n",
      "c:\\Users\\william.suzuki\\Documents\\statistical-learning\\handson_machine_learning\\venv\\lib\\site-packages\\skopt\\optimizer\\optimizer.py:449: UserWarning: The objective has been evaluated at this point before.\n",
      "  warnings.warn(\"The objective has been evaluated \"\n",
      "c:\\Users\\william.suzuki\\Documents\\statistical-learning\\handson_machine_learning\\venv\\lib\\site-packages\\skopt\\optimizer\\optimizer.py:449: UserWarning: The objective has been evaluated at this point before.\n",
      "  warnings.warn(\"The objective has been evaluated \"\n",
      "c:\\Users\\william.suzuki\\Documents\\statistical-learning\\handson_machine_learning\\venv\\lib\\site-packages\\skopt\\optimizer\\optimizer.py:449: UserWarning: The objective has been evaluated at this point before.\n",
      "  warnings.warn(\"The objective has been evaluated \"\n",
      "c:\\Users\\william.suzuki\\Documents\\statistical-learning\\handson_machine_learning\\venv\\lib\\site-packages\\skopt\\optimizer\\optimizer.py:449: UserWarning: The objective has been evaluated at this point before.\n",
      "  warnings.warn(\"The objective has been evaluated \"\n",
      "c:\\Users\\william.suzuki\\Documents\\statistical-learning\\handson_machine_learning\\venv\\lib\\site-packages\\skopt\\optimizer\\optimizer.py:449: UserWarning: The objective has been evaluated at this point before.\n",
      "  warnings.warn(\"The objective has been evaluated \"\n",
      "c:\\Users\\william.suzuki\\Documents\\statistical-learning\\handson_machine_learning\\venv\\lib\\site-packages\\skopt\\optimizer\\optimizer.py:449: UserWarning: The objective has been evaluated at this point before.\n",
      "  warnings.warn(\"The objective has been evaluated \"\n",
      "c:\\Users\\william.suzuki\\Documents\\statistical-learning\\handson_machine_learning\\venv\\lib\\site-packages\\skopt\\optimizer\\optimizer.py:449: UserWarning: The objective has been evaluated at this point before.\n",
      "  warnings.warn(\"The objective has been evaluated \"\n",
      "c:\\Users\\william.suzuki\\Documents\\statistical-learning\\handson_machine_learning\\venv\\lib\\site-packages\\skopt\\optimizer\\optimizer.py:449: UserWarning: The objective has been evaluated at this point before.\n",
      "  warnings.warn(\"The objective has been evaluated \"\n",
      "c:\\Users\\william.suzuki\\Documents\\statistical-learning\\handson_machine_learning\\venv\\lib\\site-packages\\skopt\\optimizer\\optimizer.py:449: UserWarning: The objective has been evaluated at this point before.\n",
      "  warnings.warn(\"The objective has been evaluated \"\n",
      "c:\\Users\\william.suzuki\\Documents\\statistical-learning\\handson_machine_learning\\venv\\lib\\site-packages\\skopt\\optimizer\\optimizer.py:449: UserWarning: The objective has been evaluated at this point before.\n",
      "  warnings.warn(\"The objective has been evaluated \"\n",
      "c:\\Users\\william.suzuki\\Documents\\statistical-learning\\handson_machine_learning\\venv\\lib\\site-packages\\skopt\\optimizer\\optimizer.py:449: UserWarning: The objective has been evaluated at this point before.\n",
      "  warnings.warn(\"The objective has been evaluated \"\n",
      "c:\\Users\\william.suzuki\\Documents\\statistical-learning\\handson_machine_learning\\venv\\lib\\site-packages\\skopt\\optimizer\\optimizer.py:449: UserWarning: The objective has been evaluated at this point before.\n",
      "  warnings.warn(\"The objective has been evaluated \"\n",
      "c:\\Users\\william.suzuki\\Documents\\statistical-learning\\handson_machine_learning\\venv\\lib\\site-packages\\skopt\\optimizer\\optimizer.py:449: UserWarning: The objective has been evaluated at this point before.\n",
      "  warnings.warn(\"The objective has been evaluated \"\n",
      "c:\\Users\\william.suzuki\\Documents\\statistical-learning\\handson_machine_learning\\venv\\lib\\site-packages\\skopt\\optimizer\\optimizer.py:449: UserWarning: The objective has been evaluated at this point before.\n",
      "  warnings.warn(\"The objective has been evaluated \"\n",
      "c:\\Users\\william.suzuki\\Documents\\statistical-learning\\handson_machine_learning\\venv\\lib\\site-packages\\skopt\\optimizer\\optimizer.py:449: UserWarning: The objective has been evaluated at this point before.\n",
      "  warnings.warn(\"The objective has been evaluated \"\n",
      "c:\\Users\\william.suzuki\\Documents\\statistical-learning\\handson_machine_learning\\venv\\lib\\site-packages\\skopt\\optimizer\\optimizer.py:449: UserWarning: The objective has been evaluated at this point before.\n",
      "  warnings.warn(\"The objective has been evaluated \"\n",
      "c:\\Users\\william.suzuki\\Documents\\statistical-learning\\handson_machine_learning\\venv\\lib\\site-packages\\skopt\\optimizer\\optimizer.py:449: UserWarning: The objective has been evaluated at this point before.\n",
      "  warnings.warn(\"The objective has been evaluated \"\n",
      "c:\\Users\\william.suzuki\\Documents\\statistical-learning\\handson_machine_learning\\venv\\lib\\site-packages\\skopt\\optimizer\\optimizer.py:449: UserWarning: The objective has been evaluated at this point before.\n",
      "  warnings.warn(\"The objective has been evaluated \"\n",
      "c:\\Users\\william.suzuki\\Documents\\statistical-learning\\handson_machine_learning\\venv\\lib\\site-packages\\skopt\\optimizer\\optimizer.py:449: UserWarning: The objective has been evaluated at this point before.\n",
      "  warnings.warn(\"The objective has been evaluated \"\n",
      "c:\\Users\\william.suzuki\\Documents\\statistical-learning\\handson_machine_learning\\venv\\lib\\site-packages\\skopt\\optimizer\\optimizer.py:449: UserWarning: The objective has been evaluated at this point before.\n",
      "  warnings.warn(\"The objective has been evaluated \"\n",
      "c:\\Users\\william.suzuki\\Documents\\statistical-learning\\handson_machine_learning\\venv\\lib\\site-packages\\skopt\\optimizer\\optimizer.py:449: UserWarning: The objective has been evaluated at this point before.\n",
      "  warnings.warn(\"The objective has been evaluated \"\n",
      "c:\\Users\\william.suzuki\\Documents\\statistical-learning\\handson_machine_learning\\venv\\lib\\site-packages\\skopt\\optimizer\\optimizer.py:449: UserWarning: The objective has been evaluated at this point before.\n",
      "  warnings.warn(\"The objective has been evaluated \"\n",
      "c:\\Users\\william.suzuki\\Documents\\statistical-learning\\handson_machine_learning\\venv\\lib\\site-packages\\skopt\\optimizer\\optimizer.py:449: UserWarning: The objective has been evaluated at this point before.\n",
      "  warnings.warn(\"The objective has been evaluated \"\n",
      "c:\\Users\\william.suzuki\\Documents\\statistical-learning\\handson_machine_learning\\venv\\lib\\site-packages\\skopt\\optimizer\\optimizer.py:449: UserWarning: The objective has been evaluated at this point before.\n",
      "  warnings.warn(\"The objective has been evaluated \"\n",
      "c:\\Users\\william.suzuki\\Documents\\statistical-learning\\handson_machine_learning\\venv\\lib\\site-packages\\skopt\\optimizer\\optimizer.py:449: UserWarning: The objective has been evaluated at this point before.\n",
      "  warnings.warn(\"The objective has been evaluated \"\n",
      "c:\\Users\\william.suzuki\\Documents\\statistical-learning\\handson_machine_learning\\venv\\lib\\site-packages\\skopt\\optimizer\\optimizer.py:449: UserWarning: The objective has been evaluated at this point before.\n",
      "  warnings.warn(\"The objective has been evaluated \"\n",
      "c:\\Users\\william.suzuki\\Documents\\statistical-learning\\handson_machine_learning\\venv\\lib\\site-packages\\skopt\\optimizer\\optimizer.py:449: UserWarning: The objective has been evaluated at this point before.\n",
      "  warnings.warn(\"The objective has been evaluated \"\n",
      "c:\\Users\\william.suzuki\\Documents\\statistical-learning\\handson_machine_learning\\venv\\lib\\site-packages\\skopt\\optimizer\\optimizer.py:449: UserWarning: The objective has been evaluated at this point before.\n",
      "  warnings.warn(\"The objective has been evaluated \"\n",
      "c:\\Users\\william.suzuki\\Documents\\statistical-learning\\handson_machine_learning\\venv\\lib\\site-packages\\skopt\\optimizer\\optimizer.py:449: UserWarning: The objective has been evaluated at this point before.\n",
      "  warnings.warn(\"The objective has been evaluated \"\n",
      "c:\\Users\\william.suzuki\\Documents\\statistical-learning\\handson_machine_learning\\venv\\lib\\site-packages\\skopt\\optimizer\\optimizer.py:449: UserWarning: The objective has been evaluated at this point before.\n",
      "  warnings.warn(\"The objective has been evaluated \"\n",
      "c:\\Users\\william.suzuki\\Documents\\statistical-learning\\handson_machine_learning\\venv\\lib\\site-packages\\skopt\\optimizer\\optimizer.py:449: UserWarning: The objective has been evaluated at this point before.\n",
      "  warnings.warn(\"The objective has been evaluated \"\n",
      "c:\\Users\\william.suzuki\\Documents\\statistical-learning\\handson_machine_learning\\venv\\lib\\site-packages\\skopt\\optimizer\\optimizer.py:449: UserWarning: The objective has been evaluated at this point before.\n",
      "  warnings.warn(\"The objective has been evaluated \"\n",
      "c:\\Users\\william.suzuki\\Documents\\statistical-learning\\handson_machine_learning\\venv\\lib\\site-packages\\skopt\\optimizer\\optimizer.py:449: UserWarning: The objective has been evaluated at this point before.\n",
      "  warnings.warn(\"The objective has been evaluated \"\n",
      "c:\\Users\\william.suzuki\\Documents\\statistical-learning\\handson_machine_learning\\venv\\lib\\site-packages\\skopt\\optimizer\\optimizer.py:449: UserWarning: The objective has been evaluated at this point before.\n",
      "  warnings.warn(\"The objective has been evaluated \"\n",
      "c:\\Users\\william.suzuki\\Documents\\statistical-learning\\handson_machine_learning\\venv\\lib\\site-packages\\skopt\\optimizer\\optimizer.py:449: UserWarning: The objective has been evaluated at this point before.\n",
      "  warnings.warn(\"The objective has been evaluated \"\n",
      "c:\\Users\\william.suzuki\\Documents\\statistical-learning\\handson_machine_learning\\venv\\lib\\site-packages\\skopt\\optimizer\\optimizer.py:449: UserWarning: The objective has been evaluated at this point before.\n",
      "  warnings.warn(\"The objective has been evaluated \"\n",
      "c:\\Users\\william.suzuki\\Documents\\statistical-learning\\handson_machine_learning\\venv\\lib\\site-packages\\skopt\\optimizer\\optimizer.py:449: UserWarning: The objective has been evaluated at this point before.\n",
      "  warnings.warn(\"The objective has been evaluated \"\n",
      "c:\\Users\\william.suzuki\\Documents\\statistical-learning\\handson_machine_learning\\venv\\lib\\site-packages\\skopt\\optimizer\\optimizer.py:449: UserWarning: The objective has been evaluated at this point before.\n",
      "  warnings.warn(\"The objective has been evaluated \"\n",
      "c:\\Users\\william.suzuki\\Documents\\statistical-learning\\handson_machine_learning\\venv\\lib\\site-packages\\skopt\\optimizer\\optimizer.py:449: UserWarning: The objective has been evaluated at this point before.\n",
      "  warnings.warn(\"The objective has been evaluated \"\n",
      "c:\\Users\\william.suzuki\\Documents\\statistical-learning\\handson_machine_learning\\venv\\lib\\site-packages\\skopt\\optimizer\\optimizer.py:449: UserWarning: The objective has been evaluated at this point before.\n",
      "  warnings.warn(\"The objective has been evaluated \"\n",
      "c:\\Users\\william.suzuki\\Documents\\statistical-learning\\handson_machine_learning\\venv\\lib\\site-packages\\skopt\\optimizer\\optimizer.py:449: UserWarning: The objective has been evaluated at this point before.\n",
      "  warnings.warn(\"The objective has been evaluated \"\n",
      "c:\\Users\\william.suzuki\\Documents\\statistical-learning\\handson_machine_learning\\venv\\lib\\site-packages\\skopt\\optimizer\\optimizer.py:449: UserWarning: The objective has been evaluated at this point before.\n",
      "  warnings.warn(\"The objective has been evaluated \"\n",
      "c:\\Users\\william.suzuki\\Documents\\statistical-learning\\handson_machine_learning\\venv\\lib\\site-packages\\skopt\\optimizer\\optimizer.py:449: UserWarning: The objective has been evaluated at this point before.\n",
      "  warnings.warn(\"The objective has been evaluated \"\n",
      "c:\\Users\\william.suzuki\\Documents\\statistical-learning\\handson_machine_learning\\venv\\lib\\site-packages\\skopt\\optimizer\\optimizer.py:449: UserWarning: The objective has been evaluated at this point before.\n",
      "  warnings.warn(\"The objective has been evaluated \"\n",
      "c:\\Users\\william.suzuki\\Documents\\statistical-learning\\handson_machine_learning\\venv\\lib\\site-packages\\skopt\\optimizer\\optimizer.py:449: UserWarning: The objective has been evaluated at this point before.\n",
      "  warnings.warn(\"The objective has been evaluated \"\n",
      "c:\\Users\\william.suzuki\\Documents\\statistical-learning\\handson_machine_learning\\venv\\lib\\site-packages\\skopt\\optimizer\\optimizer.py:449: UserWarning: The objective has been evaluated at this point before.\n",
      "  warnings.warn(\"The objective has been evaluated \"\n",
      "c:\\Users\\william.suzuki\\Documents\\statistical-learning\\handson_machine_learning\\venv\\lib\\site-packages\\skopt\\optimizer\\optimizer.py:449: UserWarning: The objective has been evaluated at this point before.\n",
      "  warnings.warn(\"The objective has been evaluated \"\n",
      "c:\\Users\\william.suzuki\\Documents\\statistical-learning\\handson_machine_learning\\venv\\lib\\site-packages\\skopt\\optimizer\\optimizer.py:449: UserWarning: The objective has been evaluated at this point before.\n",
      "  warnings.warn(\"The objective has been evaluated \"\n",
      "c:\\Users\\william.suzuki\\Documents\\statistical-learning\\handson_machine_learning\\venv\\lib\\site-packages\\skopt\\optimizer\\optimizer.py:449: UserWarning: The objective has been evaluated at this point before.\n",
      "  warnings.warn(\"The objective has been evaluated \"\n",
      "c:\\Users\\william.suzuki\\Documents\\statistical-learning\\handson_machine_learning\\venv\\lib\\site-packages\\skopt\\optimizer\\optimizer.py:449: UserWarning: The objective has been evaluated at this point before.\n",
      "  warnings.warn(\"The objective has been evaluated \"\n",
      "c:\\Users\\william.suzuki\\Documents\\statistical-learning\\handson_machine_learning\\venv\\lib\\site-packages\\skopt\\optimizer\\optimizer.py:449: UserWarning: The objective has been evaluated at this point before.\n",
      "  warnings.warn(\"The objective has been evaluated \"\n",
      "c:\\Users\\william.suzuki\\Documents\\statistical-learning\\handson_machine_learning\\venv\\lib\\site-packages\\skopt\\optimizer\\optimizer.py:449: UserWarning: The objective has been evaluated at this point before.\n",
      "  warnings.warn(\"The objective has been evaluated \"\n",
      "c:\\Users\\william.suzuki\\Documents\\statistical-learning\\handson_machine_learning\\venv\\lib\\site-packages\\skopt\\optimizer\\optimizer.py:449: UserWarning: The objective has been evaluated at this point before.\n",
      "  warnings.warn(\"The objective has been evaluated \"\n",
      "c:\\Users\\william.suzuki\\Documents\\statistical-learning\\handson_machine_learning\\venv\\lib\\site-packages\\skopt\\optimizer\\optimizer.py:449: UserWarning: The objective has been evaluated at this point before.\n",
      "  warnings.warn(\"The objective has been evaluated \"\n",
      "c:\\Users\\william.suzuki\\Documents\\statistical-learning\\handson_machine_learning\\venv\\lib\\site-packages\\skopt\\optimizer\\optimizer.py:449: UserWarning: The objective has been evaluated at this point before.\n",
      "  warnings.warn(\"The objective has been evaluated \"\n",
      "c:\\Users\\william.suzuki\\Documents\\statistical-learning\\handson_machine_learning\\venv\\lib\\site-packages\\skopt\\optimizer\\optimizer.py:449: UserWarning: The objective has been evaluated at this point before.\n",
      "  warnings.warn(\"The objective has been evaluated \"\n",
      "c:\\Users\\william.suzuki\\Documents\\statistical-learning\\handson_machine_learning\\venv\\lib\\site-packages\\skopt\\optimizer\\optimizer.py:449: UserWarning: The objective has been evaluated at this point before.\n",
      "  warnings.warn(\"The objective has been evaluated \"\n",
      "c:\\Users\\william.suzuki\\Documents\\statistical-learning\\handson_machine_learning\\venv\\lib\\site-packages\\skopt\\optimizer\\optimizer.py:449: UserWarning: The objective has been evaluated at this point before.\n",
      "  warnings.warn(\"The objective has been evaluated \"\n",
      "c:\\Users\\william.suzuki\\Documents\\statistical-learning\\handson_machine_learning\\venv\\lib\\site-packages\\skopt\\optimizer\\optimizer.py:449: UserWarning: The objective has been evaluated at this point before.\n",
      "  warnings.warn(\"The objective has been evaluated \"\n",
      "c:\\Users\\william.suzuki\\Documents\\statistical-learning\\handson_machine_learning\\venv\\lib\\site-packages\\skopt\\optimizer\\optimizer.py:449: UserWarning: The objective has been evaluated at this point before.\n",
      "  warnings.warn(\"The objective has been evaluated \"\n"
     ]
    }
   ],
   "source": [
    "# perform optimization\n",
    "result = gp_minimize(evaluate_model, search_space)"
   ]
  },
  {
   "cell_type": "code",
   "execution_count": 84,
   "metadata": {},
   "outputs": [
    {
     "name": "stdout",
     "output_type": "stream",
     "text": [
      "Best Accuracy: 1.0\n",
      "Best Parameters: n_neighbors=4, p = 1\n"
     ]
    }
   ],
   "source": [
    "# summirizing findings:\n",
    "print(f\"Best Accuracy: {1 - result.fun}\")\n",
    "print(f\"Best Parameters: n_neighbors={result.x[0]}, p = {result.x[1]}\")"
   ]
  },
  {
   "cell_type": "code",
   "execution_count": null,
   "metadata": {},
   "outputs": [],
   "source": [
    "# https://arxiv.org/abs/1012.2599\n",
    "# https://proceedings.neurips.cc/paper/2012/hash/05311655a15b75fab86956663e1819cd-Abstract.html\n",
    "# https://arxiv.org/abs/1807.02811"
   ]
  },
  {
   "cell_type": "code",
   "execution_count": null,
   "metadata": {},
   "outputs": [],
   "source": [
    "# I need to review this notebook"
   ]
  },
  {
   "cell_type": "code",
   "execution_count": null,
   "metadata": {},
   "outputs": [],
   "source": []
  },
  {
   "cell_type": "code",
   "execution_count": null,
   "metadata": {},
   "outputs": [],
   "source": []
  },
  {
   "cell_type": "code",
   "execution_count": null,
   "metadata": {},
   "outputs": [],
   "source": []
  }
 ],
 "metadata": {
  "interpreter": {
   "hash": "402bf75ba5736a2e1a61da44f4f3228b5ed98ff5e907012747092bd7664c5a20"
  },
  "kernelspec": {
   "display_name": "Python 3.9.10 ('venv': venv)",
   "language": "python",
   "name": "python3"
  },
  "language_info": {
   "codemirror_mode": {
    "name": "ipython",
    "version": 3
   },
   "file_extension": ".py",
   "mimetype": "text/x-python",
   "name": "python",
   "nbconvert_exporter": "python",
   "pygments_lexer": "ipython3",
   "version": "3.9.10"
  },
  "orig_nbformat": 4
 },
 "nbformat": 4,
 "nbformat_minor": 2
}
